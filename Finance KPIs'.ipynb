{
 "cells": [
  {
   "cell_type": "code",
   "execution_count": 0,
   "metadata": {
    "application/vnd.databricks.v1+cell": {
     "cellMetadata": {
      "byteLimit": 2048000,
      "rowLimit": 10000
     },
     "inputWidgets": {},
     "nuid": "cdd523d0-a6ec-4031-b4f4-683651c1af5f",
     "showTitle": false,
     "tableResultSettingsMap": {},
     "title": ""
    }
   },
   "outputs": [],
   "source": [
    "import pandas as pd"
   ]
  },
  {
   "cell_type": "markdown",
   "metadata": {
    "application/vnd.databricks.v1+cell": {
     "cellMetadata": {
      "byteLimit": 2048000,
      "rowLimit": 10000
     },
     "inputWidgets": {},
     "nuid": "62b7bff3-0d3e-46f9-9a3f-a3e17216ef1f",
     "showTitle": false,
     "tableResultSettingsMap": {},
     "title": ""
    }
   },
   "source": [
    "#1. Revenue per Recognition"
   ]
  },
  {
   "cell_type": "code",
   "execution_count": 0,
   "metadata": {
    "application/vnd.databricks.v1+cell": {
     "cellMetadata": {
      "byteLimit": 2048000,
      "rowLimit": 10000
     },
     "collapsed": true,
     "inputWidgets": {},
     "nuid": "6cb92b6e-4718-4ed0-8226-be488542853f",
     "showTitle": false,
     "tableResultSettingsMap": {},
     "title": ""
    }
   },
   "outputs": [],
   "source": [
    "revenue = spark.table(\"silver.revenue.revenue\")\n",
    "apartments = spark.table(\"silver.backoffice.apartments\")\n",
    "contracts = spark.table(\"silver.backoffice.contracts\")\n",
    "bookings = spark.table(\"silver.backoffice.bookings\")\n",
    "\n",
    "revenue = revenue.toPandas()\n",
    "apartments = apartments.toPandas()\n",
    "contracts = contracts.toPandas()\n",
    "bookings = bookings.toPandas()"
   ]
  },
  {
   "cell_type": "markdown",
   "metadata": {
    "application/vnd.databricks.v1+cell": {
     "cellMetadata": {
      "byteLimit": 2048000,
      "rowLimit": 10000
     },
     "inputWidgets": {},
     "nuid": "21612930-41fa-4185-b8ea-6ac721d4d308",
     "showTitle": false,
     "tableResultSettingsMap": {},
     "title": ""
    }
   },
   "source": [
    "##1.1. Rent Revenue"
   ]
  },
  {
   "cell_type": "markdown",
   "metadata": {
    "application/vnd.databricks.v1+cell": {
     "cellMetadata": {
      "byteLimit": 2048000,
      "rowLimit": 10000
     },
     "inputWidgets": {},
     "nuid": "be276daf-ca03-4060-a3fc-592aea1b85aa",
     "showTitle": false,
     "tableResultSettingsMap": {},
     "title": ""
    }
   },
   "source": [
    "###1.1.1. Actuals\n",
    "###### (Rent Revenue)"
   ]
  },
  {
   "cell_type": "code",
   "execution_count": 0,
   "metadata": {
    "application/vnd.databricks.v1+cell": {
     "cellMetadata": {
      "byteLimit": 2048000,
      "rowLimit": 10000
     },
     "inputWidgets": {},
     "nuid": "971cb445-481b-4943-bb07-9393c6885a51",
     "showTitle": false,
     "tableResultSettingsMap": {},
     "title": ""
    }
   },
   "outputs": [],
   "source": [
    "rent_per_recognition = \"\"\"\n",
    "WITH NON_PRORRATED AS (\n",
    "        SELECT \n",
    "            (COALESCE(SUM(rent),0)) rent, trunc(revenue.day, 'month') month, COALESCE(revenue.contract_id, NULL) contract_id, city, contracts.inserted_at as sell_date, contracts.booking_id, apartments.codename, bookings.state\n",
    "        \n",
    "        FROM silver.revenue.revenue\n",
    "            LEFT JOIN silver.backoffice.apartments ON revenue.apartment_id = apartments.id\n",
    "            LEFT JOIN silver.backoffice.contracts ON revenue.contract_id = contracts.id\n",
    "            LEFT JOIN silver.backoffice.bookings ON contracts.booking_id = bookings.id\n",
    "            \n",
    "        WHERE bookings.state NOT IN ('canceled', 'denied')\n",
    "        \n",
    "        GROUP BY trunc(revenue.day, 'month'), city, contracts.inserted_at, contracts.booking_id, apartments.codename, bookings.state, COALESCE(revenue.contract_id, NULL)\n",
    "    )\n",
    "\n",
    "    ,New_R AS (\n",
    "        SELECT \n",
    "            CASE WHEN city IN ('Barcelona', 'Madrid') THEN SUM(rent)/1.1 \n",
    "                WHEN city IN ('Berlin') THEN SUM(rent)/1.07 \n",
    "                ELSE SUM(rent) END AS rent, city, month, sell_date, booking_id, codename, state, contract_id\n",
    "        FROM NON_PRORRATED \n",
    "        GROUP BY city, month, sell_date, booking_id, codename, state, contract_id\n",
    "        ORDER BY month ASC, CASE WHEN city = 'Barcelona' THEN 1\n",
    "                                WHEN city = 'Madrid' THEN 2\n",
    "                                WHEN city = 'Lisbon' THEN 3\n",
    "                                WHEN city = 'Paris' THEN 4\n",
    "                                WHEN city = 'Berlin' THEN 5\n",
    "                            END ASC\n",
    "    )\n",
    "\n",
    "    SELECT city, month, sell_date, booking_id, codename, contract_id, rent FROM New_R WHERE month >= DATE('2024-12-01')\n",
    "    UNION ALL\n",
    "    SELECT city, month, sell_date, booking_id, codename, contract_id, rent FROM silver.finance.materialized_rent_per_recognition\n",
    "\"\"\"\n",
    "\n",
    "spark.sql(rent_per_recognition).write.mode(\"overwrite\").saveAsTable(\"silver.finance.rent_per_recognition\")\n",
    "\n",
    "#TEST_EDGAR_1:\n",
    "    #####################################################################\n",
    "    #rent = revenue[['rent', 'day', 'contract_id', 'apartment_id']]\n",
    "    #apartments = apartments[['id', 'city', 'codename']]\n",
    "    #contracts = contracts[['id', 'booking_id', 'inserted_at']]\n",
    "    #bookings = bookings[(bookings['state'] != 'canceled') & (bookings['state'] != 'denied')][['id', 'state']]\n",
    "    #\n",
    "    #\n",
    "    #####################################################################\n",
    "    #NON_PRORRATED_R = pd.merge(rent, apartments, how='left', left_on='apartment_id', right_on='id')\n",
    "    #NON_PRORRATED_R = pd.merge(NON_PRORRATED_R, contracts, how='left', left_on='contract_id', right_on='id')\n",
    "    #NON_PRORRATED_R = pd.merge(bookings, NON_PRORRATED_R, how='left', left_on='id', right_on='booking_id').drop#(['id_x', 'id_y', 'state'], axis=1)\n",
    "    #\n",
    "    #\n",
    "    #####################################################################\n",
    "    #NON_PRORRATED_R['month'] = pd.to_datetime(NON_PRORRATED_R['day'],format='%Y-%m-%d').apply(lambda x: x.replace#(day=1))\n",
    "    #NON_PRORRATED_R['day'] = pd.to_datetime(NON_PRORRATED_R['day'],format='%Y-%m-%d')\n",
    "    #NON_PRORRATED_R['rent'] = NON_PRORRATED_R['rent'].fillna(0)\n",
    "    #\n",
    "    #\n",
    "    #####################################################################\n",
    "    #NON_PRORRATED_R = (\n",
    "    #    NON_PRORRATED_R.groupby(['city', 'month', 'inserted_at', 'booking_id', 'codename', 'contract_id'])\n",
    "    #    .agg(rent=('rent', 'sum'))\n",
    "    #    .reset_index() \n",
    "    #)\n",
    "    #\n",
    "    #\n",
    "    #####################################################################\n",
    "    #def vat(NON_PRORRATED_R):\n",
    "    #    if NON_PRORRATED_R['city'] in ['Barcelona', 'Madrid']:\n",
    "    #        return NON_PRORRATED_R['rent'] / 1.1\n",
    "    #    elif NON_PRORRATED_R['city'] in ['Belin']:\n",
    "    #        return NON_PRORRATED_R['rent'] / 1.07\n",
    "    #    else:\n",
    "    #        return NON_PRORRATED_R['rent']\n",
    "    #    \n",
    "    #NON_PRORRATED_R['rent'] = NON_PRORRATED_R.apply(vat, axis=1)\n",
    "    #\n",
    "    #New_R = (\n",
    "    #    NON_PRORRATED_R.groupby(['city', 'month', 'inserted_at', 'booking_id', 'codename', 'contract_id'])\n",
    "    #    .agg(rent=('rent', 'sum'))\n",
    "    #    .reset_index()\n",
    "    #)\n",
    "    #\n",
    "    #\n",
    "    #####################################################################\n",
    "    #New_R = New_R.rename(columns={'inserted_at': 'sell_date'})\n",
    "    #\n",
    "    #New_R = spark.createDataFrame(New_R)\n",
    "    #\n",
    "    #New_R.write.mode(\"overwrite\").saveAsTable(\"silver.finance.rent_per_recognition_test\")"
   ]
  },
  {
   "cell_type": "markdown",
   "metadata": {
    "application/vnd.databricks.v1+cell": {
     "cellMetadata": {
      "byteLimit": 2048000,
      "rowLimit": 10000
     },
     "inputWidgets": {},
     "nuid": "47d4dafe-c113-41c8-9a24-5b3f0ce52ea4",
     "showTitle": false,
     "tableResultSettingsMap": {},
     "title": ""
    }
   },
   "source": [
    "###1.1.2. Deltas 7 Days Ago\n",
    "###### (Rent Revenue)"
   ]
  },
  {
   "cell_type": "code",
   "execution_count": 0,
   "metadata": {
    "application/vnd.databricks.v1+cell": {
     "cellMetadata": {
      "byteLimit": 2048000,
      "rowLimit": 10000
     },
     "collapsed": true,
     "inputWidgets": {},
     "nuid": "c24fb435-9101-4e4c-9bec-3f00970e6508",
     "showTitle": false,
     "tableResultSettingsMap": {},
     "title": ""
    }
   },
   "outputs": [],
   "source": [
    "rent_per_recognition_7_days_deltas = \"\"\"\n",
    "WITH NON_PRORRATED AS (\n",
    "        SELECT \n",
    "            (COALESCE(SUM(rent),0)) rent, trunc(revenue.day, 'month') month, COALESCE(revenue.contract_id, NULL) contract_id, city, contracts.inserted_at as sell_date, contracts.booking_id, apartments.codename, bookings.state\n",
    "        \n",
    "        FROM silver.revenue.revenue TIMESTAMP AS OF CAST(CURRENT_DATE() - INTERVAL 7 DAYS AS TIMESTAMP) revenue\n",
    "            LEFT JOIN silver.backoffice.apartments TIMESTAMP AS OF CAST(CURRENT_DATE() - INTERVAL 7 DAYS AS TIMESTAMP) apartments ON revenue.apartment_id = apartments.id\n",
    "            LEFT JOIN silver.backoffice.contracts TIMESTAMP AS OF CAST(CURRENT_DATE() - INTERVAL 7 DAYS AS TIMESTAMP) contracts ON revenue.contract_id = contracts.id\n",
    "            LEFT JOIN silver.backoffice.bookings TIMESTAMP AS OF CAST(CURRENT_DATE() - INTERVAL 7 DAYS AS TIMESTAMP) bookings ON contracts.booking_id = bookings.id\n",
    "            \n",
    "        WHERE bookings.state NOT IN ('canceled', 'denied')\n",
    "        \n",
    "        GROUP BY trunc(revenue.day, 'month'), city, contracts.inserted_at, contracts.booking_id, apartments.codename, bookings.state, COALESCE(revenue.contract_id, NULL)\n",
    "    )\n",
    "\n",
    "    ,New_R AS (\n",
    "        SELECT \n",
    "            CASE WHEN city IN ('Barcelona', 'Madrid') THEN SUM(rent)/1.1 \n",
    "                WHEN city IN ('Berlin') THEN SUM(rent)/1.07 \n",
    "                ELSE SUM(rent) END AS rent, city, month, sell_date, booking_id, codename, state, contract_id\n",
    "        FROM NON_PRORRATED \n",
    "        GROUP BY city, month, sell_date, booking_id, codename, state, contract_id\n",
    "        ORDER BY month ASC, CASE WHEN city = 'Barcelona' THEN 1\n",
    "                                WHEN city = 'Madrid' THEN 2\n",
    "                                WHEN city = 'Lisbon' THEN 3\n",
    "                                WHEN city = 'Paris' THEN 4\n",
    "                                WHEN city = 'Berlin' THEN 5\n",
    "                            END ASC\n",
    "    )\n",
    "\n",
    "    SELECT city, month, sell_date, booking_id, codename, contract_id, rent FROM New_R\n",
    "\"\"\"\n",
    "\n",
    "spark.sql(rent_per_recognition_7_days_deltas).write.mode(\"overwrite\").saveAsTable(\"silver.finance.rent_per_recognition_7_days_deltas\")\n"
   ]
  },
  {
   "cell_type": "markdown",
   "metadata": {
    "application/vnd.databricks.v1+cell": {
     "cellMetadata": {
      "byteLimit": 2048000,
      "rowLimit": 10000
     },
     "inputWidgets": {},
     "nuid": "87188189-c62c-424e-93fd-b6e07bae670b",
     "showTitle": false,
     "tableResultSettingsMap": {},
     "title": ""
    }
   },
   "source": [
    "###1.1.3. Deltas Since Begining of Month\n",
    "###### (Rent Revenue)\n"
   ]
  },
  {
   "cell_type": "code",
   "execution_count": 0,
   "metadata": {
    "application/vnd.databricks.v1+cell": {
     "cellMetadata": {
      "byteLimit": 2048000,
      "rowLimit": 10000
     },
     "collapsed": true,
     "inputWidgets": {},
     "nuid": "40d05940-5811-4f57-8572-e442de8a2def",
     "showTitle": false,
     "tableResultSettingsMap": {},
     "title": ""
    }
   },
   "outputs": [],
   "source": [
    "rent_per_recognition_begining_month_deltas = \"\"\"\n",
    "WITH NON_PRORRATED AS (\n",
    "        SELECT \n",
    "            (COALESCE(SUM(rent),0)) rent, trunc(revenue.day, 'month') month, COALESCE(revenue.contract_id, NULL) contract_id, city, contracts.inserted_at as sell_date, contracts.booking_id, apartments.codename, bookings.state\n",
    "        \n",
    "        FROM silver.revenue.revenue TIMESTAMP AS OF CAST(trunc(CURRENT_DATE(),'month') AS TIMESTAMP) revenue\n",
    "            LEFT JOIN silver.backoffice.apartments TIMESTAMP AS OF CAST(trunc(CURRENT_DATE(),'month') AS TIMESTAMP) apartments ON revenue.apartment_id = apartments.id\n",
    "            LEFT JOIN silver.backoffice.contracts TIMESTAMP AS OF CAST(trunc(CURRENT_DATE(),'month') AS TIMESTAMP) contracts ON revenue.contract_id = contracts.id\n",
    "            LEFT JOIN silver.backoffice.bookings TIMESTAMP AS OF CAST(trunc(CURRENT_DATE(),'month') AS TIMESTAMP) bookings ON contracts.booking_id = bookings.id\n",
    "            \n",
    "        WHERE bookings.state NOT IN ('canceled', 'denied')\n",
    "        \n",
    "        GROUP BY trunc(revenue.day, 'month'), city, contracts.inserted_at, contracts.booking_id, apartments.codename, bookings.state, COALESCE(revenue.contract_id, NULL)\n",
    "    )\n",
    "\n",
    "    ,New_R AS (\n",
    "        SELECT \n",
    "            CASE WHEN city IN ('Barcelona', 'Madrid') THEN SUM(rent)/1.1 \n",
    "                WHEN city IN ('Berlin') THEN SUM(rent)/1.07 \n",
    "                ELSE SUM(rent) END AS rent, city, month, sell_date, booking_id, codename, state, contract_id\n",
    "        FROM NON_PRORRATED \n",
    "        GROUP BY city, month, sell_date, booking_id, codename, state, contract_id\n",
    "        ORDER BY month ASC, CASE WHEN city = 'Barcelona' THEN 1\n",
    "                                WHEN city = 'Madrid' THEN 2\n",
    "                                WHEN city = 'Lisbon' THEN 3\n",
    "                                WHEN city = 'Paris' THEN 4\n",
    "                                WHEN city = 'Berlin' THEN 5\n",
    "                            END ASC\n",
    "    )\n",
    "\n",
    "    SELECT city, month, sell_date, booking_id, codename, contract_id, rent FROM New_R\n",
    "\"\"\"\n",
    "\n",
    "spark.sql(rent_per_recognition_begining_month_deltas).write.mode(\"overwrite\").saveAsTable(\"silver.finance.rent_per_recognition_begining_month_deltas\")"
   ]
  },
  {
   "cell_type": "markdown",
   "metadata": {
    "application/vnd.databricks.v1+cell": {
     "cellMetadata": {
      "byteLimit": 2048000,
      "rowLimit": 10000
     },
     "inputWidgets": {},
     "nuid": "ac975732-590d-495b-8a36-b166b006a49d",
     "showTitle": false,
     "tableResultSettingsMap": {},
     "title": ""
    }
   },
   "source": [
    "##1.2. Utilities Revenue"
   ]
  },
  {
   "cell_type": "markdown",
   "metadata": {
    "application/vnd.databricks.v1+cell": {
     "cellMetadata": {
      "byteLimit": 2048000,
      "rowLimit": 10000
     },
     "inputWidgets": {},
     "nuid": "632f3d25-41a7-4095-97a8-5416829dd15f",
     "showTitle": false,
     "tableResultSettingsMap": {},
     "title": ""
    }
   },
   "source": [
    "###1.2.1. Actuals\n",
    "###### (Utilities Revenue)"
   ]
  },
  {
   "cell_type": "code",
   "execution_count": 0,
   "metadata": {
    "application/vnd.databricks.v1+cell": {
     "cellMetadata": {
      "byteLimit": 2048000,
      "rowLimit": 10000
     },
     "collapsed": true,
     "inputWidgets": {},
     "nuid": "18dde7cf-a21a-45c9-83b1-06f12a752d04",
     "showTitle": false,
     "tableResultSettingsMap": {},
     "title": ""
    }
   },
   "outputs": [],
   "source": [
    "utilities_per_recognition = \"\"\"\n",
    "WITH NON_PRORRATED AS (\n",
    "        SELECT \n",
    "            COALESCE(SUM(utilities),0) utilities, trunc(revenue.day, 'month') month, city, contracts.inserted_at as sell_date, contracts.booking_id, apartments.codename,\n",
    "            COALESCE(revenue.contract_id, NULL) contract_id\n",
    "        \n",
    "        FROM silver.revenue.revenue\n",
    "            LEFT JOIN silver.backoffice.apartments ON revenue.revenue.apartment_id = backoffice.apartments.id\n",
    "            LEFT JOIN silver.backoffice.contracts ON revenue.revenue.contract_id = backoffice.contracts.id\n",
    "            LEFT JOIN silver.backoffice.bookings ON backoffice.contracts.booking_id = backoffice.bookings.id\n",
    "            \n",
    "        WHERE backoffice.bookings.state NOT IN ('canceled', 'denied')\n",
    "            \n",
    "        GROUP BY trunc(revenue.day, 'month'), city, contracts.inserted_at, contracts.booking_id, apartments.codename, revenue.contract_id\n",
    "    )\n",
    "\n",
    "    ,New AS (\n",
    "        SELECT \n",
    "            CASE WHEN city IN ('Barcelona', 'Madrid') THEN SUM(utilities)/1.1 \n",
    "                WHEN city IN ('Berlin') THEN SUM(utilities)/1.07 \n",
    "                ELSE SUM(utilities) END AS utilities, city, month, sell_date, booking_id, codename, contract_id  \n",
    "        FROM NON_PRORRATED \n",
    "        --WHERE month >= trunc(current_date, 'month') - INTERVAL 12 MONTH AND month <= trunc(current_date, 'month') + INTERVAL 4 MONTH\n",
    "        GROUP BY city, month, sell_date, booking_id, codename, contract_id  \n",
    "        ORDER BY month ASC, CASE WHEN city = 'Barcelona' THEN 1\n",
    "                                WHEN city = 'Madrid' THEN 2\n",
    "                                WHEN city = 'Lisbon' THEN 3\n",
    "                                WHEN city = 'Paris' THEN 4\n",
    "                                WHEN city = 'Berlin' THEN 5\n",
    "                            END ASC\n",
    "    )\n",
    "\n",
    "    SELECT city, month, sell_date, booking_id, codename, contract_id, utilities FROM New WHERE month >= DATE('2024-12-01')\n",
    "    UNION ALL\n",
    "    SELECT city, month, sell_date, booking_id, codename, contract_id, utilities FROM silver.finance.materialized_utilities_per_recognition\n",
    "\"\"\"\n",
    "\n",
    "spark.sql(utilities_per_recognition).write.mode(\"overwrite\").saveAsTable(\"silver.finance.utilities_per_recognition\")\n",
    "\n",
    "#TEST_EDGAR_2:\n",
    "    #####################################################################\n",
    "    #utilities = revenue[['utilities', 'day', 'contract_id', 'apartment_id']]\n",
    "\n",
    "    #####################################################################\n",
    "    #NON_PRORRATED_U = pd.merge(utilities, apartments, how='left', left_on='apartment_id', right_on='id')\n",
    "    #NON_PRORRATED_U = pd.merge(NON_PRORRATED_U, contracts, how='left', left_on='contract_id', right_on='id')\n",
    "    #NON_PRORRATED_U = pd.merge(bookings, NON_PRORRATED_U, how='left', left_on='id', right_on='booking_id').#drop(['id_x', 'id_y', 'state'], axis=1)\n",
    "\n",
    "    #####################################################################\n",
    "    #NON_PRORRATED_U['month'] = pd.to_datetime(NON_PRORRATED_U['day'],format='%Y-%m-%d').apply(lambda x: x.#replace(day=1))\n",
    "    #NON_PRORRATED_U['day'] = pd.to_datetime(NON_PRORRATED_U['day'],format='%Y-%m-%d')\n",
    "    #NON_PRORRATED_U['utilities'] = NON_PRORRATED_U['utilities'].fillna(0)\n",
    "\n",
    "    #####################################################################\n",
    "    #NON_PRORRATED_U = (\n",
    "    #    NON_PRORRATED_U.groupby(['city', 'month', 'inserted_at', 'booking_id', 'codename', 'contract_id'])\n",
    "    #    .agg(utilities=('utilities', 'sum'))\n",
    "    #    .reset_index() \n",
    "    #)\n",
    "\n",
    "    #####################################################################\n",
    "    #def vat(NON_PRORRATED_U):\n",
    "    #    if NON_PRORRATED_U['city'] in ['Barcelona', 'Madrid']:\n",
    "    #        return NON_PRORRATED_U['utilities'] / 1.1\n",
    "    #    elif NON_PRORRATED_U['city'] in ['Belin']:\n",
    "    #        return NON_PRORRATED_U['utilities'] / 1.07\n",
    "    #    else:\n",
    "    #        return NON_PRORRATED_U['utilities']\n",
    "    #    \n",
    "    #NON_PRORRATED_U['utilities'] = NON_PRORRATED_U.apply(vat, axis=1)\n",
    "\n",
    "    #New_U = (\n",
    "    #    NON_PRORRATED_U.groupby(['city', 'month', 'inserted_at', 'booking_id', 'codename', 'contract_id'])\n",
    "    #    .agg(utilities=('utilities', 'sum'))\n",
    "    #    .reset_index()\n",
    "    #)\n",
    "\n",
    "    #####################################################################\n",
    "    #New_U = New_U.rename(columns={'inserted_at': 'sell_date'})\n",
    "\n",
    "    #New_U = spark.createDataFrame(New_U)\n",
    "\n",
    "    #New_U.write.mode(\"overwrite\").saveAsTable(\"silver.finance.utilities_per_recognition_test\")"
   ]
  },
  {
   "cell_type": "markdown",
   "metadata": {
    "application/vnd.databricks.v1+cell": {
     "cellMetadata": {
      "byteLimit": 2048000,
      "rowLimit": 10000
     },
     "inputWidgets": {},
     "nuid": "6ab073fd-3507-4b7f-bda6-bce29d6849f8",
     "showTitle": false,
     "tableResultSettingsMap": {},
     "title": ""
    }
   },
   "source": [
    "###1.2.2. Deltas 7 Days Ago\n",
    "###### (Utilities Revenue)"
   ]
  },
  {
   "cell_type": "code",
   "execution_count": 0,
   "metadata": {
    "application/vnd.databricks.v1+cell": {
     "cellMetadata": {
      "byteLimit": 2048000,
      "rowLimit": 10000
     },
     "inputWidgets": {},
     "nuid": "472a4d76-6671-477a-8453-7394e550baf2",
     "showTitle": false,
     "tableResultSettingsMap": {},
     "title": ""
    }
   },
   "outputs": [],
   "source": [
    "utilities_per_recognition_7_days_deltas = \"\"\"\n",
    "WITH NON_PRORRATED AS (\n",
    "        SELECT \n",
    "            COALESCE(SUM(utilities),0) utilities, trunc(revenue.day, 'month') month, city, contracts.inserted_at as sell_date, contracts.booking_id, apartments.codename,\n",
    "            COALESCE(revenue.contract_id, NULL) contract_id\n",
    "        \n",
    "        FROM silver.revenue.revenue TIMESTAMP AS OF CAST(CURRENT_DATE() - INTERVAL 7 DAYS AS TIMESTAMP) revenue\n",
    "            LEFT JOIN silver.backoffice.apartments TIMESTAMP AS OF CAST(CURRENT_DATE() - INTERVAL 7 DAYS AS TIMESTAMP) apartments ON apartment_id = apartments.id\n",
    "            LEFT JOIN silver.backoffice.contracts TIMESTAMP AS OF CAST(CURRENT_DATE() - INTERVAL 7 DAYS AS TIMESTAMP) contracts ON revenue.contract_id = contracts.id\n",
    "            LEFT JOIN silver.backoffice.bookings TIMESTAMP AS OF CAST(CURRENT_DATE() - INTERVAL 7 DAYS AS TIMESTAMP) bookings ON contracts.booking_id = bookings.id\n",
    "            \n",
    "        WHERE bookings.state NOT IN ('canceled', 'denied')\n",
    "            \n",
    "        GROUP BY trunc(revenue.day, 'month'), city, contracts.inserted_at, contracts.booking_id, apartments.codename, revenue.contract_id\n",
    "    )\n",
    "\n",
    "    ,New AS (\n",
    "        SELECT \n",
    "            CASE WHEN city IN ('Barcelona', 'Madrid') THEN SUM(utilities)/1.1 \n",
    "                WHEN city IN ('Berlin') THEN SUM(utilities)/1.07 \n",
    "                ELSE SUM(utilities) END AS utilities, city, month, sell_date, booking_id, codename, contract_id  \n",
    "        FROM NON_PRORRATED \n",
    "        --WHERE month >= trunc(current_date, 'month') - INTERVAL 12 MONTH AND month <= trunc(current_date, 'month') + INTERVAL 4 MONTH\n",
    "        GROUP BY city, month, sell_date, booking_id, codename, contract_id  \n",
    "        ORDER BY month ASC, CASE WHEN city = 'Barcelona' THEN 1\n",
    "                                WHEN city = 'Madrid' THEN 2\n",
    "                                WHEN city = 'Lisbon' THEN 3\n",
    "                                WHEN city = 'Paris' THEN 4\n",
    "                                WHEN city = 'Berlin' THEN 5\n",
    "                            END ASC\n",
    "    )\n",
    "\n",
    "    SELECT city, month, sell_date, booking_id, codename, contract_id, utilities FROM New\n",
    "\"\"\"\n",
    "\n",
    "spark.sql(utilities_per_recognition_7_days_deltas).write.mode(\"overwrite\").saveAsTable(\"silver.finance.utilities_per_recognition_7_days_deltas\")"
   ]
  },
  {
   "cell_type": "markdown",
   "metadata": {
    "application/vnd.databricks.v1+cell": {
     "cellMetadata": {
      "byteLimit": 2048000,
      "rowLimit": 10000
     },
     "inputWidgets": {},
     "nuid": "a2550fec-e391-4916-aa20-5947cb661aae",
     "showTitle": false,
     "tableResultSettingsMap": {},
     "title": ""
    }
   },
   "source": [
    "###1.2.3. Deltas Since Begining of Month\n",
    "###### (Utilities Revenue)"
   ]
  },
  {
   "cell_type": "code",
   "execution_count": 0,
   "metadata": {
    "application/vnd.databricks.v1+cell": {
     "cellMetadata": {
      "byteLimit": 2048000,
      "rowLimit": 10000
     },
     "inputWidgets": {},
     "nuid": "27475f6d-37ae-4fde-b6b4-92a8cdc50fcc",
     "showTitle": false,
     "tableResultSettingsMap": {},
     "title": ""
    }
   },
   "outputs": [],
   "source": [
    "utilities_per_recognition_begining_month_deltas = \"\"\"\n",
    "WITH NON_PRORRATED AS (\n",
    "        SELECT \n",
    "            COALESCE(SUM(utilities),0) utilities, trunc(revenue.day, 'month') month, city, contracts.inserted_at as sell_date, contracts.booking_id, apartments.codename,\n",
    "            COALESCE(revenue.contract_id, NULL) contract_id\n",
    "        \n",
    "        FROM silver.revenue.revenue TIMESTAMP AS OF CAST(trunc(CURRENT_DATE(),'month') AS TIMESTAMP) revenue\n",
    "            LEFT JOIN silver.backoffice.apartments TIMESTAMP AS OF CAST(trunc(CURRENT_DATE(),'month') AS TIMESTAMP) apartments ON apartment_id = apartments.id\n",
    "            LEFT JOIN silver.backoffice.contracts TIMESTAMP AS OF CAST(trunc(CURRENT_DATE(),'month') AS TIMESTAMP) contracts ON revenue.contract_id = contracts.id\n",
    "            LEFT JOIN silver.backoffice.bookings TIMESTAMP AS OF CAST(trunc(CURRENT_DATE(),'month') AS TIMESTAMP) bookings ON contracts.booking_id = bookings.id\n",
    "            \n",
    "        WHERE bookings.state NOT IN ('canceled', 'denied')\n",
    "            \n",
    "        GROUP BY trunc(revenue.day, 'month'), city, contracts.inserted_at, contracts.booking_id, apartments.codename, revenue.contract_id\n",
    "    )\n",
    "\n",
    "    ,New AS (\n",
    "        SELECT \n",
    "            CASE WHEN city IN ('Barcelona', 'Madrid') THEN SUM(utilities)/1.1 \n",
    "                WHEN city IN ('Berlin') THEN SUM(utilities)/1.07 \n",
    "                ELSE SUM(utilities) END AS utilities, city, month, sell_date, booking_id, codename, contract_id  \n",
    "        FROM NON_PRORRATED \n",
    "        --WHERE month >= trunc(current_date, 'month') - INTERVAL 12 MONTH AND month <= trunc(current_date, 'month') + INTERVAL 4 MONTH\n",
    "        GROUP BY city, month, sell_date, booking_id, codename, contract_id  \n",
    "        ORDER BY month ASC, CASE WHEN city = 'Barcelona' THEN 1\n",
    "                                WHEN city = 'Madrid' THEN 2\n",
    "                                WHEN city = 'Lisbon' THEN 3\n",
    "                                WHEN city = 'Paris' THEN 4\n",
    "                                WHEN city = 'Berlin' THEN 5\n",
    "                            END ASC\n",
    "    )\n",
    "\n",
    "    SELECT city, month, sell_date, booking_id, codename, contract_id, utilities FROM New\n",
    "\"\"\"\n",
    "\n",
    "spark.sql(utilities_per_recognition_begining_month_deltas).write.mode(\"overwrite\").saveAsTable(\"silver.finance.utilities_per_recognition_begining_month_deltas\")"
   ]
  },
  {
   "cell_type": "markdown",
   "metadata": {
    "application/vnd.databricks.v1+cell": {
     "cellMetadata": {
      "byteLimit": 2048000,
      "rowLimit": 10000
     },
     "inputWidgets": {},
     "nuid": "95baba1a-fc6f-4417-99b7-5478f2a2f6d7",
     "showTitle": false,
     "tableResultSettingsMap": {},
     "title": ""
    }
   },
   "source": [
    "##1.3. Service Charge Revenue"
   ]
  },
  {
   "cell_type": "markdown",
   "metadata": {
    "application/vnd.databricks.v1+cell": {
     "cellMetadata": {
      "byteLimit": 2048000,
      "rowLimit": 10000
     },
     "inputWidgets": {},
     "nuid": "9d689a25-5014-402a-ac14-0984844b689d",
     "showTitle": false,
     "tableResultSettingsMap": {},
     "title": ""
    }
   },
   "source": [
    "###1.3.1. Actuals\n",
    "###### (Service Charge Revenue)"
   ]
  },
  {
   "cell_type": "code",
   "execution_count": 0,
   "metadata": {
    "application/vnd.databricks.v1+cell": {
     "cellMetadata": {
      "byteLimit": 2048000,
      "rowLimit": 10000
     },
     "inputWidgets": {},
     "nuid": "24cf469e-0080-42f7-900b-cf8592abd899",
     "showTitle": false,
     "tableResultSettingsMap": {},
     "title": ""
    }
   },
   "outputs": [],
   "source": [
    "sc_per_recognition = \"\"\"\n",
    "WITH NON_PRORRATED AS (\n",
    "        SELECT \n",
    "            COALESCE(SUM(service_charge),0) service_charge, trunc(contracts.inserted_at, 'month') sell_date_2, city, \n",
    "            contracts.inserted_at as sell_date, contracts.booking_id, apartments.codename,\n",
    "            COALESCE(revenue.contract_id, NULL) contract_id\n",
    "        \n",
    "        FROM silver.revenue.revenue\n",
    "            LEFT JOIN silver.backoffice.apartments ON revenue.revenue.apartment_id = backoffice.apartments.id\n",
    "            LEFT JOIN silver.backoffice.contracts ON revenue.revenue.contract_id = backoffice.contracts.id\n",
    "            LEFT JOIN silver.backoffice.bookings ON backoffice.contracts.booking_id = backoffice.bookings.id\n",
    "            \n",
    "        WHERE city IN ('Barcelona', 'Madrid', 'Lisbon', 'Berlin')\n",
    "            AND bookings.source NOT IN('Apartool', 'Silverdoor', 'Nomad', 'RelocatEU', 'Dwellworks', 'Altovita', 'Airbnb', 'HomeLike', 'VRBO')\n",
    "            AND backoffice.bookings.state NOT IN ('canceled', 'denied')\n",
    "        \n",
    "        GROUP BY trunc(contracts.inserted_at, 'month'), city, contracts.inserted_at, contracts.booking_id, apartments.codename, COALESCE(revenue.contract_id, NULL)\n",
    "    )\n",
    "\n",
    "    ,PRORRATED_5 AS (\n",
    "        SELECT \n",
    "            COALESCE(SUM(service_charge),0) service_charge, city, contracts.start_date, contracts.end_date, \n",
    "            revenue.contract_id, contracts.inserted_at sell_date, contracts.booking_id, apartments.codename\n",
    "        \n",
    "        FROM silver.revenue.revenue\n",
    "            LEFT JOIN silver.backoffice.apartments ON revenue.revenue.apartment_id = backoffice.apartments.id\n",
    "            LEFT JOIN silver.backoffice.contracts ON revenue.revenue.contract_id = backoffice.contracts.id\n",
    "            LEFT JOIN silver.backoffice.bookings ON backoffice.contracts.booking_id = backoffice.bookings.id\n",
    "            \n",
    "        WHERE (city NOT IN ('Barcelona', 'Madrid', 'Lisbon', 'Berlin') OR bookings.source IN ('Apartool', 'Silverdoor', 'Nomad', 'RelocatEU', 'Dwellworks', 'Altovita', 'Airbnb', 'HomeLike', 'VRBO'))\n",
    "            AND backoffice.bookings.state NOT IN ('canceled', 'denied')\n",
    "        \n",
    "        GROUP BY city, contracts.start_date, contracts.end_date, revenue.contract_id, contracts.inserted_at, contracts.booking_id, apartments.codename\n",
    "    )\n",
    "\n",
    "    ,PRORRATED_4 AS (\n",
    "        SELECT \n",
    "            explode(\n",
    "                sequence(\n",
    "                    trunc(start_date, 'month'),\n",
    "                    trunc(end_date, 'month'),\n",
    "                    INTERVAL 1 MONTH\n",
    "                )\n",
    "            ) month, city, service_charge::DECIMAL / (end_date::DATE - start_date::DATE)::INTEGER AS service_charge, start_date check_in, end_date check_out, contract_id,\n",
    "            sell_date, booking_id, codename\n",
    "            \n",
    "        FROM PRORRATED_5\n",
    "    )\n",
    "\n",
    "    ,PRORRATED_3 AS (\n",
    "        SELECT\n",
    "            *, \n",
    "            CASE\n",
    "                WHEN (month) = trunc(check_out::date, 'month')::date and trunc(check_in::date, 'month') <> trunc(check_out::date, 'month') THEN EXTRACT(DAY FROM check_out::date -  trunc((month)::DATE, 'MONTH')) ::INTEGER\n",
    "                WHEN (month) = trunc(check_in::date, 'month')::date and trunc(check_in::date, 'month') <> trunc(check_out::date, 'month') THEN EXTRACT(DAY FROM trunc((month + INTERVAL '1 month')::DATE, 'MONTH') - check_in)::INTEGER\n",
    "                WHEN trunc(check_out::date, 'month') = trunc(check_in::date, 'month') THEN (check_out::DATE - check_in::DATE)::INTEGER\n",
    "                ELSE EXTRACT(DAY FROM trunc((month + INTERVAL '1 month')::DATE, 'MONTH') - month)::INTEGER\n",
    "            END as nights\n",
    "            \n",
    "        FROM PRORRATED_4\n",
    "    )\n",
    "\n",
    "    ,PRORRATED_2 as (\n",
    "        SELECT \n",
    "            city, service_charge::DECIMAL * nights service_charge, month, sell_date, booking_id, codename, contract_id\n",
    "        \n",
    "        FROM PRORRATED_3\n",
    "    )\n",
    "\n",
    "    ,PRORRATED AS (\n",
    "        SELECT SUM(service_charge) service_charge, city, month, sell_date, booking_id, codename, contract_id FROM PRORRATED_2 GROUP BY city, month, sell_date, contract_id, booking_id, codename\n",
    "    )\n",
    "\n",
    "    ,JOINED AS (\n",
    "        SELECT city, service_charge, month, sell_date, booking_id, codename, contract_id FROM PRORRATED\n",
    "        UNION ALL \n",
    "        SELECT city, service_charge, sell_date_2 month, sell_date, booking_id, codename, contract_id FROM NON_PRORRATED\n",
    "    )\n",
    "\n",
    "    ,New AS (\n",
    "        SELECT \n",
    "            CASE WHEN city IN ('Barcelona', 'Madrid') THEN SUM(service_charge)/1.1 \n",
    "                WHEN city IN ('Berlin') THEN SUM(service_charge)/1.07 \n",
    "                ELSE SUM(service_charge) END AS service_charge, city, month, sell_date, booking_id, codename, contract_id \n",
    "        FROM JOINED \n",
    "        --WHERE month >= trunc(current_date, 'month') - INTERVAL 12 MONTH AND month <= trunc(current_date, 'month') + INTERVAL 4 MONTH\n",
    "        GROUP BY city, month, sell_date, booking_id, codename, contract_id \n",
    "        ORDER BY month ASC, CASE WHEN city = 'Barcelona' THEN 1\n",
    "                                WHEN city = 'Madrid' THEN 2\n",
    "                                WHEN city = 'Lisbon' THEN 3\n",
    "                                WHEN city = 'Paris' THEN 4\n",
    "                                WHEN city = 'Berlin' THEN 5\n",
    "                            END ASC\n",
    "    )\n",
    "\n",
    "    SELECT city, month, sell_date, booking_id, codename, contract_id, service_charge FROM New WHERE month >= DATE('2024-12-01')\n",
    "    UNION ALL\n",
    "    SELECT city, month, sell_date, booking_id, codename, contract_id, service_charge FROM silver.finance.materialized_sc_per_recognition\n",
    "\"\"\"\n",
    "\n",
    "spark.sql(sc_per_recognition).write.mode(\"overwrite\").saveAsTable(\"silver.finance.sc_per_recognition\")"
   ]
  },
  {
   "cell_type": "markdown",
   "metadata": {
    "application/vnd.databricks.v1+cell": {
     "cellMetadata": {
      "byteLimit": 2048000,
      "rowLimit": 10000
     },
     "inputWidgets": {},
     "nuid": "d02700b0-388c-4cfd-9576-f5a38a75fc4a",
     "showTitle": false,
     "tableResultSettingsMap": {},
     "title": ""
    }
   },
   "source": [
    "###1.3.2. Deltas 7 Days Ago\n",
    "###### (Service Charge Revenue)"
   ]
  },
  {
   "cell_type": "code",
   "execution_count": 0,
   "metadata": {
    "application/vnd.databricks.v1+cell": {
     "cellMetadata": {
      "byteLimit": 2048000,
      "rowLimit": 10000
     },
     "inputWidgets": {},
     "nuid": "05088d48-e202-4f79-8e69-a70a8f697af8",
     "showTitle": false,
     "tableResultSettingsMap": {},
     "title": ""
    }
   },
   "outputs": [],
   "source": [
    "sc_per_recognition_7_days_deltas = \"\"\"\n",
    "WITH NON_PRORRATED AS (\n",
    "        SELECT \n",
    "            COALESCE(SUM(service_charge),0) service_charge, trunc(contracts.inserted_at, 'month') sell_date_2, city, \n",
    "            contracts.inserted_at as sell_date, contracts.booking_id, apartments.codename,\n",
    "            COALESCE(revenue.contract_id, NULL) contract_id\n",
    "        \n",
    "        FROM silver.revenue.revenue TIMESTAMP AS OF CAST(CURRENT_DATE() - INTERVAL 7 DAYS AS TIMESTAMP) revenue\n",
    "            LEFT JOIN silver.backoffice.apartments TIMESTAMP AS OF CAST(CURRENT_DATE() - INTERVAL 7 DAYS AS TIMESTAMP) apartments ON revenue.apartment_id = apartments.id\n",
    "            LEFT JOIN silver.backoffice.contracts TIMESTAMP AS OF CAST(CURRENT_DATE() - INTERVAL 7 DAYS AS TIMESTAMP) contracts ON revenue.contract_id = contracts.id\n",
    "            LEFT JOIN silver.backoffice.bookings TIMESTAMP AS OF CAST(CURRENT_DATE() - INTERVAL 7 DAYS AS TIMESTAMP) bookings ON contracts.booking_id = bookings.id\n",
    "            \n",
    "        WHERE city IN ('Barcelona', 'Madrid', 'Lisbon', 'Berlin')\n",
    "            AND bookings.source NOT IN('Apartool', 'Silverdoor', 'Nomad', 'RelocatEU', 'Dwellworks', 'Altovita', 'Airbnb', 'HomeLike', 'VRBO')\n",
    "            AND bookings.state NOT IN ('canceled', 'denied')\n",
    "        \n",
    "        GROUP BY trunc(contracts.inserted_at, 'month'), city, contracts.inserted_at, contracts.booking_id, apartments.codename, COALESCE(revenue.contract_id, NULL)\n",
    "    )\n",
    "\n",
    "    ,PRORRATED_5 AS (\n",
    "        SELECT \n",
    "            COALESCE(SUM(service_charge),0) service_charge, city, contracts.start_date, contracts.end_date, \n",
    "            revenue.contract_id, contracts.inserted_at sell_date, contracts.booking_id, apartments.codename\n",
    "        \n",
    "        FROM silver.revenue.revenue TIMESTAMP AS OF CAST(CURRENT_DATE() - INTERVAL 7 DAYS AS TIMESTAMP) revenue\n",
    "            LEFT JOIN silver.backoffice.apartments TIMESTAMP AS OF CAST(CURRENT_DATE() - INTERVAL 7 DAYS AS TIMESTAMP) apartments ON revenue.apartment_id = apartments.id\n",
    "            LEFT JOIN silver.backoffice.contracts TIMESTAMP AS OF CAST(CURRENT_DATE() - INTERVAL 7 DAYS AS TIMESTAMP) contracts ON revenue.contract_id = contracts.id\n",
    "            LEFT JOIN silver.backoffice.bookings TIMESTAMP AS OF CAST(CURRENT_DATE() - INTERVAL 7 DAYS AS TIMESTAMP) bookings ON contracts.booking_id = bookings.id\n",
    "            \n",
    "        WHERE (city NOT IN ('Barcelona', 'Madrid', 'Lisbon', 'Berlin') OR bookings.source IN ('Apartool', 'Silverdoor', 'Nomad', 'RelocatEU', 'Dwellworks', 'Altovita', 'Airbnb', 'HomeLike', 'VRBO'))\n",
    "            AND bookings.state NOT IN ('canceled', 'denied')\n",
    "        \n",
    "        GROUP BY city, contracts.start_date, contracts.end_date, revenue.contract_id, contracts.inserted_at, contracts.booking_id, apartments.codename\n",
    "    )\n",
    "\n",
    "    ,PRORRATED_4 AS (\n",
    "        SELECT \n",
    "            explode(\n",
    "                sequence(\n",
    "                    trunc(start_date, 'month'),\n",
    "                    trunc(end_date, 'month'),\n",
    "                    INTERVAL 1 MONTH\n",
    "                )\n",
    "            ) month, city, service_charge::DECIMAL / (end_date::DATE - start_date::DATE)::INTEGER AS service_charge, start_date check_in, end_date check_out, contract_id,\n",
    "            sell_date, booking_id, codename\n",
    "            \n",
    "        FROM PRORRATED_5\n",
    "    )\n",
    "\n",
    "    ,PRORRATED_3 AS (\n",
    "        SELECT\n",
    "            *, \n",
    "            CASE\n",
    "                WHEN (month) = trunc(check_out::date, 'month')::date and trunc(check_in::date, 'month') <> trunc(check_out::date, 'month') THEN EXTRACT(DAY FROM check_out::date -  trunc((month)::DATE, 'MONTH')) ::INTEGER\n",
    "                WHEN (month) = trunc(check_in::date, 'month')::date and trunc(check_in::date, 'month') <> trunc(check_out::date, 'month') THEN EXTRACT(DAY FROM trunc((month + INTERVAL '1 month')::DATE, 'MONTH') - check_in)::INTEGER\n",
    "                WHEN trunc(check_out::date, 'month') = trunc(check_in::date, 'month') THEN (check_out::DATE - check_in::DATE)::INTEGER\n",
    "                ELSE EXTRACT(DAY FROM trunc((month + INTERVAL '1 month')::DATE, 'MONTH') - month)::INTEGER\n",
    "            END as nights\n",
    "            \n",
    "        FROM PRORRATED_4\n",
    "    )\n",
    "\n",
    "    ,PRORRATED_2 as (\n",
    "        SELECT \n",
    "            city, service_charge::DECIMAL * nights service_charge, month, sell_date, booking_id, codename, contract_id\n",
    "        \n",
    "        FROM PRORRATED_3\n",
    "    )\n",
    "\n",
    "    ,PRORRATED AS (\n",
    "        SELECT SUM(service_charge) service_charge, city, month, sell_date, booking_id, codename, contract_id FROM PRORRATED_2 GROUP BY city, month, sell_date, contract_id, booking_id, codename\n",
    "    )\n",
    "\n",
    "    ,JOINED AS (\n",
    "        SELECT city, service_charge, month, sell_date, booking_id, codename, contract_id FROM PRORRATED\n",
    "        UNION ALL \n",
    "        SELECT city, service_charge, sell_date_2 month, sell_date, booking_id, codename, contract_id FROM NON_PRORRATED\n",
    "    )\n",
    "\n",
    "    ,New AS (\n",
    "        SELECT \n",
    "            CASE WHEN city IN ('Barcelona', 'Madrid') THEN SUM(service_charge)/1.1 \n",
    "                WHEN city IN ('Berlin') THEN SUM(service_charge)/1.07 \n",
    "                ELSE SUM(service_charge) END AS service_charge, city, month, sell_date, booking_id, codename, contract_id \n",
    "        FROM JOINED \n",
    "        --WHERE month >= trunc(current_date, 'month') - INTERVAL 12 MONTH AND month <= trunc(current_date, 'month') + INTERVAL 4 MONTH\n",
    "        GROUP BY city, month, sell_date, booking_id, codename, contract_id \n",
    "        ORDER BY month ASC, CASE WHEN city = 'Barcelona' THEN 1\n",
    "                                WHEN city = 'Madrid' THEN 2\n",
    "                                WHEN city = 'Lisbon' THEN 3\n",
    "                                WHEN city = 'Paris' THEN 4\n",
    "                                WHEN city = 'Berlin' THEN 5\n",
    "                            END ASC\n",
    "    )\n",
    "\n",
    "    SELECT city, month, sell_date, booking_id, codename, contract_id, service_charge FROM New\n",
    "\"\"\"\n",
    "\n",
    "spark.sql(sc_per_recognition_7_days_deltas).write.mode(\"overwrite\").saveAsTable(\"silver.finance.sc_per_recognition_7_days_deltas\")"
   ]
  },
  {
   "cell_type": "markdown",
   "metadata": {
    "application/vnd.databricks.v1+cell": {
     "cellMetadata": {
      "byteLimit": 2048000,
      "rowLimit": 10000
     },
     "inputWidgets": {},
     "nuid": "3ec73380-ec45-41bc-b8b8-13e2a617a48a",
     "showTitle": false,
     "tableResultSettingsMap": {},
     "title": ""
    }
   },
   "source": [
    "###1.3.3. Deltas Since Begining of Month\n",
    "###### (Service Charge Revenue)"
   ]
  },
  {
   "cell_type": "code",
   "execution_count": 0,
   "metadata": {
    "application/vnd.databricks.v1+cell": {
     "cellMetadata": {
      "byteLimit": 2048000,
      "rowLimit": 10000
     },
     "inputWidgets": {},
     "nuid": "ef09cb8a-3b30-4834-b15a-498e6c7f2d6c",
     "showTitle": false,
     "tableResultSettingsMap": {},
     "title": ""
    }
   },
   "outputs": [],
   "source": [
    "sc_per_recognition_begining_month_deltas = \"\"\"\n",
    "WITH NON_PRORRATED AS (\n",
    "        SELECT \n",
    "            COALESCE(SUM(service_charge),0) service_charge, trunc(contracts.inserted_at, 'month') sell_date_2, city, \n",
    "            contracts.inserted_at as sell_date, contracts.booking_id, apartments.codename,\n",
    "            COALESCE(revenue.contract_id, NULL) contract_id\n",
    "        \n",
    "        FROM silver.revenue.revenue TIMESTAMP AS OF CAST(trunc(CURRENT_DATE(),'month') AS TIMESTAMP) revenue\n",
    "            LEFT JOIN silver.backoffice.apartments TIMESTAMP AS OF CAST(trunc(CURRENT_DATE(),'month') AS TIMESTAMP) apartments ON revenue.apartment_id = apartments.id\n",
    "            LEFT JOIN silver.backoffice.contracts TIMESTAMP AS OF CAST(trunc(CURRENT_DATE(),'month') AS TIMESTAMP) contracts ON revenue.contract_id = contracts.id\n",
    "            LEFT JOIN silver.backoffice.bookings TIMESTAMP AS OF CAST(trunc(CURRENT_DATE(),'month') AS TIMESTAMP) bookings ON contracts.booking_id = bookings.id\n",
    "            \n",
    "        WHERE city IN ('Barcelona', 'Madrid', 'Lisbon', 'Berlin')\n",
    "            AND bookings.source NOT IN('Apartool', 'Silverdoor', 'Nomad', 'RelocatEU', 'Dwellworks', 'Altovita', 'Airbnb', 'HomeLike', 'VRBO')\n",
    "            AND bookings.state NOT IN ('canceled', 'denied')\n",
    "        \n",
    "        GROUP BY trunc(contracts.inserted_at, 'month'), city, contracts.inserted_at, contracts.booking_id, apartments.codename, COALESCE(revenue.contract_id, NULL)\n",
    "    )\n",
    "\n",
    "    ,PRORRATED_5 AS (\n",
    "        SELECT \n",
    "            COALESCE(SUM(service_charge),0) service_charge, city, contracts.start_date, contracts.end_date, \n",
    "            revenue.contract_id, contracts.inserted_at sell_date, contracts.booking_id, apartments.codename\n",
    "        \n",
    "        FROM silver.revenue.revenue TIMESTAMP AS OF CAST(trunc(CURRENT_DATE(),'month') AS TIMESTAMP) revenue\n",
    "            LEFT JOIN silver.backoffice.apartments TIMESTAMP AS OF CAST(trunc(CURRENT_DATE(),'month') AS TIMESTAMP) apartments ON revenue.apartment_id = apartments.id\n",
    "            LEFT JOIN silver.backoffice.contracts TIMESTAMP AS OF CAST(trunc(CURRENT_DATE(),'month') AS TIMESTAMP) contracts ON revenue.contract_id = contracts.id\n",
    "            LEFT JOIN silver.backoffice.bookings TIMESTAMP AS OF CAST(trunc(CURRENT_DATE(),'month') AS TIMESTAMP) bookings ON contracts.booking_id = bookings.id\n",
    "            \n",
    "        WHERE (city NOT IN ('Barcelona', 'Madrid', 'Lisbon', 'Berlin') OR bookings.source IN ('Apartool', 'Silverdoor', 'Nomad', 'RelocatEU', 'Dwellworks', 'Altovita', 'Airbnb', 'HomeLike', 'VRBO'))\n",
    "            AND bookings.state NOT IN ('canceled', 'denied')\n",
    "        \n",
    "        GROUP BY city, contracts.start_date, contracts.end_date, revenue.contract_id, contracts.inserted_at, contracts.booking_id, apartments.codename\n",
    "    )\n",
    "\n",
    "    ,PRORRATED_4 AS (\n",
    "        SELECT \n",
    "            explode(\n",
    "                sequence(\n",
    "                    trunc(start_date, 'month'),\n",
    "                    trunc(end_date, 'month'),\n",
    "                    INTERVAL 1 MONTH\n",
    "                )\n",
    "            ) month, city, service_charge::DECIMAL / (end_date::DATE - start_date::DATE)::INTEGER AS service_charge, start_date check_in, end_date check_out, contract_id,\n",
    "            sell_date, booking_id, codename\n",
    "            \n",
    "        FROM PRORRATED_5\n",
    "    )\n",
    "\n",
    "    ,PRORRATED_3 AS (\n",
    "        SELECT\n",
    "            *, \n",
    "            CASE\n",
    "                WHEN (month) = trunc(check_out::date, 'month')::date and trunc(check_in::date, 'month') <> trunc(check_out::date, 'month') THEN EXTRACT(DAY FROM check_out::date -  trunc((month)::DATE, 'MONTH')) ::INTEGER\n",
    "                WHEN (month) = trunc(check_in::date, 'month')::date and trunc(check_in::date, 'month') <> trunc(check_out::date, 'month') THEN EXTRACT(DAY FROM trunc((month + INTERVAL '1 month')::DATE, 'MONTH') - check_in)::INTEGER\n",
    "                WHEN trunc(check_out::date, 'month') = trunc(check_in::date, 'month') THEN (check_out::DATE - check_in::DATE)::INTEGER\n",
    "                ELSE EXTRACT(DAY FROM trunc((month + INTERVAL '1 month')::DATE, 'MONTH') - month)::INTEGER\n",
    "            END as nights\n",
    "            \n",
    "        FROM PRORRATED_4\n",
    "    )\n",
    "\n",
    "    ,PRORRATED_2 as (\n",
    "        SELECT \n",
    "            city, service_charge::DECIMAL * nights service_charge, month, sell_date, booking_id, codename, contract_id\n",
    "        \n",
    "        FROM PRORRATED_3\n",
    "    )\n",
    "\n",
    "    ,PRORRATED AS (\n",
    "        SELECT SUM(service_charge) service_charge, city, month, sell_date, booking_id, codename, contract_id FROM PRORRATED_2 GROUP BY city, month, sell_date, contract_id, booking_id, codename\n",
    "    )\n",
    "\n",
    "    ,JOINED AS (\n",
    "        SELECT city, service_charge, month, sell_date, booking_id, codename, contract_id FROM PRORRATED\n",
    "        UNION ALL \n",
    "        SELECT city, service_charge, sell_date_2 month, sell_date, booking_id, codename, contract_id FROM NON_PRORRATED\n",
    "    )\n",
    "\n",
    "    ,New AS (\n",
    "        SELECT \n",
    "            CASE WHEN city IN ('Barcelona', 'Madrid') THEN SUM(service_charge)/1.1 \n",
    "                WHEN city IN ('Berlin') THEN SUM(service_charge)/1.07 \n",
    "                ELSE SUM(service_charge) END AS service_charge, city, month, sell_date, booking_id, codename, contract_id \n",
    "        FROM JOINED \n",
    "        --WHERE month >= trunc(current_date, 'month') - INTERVAL 12 MONTH AND month <= trunc(current_date, 'month') + INTERVAL 4 MONTH\n",
    "        GROUP BY city, month, sell_date, booking_id, codename, contract_id \n",
    "        ORDER BY month ASC, CASE WHEN city = 'Barcelona' THEN 1\n",
    "                                WHEN city = 'Madrid' THEN 2\n",
    "                                WHEN city = 'Lisbon' THEN 3\n",
    "                                WHEN city = 'Paris' THEN 4\n",
    "                                WHEN city = 'Berlin' THEN 5\n",
    "                            END ASC\n",
    "    )\n",
    "\n",
    "    SELECT city, month, sell_date, booking_id, codename, contract_id, service_charge FROM New\n",
    "\"\"\"\n",
    "\n",
    "spark.sql(sc_per_recognition_begining_month_deltas).write.mode(\"overwrite\").saveAsTable(\"silver.finance.sc_per_recognition_begining_month_deltas\")"
   ]
  },
  {
   "cell_type": "markdown",
   "metadata": {
    "application/vnd.databricks.v1+cell": {
     "cellMetadata": {
      "byteLimit": 2048000,
      "rowLimit": 10000
     },
     "inputWidgets": {},
     "nuid": "18287d00-d763-47eb-89ac-72efa3d778b6",
     "showTitle": false,
     "tableResultSettingsMap": {},
     "title": ""
    }
   },
   "source": [
    "##1.4. Penalty Revenue"
   ]
  },
  {
   "cell_type": "markdown",
   "metadata": {
    "application/vnd.databricks.v1+cell": {
     "cellMetadata": {
      "byteLimit": 2048000,
      "rowLimit": 10000
     },
     "inputWidgets": {},
     "nuid": "6a300617-d646-4386-8455-746ce606955d",
     "showTitle": false,
     "tableResultSettingsMap": {},
     "title": ""
    }
   },
   "source": [
    "###1.4.1. Actuals\n",
    "###### (Penalty Revenue)"
   ]
  },
  {
   "cell_type": "code",
   "execution_count": 0,
   "metadata": {
    "application/vnd.databricks.v1+cell": {
     "cellMetadata": {
      "byteLimit": 2048000,
      "rowLimit": 10000
     },
     "collapsed": true,
     "inputWidgets": {},
     "nuid": "f4daa745-1390-4fde-a9f4-e577abfcdc2e",
     "showTitle": false,
     "tableResultSettingsMap": {},
     "title": ""
    }
   },
   "outputs": [],
   "source": [
    "penalty_per_recognition = \"\"\"\n",
    "WITH NON_PRORRATED AS (\n",
    "        SELECT \n",
    "            COALESCE(SUM(penalty),0) penalty, COALESCE(trunc(bookings.canceled_at, 'month'), trunc(bookings.updated_at, 'month')) month, \n",
    "            city, contracts.inserted_at as sell_date, contracts.booking_id, apartments.codename,\n",
    "            COALESCE(revenue.contract_id, NULL) contract_id\n",
    "        \n",
    "        FROM silver.revenue.revenue\n",
    "            LEFT JOIN silver.backoffice.apartments ON revenue.revenue.apartment_id = backoffice.apartments.id\n",
    "            LEFT JOIN silver.backoffice.contracts ON revenue.revenue.contract_id = backoffice.contracts.id\n",
    "            LEFT JOIN silver.backoffice.bookings ON backoffice.contracts.booking_id = backoffice.bookings.id\n",
    "            \n",
    "        WHERE backoffice.bookings.state NOT IN ('canceled', 'denied')\n",
    "            \n",
    "        GROUP BY COALESCE(trunc(bookings.canceled_at, 'month'), trunc(bookings.updated_at, 'month')), city, COALESCE(revenue.contract_id, NULL), contracts.inserted_at, contracts.booking_id, apartments.codename\n",
    "    )\n",
    "\n",
    "    ,New AS (\n",
    "        SELECT \n",
    "            CASE WHEN city IN ('Barcelona', 'Madrid') THEN SUM(penalty)/1.1 \n",
    "                WHEN city IN ('Berlin') THEN SUM(penalty)/1.07 \n",
    "                ELSE SUM(penalty) END AS penalty, city, month, sell_date, booking_id, codename, contract_id \n",
    "        FROM NON_PRORRATED \n",
    "        --WHERE month >= trunc(current_date, 'month') - INTERVAL 12 MONTH AND month <= trunc(current_date, 'month') + INTERVAL 4 MONTH\n",
    "        GROUP BY city, month, sell_date, booking_id, codename, contract_id \n",
    "        ORDER BY month ASC, CASE WHEN city = 'Barcelona' THEN 1\n",
    "                                WHEN city = 'Madrid' THEN 2\n",
    "                                WHEN city = 'Lisbon' THEN 3\n",
    "                                WHEN city = 'Paris' THEN 4\n",
    "                                WHEN city = 'Berlin' THEN 5\n",
    "                            END ASC\n",
    "    )\n",
    "\n",
    "\n",
    "    SELECT city, month, sell_date, booking_id, codename, contract_id, penalty FROM New WHERE month >= DATE('2024-12-01')\n",
    "    UNION ALL\n",
    "    SELECT city, month, sell_date, booking_id, codename, contract_id, penalty FROM silver.finance.materialized_penalty_per_recognition\n",
    "\"\"\"\n",
    "\n",
    "spark.sql(penalty_per_recognition).write.mode(\"overwrite\").saveAsTable(\"silver.finance.penalty_per_recognition\")"
   ]
  },
  {
   "cell_type": "markdown",
   "metadata": {
    "application/vnd.databricks.v1+cell": {
     "cellMetadata": {
      "byteLimit": 2048000,
      "rowLimit": 10000
     },
     "inputWidgets": {},
     "nuid": "553476de-ac27-43f5-895d-4a531cd108e9",
     "showTitle": false,
     "tableResultSettingsMap": {},
     "title": ""
    }
   },
   "source": [
    "###1.4.2. Deltas 7 Days Ago\n",
    "###### (Penalty Revenue)"
   ]
  },
  {
   "cell_type": "code",
   "execution_count": 0,
   "metadata": {
    "application/vnd.databricks.v1+cell": {
     "cellMetadata": {
      "byteLimit": 2048000,
      "rowLimit": 10000
     },
     "inputWidgets": {},
     "nuid": "7ea4b98a-4aa7-422a-8c07-15ca9a8609e7",
     "showTitle": false,
     "tableResultSettingsMap": {},
     "title": ""
    }
   },
   "outputs": [],
   "source": [
    "penalty_per_recognition_7_days_deltas = \"\"\"\n",
    "WITH NON_PRORRATED AS (\n",
    "        SELECT \n",
    "            COALESCE(SUM(penalty),0) penalty, COALESCE(trunc(bookings.canceled_at, 'month'), trunc(bookings.updated_at, 'month')) month, \n",
    "            city, contracts.inserted_at as sell_date, contracts.booking_id, apartments.codename,\n",
    "            COALESCE(revenue.contract_id, NULL) contract_id\n",
    "        \n",
    "        FROM silver.revenue.revenue TIMESTAMP AS OF CAST(CURRENT_DATE() - INTERVAL 7 DAYS AS TIMESTAMP) revenue\n",
    "            LEFT JOIN silver.backoffice.apartments TIMESTAMP AS OF CAST(CURRENT_DATE() - INTERVAL 7 DAYS AS TIMESTAMP) apartments ON revenue.apartment_id = apartments.id\n",
    "            LEFT JOIN silver.backoffice.contracts TIMESTAMP AS OF CAST(CURRENT_DATE() - INTERVAL 7 DAYS AS TIMESTAMP) contracts ON revenue.contract_id = contracts.id\n",
    "            LEFT JOIN silver.backoffice.bookings TIMESTAMP AS OF CAST(CURRENT_DATE() - INTERVAL 7 DAYS AS TIMESTAMP) bookings ON contracts.booking_id = bookings.id\n",
    "            \n",
    "        WHERE bookings.state NOT IN ('canceled', 'denied')\n",
    "            \n",
    "        GROUP BY COALESCE(trunc(bookings.canceled_at, 'month'), trunc(bookings.updated_at, 'month')), city, COALESCE(revenue.contract_id, NULL), contracts.inserted_at, contracts.booking_id, apartments.codename\n",
    "    )\n",
    "\n",
    "    ,New AS (\n",
    "        SELECT \n",
    "            CASE WHEN city IN ('Barcelona', 'Madrid') THEN SUM(penalty)/1.1 \n",
    "                WHEN city IN ('Berlin') THEN SUM(penalty)/1.07 \n",
    "                ELSE SUM(penalty) END AS penalty, city, month, sell_date, booking_id, codename, contract_id \n",
    "        FROM NON_PRORRATED \n",
    "        --WHERE month >= trunc(current_date, 'month') - INTERVAL 12 MONTH AND month <= trunc(current_date, 'month') + INTERVAL 4 MONTH\n",
    "        GROUP BY city, month, sell_date, booking_id, codename, contract_id \n",
    "        ORDER BY month ASC, CASE WHEN city = 'Barcelona' THEN 1\n",
    "                                WHEN city = 'Madrid' THEN 2\n",
    "                                WHEN city = 'Lisbon' THEN 3\n",
    "                                WHEN city = 'Paris' THEN 4\n",
    "                                WHEN city = 'Berlin' THEN 5\n",
    "                            END ASC\n",
    "    )\n",
    "\n",
    "\n",
    "    SELECT city, month, sell_date, booking_id, codename, contract_id, penalty FROM New\n",
    "\"\"\"\n",
    "\n",
    "spark.sql(penalty_per_recognition_7_days_deltas).write.mode(\"overwrite\").saveAsTable(\"silver.finance.penalty_per_recognition_7_days_deltas\")"
   ]
  },
  {
   "cell_type": "markdown",
   "metadata": {
    "application/vnd.databricks.v1+cell": {
     "cellMetadata": {
      "byteLimit": 2048000,
      "rowLimit": 10000
     },
     "inputWidgets": {},
     "nuid": "4c052a48-3afe-4a6d-a2b8-72a38086c1e9",
     "showTitle": false,
     "tableResultSettingsMap": {},
     "title": ""
    }
   },
   "source": [
    "###1.4.3. Deltas Since Begining of Month\n",
    "###### (Penalty Revenue)"
   ]
  },
  {
   "cell_type": "code",
   "execution_count": 0,
   "metadata": {
    "application/vnd.databricks.v1+cell": {
     "cellMetadata": {
      "byteLimit": 2048000,
      "rowLimit": 10000
     },
     "inputWidgets": {},
     "nuid": "b2d76662-2743-4804-92c5-6ab02bb8b902",
     "showTitle": false,
     "tableResultSettingsMap": {},
     "title": ""
    }
   },
   "outputs": [],
   "source": [
    "penalty_per_recognition_begining_month_deltas = \"\"\"\n",
    "WITH NON_PRORRATED AS (\n",
    "        SELECT \n",
    "            COALESCE(SUM(penalty),0) penalty, COALESCE(trunc(bookings.canceled_at, 'month'), trunc(bookings.updated_at, 'month')) month, \n",
    "            city, contracts.inserted_at as sell_date, contracts.booking_id, apartments.codename,\n",
    "            COALESCE(revenue.contract_id, NULL) contract_id\n",
    "        \n",
    "        FROM silver.revenue.revenue TIMESTAMP AS OF CAST(trunc(CURRENT_DATE(),'month') AS TIMESTAMP) revenue\n",
    "            LEFT JOIN silver.backoffice.apartments TIMESTAMP AS OF CAST(trunc(CURRENT_DATE(),'month') AS TIMESTAMP) apartments ON revenue.apartment_id = apartments.id\n",
    "            LEFT JOIN silver.backoffice.contracts TIMESTAMP AS OF CAST(trunc(CURRENT_DATE(),'month') AS TIMESTAMP) contracts ON revenue.contract_id = contracts.id\n",
    "            LEFT JOIN silver.backoffice.bookings TIMESTAMP AS OF CAST(trunc(CURRENT_DATE(),'month') AS TIMESTAMP) bookings ON contracts.booking_id = bookings.id\n",
    "            \n",
    "        WHERE bookings.state NOT IN ('canceled', 'denied')\n",
    "            \n",
    "        GROUP BY COALESCE(trunc(bookings.canceled_at, 'month'), trunc(bookings.updated_at, 'month')), city, COALESCE(revenue.contract_id, NULL), contracts.inserted_at, contracts.booking_id, apartments.codename\n",
    "    )\n",
    "\n",
    "    ,New AS (\n",
    "        SELECT \n",
    "            CASE WHEN city IN ('Barcelona', 'Madrid') THEN SUM(penalty)/1.1 \n",
    "                WHEN city IN ('Berlin') THEN SUM(penalty)/1.07 \n",
    "                ELSE SUM(penalty) END AS penalty, city, month, sell_date, booking_id, codename, contract_id \n",
    "        FROM NON_PRORRATED \n",
    "        --WHERE month >= trunc(current_date, 'month') - INTERVAL 12 MONTH AND month <= trunc(current_date, 'month') + INTERVAL 4 MONTH\n",
    "        GROUP BY city, month, sell_date, booking_id, codename, contract_id \n",
    "        ORDER BY month ASC, CASE WHEN city = 'Barcelona' THEN 1\n",
    "                                WHEN city = 'Madrid' THEN 2\n",
    "                                WHEN city = 'Lisbon' THEN 3\n",
    "                                WHEN city = 'Paris' THEN 4\n",
    "                                WHEN city = 'Berlin' THEN 5\n",
    "                            END ASC\n",
    "    )\n",
    "\n",
    "\n",
    "    SELECT city, month, sell_date, booking_id, codename, contract_id, penalty FROM New\n",
    "\"\"\"\n",
    "\n",
    "spark.sql(penalty_per_recognition_begining_month_deltas).write.mode(\"overwrite\").saveAsTable(\"silver.finance.penalty_per_recognition_begining_month_deltas\")"
   ]
  },
  {
   "cell_type": "markdown",
   "metadata": {
    "application/vnd.databricks.v1+cell": {
     "cellMetadata": {
      "byteLimit": 2048000,
      "rowLimit": 10000
     },
     "inputWidgets": {},
     "nuid": "cbfaef80-4f52-4636-af76-0fb0070f330e",
     "showTitle": false,
     "tableResultSettingsMap": {},
     "title": ""
    }
   },
   "source": [
    "##1.5. Cleaning Revenue"
   ]
  },
  {
   "cell_type": "markdown",
   "metadata": {
    "application/vnd.databricks.v1+cell": {
     "cellMetadata": {
      "byteLimit": 2048000,
      "rowLimit": 10000
     },
     "inputWidgets": {},
     "nuid": "92a8b77b-01b4-456e-9894-6d90e28ab01b",
     "showTitle": false,
     "tableResultSettingsMap": {},
     "title": ""
    }
   },
   "source": [
    "###1.5.1. Actuals\n",
    "###### (Cleaning Revenue)"
   ]
  },
  {
   "cell_type": "code",
   "execution_count": 0,
   "metadata": {
    "application/vnd.databricks.v1+cell": {
     "cellMetadata": {
      "byteLimit": 2048000,
      "rowLimit": 10000
     },
     "inputWidgets": {},
     "nuid": "90078d92-51d2-4914-b0fb-1a84923595c4",
     "showTitle": false,
     "tableResultSettingsMap": {},
     "title": ""
    }
   },
   "outputs": [],
   "source": [
    "cleaning_per_recognition = \"\"\"\n",
    "WITH NON_PRORRATED AS (\n",
    "        SELECT \n",
    "            COALESCE(SUM(final_cleaning),0) final_cleaning, trunc(contracts.start_date, 'month') month, city, contracts.inserted_at as sell_date, \n",
    "            contracts.booking_id, apartments.codename, COALESCE(revenue.contract_id, NULL) contract_id\n",
    "        \n",
    "        FROM silver.revenue.revenue\n",
    "            LEFT JOIN silver.backoffice.apartments ON revenue.revenue.apartment_id = backoffice.apartments.id\n",
    "            LEFT JOIN silver.backoffice.contracts ON revenue.revenue.contract_id = backoffice.contracts.id\n",
    "            LEFT JOIN silver.backoffice.bookings ON backoffice.contracts.booking_id = backoffice.bookings.id\n",
    "            \n",
    "        WHERE city IN ('Barcelona', 'Madrid', 'Berlin')\n",
    "            AND bookings.source NOT IN('Apartool', 'Silverdoor', 'Nomad', 'RelocatEU', 'Dwellworks', 'Altovita', 'Airbnb', 'HomeLike', 'VRBO')\n",
    "            AND backoffice.bookings.state NOT IN ('canceled', 'denied')\n",
    "        \n",
    "        GROUP BY trunc(contracts.start_date, 'month'), city, contracts.inserted_at, contracts.booking_id, apartments.codename, COALESCE(revenue.contract_id, NULL) \n",
    "    )\n",
    "\n",
    "    ,PRORRATED_5 AS (\n",
    "        SELECT \n",
    "            COALESCE(SUM(final_cleaning),0) final_cleaning, city, contracts.start_date, \n",
    "            contracts.end_date, revenue.contract_id, contracts.inserted_at sell_date, \n",
    "            contracts.booking_id, apartments.codename\n",
    "        \n",
    "        FROM silver.revenue.revenue\n",
    "            LEFT JOIN silver.backoffice.apartments ON revenue.revenue.apartment_id = backoffice.apartments.id\n",
    "            LEFT JOIN silver.backoffice.contracts ON revenue.revenue.contract_id = backoffice.contracts.id\n",
    "            LEFT JOIN silver.backoffice.bookings ON backoffice.contracts.booking_id = backoffice.bookings.id\n",
    "            \n",
    "        WHERE (city NOT IN ('Barcelona', 'Madrid', 'Berlin') OR bookings.source IN ('Apartool', 'Silverdoor', 'Nomad', 'RelocatEU', 'Dwellworks', 'Altovita', 'Airbnb', 'HomeLike', 'VRBO'))\n",
    "        \n",
    "        GROUP BY city, contracts.start_date, contracts.end_date, revenue.contract_id, contracts.inserted_at, contracts.booking_id, apartments.codename\n",
    "    )\n",
    "\n",
    "    ,PRORRATED_4 AS (\n",
    "        SELECT \n",
    "            explode(\n",
    "                sequence(\n",
    "                    trunc(start_date, 'month'),\n",
    "                    trunc(end_date, 'month'),\n",
    "                    INTERVAL 1 MONTH\n",
    "                )\n",
    "            ) month, city, final_cleaning::DECIMAL / (end_date::DATE - start_date::DATE)::INTEGER AS final_cleaning, start_date check_in, end_date check_out, contract_id,\n",
    "            sell_date, booking_id, codename\n",
    "            \n",
    "        FROM PRORRATED_5\n",
    "    )\n",
    "\n",
    "    ,PRORRATED_3 AS (\n",
    "        SELECT\n",
    "            *, \n",
    "            CASE\n",
    "                WHEN (month) = trunc(check_out::date, 'month')::date and trunc(check_in::date, 'month') <> trunc(check_out::date, 'month') THEN EXTRACT(DAY FROM check_out::date -  trunc((month)::DATE, 'MONTH')) ::INTEGER\n",
    "                WHEN (month) = trunc(check_in::date, 'month')::date and trunc(check_in::date, 'month') <> trunc(check_out::date, 'month') THEN EXTRACT(DAY FROM trunc((month + INTERVAL '1 month')::DATE, 'MONTH') - check_in)::INTEGER\n",
    "                WHEN trunc(check_out::date, 'month') = trunc(check_in::date, 'month') THEN (check_out::DATE - check_in::DATE)::INTEGER\n",
    "                ELSE EXTRACT(DAY FROM trunc((month + INTERVAL '1 month')::DATE, 'MONTH') - month)::INTEGER\n",
    "            END as nights\n",
    "            \n",
    "        FROM PRORRATED_4\n",
    "    )\n",
    "\n",
    "    ,PRORRATED_2 as (\n",
    "        SELECT \n",
    "            city, final_cleaning::DECIMAL * nights final_cleaning, month,sell_date, booking_id, codename, contract_id\n",
    "        \n",
    "        FROM PRORRATED_3\n",
    "    )\n",
    "\n",
    "    ,PRORRATED AS (\n",
    "        SELECT SUM(final_cleaning) final_cleaning, city, month,sell_date, booking_id, codename, contract_id FROM PRORRATED_2 GROUP BY city, month, contract_id, sell_date, booking_id, codename\n",
    "    )\n",
    "\n",
    "    ,JOINED AS (\n",
    "        SELECT city, final_cleaning, month,sell_date, booking_id, codename, contract_id FROM PRORRATED\n",
    "        UNION ALL \n",
    "        SELECT city, final_cleaning, month,sell_date, booking_id, codename, contract_id FROM NON_PRORRATED\n",
    "    )\n",
    "\n",
    "    ,New AS (\n",
    "        SELECT \n",
    "            CASE WHEN city IN ('Barcelona', 'Madrid') THEN SUM(final_cleaning)/1.1 \n",
    "                WHEN city IN ('Berlin') THEN SUM(final_cleaning)/1.07 \n",
    "                ELSE SUM(final_cleaning) END AS final_cleaning, city, month,sell_date, booking_id, codename, contract_id\n",
    "        FROM JOINED \n",
    "        --WHERE month >= trunc(current_date, 'month') - INTERVAL 12 MONTH AND month <= trunc(current_date, 'month') + INTERVAL 4 MONTH\n",
    "        GROUP BY city, month,sell_date, booking_id, codename, contract_id \n",
    "        ORDER BY month ASC, CASE WHEN city = 'Barcelona' THEN 1\n",
    "                                WHEN city = 'Madrid' THEN 2\n",
    "                                WHEN city = 'Lisbon' THEN 3\n",
    "                                WHEN city = 'Paris' THEN 4\n",
    "                                WHEN city = 'Berlin' THEN 5\n",
    "                            END ASC\n",
    "    )\n",
    "\n",
    "    SELECT city, month, sell_date, booking_id, codename, contract_id, final_cleaning FROM New WHERE month >= DATE('2024-12-01')\n",
    "    UNION ALL\n",
    "    SELECT city, month, sell_date, booking_id, codename, contract_id, final_cleaning FROM silver.finance.materialized_cleaning_per_recognition\n",
    "\"\"\"\n",
    "\n",
    "spark.sql(cleaning_per_recognition).write.mode(\"overwrite\").saveAsTable(\"silver.finance.cleaning_per_recognition\")"
   ]
  },
  {
   "cell_type": "markdown",
   "metadata": {
    "application/vnd.databricks.v1+cell": {
     "cellMetadata": {
      "byteLimit": 2048000,
      "rowLimit": 10000
     },
     "inputWidgets": {},
     "nuid": "ffcd68b8-89c3-46ed-b871-0d6b6553ff62",
     "showTitle": false,
     "tableResultSettingsMap": {},
     "title": ""
    }
   },
   "source": [
    "###1.5.2. Deltas 7 Days Ago\n",
    "###### (Cleaning Revenue)"
   ]
  },
  {
   "cell_type": "code",
   "execution_count": 0,
   "metadata": {
    "application/vnd.databricks.v1+cell": {
     "cellMetadata": {
      "byteLimit": 2048000,
      "rowLimit": 10000
     },
     "inputWidgets": {},
     "nuid": "829c3310-f1a9-4fa8-a898-896647e66314",
     "showTitle": false,
     "tableResultSettingsMap": {},
     "title": ""
    }
   },
   "outputs": [],
   "source": [
    "cleaning_per_recognition_7_days_deltas = \"\"\"\n",
    "WITH NON_PRORRATED AS (\n",
    "        SELECT \n",
    "            COALESCE(SUM(final_cleaning),0) final_cleaning, trunc(contracts.start_date, 'month') month, city, contracts.inserted_at as sell_date, \n",
    "            contracts.booking_id, apartments.codename, COALESCE(revenue.contract_id, NULL) contract_id\n",
    "        \n",
    "        FROM silver.revenue.revenue TIMESTAMP AS OF CAST(CURRENT_DATE() - INTERVAL 7 DAYS AS TIMESTAMP) revenue\n",
    "            LEFT JOIN silver.backoffice.apartments TIMESTAMP AS OF CAST(CURRENT_DATE() - INTERVAL 7 DAYS AS TIMESTAMP) apartments ON revenue.apartment_id = apartments.id\n",
    "            LEFT JOIN silver.backoffice.contracts TIMESTAMP AS OF CAST(CURRENT_DATE() - INTERVAL 7 DAYS AS TIMESTAMP) contracts ON revenue.contract_id = contracts.id\n",
    "            LEFT JOIN silver.backoffice.bookings TIMESTAMP AS OF CAST(CURRENT_DATE() - INTERVAL 7 DAYS AS TIMESTAMP) bookings ON contracts.booking_id = bookings.id\n",
    "            \n",
    "        WHERE city IN ('Barcelona', 'Madrid', 'Berlin')\n",
    "            AND bookings.source NOT IN('Apartool', 'Silverdoor', 'Nomad', 'RelocatEU', 'Dwellworks', 'Altovita', 'Airbnb', 'HomeLike', 'VRBO')\n",
    "            AND bookings.state NOT IN ('canceled', 'denied')\n",
    "        \n",
    "        GROUP BY trunc(contracts.start_date, 'month'), city, contracts.inserted_at, contracts.booking_id, apartments.codename, COALESCE(revenue.contract_id, NULL) \n",
    "    )\n",
    "\n",
    "    ,PRORRATED_5 AS (\n",
    "        SELECT \n",
    "            COALESCE(SUM(final_cleaning),0) final_cleaning, city, contracts.start_date, \n",
    "            contracts.end_date, revenue.contract_id, contracts.inserted_at sell_date, \n",
    "            contracts.booking_id, apartments.codename\n",
    "        \n",
    "        FROM silver.revenue.revenue TIMESTAMP AS OF CAST(CURRENT_DATE() - INTERVAL 7 DAYS AS TIMESTAMP) revenue\n",
    "            LEFT JOIN silver.backoffice.apartments TIMESTAMP AS OF CAST(CURRENT_DATE() - INTERVAL 7 DAYS AS TIMESTAMP) apartments ON revenue.apartment_id = apartments.id\n",
    "            LEFT JOIN silver.backoffice.contracts TIMESTAMP AS OF CAST(CURRENT_DATE() - INTERVAL 7 DAYS AS TIMESTAMP) contracts ON revenue.contract_id = contracts.id\n",
    "            LEFT JOIN silver.backoffice.bookings TIMESTAMP AS OF CAST(CURRENT_DATE() - INTERVAL 7 DAYS AS TIMESTAMP) bookings ON contracts.booking_id = bookings.id\n",
    "            \n",
    "        WHERE (city NOT IN ('Barcelona', 'Madrid', 'Berlin') OR bookings.source IN ('Apartool', 'Silverdoor', 'Nomad', 'RelocatEU', 'Dwellworks', 'Altovita', 'Airbnb', 'HomeLike', 'VRBO'))\n",
    "        \n",
    "        GROUP BY city, contracts.start_date, contracts.end_date, revenue.contract_id, contracts.inserted_at, contracts.booking_id, apartments.codename\n",
    "    )\n",
    "\n",
    "    ,PRORRATED_4 AS (\n",
    "        SELECT \n",
    "            explode(\n",
    "                sequence(\n",
    "                    trunc(start_date, 'month'),\n",
    "                    trunc(end_date, 'month'),\n",
    "                    INTERVAL 1 MONTH\n",
    "                )\n",
    "            ) month, city, final_cleaning::DECIMAL / (end_date::DATE - start_date::DATE)::INTEGER AS final_cleaning, start_date check_in, end_date check_out, contract_id,\n",
    "            sell_date, booking_id, codename\n",
    "            \n",
    "        FROM PRORRATED_5\n",
    "    )\n",
    "\n",
    "    ,PRORRATED_3 AS (\n",
    "        SELECT\n",
    "            *, \n",
    "            CASE\n",
    "                WHEN (month) = trunc(check_out::date, 'month')::date and trunc(check_in::date, 'month') <> trunc(check_out::date, 'month') THEN EXTRACT(DAY FROM check_out::date -  trunc((month)::DATE, 'MONTH')) ::INTEGER\n",
    "                WHEN (month) = trunc(check_in::date, 'month')::date and trunc(check_in::date, 'month') <> trunc(check_out::date, 'month') THEN EXTRACT(DAY FROM trunc((month + INTERVAL '1 month')::DATE, 'MONTH') - check_in)::INTEGER\n",
    "                WHEN trunc(check_out::date, 'month') = trunc(check_in::date, 'month') THEN (check_out::DATE - check_in::DATE)::INTEGER\n",
    "                ELSE EXTRACT(DAY FROM trunc((month + INTERVAL '1 month')::DATE, 'MONTH') - month)::INTEGER\n",
    "            END as nights\n",
    "            \n",
    "        FROM PRORRATED_4\n",
    "    )\n",
    "\n",
    "    ,PRORRATED_2 as (\n",
    "        SELECT \n",
    "            city, final_cleaning::DECIMAL * nights final_cleaning, month,sell_date, booking_id, codename, contract_id\n",
    "        \n",
    "        FROM PRORRATED_3\n",
    "    )\n",
    "\n",
    "    ,PRORRATED AS (\n",
    "        SELECT SUM(final_cleaning) final_cleaning, city, month,sell_date, booking_id, codename, contract_id FROM PRORRATED_2 GROUP BY city, month, contract_id, sell_date, booking_id, codename\n",
    "    )\n",
    "\n",
    "    ,JOINED AS (\n",
    "        SELECT city, final_cleaning, month,sell_date, booking_id, codename, contract_id FROM PRORRATED\n",
    "        UNION ALL \n",
    "        SELECT city, final_cleaning, month,sell_date, booking_id, codename, contract_id FROM NON_PRORRATED\n",
    "    )\n",
    "\n",
    "    ,New AS (\n",
    "        SELECT \n",
    "            CASE WHEN city IN ('Barcelona', 'Madrid') THEN SUM(final_cleaning)/1.1 \n",
    "                WHEN city IN ('Berlin') THEN SUM(final_cleaning)/1.07 \n",
    "                ELSE SUM(final_cleaning) END AS final_cleaning, city, month,sell_date, booking_id, codename, contract_id\n",
    "        FROM JOINED \n",
    "        --WHERE month >= trunc(current_date, 'month') - INTERVAL 12 MONTH AND month <= trunc(current_date, 'month') + INTERVAL 4 MONTH\n",
    "        GROUP BY city, month,sell_date, booking_id, codename, contract_id \n",
    "        ORDER BY month ASC, CASE WHEN city = 'Barcelona' THEN 1\n",
    "                                WHEN city = 'Madrid' THEN 2\n",
    "                                WHEN city = 'Lisbon' THEN 3\n",
    "                                WHEN city = 'Paris' THEN 4\n",
    "                                WHEN city = 'Berlin' THEN 5\n",
    "                            END ASC\n",
    "    )\n",
    "\n",
    "    SELECT city, month, sell_date, booking_id, codename, contract_id, final_cleaning FROM New\n",
    "\"\"\"\n",
    "\n",
    "spark.sql(cleaning_per_recognition_7_days_deltas).write.mode(\"overwrite\").saveAsTable(\"silver.finance.cleaning_per_recognition_7_days_deltas\")"
   ]
  },
  {
   "cell_type": "markdown",
   "metadata": {
    "application/vnd.databricks.v1+cell": {
     "cellMetadata": {
      "byteLimit": 2048000,
      "rowLimit": 10000
     },
     "inputWidgets": {},
     "nuid": "4bebef09-ef08-4dda-b359-06c214f49241",
     "showTitle": false,
     "tableResultSettingsMap": {},
     "title": ""
    }
   },
   "source": [
    "###1.5.3. Deltas Since Begining of Month\n",
    "###### (Cleaning Revenue)"
   ]
  },
  {
   "cell_type": "code",
   "execution_count": 0,
   "metadata": {
    "application/vnd.databricks.v1+cell": {
     "cellMetadata": {
      "byteLimit": 2048000,
      "rowLimit": 10000
     },
     "inputWidgets": {},
     "nuid": "46ca7313-b6d1-4cbb-999d-15ec1ccd5575",
     "showTitle": false,
     "tableResultSettingsMap": {},
     "title": ""
    }
   },
   "outputs": [],
   "source": [
    "cleaning_per_recognition_begining_month_deltas = \"\"\"\n",
    "WITH NON_PRORRATED AS (\n",
    "        SELECT \n",
    "            COALESCE(SUM(final_cleaning),0) final_cleaning, trunc(contracts.start_date, 'month') month, city, contracts.inserted_at as sell_date, \n",
    "            contracts.booking_id, apartments.codename, COALESCE(revenue.contract_id, NULL) contract_id\n",
    "        \n",
    "        FROM silver.revenue.revenue TIMESTAMP AS OF CAST(trunc(CURRENT_DATE(),'month') AS TIMESTAMP) revenue\n",
    "            LEFT JOIN silver.backoffice.apartments TIMESTAMP AS OF CAST(trunc(CURRENT_DATE(),'month') AS TIMESTAMP) apartments ON revenue.apartment_id = apartments.id\n",
    "            LEFT JOIN silver.backoffice.contracts TIMESTAMP AS OF CAST(trunc(CURRENT_DATE(),'month') AS TIMESTAMP) contracts ON revenue.contract_id = contracts.id\n",
    "            LEFT JOIN silver.backoffice.bookings TIMESTAMP AS OF CAST(trunc(CURRENT_DATE(),'month') AS TIMESTAMP) bookings ON contracts.booking_id = bookings.id\n",
    "            \n",
    "        WHERE city IN ('Barcelona', 'Madrid', 'Berlin')\n",
    "            AND bookings.source NOT IN('Apartool', 'Silverdoor', 'Nomad', 'RelocatEU', 'Dwellworks', 'Altovita', 'Airbnb', 'HomeLike', 'VRBO')\n",
    "            AND bookings.state NOT IN ('canceled', 'denied')\n",
    "        \n",
    "        GROUP BY trunc(contracts.start_date, 'month'), city, contracts.inserted_at, contracts.booking_id, apartments.codename, COALESCE(revenue.contract_id, NULL) \n",
    "    )\n",
    "\n",
    "    ,PRORRATED_5 AS (\n",
    "        SELECT \n",
    "            COALESCE(SUM(final_cleaning),0) final_cleaning, city, contracts.start_date, \n",
    "            contracts.end_date, revenue.contract_id, contracts.inserted_at sell_date, \n",
    "            contracts.booking_id, apartments.codename\n",
    "        \n",
    "        FROM silver.revenue.revenue TIMESTAMP AS OF CAST(trunc(CURRENT_DATE(),'month') AS TIMESTAMP) revenue\n",
    "            LEFT JOIN silver.backoffice.apartments TIMESTAMP AS OF CAST(trunc(CURRENT_DATE(),'month') AS TIMESTAMP) apartments ON revenue.apartment_id = apartments.id\n",
    "            LEFT JOIN silver.backoffice.contracts TIMESTAMP AS OF CAST(trunc(CURRENT_DATE(),'month') AS TIMESTAMP) contracts ON revenue.contract_id = contracts.id\n",
    "            LEFT JOIN silver.backoffice.bookings TIMESTAMP AS OF CAST(trunc(CURRENT_DATE(),'month') AS TIMESTAMP) bookings ON contracts.booking_id = bookings.id\n",
    "            \n",
    "        WHERE (city NOT IN ('Barcelona', 'Madrid', 'Berlin') OR bookings.source IN ('Apartool', 'Silverdoor', 'Nomad', 'RelocatEU', 'Dwellworks', 'Altovita', 'Airbnb', 'HomeLike', 'VRBO'))\n",
    "        \n",
    "        GROUP BY city, contracts.start_date, contracts.end_date, revenue.contract_id, contracts.inserted_at, contracts.booking_id, apartments.codename\n",
    "    )\n",
    "\n",
    "    ,PRORRATED_4 AS (\n",
    "        SELECT \n",
    "            explode(\n",
    "                sequence(\n",
    "                    trunc(start_date, 'month'),\n",
    "                    trunc(end_date, 'month'),\n",
    "                    INTERVAL 1 MONTH\n",
    "                )\n",
    "            ) month, city, final_cleaning::DECIMAL / (end_date::DATE - start_date::DATE)::INTEGER AS final_cleaning, start_date check_in, end_date check_out, contract_id,\n",
    "            sell_date, booking_id, codename\n",
    "            \n",
    "        FROM PRORRATED_5\n",
    "    )\n",
    "\n",
    "    ,PRORRATED_3 AS (\n",
    "        SELECT\n",
    "            *, \n",
    "            CASE\n",
    "                WHEN (month) = trunc(check_out::date, 'month')::date and trunc(check_in::date, 'month') <> trunc(check_out::date, 'month') THEN EXTRACT(DAY FROM check_out::date -  trunc((month)::DATE, 'MONTH')) ::INTEGER\n",
    "                WHEN (month) = trunc(check_in::date, 'month')::date and trunc(check_in::date, 'month') <> trunc(check_out::date, 'month') THEN EXTRACT(DAY FROM trunc((month + INTERVAL '1 month')::DATE, 'MONTH') - check_in)::INTEGER\n",
    "                WHEN trunc(check_out::date, 'month') = trunc(check_in::date, 'month') THEN (check_out::DATE - check_in::DATE)::INTEGER\n",
    "                ELSE EXTRACT(DAY FROM trunc((month + INTERVAL '1 month')::DATE, 'MONTH') - month)::INTEGER\n",
    "            END as nights\n",
    "            \n",
    "        FROM PRORRATED_4\n",
    "    )\n",
    "\n",
    "    ,PRORRATED_2 as (\n",
    "        SELECT \n",
    "            city, final_cleaning::DECIMAL * nights final_cleaning, month,sell_date, booking_id, codename, contract_id\n",
    "        \n",
    "        FROM PRORRATED_3\n",
    "    )\n",
    "\n",
    "    ,PRORRATED AS (\n",
    "        SELECT SUM(final_cleaning) final_cleaning, city, month,sell_date, booking_id, codename, contract_id FROM PRORRATED_2 GROUP BY city, month, contract_id, sell_date, booking_id, codename\n",
    "    )\n",
    "\n",
    "    ,JOINED AS (\n",
    "        SELECT city, final_cleaning, month,sell_date, booking_id, codename, contract_id FROM PRORRATED\n",
    "        UNION ALL \n",
    "        SELECT city, final_cleaning, month,sell_date, booking_id, codename, contract_id FROM NON_PRORRATED\n",
    "    )\n",
    "\n",
    "    ,New AS (\n",
    "        SELECT \n",
    "            CASE WHEN city IN ('Barcelona', 'Madrid') THEN SUM(final_cleaning)/1.1 \n",
    "                WHEN city IN ('Berlin') THEN SUM(final_cleaning)/1.07 \n",
    "                ELSE SUM(final_cleaning) END AS final_cleaning, city, month,sell_date, booking_id, codename, contract_id\n",
    "        FROM JOINED \n",
    "        --WHERE month >= trunc(current_date, 'month') - INTERVAL 12 MONTH AND month <= trunc(current_date, 'month') + INTERVAL 4 MONTH\n",
    "        GROUP BY city, month,sell_date, booking_id, codename, contract_id \n",
    "        ORDER BY month ASC, CASE WHEN city = 'Barcelona' THEN 1\n",
    "                                WHEN city = 'Madrid' THEN 2\n",
    "                                WHEN city = 'Lisbon' THEN 3\n",
    "                                WHEN city = 'Paris' THEN 4\n",
    "                                WHEN city = 'Berlin' THEN 5\n",
    "                            END ASC\n",
    "    )\n",
    "\n",
    "    SELECT city, month, sell_date, booking_id, codename, contract_id, final_cleaning FROM New\n",
    "\"\"\"\n",
    "\n",
    "spark.sql(cleaning_per_recognition_begining_month_deltas).write.mode(\"overwrite\").saveAsTable(\"silver.finance.cleaning_per_recognition_begining_month_deltas\")"
   ]
  },
  {
   "cell_type": "markdown",
   "metadata": {
    "application/vnd.databricks.v1+cell": {
     "cellMetadata": {
      "byteLimit": 2048000,
      "rowLimit": 10000
     },
     "inputWidgets": {},
     "nuid": "2baa461e-da5c-49e0-878e-b5a0b16a5b9d",
     "showTitle": false,
     "tableResultSettingsMap": {},
     "title": ""
    }
   },
   "source": [
    "##1.6. Joined Revenue\n",
    "###### (Actuals / 7 Days Ago / Since Beginning of Month)"
   ]
  },
  {
   "cell_type": "code",
   "execution_count": 0,
   "metadata": {
    "application/vnd.databricks.v1+cell": {
     "cellMetadata": {
      "byteLimit": 2048000,
      "rowLimit": 10000
     },
     "inputWidgets": {},
     "nuid": "56ff4cc8-b23b-4cff-83e2-ed3d10cb0a27",
     "showTitle": false,
     "tableResultSettingsMap": {},
     "title": ""
    }
   },
   "outputs": [],
   "source": [
    "############################################################################################################\n",
    "gross_revenue = \"\"\"  \n",
    "    WITH X AS (\n",
    "      SELECT sell_date, city, codename, penalty revenue, month, booking_id, 'Revenue - Other Income (€)' management_accounts, contract_id FROM silver.finance.penalty_per_recognition\n",
    "      UNION ALL\n",
    "      SELECT sell_date, city, codename, Utilities revenue, month, booking_id, 'Revenue - Utilities (€)' management_accounts, contract_id FROM silver.finance.utilities_per_recognition\n",
    "      UNION ALL\n",
    "      SELECT sell_date, city, codename, service_charge revenue, month, booking_id, 'Revenue - Service Charge (€)' management_accounts, contract_id FROM silver.finance.sc_per_recognition\n",
    "      UNION ALL\n",
    "      SELECT sell_date, city, codename, rent revenue, month, booking_id, 'Revenue - Rental (€)' management_accounts, contract_id FROM silver.finance.rent_per_recognition\n",
    "      UNION ALL\n",
    "      SELECT sell_date, city, codename, final_cleaning revenue, month, booking_id, 'Revenue - Cleaning Services (€)' management_accounts, contract_id FROM silver.finance.cleaning_per_recognition\n",
    "  )\n",
    "\n",
    "  ,Sales AS (\n",
    "      SELECT * FROM silver.finance.new_sales_and_source\n",
    "  )\n",
    "\n",
    "  , A AS (\n",
    "      SELECT X.*, Sales.type FROM X LEFT JOIN Sales ON X.contract_id = Sales.contract_id\n",
    "  )\n",
    "\n",
    "  SELECT * FROM A\n",
    "\"\"\"\n",
    "spark.sql(gross_revenue).write.mode(\"overwrite\").saveAsTable(\"silver.finance.gross_revenue\")\n",
    "\n",
    "############################################################################################################\n",
    "actuals_fcst_gross_revenue = \"\"\"  \n",
    "    WITH fcst AS (\n",
    "    SELECT SUM(revenue) amount, management_accounts, month, city\n",
    "    FROM silver.finance.gross_revenue\n",
    "    GROUP BY management_accounts, month, city\n",
    "    )\n",
    "\n",
    "    ,Actuals AS (\n",
    "    SELECT SUM(amount) amount, `Management Accounts` management_accounts, city, to_date(month, 'd/M/yyyy') as month\n",
    "    FROM silver.finance.gm_by_apt_oct_24\n",
    "    WHERE `Line Type` = 'Revenue'\n",
    "    GROUP BY `Management Accounts`, city, month\n",
    "    )\n",
    "\n",
    "    ,Series AS (\n",
    "    SELECT DISTINCT management_accounts, city, explode(sequence(DATE('2023-01-01'), trunc(current_date, 'month') + INTERVAL 24 MONTH, INTERVAL 1 MONTH)) month,NULL amount\n",
    "    FROM Actuals\n",
    "    )\n",
    "\n",
    "    SELECT COALESCE(SUM(actuals.amount), SUM(fcst.amount)) amount, Series.month, Series.management_accounts, Series.city\n",
    "    FROM Series \n",
    "    LEFT JOIN fcst ON fcst.month = Series.month AND fcst.management_accounts = Series.management_accounts AND fcst.city = Series.city\n",
    "    LEFT JOIN actuals ON Series.month = actuals.month AND Series.management_accounts = actuals.management_accounts AND Series.city = actuals.city\n",
    "    GROUP BY Series.month, Series.management_accounts, Series.city\n",
    "    ORDER BY Series.month DESC, Series.management_accounts desc, Series.city DESC\n",
    "\"\"\"\n",
    "spark.sql(actuals_fcst_gross_revenue).write.mode(\"overwrite\").saveAsTable(\"silver.finance.actuals_fcst_gross_revenue\")\n",
    "\n",
    "############################################################################################################\n",
    "gross_revenue_7_days_deltas = \"\"\"  \n",
    "    WITH X AS (\n",
    "      SELECT sell_date, city, codename, penalty revenue, month, booking_id, 'Revenue - Other Income (€)' management_accounts, contract_id FROM silver.finance.penalty_per_recognition_7_days_deltas\n",
    "      UNION ALL\n",
    "      SELECT sell_date, city, codename, Utilities revenue, month, booking_id, 'Revenue - Utilities (€)' management_accounts, contract_id FROM silver.finance.utilities_per_recognition_7_days_deltas\n",
    "      UNION ALL\n",
    "      SELECT sell_date, city, codename, service_charge revenue, month, booking_id, 'Revenue - Service Charge (€)' management_accounts, contract_id FROM silver.finance.sc_per_recognition_7_days_deltas\n",
    "      UNION ALL\n",
    "      SELECT sell_date, city, codename, rent revenue, month, booking_id, 'Revenue - Rental (€)' management_accounts, contract_id FROM silver.finance.rent_per_recognition_7_days_deltas\n",
    "      UNION ALL\n",
    "      SELECT sell_date, city, codename, final_cleaning revenue, month, booking_id, 'Revenue - Cleaning Services (€)' management_accounts, contract_id FROM silver.finance.cleaning_per_recognition_7_days_deltas\n",
    "  )\n",
    "\n",
    "  ,Sales AS (\n",
    "      SELECT * FROM silver.finance.new_sales_and_source_7_days_deltas\n",
    "  )\n",
    "\n",
    "  , A AS (\n",
    "      SELECT X.*, Sales.type FROM X LEFT JOIN Sales ON X.contract_id = Sales.contract_id\n",
    "  )\n",
    "\n",
    "  SELECT * FROM A\n",
    "\"\"\"\n",
    "spark.sql(gross_revenue_7_days_deltas).write.mode(\"overwrite\").saveAsTable(\"silver.finance.gross_revenue_7_days_deltas\")\n",
    "\n",
    "############################################################################################################\n",
    "gross_revenue_begining_month_deltas = \"\"\"  \n",
    "    WITH X AS (\n",
    "      SELECT sell_date, city, codename, penalty revenue, month, booking_id, 'Revenue - Other Income (€)' management_accounts, contract_id FROM silver.finance.penalty_per_recognition_begining_month_deltas\n",
    "      UNION ALL\n",
    "      SELECT sell_date, city, codename, Utilities revenue, month, booking_id, 'Revenue - Utilities (€)' management_accounts, contract_id FROM silver.finance.utilities_per_recognition_begining_month_deltas\n",
    "      UNION ALL\n",
    "      SELECT sell_date, city, codename, service_charge revenue, month, booking_id, 'Revenue - Service Charge (€)' management_accounts, contract_id FROM silver.finance.sc_per_recognition_begining_month_deltas\n",
    "      UNION ALL\n",
    "      SELECT sell_date, city, codename, rent revenue, month, booking_id, 'Revenue - Rental (€)' management_accounts, contract_id FROM silver.finance.rent_per_recognition_begining_month_deltas\n",
    "      UNION ALL\n",
    "      SELECT sell_date, city, codename, final_cleaning revenue, month, booking_id, 'Revenue - Cleaning Services (€)' management_accounts, contract_id FROM silver.finance.cleaning_per_recognition_begining_month_deltas\n",
    "  )\n",
    "\n",
    "  ,Sales AS (\n",
    "      SELECT * FROM silver.finance.new_sales_and_source_begining_month_deltas\n",
    "  )\n",
    "\n",
    "  , A AS (\n",
    "      SELECT X.*, Sales.type FROM X LEFT JOIN Sales ON X.contract_id = Sales.contract_id\n",
    "  )\n",
    "\n",
    "  SELECT * FROM A\n",
    "\"\"\"\n",
    "spark.sql(gross_revenue_begining_month_deltas).write.mode(\"overwrite\").saveAsTable(\"silver.finance.gross_revenue_begining_month_deltas\")\n"
   ]
  },
  {
   "cell_type": "markdown",
   "metadata": {
    "application/vnd.databricks.v1+cell": {
     "cellMetadata": {
      "byteLimit": 2048000,
      "rowLimit": 10000
     },
     "inputWidgets": {},
     "nuid": "9e7ae6ee-009a-469c-9e82-4e4becf75b04",
     "showTitle": false,
     "tableResultSettingsMap": {},
     "title": ""
    }
   },
   "source": [
    "#"
   ]
  },
  {
   "cell_type": "markdown",
   "metadata": {
    "application/vnd.databricks.v1+cell": {
     "cellMetadata": {
      "byteLimit": 2048000,
      "rowLimit": 10000
     },
     "inputWidgets": {},
     "nuid": "e5b23ee0-54e9-428b-a4fe-a04af09fe7b0",
     "showTitle": false,
     "tableResultSettingsMap": {},
     "title": ""
    }
   },
   "source": [
    "# 2. Revenue per Sell Date"
   ]
  },
  {
   "cell_type": "markdown",
   "metadata": {
    "application/vnd.databricks.v1+cell": {
     "cellMetadata": {
      "byteLimit": 2048000,
      "rowLimit": 10000
     },
     "inputWidgets": {},
     "nuid": "756df819-bc95-4af5-b563-4ee40a3dae58",
     "showTitle": false,
     "tableResultSettingsMap": {},
     "title": ""
    }
   },
   "source": [
    "###2.1. Actuals\n",
    "###### (Revenue per Sell Date)"
   ]
  },
  {
   "cell_type": "code",
   "execution_count": 0,
   "metadata": {
    "application/vnd.databricks.v1+cell": {
     "cellMetadata": {
      "byteLimit": 2048000,
      "rowLimit": 10000
     },
     "inputWidgets": {},
     "nuid": "154ba6d9-df06-49cc-920e-8a36af207fc0",
     "showTitle": false,
     "tableResultSettingsMap": {},
     "title": ""
    }
   },
   "outputs": [],
   "source": [
    "revenue_per_sell_date = \"\"\"\n",
    "WITH X AS (\n",
    "        SELECT sell_date, city, codename, penalty revenue, month, booking_id, 'Penalty' tipo, contract_id FROM silver.finance.penalty_per_recognition\n",
    "        UNION ALL\n",
    "        SELECT sell_date, city, codename, Utilities revenue, month, booking_id, 'Utilities' tipo, contract_id FROM silver.finance.utilities_per_recognition\n",
    "        UNION ALL\n",
    "        SELECT sell_date, city, codename, service_charge revenue, month, booking_id, 'Service Charge' tipo, contract_id FROM silver.finance.sc_per_recognition\n",
    "        UNION ALL\n",
    "        SELECT sell_date, city, codename, rent revenue, month, booking_id, 'Rent' tipo, contract_id FROM silver.finance.rent_per_recognition\n",
    "        UNION ALL\n",
    "        SELECT sell_date, city, codename, final_cleaning revenue, month, booking_id, 'Final Cleaning' tipo, contract_id FROM silver.finance.cleaning_per_recognition\n",
    "    )\n",
    "\n",
    "    SELECT SUM(revenue) revenue, tipo, trunc(sell_date, 'month') month FROM X GROUP BY tipo, trunc(sell_date, 'month')\n",
    "\"\"\"\n",
    "\n",
    "spark.sql(revenue_per_sell_date).write.mode(\"overwrite\").saveAsTable(\"silver.finance.revenue_per_sell_date\")"
   ]
  },
  {
   "cell_type": "markdown",
   "metadata": {
    "application/vnd.databricks.v1+cell": {
     "cellMetadata": {
      "byteLimit": 2048000,
      "rowLimit": 10000
     },
     "inputWidgets": {},
     "nuid": "52ce980c-6c5c-484c-b844-cf56619fd7e3",
     "showTitle": false,
     "tableResultSettingsMap": {},
     "title": ""
    }
   },
   "source": [
    "###2.2. Deltas 7 Days Ago\n",
    "###### (Revenue per Sell Date)"
   ]
  },
  {
   "cell_type": "code",
   "execution_count": 0,
   "metadata": {
    "application/vnd.databricks.v1+cell": {
     "cellMetadata": {
      "byteLimit": 2048000,
      "rowLimit": 10000
     },
     "inputWidgets": {},
     "nuid": "fad9d654-f770-4766-bf2f-a7e564f22147",
     "showTitle": false,
     "tableResultSettingsMap": {},
     "title": ""
    }
   },
   "outputs": [],
   "source": [
    "revenue_per_sell_date_7_days_deltas = \"\"\"\n",
    "WITH X AS (\n",
    "        SELECT sell_date, city, codename, penalty revenue, month, booking_id, 'Penalty' tipo, contract_id FROM silver.finance.penalty_per_recognition_7_days_deltas\n",
    "        UNION ALL\n",
    "        SELECT sell_date, city, codename, Utilities revenue, month, booking_id, 'Utilities' tipo, contract_id FROM silver.finance.utilities_per_recognition_7_days_deltas\n",
    "        UNION ALL\n",
    "        SELECT sell_date, city, codename, service_charge revenue, month, booking_id, 'Service Charge' tipo, contract_id FROM silver.finance.sc_per_recognition_7_days_deltas\n",
    "        UNION ALL\n",
    "        SELECT sell_date, city, codename, rent revenue, month, booking_id, 'Rent' tipo, contract_id FROM silver.finance.rent_per_recognition_7_days_deltas\n",
    "        UNION ALL\n",
    "        SELECT sell_date, city, codename, final_cleaning revenue, month, booking_id, 'Final Cleaning' tipo, contract_id FROM silver.finance.cleaning_per_recognition_7_days_deltas\n",
    "    )\n",
    "\n",
    "    SELECT SUM(revenue) revenue, tipo, trunc(sell_date, 'month') month FROM X GROUP BY tipo, trunc(sell_date, 'month')\n",
    "\"\"\"\n",
    "\n",
    "spark.sql(revenue_per_sell_date_7_days_deltas).write.mode(\"overwrite\").saveAsTable(\"silver.finance.revenue_per_sell_date_7_days_deltas\")"
   ]
  },
  {
   "cell_type": "markdown",
   "metadata": {
    "application/vnd.databricks.v1+cell": {
     "cellMetadata": {
      "byteLimit": 2048000,
      "rowLimit": 10000
     },
     "inputWidgets": {},
     "nuid": "a13cd1b3-beb6-4182-b431-cd7fb949be5a",
     "showTitle": false,
     "tableResultSettingsMap": {},
     "title": ""
    }
   },
   "source": [
    "###2.3. Deltas Since Begining of Month\n",
    "###### (Revenue per Sell Date)"
   ]
  },
  {
   "cell_type": "code",
   "execution_count": 0,
   "metadata": {
    "application/vnd.databricks.v1+cell": {
     "cellMetadata": {
      "byteLimit": 2048000,
      "rowLimit": 10000
     },
     "inputWidgets": {},
     "nuid": "09649ff3-3ca4-40e1-bbac-215544aaa63b",
     "showTitle": false,
     "tableResultSettingsMap": {},
     "title": ""
    }
   },
   "outputs": [],
   "source": [
    "revenue_per_sell_date_begining_month_deltas = \"\"\"\n",
    "WITH X AS (\n",
    "        SELECT sell_date, city, codename, penalty revenue, month, booking_id, 'Penalty' tipo, contract_id FROM silver.finance.penalty_per_recognition_begining_month_deltas\n",
    "        UNION ALL\n",
    "        SELECT sell_date, city, codename, Utilities revenue, month, booking_id, 'Utilities' tipo, contract_id FROM silver.finance.utilities_per_recognition_begining_month_deltas\n",
    "        UNION ALL\n",
    "        SELECT sell_date, city, codename, service_charge revenue, month, booking_id, 'Service Charge' tipo, contract_id FROM silver.finance.sc_per_recognition_begining_month_deltas\n",
    "        UNION ALL\n",
    "        SELECT sell_date, city, codename, rent revenue, month, booking_id, 'Rent' tipo, contract_id FROM silver.finance.rent_per_recognition_begining_month_deltas\n",
    "        UNION ALL\n",
    "        SELECT sell_date, city, codename, final_cleaning revenue, month, booking_id, 'Final Cleaning' tipo, contract_id FROM silver.finance.cleaning_per_recognition_begining_month_deltas\n",
    "    )\n",
    "\n",
    "    SELECT SUM(revenue) revenue, tipo, trunc(sell_date, 'month') month FROM X GROUP BY tipo, trunc(sell_date, 'month')\n",
    "\"\"\"\n",
    "\n",
    "spark.sql(revenue_per_sell_date_begining_month_deltas).write.mode(\"overwrite\").saveAsTable(\"silver.finance.revenue_per_sell_date_begining_month_deltas\")"
   ]
  },
  {
   "cell_type": "markdown",
   "metadata": {
    "application/vnd.databricks.v1+cell": {
     "cellMetadata": {
      "byteLimit": 2048000,
      "rowLimit": 10000
     },
     "inputWidgets": {},
     "nuid": "ef192ec2-960d-474a-bb39-fcb2383c0953",
     "showTitle": false,
     "tableResultSettingsMap": {},
     "title": ""
    }
   },
   "source": [
    "#"
   ]
  },
  {
   "cell_type": "markdown",
   "metadata": {
    "application/vnd.databricks.v1+cell": {
     "cellMetadata": {
      "byteLimit": 2048000,
      "rowLimit": 10000
     },
     "inputWidgets": {},
     "nuid": "a28d9c61-188a-4eb9-83c0-88a536c2d6a4",
     "showTitle": false,
     "tableResultSettingsMap": {},
     "title": ""
    }
   },
   "source": [
    "# 3. COGS"
   ]
  },
  {
   "cell_type": "markdown",
   "metadata": {
    "application/vnd.databricks.v1+cell": {
     "cellMetadata": {
      "byteLimit": 2048000,
      "rowLimit": 10000
     },
     "inputWidgets": {},
     "nuid": "249be2e5-f62a-45b5-8a92-e5bb0292d881",
     "showTitle": false,
     "tableResultSettingsMap": {},
     "title": ""
    }
   },
   "source": [
    "##3.1. COGS Forecast (Utilities & Cleaning)"
   ]
  },
  {
   "cell_type": "markdown",
   "metadata": {
    "application/vnd.databricks.v1+cell": {
     "cellMetadata": {
      "byteLimit": 2048000,
      "rowLimit": 10000
     },
     "inputWidgets": {},
     "nuid": "f759922a-aeaa-4ad2-bc84-c2d801d9658a",
     "showTitle": false,
     "tableResultSettingsMap": {},
     "title": ""
    }
   },
   "source": [
    "### 3.1.1.Forecast Slopes"
   ]
  },
  {
   "cell_type": "code",
   "execution_count": 0,
   "metadata": {
    "application/vnd.databricks.v1+cell": {
     "cellMetadata": {
      "byteLimit": 2048000,
      "rowLimit": 10000
     },
     "inputWidgets": {},
     "nuid": "0ccde333-9641-4861-b3be-eabf9e28739d",
     "showTitle": false,
     "tableResultSettingsMap": {},
     "title": ""
    }
   },
   "outputs": [
    {
     "output_type": "stream",
     "name": "stderr",
     "output_type": "stream",
     "text": [
      "/home/spark-3cb9dbb9-004a-4d7a-9877-7b/.ipykernel/8742/command-7275607494463741-1552780637:138: FutureWarning: The frame.append method is deprecated and will be removed from pandas in a future version. Use pandas.concat instead.\n  coefficients_fc = coefficients_fc.append({'Feature': 'Intercept', 'Coefficient': model.intercept_}, ignore_index=True)\n/home/spark-3cb9dbb9-004a-4d7a-9877-7b/.ipykernel/8742/command-7275607494463741-1552780637:165: FutureWarning: The frame.append method is deprecated and will be removed from pandas in a future version. Use pandas.concat instead.\n  coefficients_u = coefficients_u.append({'Feature': 'Intercept', 'Coefficient': model.intercept_}, ignore_index=True)\n"
     ]
    },
    {
     "output_type": "stream",
     "name": "stdout",
     "output_type": "stream",
     "text": [
      "+-------------------+-------------------+\n|            Feature|        Coefficient|\n+-------------------+-------------------+\n|             Booked| -3.991618313332915|\n|   Berlin_Utilities| -5223.486246489196|\n|   Lisbon_Utilities|  -32112.2996042457|\n|   Madrid_Utilities| -8619.158473407335|\n|    Paris_Utilities|-10994.280630988655|\n|Barcelona_Utilities| -5776.340504804001|\n|Intercept_Utilities|                0.0|\n|          Check_out| -128.4637318572615|\n|          Berlin_FC| -1114.018033386601|\n|          Lisbon_FC|-2013.6368496348325|\n|          Madrid_FC| -24219.21617255906|\n|           Paris_FC|-6787.1413052206135|\n|       Barcelona_FC| -36475.54426920587|\n|       Intercept_FC|                0.0|\n+-------------------+-------------------+\n\nroot\n |-- Feature: string (nullable = true)\n |-- Coefficient: double (nullable = true)\n\n"
     ]
    }
   ],
   "source": [
    "from pyspark.sql import SparkSession\n",
    "from sklearn.model_selection import train_test_split\n",
    "from sklearn.linear_model import LinearRegression\n",
    "from sklearn.metrics import mean_squared_error, r2_score\n",
    "from sklearn.preprocessing import OneHotEncoder\n",
    "\n",
    "############################################################################################################\n",
    "############################################################################################################\n",
    "#SCRIPT\n",
    "bookable = spark.table(\"silver.finance.bookable_and_booked\")\n",
    "bookable = bookable.toPandas()\n",
    "apts = spark.table(\"silver.backoffice.apartments\")\n",
    "apts = apts.toPandas()\n",
    "volume = spark.table(\"silver.finance.volume_database\")\n",
    "volume = volume.toPandas()\n",
    "gm_by_apt = spark.table(\"silver.finance.gm_by_apt_oct_24\")\n",
    "gm_by_apt = gm_by_apt.toPandas()\n",
    "\n",
    "volume = volume.rename(columns={'month_date': 'month'})\n",
    "\n",
    "volume['month'] = pd.to_datetime(volume['month'], format='%Y-%m-%d')\n",
    "bookable['month'] = pd.to_datetime(bookable['month'], format='%Y-%m-%d')\n",
    "############################################################################################################\n",
    "############################################################################################################\n",
    "\n",
    "gm_by_apt['Month'] = pd.to_datetime(gm_by_apt['Month'], format='%d/%m/%Y')\n",
    "\n",
    "############################################################################################################\n",
    "############################################################################################################\n",
    "\n",
    "cleaning_services = (\n",
    "    gm_by_apt[gm_by_apt['Management Accounts'] == 'COGS - Cleaning Services (€)']\n",
    "    .groupby(['City', 'Month'], as_index=False)\n",
    "    .agg(Cleaning=('Amount', 'sum'))\n",
    ")\n",
    "\n",
    "utilities_services = (\n",
    "    gm_by_apt[gm_by_apt['Management Accounts'] == 'COGS - Utilities (€)']\n",
    "    .groupby(['City', 'Month'], as_index=False)\n",
    "    .agg(Utilities=('Amount', 'sum'))\n",
    ")\n",
    "\n",
    "############################################################################################################\n",
    "############################################################################################################\n",
    "\n",
    "cogs = pd.merge(cleaning_services, utilities_services, on=['City', 'Month'], how='left')\n",
    "\n",
    "bookable = pd.merge(bookable, apts[['id', 'city', 'total_sqm','max_guests']], left_on='apartment_id', right_on='id',how='left')\n",
    "\n",
    "############################################################################################################\n",
    "############################################################################################################\n",
    "\n",
    "bookable = pd.merge(bookable, volume[['month', 'id', 'check_out']], on=['month', 'id'], how='left')\n",
    "\n",
    "booked = (\n",
    "    bookable.groupby(['city', 'month'], as_index=False)\n",
    "    .agg(Booked=('booked', 'sum'))\n",
    ")\n",
    "\n",
    "check_out = (\n",
    "    bookable.groupby(['city', 'month'], as_index=False)\n",
    "    .agg(Check_out=('check_out', 'sum'))\n",
    ")\n",
    "\n",
    "bookable_2 = pd.merge(booked, check_out, on=['city', 'month'], how='left')\n",
    "bookable_2['month'] = pd.to_datetime(bookable_2['month'], format='%Y-%m-%d')\n",
    "bookable_2 = bookable_2.rename(columns={'city': 'City', 'month': 'Month'})\n",
    "\n",
    "raw_forecast = pd.merge(bookable_2, cogs, on=['City', 'Month'], how='left')\n",
    "\n",
    "############################################################################################################\n",
    "############################################################################################################\n",
    "\n",
    "current_date = pd.Timestamp.now()\n",
    "\n",
    "start_date = (current_date - pd.DateOffset(months=12)).normalize()\n",
    "end_date = current_date.normalize() - pd.DateOffset(months=2)\n",
    "\n",
    "raw_forecast = raw_forecast[(raw_forecast['Month'] >= start_date) & (raw_forecast['Month'] < end_date)]\n",
    "\n",
    "raw_forecast = raw_forecast[(raw_forecast['Month'] != '09-01-2024')]\n",
    "\n",
    "future_forecast = bookable_2[(bookable_2['Month'] >= end_date)]\n",
    "\n",
    "############################################################################################################\n",
    "############################################################################################################\n",
    "\n",
    "raw_forecast.sort_values(by=['Month', 'City'], ascending=[True, True], inplace=True)\n",
    "raw_forecast.reset_index(drop=True, inplace=True)\n",
    "\n",
    "############################################################################################################\n",
    "############################################################################################################\n",
    "\n",
    "enc = OneHotEncoder(sparse_output=False)  # Asegura que devuelve un array denso\n",
    "encoded_columns = enc.fit_transform(raw_forecast[['City']])\n",
    "\n",
    "encoded_column_names = enc.get_feature_names_out(['City'])\n",
    "\n",
    "assert encoded_columns.shape[1] == len(encoded_column_names), \"Las dimensiones no coinciden.\"\n",
    "\n",
    "encoded_df = pd.DataFrame(encoded_columns, columns=encoded_column_names)\n",
    "\n",
    "encoded_df = pd.DataFrame(encoded_df)  # Convert list to DataFrame\n",
    "raw_forecast = pd.DataFrame(raw_forecast)  # Convert list to DataFrame\n",
    "\n",
    "raw_forecast = pd.merge(raw_forecast, encoded_df, left_index=True, right_index=True)\n",
    "\n",
    "raw_forecast.rename(columns={'City_Barcelona': 'Barcelona', 'City_Berlin': 'Berlin',\n",
    "                              'City_Lisbon': 'Lisbon', 'City_Madrid': 'Madrid', 'City_Paris': 'Paris'}, inplace=True)\n",
    "\n",
    "raw_forecast = raw_forecast.drop(['City'], axis=1)\n",
    "\n",
    "############################################################################################################\n",
    "############################################################################################################\n",
    "\n",
    "X = raw_forecast[['Check_out', 'Berlin', 'Lisbon', 'Madrid', 'Paris', 'Barcelona']]\n",
    "y = raw_forecast['Cleaning']\n",
    "\n",
    "X_train, X_test, y_train, y_test = train_test_split(X, y, test_size=0.2, random_state=42)\n",
    "\n",
    "model = LinearRegression(fit_intercept=False)\n",
    "model.fit(X_train, y_train)\n",
    "\n",
    "y_pred = model.predict(X_test)\n",
    "\n",
    "coefficients = model.coef_\n",
    "\n",
    "feature_names = X.columns\n",
    "\n",
    "mse = mean_squared_error(y_test, y_pred)\n",
    "r2 = r2_score(y_test, y_pred)\n",
    "\n",
    "coefficients_fc = pd.DataFrame({\n",
    "    'Feature': X.columns,\n",
    "    'Coefficient': model.coef_\n",
    "})\n",
    "\n",
    "coefficients_fc = coefficients_fc.append({'Feature': 'Intercept', 'Coefficient': model.intercept_}, ignore_index=True)\n",
    "\n",
    "############################################################################################################\n",
    "############################################################################################################\n",
    "\n",
    "X = raw_forecast[['Booked', 'Berlin', 'Lisbon', 'Madrid', 'Paris', 'Barcelona']]\n",
    "y = raw_forecast['Utilities']\n",
    "\n",
    "X_train, X_test, y_train, y_test = train_test_split(X, y, test_size=0.2, random_state=42)\n",
    "\n",
    "model = LinearRegression(fit_intercept=False)\n",
    "model.fit(X_train, y_train)\n",
    "\n",
    "y_pred = model.predict(X_test)\n",
    "\n",
    "coefficients = model.coef_\n",
    "\n",
    "feature_names = X.columns\n",
    "\n",
    "mse = mean_squared_error(y_test, y_pred)\n",
    "r2 = r2_score(y_test, y_pred)\n",
    "\n",
    "coefficients_u = pd.DataFrame({\n",
    "    'Feature': X.columns,\n",
    "    'Coefficient': model.coef_\n",
    "})\n",
    "\n",
    "coefficients_u = coefficients_u.append({'Feature': 'Intercept', 'Coefficient': model.intercept_}, ignore_index=True)\n",
    "\n",
    "############################################################################################################\n",
    "############################################################################################################\n",
    "\n",
    "replace_1 = {'Berlin': 'Berlin_Utilities',\n",
    "            'Lisbon': 'Lisbon_Utilities',\n",
    "            'Madrid': 'Madrid_Utilities',\n",
    "            'Paris': 'Paris_Utilities',\n",
    "            'Barcelona': 'Barcelona_Utilities',\n",
    "            'Intercept': 'Intercept_Utilities'}\n",
    "\n",
    "coefficients_u = coefficients_u.replace(replace_1)\n",
    "\n",
    "replace_2 = {'Berlin': 'Berlin_FC',\n",
    "            'Lisbon': 'Lisbon_FC',\n",
    "            'Madrid': 'Madrid_FC',\n",
    "            'Paris': 'Paris_FC',\n",
    "            'Barcelona': 'Barcelona_FC',\n",
    "            'Intercept': 'Intercept_FC'}\n",
    "\n",
    "coefficients_u_raw = coefficients_u.replace(replace_1)\n",
    "coefficients_fc_raw = coefficients_fc.replace(replace_2)\n",
    "\n",
    "############################################################################################################\n",
    "############################################################################################################\n",
    "\n",
    "coefficients_u = spark.createDataFrame(coefficients_u_raw)\n",
    "coefficients_fc = spark.createDataFrame(coefficients_fc_raw)\n",
    "\n",
    "slopes = coefficients_u.union(coefficients_fc)\n",
    "\n",
    "############################################################################################################\n",
    "############################################################################################################\n",
    "\n",
    "slopes.write.mode(\"overwrite\").saveAsTable(\"silver.finance.COGS_Forecast_Slopes\")\n",
    "slopes.show()\n",
    "slopes.printSchema()"
   ]
  },
  {
   "cell_type": "markdown",
   "metadata": {
    "application/vnd.databricks.v1+cell": {
     "cellMetadata": {
      "byteLimit": 2048000,
      "rowLimit": 10000
     },
     "inputWidgets": {},
     "nuid": "a9fc5340-aefb-4897-84b8-adabe32b472f",
     "showTitle": false,
     "tableResultSettingsMap": {},
     "title": ""
    }
   },
   "source": [
    "###3.1.2. COGS Forecast Table"
   ]
  },
  {
   "cell_type": "markdown",
   "metadata": {
    "application/vnd.databricks.v1+cell": {
     "cellMetadata": {
      "byteLimit": 2048000,
      "rowLimit": 10000
     },
     "inputWidgets": {},
     "nuid": "c55078d8-749a-43e8-9f69-4ecb9f23cff9",
     "showTitle": false,
     "tableResultSettingsMap": {},
     "title": ""
    }
   },
   "source": [
    "#### 3.1.2.1. Actuals\n",
    "###### (COGS Forecast Table)"
   ]
  },
  {
   "cell_type": "code",
   "execution_count": 0,
   "metadata": {
    "application/vnd.databricks.v1+cell": {
     "cellMetadata": {
      "byteLimit": 2048000,
      "rowLimit": 10000
     },
     "inputWidgets": {},
     "nuid": "975713e8-7875-4ed4-bc5e-486ccf6117bb",
     "showTitle": false,
     "tableResultSettingsMap": {},
     "title": ""
    }
   },
   "outputs": [],
   "source": [
    "cogs_forecast_utilities_fc = \"\"\"\n",
    "WITH Volume AS (\n",
    "        SELECT * FROM silver.finance.volume_database\n",
    "    )\n",
    "\n",
    "    ,Ttl_apts AS (\n",
    "        SELECT SUM(guest_ready) apts, month_date, city FROM volume GROUP BY month_date, city\n",
    "    )\n",
    "\n",
    "    ---------------------------------------------------------------------------------------------------\n",
    "    --------------------------------- UTILITIES FORECAST ----------------------------------------------\n",
    "    ---------------------------------------------------------------------------------------------------\n",
    "\n",
    "    ,Slopes_Utilities_1 AS (\n",
    "        SELECT *, explode(split(Feature,'_')) feature_2 FROM silver.finance.cogs_forecast_slopes WHERE (Feature ILIKE '%utilities%' OR Feature = 'Booked')\n",
    "    )\n",
    "\n",
    "    ,Slopes_Utilities AS (\n",
    "        SELECT Coefficient, feature_2 feature FROM Slopes_Utilities_1 WHERE feature_2 <> 'Utilities'\n",
    "    )\n",
    "\n",
    "    ,booked AS (\n",
    "        SELECT SUM(occupied_nights) booked, month_date month, city, codename FROM volume WHERE month_date >= DATE('2024-01-01') GROUP BY month_date, city, codename ORDER BY month_date DESC\n",
    "    )\n",
    "\n",
    "    , booked_Fcst AS (\n",
    "        SELECT \n",
    "            b.month, b.city, b.codename,\n",
    "            CASE \n",
    "            WHEN b.month = DATE('2024-12-01') AND b.city = 'Barcelona' THEN (b.booked::DECIMAL * -4.10)\n",
    "            WHEN b.month >= DATE('2025-01-01') AND b.month <= DATE('2025-04-01') AND b.city = 'Barcelona' THEN (b.booked::DECIMAL * -6.10)\n",
    "            WHEN b.month = DATE('2024-12-01') AND b.city = 'Madrid' THEN (b.booked::DECIMAL * -4.87)\n",
    "            WHEN b.month >= DATE('2025-01-01') AND b.month <= DATE('2025-04-01') AND b.city = 'Madrid' THEN (b.booked::DECIMAL * -5.10)\n",
    "            WHEN b.month = DATE('2024-12-01') AND b.city = 'Lisbon' THEN (b.booked::DECIMAL * -9.23)\n",
    "            WHEN b.month >= DATE('2025-01-01') AND b.month <= DATE('2025-04-01') AND b.city = 'Lisbon' THEN (b.booked::DECIMAL * -9.42)\n",
    "            WHEN b.month = DATE('2024-12-01') AND b.city = 'Berlin' THEN (b.booked::DECIMAL * -4.10)\n",
    "            WHEN b.month >= DATE('2025-01-01') AND b.month <= DATE('2025-04-01') AND b.city = 'Berlin' THEN (b.booked::DECIMAL * -7.02)\n",
    "            WHEN b.month = DATE('2024-12-01') AND b.city = 'Paris' THEN (b.booked::DECIMAL * -4.10)\n",
    "            WHEN b.month >= DATE('2025-01-01') AND b.month <= DATE('2025-04-01') AND b.city = 'Paris' THEN (b.booked::DECIMAL * -5.43)\n",
    "            ELSE ((b.booked::DECIMAL * (uu.Coefficient)) + (uuu.Coefficient/t.apts) + COALESCE((u.Coefficient/t.apts),0)) \n",
    "            END AS amount\n",
    "\n",
    "        FROM booked b \n",
    "            LEFT JOIN Slopes_Utilities u ON u.feature = b.city\n",
    "            LEFT JOIN Ttl_apts t ON t.city = b.city AND t.month_date = b.month\n",
    "            CROSS JOIN Slopes_Utilities uu \n",
    "            CROSS JOIN Slopes_Utilities uuu  \n",
    "        \n",
    "        WHERE uu.feature = 'Booked' AND uuu.feature = 'Intercept'\n",
    "    )\n",
    "\n",
    "    ---------------------------------------------------------------------------------------------------\n",
    "    ---------------------------------- CLEANING FORECAST ----------------------------------------------\n",
    "    ---------------------------------------------------------------------------------------------------\n",
    "\n",
    "    ,Slopes_FC_1 AS (\n",
    "        SELECT *, explode(split(Feature,'_')) feature_2 FROM silver.finance.cogs_forecast_slopes WHERE (Feature ILIKE '%fc%' OR Feature = 'Check_out')\n",
    "    )\n",
    "\n",
    "    ,Slopes_FC AS (\n",
    "        SELECT Coefficient, feature_2 feature FROM Slopes_FC_1 WHERE feature_2 NOT IN ('FC', 'out')\n",
    "    )\n",
    "\n",
    "    ,Check_Out AS (\n",
    "        SELECT SUM(check_out) check_out, month_date month, city, codename FROM volume WHERE month_date >= DATE('2024-01-01') GROUP BY month_date, city, codename ORDER BY month_date DESC\n",
    "    )\n",
    "\n",
    "    ,Cleaning_Fcst AS (\n",
    "        SELECT \n",
    "            c.month, c.city, c.codename, c.Check_Out,\n",
    "            CASE \n",
    "            WHEN c.month = DATE('2024-12-01') AND c.city = 'Barcelona' THEN (c.Check_Out::DECIMAL * -317)\n",
    "            WHEN c.month >= DATE('2025-01-01') AND c.month <= DATE('2025-04-01') AND c.city = 'Barcelona' THEN (c.Check_Out::DECIMAL * -420)\n",
    "            WHEN c.month = DATE('2024-12-01') AND c.city = 'Madrid' THEN (c.Check_Out::DECIMAL * -317)\n",
    "            WHEN c.month >= DATE('2025-01-01') AND c.month <= DATE('2025-04-01') AND c.city = 'Madrid' THEN (c.Check_Out::DECIMAL * -470)\n",
    "            WHEN c.month = DATE('2024-12-01') AND c.city = 'Lisbon' THEN (c.Check_Out::DECIMAL * -317)\n",
    "            WHEN c.month >= DATE('2025-01-01') AND c.month <= DATE('2025-04-01') AND c.city = 'Lisbon' THEN (c.Check_Out::DECIMAL * -110)\n",
    "            WHEN c.month = DATE('2024-12-01') AND c.city = 'Berlin' THEN (c.Check_Out::DECIMAL * -317)\n",
    "            WHEN c.month >= DATE('2025-01-01') AND c.month <= DATE('2025-04-01') AND c.city = 'Berlin' THEN (c.Check_Out::DECIMAL * -213)\n",
    "            WHEN c.month = DATE('2024-12-01') AND c.city = 'Paris' THEN (c.Check_Out::DECIMAL * -317)\n",
    "            WHEN c.month >= DATE('2025-01-01') AND c.month <= DATE('2025-04-01') AND c.city = 'Paris' THEN (c.Check_Out::DECIMAL * -229)\n",
    "            ELSE ((c.Check_Out::DECIMAL * (ss.Coefficient)) + (sss.Coefficient/t.apts) + COALESCE((s.Coefficient/t.apts),0)) \n",
    "            END AS amount\n",
    "\n",
    "        FROM Check_Out c \n",
    "            LEFT JOIN Slopes_FC s ON s.feature = c.city\n",
    "            LEFT JOIN Ttl_apts t ON t.city = c.city AND t.month_date = c.month\n",
    "            CROSS JOIN Slopes_FC ss \n",
    "            CROSS JOIN Slopes_FC sss  \n",
    "        \n",
    "        WHERE ss.feature = 'Check' AND sss.feature = 'Intercept'\n",
    "    )\n",
    "\n",
    "    SELECT amount, city, codename, month, 'COGS - Cleaning Services (€)' management_accounts FROM Cleaning_Fcst\n",
    "    UNION ALL\n",
    "    SELECT amount, city, codename, month, 'COGS - Utilities (€)' management_accounts FROM booked_Fcst ORDER BY month, city, codename DESC\n",
    "\"\"\"\n",
    "\n",
    "spark.sql(cogs_forecast_utilities_fc).write.mode(\"overwrite\").saveAsTable(\"silver.finance.cogs_forecast_utilities_fc\")\n"
   ]
  },
  {
   "cell_type": "markdown",
   "metadata": {
    "application/vnd.databricks.v1+cell": {
     "cellMetadata": {
      "byteLimit": 2048000,
      "rowLimit": 10000
     },
     "inputWidgets": {},
     "nuid": "45bac67b-9c2d-478a-81c1-0499a92239dd",
     "showTitle": false,
     "tableResultSettingsMap": {},
     "title": ""
    }
   },
   "source": [
    "#### 3.1.2.2. Deltas 7 Days Ago\n",
    "###### (COGS Forecast Table)"
   ]
  },
  {
   "cell_type": "code",
   "execution_count": 0,
   "metadata": {
    "application/vnd.databricks.v1+cell": {
     "cellMetadata": {
      "byteLimit": 2048000,
      "rowLimit": 10000
     },
     "collapsed": true,
     "inputWidgets": {},
     "nuid": "34124974-344d-4d18-9500-968dc742351d",
     "showTitle": false,
     "tableResultSettingsMap": {},
     "title": ""
    }
   },
   "outputs": [],
   "source": [
    "cogs_forecast_utilities_fc_7_days_deltas = \"\"\"\n",
    "WITH Volume AS (\n",
    "        SELECT * FROM silver.finance.volume_database_7_days_deltas\n",
    "    )\n",
    "\n",
    "    ,Ttl_apts AS (\n",
    "        SELECT SUM(guest_ready) apts, month_date, city FROM volume GROUP BY month_date, city\n",
    "    )\n",
    "\n",
    "    ---------------------------------------------------------------------------------------------------\n",
    "    --------------------------------- UTILITIES FORECAST ----------------------------------------------\n",
    "    ---------------------------------------------------------------------------------------------------\n",
    "\n",
    "    ,Slopes_Utilities_1 AS (\n",
    "        SELECT *, explode(split(Feature,'_')) feature_2 FROM silver.finance.cogs_forecast_slopes WHERE (Feature ILIKE '%utilities%' OR Feature = 'Booked')\n",
    "    )\n",
    "\n",
    "    ,Slopes_Utilities AS (\n",
    "        SELECT Coefficient, feature_2 feature FROM Slopes_Utilities_1 WHERE feature_2 <> 'Utilities'\n",
    "    )\n",
    "\n",
    "    ,booked AS (\n",
    "        SELECT SUM(occupied_nights) booked, month_date month, city, codename FROM volume WHERE month_date >= DATE('2024-01-01') GROUP BY month_date, city, codename ORDER BY month_date DESC\n",
    "    )\n",
    "\n",
    "    , booked_Fcst AS (\n",
    "        SELECT \n",
    "            b.month, b.city, b.codename, \n",
    "            CASE \n",
    "            WHEN b.month = DATE('2024-12-01') AND b.city = 'Barcelona' THEN (b.booked::DECIMAL * -4.10)\n",
    "            WHEN b.month >= DATE('2025-01-01') AND b.month <= DATE('2025-04-01') AND b.city = 'Barcelona' THEN (b.booked::DECIMAL * -6.10)\n",
    "            WHEN b.month = DATE('2024-12-01') AND b.city = 'Madrid' THEN (b.booked::DECIMAL * -4.87)\n",
    "            WHEN b.month >= DATE('2025-01-01') AND b.month <= DATE('2025-04-01') AND b.city = 'Madrid' THEN (b.booked::DECIMAL * -5.10)\n",
    "            WHEN b.month = DATE('2024-12-01') AND b.city = 'Lisbon' THEN (b.booked::DECIMAL * -9.23)\n",
    "            WHEN b.month >= DATE('2025-01-01') AND b.month <= DATE('2025-04-01') AND b.city = 'Lisbon' THEN (b.booked::DECIMAL * -9.42)\n",
    "            WHEN b.month = DATE('2024-12-01') AND b.city = 'Berlin' THEN (b.booked::DECIMAL * -4.10)\n",
    "            WHEN b.month >= DATE('2025-01-01') AND b.month <= DATE('2025-04-01') AND b.city = 'Berlin' THEN (b.booked::DECIMAL * -7.02)\n",
    "            WHEN b.month = DATE('2024-12-01') AND b.city = 'Paris' THEN (b.booked::DECIMAL * -4.10)\n",
    "            WHEN b.month >= DATE('2025-01-01') AND b.month <= DATE('2025-04-01') AND b.city = 'Paris' THEN (b.booked::DECIMAL * -5.43)\n",
    "            ELSE ((b.booked::DECIMAL * (uu.Coefficient)) + (uuu.Coefficient/t.apts) + COALESCE((u.Coefficient/t.apts),0)) \n",
    "            END AS amount\n",
    "\n",
    "        FROM booked b \n",
    "            LEFT JOIN Slopes_Utilities u ON u.feature = b.city\n",
    "            LEFT JOIN Ttl_apts t ON t.city = b.city AND t.month_date = b.month\n",
    "            CROSS JOIN Slopes_Utilities uu \n",
    "            CROSS JOIN Slopes_Utilities uuu  \n",
    "        \n",
    "        WHERE uu.feature = 'Booked' AND uuu.feature = 'Intercept'\n",
    "    )\n",
    "\n",
    "    ---------------------------------------------------------------------------------------------------\n",
    "    ---------------------------------- CLEANING FORECAST ----------------------------------------------\n",
    "    ---------------------------------------------------------------------------------------------------\n",
    "\n",
    "    ,Slopes_FC_1 AS (\n",
    "        SELECT *, explode(split(Feature,'_')) feature_2 FROM silver.finance.cogs_forecast_slopes WHERE (Feature ILIKE '%fc%' OR Feature = 'Check_out')\n",
    "    )\n",
    "\n",
    "    ,Slopes_FC AS (\n",
    "        SELECT Coefficient, feature_2 feature FROM Slopes_FC_1 WHERE feature_2 NOT IN ('FC', 'out')\n",
    "    )\n",
    "\n",
    "    ,Check_Out AS (\n",
    "        SELECT SUM(check_out) check_out, month_date month, city, codename FROM volume WHERE month_date >= DATE('2024-01-01') GROUP BY month_date, city, codename ORDER BY month_date DESC\n",
    "    )\n",
    "\n",
    "    ,Cleaning_Fcst AS (\n",
    "        SELECT \n",
    "            c.month, c.city, c.codename, c.Check_Out,\n",
    "            CASE \n",
    "            WHEN c.month = DATE('2024-12-01') AND c.city = 'Barcelona' THEN (c.Check_Out::DECIMAL * -317)\n",
    "            WHEN c.month >= DATE('2025-01-01') AND c.month <= DATE('2025-04-01') AND c.city = 'Barcelona' THEN (c.Check_Out::DECIMAL * -420)\n",
    "            WHEN c.month = DATE('2024-12-01') AND c.city = 'Madrid' THEN (c.Check_Out::DECIMAL * -317)\n",
    "            WHEN c.month >= DATE('2025-01-01') AND c.month <= DATE('2025-04-01') AND c.city = 'Madrid' THEN (c.Check_Out::DECIMAL * -470)\n",
    "            WHEN c.month = DATE('2024-12-01') AND c.city = 'Lisbon' THEN (c.Check_Out::DECIMAL * -317)\n",
    "            WHEN c.month >= DATE('2025-01-01') AND c.month <= DATE('2025-04-01') AND c.city = 'Lisbon' THEN (c.Check_Out::DECIMAL * -110)\n",
    "            WHEN c.month = DATE('2024-12-01') AND c.city = 'Berlin' THEN (c.Check_Out::DECIMAL * -317)\n",
    "            WHEN c.month >= DATE('2025-01-01') AND c.month <= DATE('2025-04-01') AND c.city = 'Berlin' THEN (c.Check_Out::DECIMAL * -213)\n",
    "            WHEN c.month = DATE('2024-12-01') AND c.city = 'Paris' THEN (c.Check_Out::DECIMAL * -317)\n",
    "            WHEN c.month >= DATE('2025-01-01') AND c.month <= DATE('2025-04-01') AND c.city = 'Paris' THEN (c.Check_Out::DECIMAL * -229)\n",
    "            ELSE ((c.Check_Out::DECIMAL * (ss.Coefficient)) + (sss.Coefficient/t.apts) + COALESCE((s.Coefficient/t.apts),0)) \n",
    "            END AS amount\n",
    "\n",
    "        FROM Check_Out c \n",
    "            LEFT JOIN Slopes_FC s ON s.feature = c.city\n",
    "            LEFT JOIN Ttl_apts t ON t.city = c.city AND t.month_date = c.month\n",
    "            CROSS JOIN Slopes_FC ss \n",
    "            CROSS JOIN Slopes_FC sss  \n",
    "        \n",
    "        WHERE ss.feature = 'Check' AND sss.feature = 'Intercept'\n",
    "    )\n",
    "\n",
    "    SELECT amount, city, codename, month, 'COGS - Cleaning Services (€)' management_accounts FROM Cleaning_Fcst\n",
    "    UNION ALL\n",
    "    SELECT amount, city, codename, month, 'COGS - Utilities (€)' management_accounts FROM booked_Fcst ORDER BY month, city, codename DESC\n",
    "\"\"\"\n",
    "\n",
    "spark.sql(cogs_forecast_utilities_fc_7_days_deltas).write.mode(\"overwrite\").saveAsTable(\"silver.finance.cogs_forecast_utilities_fc_7_days_deltas\")"
   ]
  },
  {
   "cell_type": "markdown",
   "metadata": {
    "application/vnd.databricks.v1+cell": {
     "cellMetadata": {
      "byteLimit": 2048000,
      "rowLimit": 10000
     },
     "inputWidgets": {},
     "nuid": "b853ec92-f5b1-408c-8306-865e571bd8c7",
     "showTitle": false,
     "tableResultSettingsMap": {},
     "title": ""
    }
   },
   "source": [
    "#### 3.1.2.3. Deltas Since Begining of Month\n",
    "###### (COGS Forecast Table)"
   ]
  },
  {
   "cell_type": "code",
   "execution_count": 0,
   "metadata": {
    "application/vnd.databricks.v1+cell": {
     "cellMetadata": {
      "byteLimit": 2048000,
      "rowLimit": 10000
     },
     "collapsed": true,
     "inputWidgets": {},
     "nuid": "7f21bd6b-8ac3-4cc2-9781-fe4d30a75521",
     "showTitle": false,
     "tableResultSettingsMap": {},
     "title": ""
    }
   },
   "outputs": [],
   "source": [
    "cogs_forecast_utilities_begining_month_deltas = \"\"\"\n",
    "WITH Volume AS (\n",
    "        SELECT * FROM silver.finance.volume_database_begining_month_deltas\n",
    "    )\n",
    "\n",
    "    ,Ttl_apts AS (\n",
    "        SELECT SUM(guest_ready) apts, month_date, city FROM volume GROUP BY month_date, city\n",
    "    )\n",
    "\n",
    "    ---------------------------------------------------------------------------------------------------\n",
    "    --------------------------------- UTILITIES FORECAST ----------------------------------------------\n",
    "    ---------------------------------------------------------------------------------------------------\n",
    "\n",
    "    ,Slopes_Utilities_1 AS (\n",
    "        SELECT *, explode(split(Feature,'_')) feature_2 FROM silver.finance.cogs_forecast_slopes WHERE (Feature ILIKE '%utilities%' OR Feature = 'Booked')\n",
    "    )\n",
    "\n",
    "    ,Slopes_Utilities AS (\n",
    "        SELECT Coefficient, feature_2 feature FROM Slopes_Utilities_1 WHERE feature_2 <> 'Utilities'\n",
    "    )\n",
    "\n",
    "    ,booked AS (\n",
    "        SELECT SUM(occupied_nights) booked, month_date month, city, codename FROM volume WHERE month_date >= DATE('2024-01-01') GROUP BY month_date, city, codename ORDER BY month_date DESC\n",
    "    )\n",
    "\n",
    "    , booked_Fcst AS (\n",
    "        SELECT \n",
    "            b.month, b.city, b.codename, \n",
    "            CASE \n",
    "            WHEN b.month = DATE('2024-12-01') AND b.city = 'Barcelona' THEN (b.booked::DECIMAL * -4.10)\n",
    "            WHEN b.month >= DATE('2025-01-01') AND b.month <= DATE('2025-04-01') AND b.city = 'Barcelona' THEN (b.booked::DECIMAL * -6.10)\n",
    "            WHEN b.month = DATE('2024-12-01') AND b.city = 'Madrid' THEN (b.booked::DECIMAL * -4.87)\n",
    "            WHEN b.month >= DATE('2025-01-01') AND b.month <= DATE('2025-04-01') AND b.city = 'Madrid' THEN (b.booked::DECIMAL * -5.10)\n",
    "            WHEN b.month = DATE('2024-12-01') AND b.city = 'Lisbon' THEN (b.booked::DECIMAL * -9.23)\n",
    "            WHEN b.month >= DATE('2025-01-01') AND b.month <= DATE('2025-04-01') AND b.city = 'Lisbon' THEN (b.booked::DECIMAL * -9.42)\n",
    "            WHEN b.month = DATE('2024-12-01') AND b.city = 'Berlin' THEN (b.booked::DECIMAL * -4.10)\n",
    "            WHEN b.month >= DATE('2025-01-01') AND b.month <= DATE('2025-04-01') AND b.city = 'Berlin' THEN (b.booked::DECIMAL * -7.02)\n",
    "            WHEN b.month = DATE('2024-12-01') AND b.city = 'Paris' THEN (b.booked::DECIMAL * -4.10)\n",
    "            WHEN b.month >= DATE('2025-01-01') AND b.month <= DATE('2025-04-01') AND b.city = 'Paris' THEN (b.booked::DECIMAL * -5.43)\n",
    "            ELSE ((b.booked::DECIMAL * (uu.Coefficient)) + (uuu.Coefficient/t.apts) + COALESCE((u.Coefficient/t.apts),0)) \n",
    "            END AS amount\n",
    "\n",
    "        FROM booked b \n",
    "            LEFT JOIN Slopes_Utilities u ON u.feature = b.city\n",
    "            LEFT JOIN Ttl_apts t ON t.city = b.city AND t.month_date = b.month\n",
    "            CROSS JOIN Slopes_Utilities uu \n",
    "            CROSS JOIN Slopes_Utilities uuu  \n",
    "        \n",
    "        WHERE uu.feature = 'Booked' AND uuu.feature = 'Intercept'\n",
    "    )\n",
    "\n",
    "    ---------------------------------------------------------------------------------------------------\n",
    "    ---------------------------------- CLEANING FORECAST ----------------------------------------------\n",
    "    ---------------------------------------------------------------------------------------------------\n",
    "\n",
    "    ,Slopes_FC_1 AS (\n",
    "        SELECT *, explode(split(Feature,'_')) feature_2 FROM silver.finance.cogs_forecast_slopes WHERE (Feature ILIKE '%fc%' OR Feature = 'Check_out')\n",
    "    )\n",
    "\n",
    "    ,Slopes_FC AS (\n",
    "        SELECT Coefficient, feature_2 feature FROM Slopes_FC_1 WHERE feature_2 NOT IN ('FC', 'out')\n",
    "    )\n",
    "\n",
    "    ,Check_Out AS (\n",
    "        SELECT SUM(check_out) check_out, month_date month, city, codename FROM volume WHERE month_date >= DATE('2024-01-01') GROUP BY month_date, city, codename ORDER BY month_date DESC\n",
    "    )\n",
    "\n",
    "    ,Cleaning_Fcst AS (\n",
    "        SELECT \n",
    "            c.month, c.city, c.codename, c.Check_Out,\n",
    "            CASE \n",
    "            WHEN c.month = DATE('2024-12-01') AND c.city = 'Barcelona' THEN (c.Check_Out::DECIMAL * -317)\n",
    "            WHEN c.month >= DATE('2025-01-01') AND c.month <= DATE('2025-04-01') AND c.city = 'Barcelona' THEN (c.Check_Out::DECIMAL * -420)\n",
    "            WHEN c.month = DATE('2024-12-01') AND c.city = 'Madrid' THEN (c.Check_Out::DECIMAL * -317)\n",
    "            WHEN c.month >= DATE('2025-01-01') AND c.month <= DATE('2025-04-01') AND c.city = 'Madrid' THEN (c.Check_Out::DECIMAL * -470)\n",
    "            WHEN c.month = DATE('2024-12-01') AND c.city = 'Lisbon' THEN (c.Check_Out::DECIMAL * -317)\n",
    "            WHEN c.month >= DATE('2025-01-01') AND c.month <= DATE('2025-04-01') AND c.city = 'Lisbon' THEN (c.Check_Out::DECIMAL * -110)\n",
    "            WHEN c.month = DATE('2024-12-01') AND c.city = 'Berlin' THEN (c.Check_Out::DECIMAL * -317)\n",
    "            WHEN c.month >= DATE('2025-01-01') AND c.month <= DATE('2025-04-01') AND c.city = 'Berlin' THEN (c.Check_Out::DECIMAL * -213)\n",
    "            WHEN c.month = DATE('2024-12-01') AND c.city = 'Paris' THEN (c.Check_Out::DECIMAL * -317)\n",
    "            WHEN c.month >= DATE('2025-01-01') AND c.month <= DATE('2025-04-01') AND c.city = 'Paris' THEN (c.Check_Out::DECIMAL * -229)\n",
    "            ELSE ((c.Check_Out::DECIMAL * (ss.Coefficient)) + (sss.Coefficient/t.apts) + COALESCE((s.Coefficient/t.apts),0)) \n",
    "            END AS amount\n",
    "\n",
    "        FROM Check_Out c \n",
    "            LEFT JOIN Slopes_FC s ON s.feature = c.city\n",
    "            LEFT JOIN Ttl_apts t ON t.city = c.city AND t.month_date = c.month\n",
    "            CROSS JOIN Slopes_FC ss \n",
    "            CROSS JOIN Slopes_FC sss  \n",
    "        \n",
    "        WHERE ss.feature = 'Check' AND sss.feature = 'Intercept'\n",
    "    )\n",
    "\n",
    "    SELECT amount, city, codename, month, 'COGS - Cleaning Services (€)' management_accounts FROM Cleaning_Fcst\n",
    "    UNION ALL\n",
    "    SELECT amount, city, codename, month, 'COGS - Utilities (€)' management_accounts FROM booked_Fcst ORDER BY month, city, codename DESC\n",
    "\"\"\"\n",
    "\n",
    "spark.sql(cogs_forecast_utilities_begining_month_deltas).write.mode(\"overwrite\").saveAsTable(\"silver.finance.cogs_forecast_utilities_begining_month_deltas\")"
   ]
  },
  {
   "cell_type": "markdown",
   "metadata": {
    "application/vnd.databricks.v1+cell": {
     "cellMetadata": {
      "byteLimit": 2048000,
      "rowLimit": 10000
     },
     "inputWidgets": {},
     "nuid": "c55dd953-4dd3-45a7-9fef-e09a30ab691f",
     "showTitle": false,
     "tableResultSettingsMap": {},
     "title": ""
    }
   },
   "source": [
    "## 3.2. COGS Per month & city"
   ]
  },
  {
   "cell_type": "markdown",
   "metadata": {
    "application/vnd.databricks.v1+cell": {
     "cellMetadata": {
      "byteLimit": 2048000,
      "rowLimit": 10000
     },
     "inputWidgets": {},
     "nuid": "c89b1c16-1a01-4754-ba1f-a83bea6ee026",
     "showTitle": false,
     "tableResultSettingsMap": {},
     "title": ""
    }
   },
   "source": [
    "### 3.2.1. Actuals\n",
    "###### (COGS Forecast Table)"
   ]
  },
  {
   "cell_type": "code",
   "execution_count": 0,
   "metadata": {
    "application/vnd.databricks.v1+cell": {
     "cellMetadata": {
      "byteLimit": 2048000,
      "rowLimit": 10000
     },
     "inputWidgets": {},
     "nuid": "58d387ba-d5f0-43a8-861d-188aec5ad9ac",
     "showTitle": false,
     "tableResultSettingsMap": {},
     "title": ""
    }
   },
   "outputs": [],
   "source": [
    "cogs_per_month_and_city_per_codename = \"\"\"\n",
    "WITH COGS AS (\n",
    "        SELECT sum(amount)*-1 amount, to_date(month, 'd/M/yyyy') month, `Management Accounts` AS management_accounts, city, Apartment2 codename \n",
    "        FROM silver.finance.gm_by_apt_oct_24 \n",
    "        WHERE `Line Type` = 'COGS' GROUP BY to_date(month, 'd/M/yyyy'), `Management Accounts`, city, Apartment2\n",
    "    )\n",
    "\n",
    "    ,Additional_costs_2 AS (\n",
    "        SELECT\n",
    "            ams_contract_terms.apartment_id, city, JSON_TUPLE(RENT_INFO, 'additional_costs_amount') AS additional_costs_amount\n",
    "        \n",
    "        FROM silver.backoffice.ams_contract_terms \n",
    "            LEFT JOIN silver.Backoffice.apartments ON apartments.id = ams_contract_terms.apartment_id\n",
    "    )\n",
    "\n",
    "    ,Backoffice_3 AS (\n",
    "        SELECT \n",
    "        SUM(landlord_daily_rent)::decimal as amount, \n",
    "        trunc(day, 'month') as month, 'COGS - Rent (€)' AS management_accounts, city, \n",
    "        landlord.apartment_id, landlord.end_of_grace_period\n",
    "        FROM silver.revenue.landlord LEFT JOIN silver.Backoffice.apartments ON apartments.id = landlord.apartment_id\n",
    "        WHERE trunc(day, 'month') >= trunc(current_date, 'month') - INTERVAL '1 MONTH'\n",
    "        GROUP BY trunc(day, 'month'), city, landlord.apartment_id, landlord.end_of_grace_period\n",
    "    )\n",
    "\n",
    "    ,Backoffice_2 AS (\n",
    "        SELECT \n",
    "            Backoffice_3.apartment_id, Backoffice_3.city, Backoffice_3.amount, Backoffice_3.month, Backoffice_3.management_accounts,\n",
    "            CASE \n",
    "                WHEN Backoffice_3.month = trunc(end_of_grace_period, 'month') \n",
    "                    THEN (COALESCE(CAST(additional_costs_amount AS DECIMAL),0) / EXTRACT(DAY FROM trunc(month, 'month') + INTERVAL 1 MONTH - INTERVAL 1 DAY)) * (EXTRACT(DAY FROM trunc(month, 'month') + INTERVAL 1 MONTH - INTERVAL 1 DAY) - EXTRACT(DAY FROM end_of_grace_period))\n",
    "                WHEN Backoffice_3.amount = 0 THEN 0\n",
    "                ELSE COALESCE(CAST(additional_costs_amount AS DECIMAL),0)\n",
    "            END AS additional_costs_amount\n",
    "\n",
    "        FROM Backoffice_3\n",
    "            JOIN Additional_costs_2 ON Backoffice_3.apartment_id = Additional_costs_2.apartment_id\n",
    "    )\n",
    "\n",
    "    ,Backoffice AS (\n",
    "        SELECT \n",
    "        (SUM(Backoffice_2.amount) + SUM(Backoffice_2.additional_costs_amount)) amount, \n",
    "        Backoffice_2.management_accounts, Backoffice_2.city, Backoffice_2.month, apartments.codename \n",
    "        FROM Backoffice_2 \n",
    "        LEFT JOIN silver.backoffice.apartments ON Backoffice_2.apartment_id = silver.backoffice.apartments.id\n",
    "        GROUP BY Backoffice_2.management_accounts, Backoffice_2.city, Backoffice_2.month, codename\n",
    "        ORDER BY Backoffice_2.month DESC, Backoffice_2.city ASC\n",
    "    )\n",
    "\n",
    "    ,X AS (\n",
    "    SELECT amount, month, management_accounts, city, codename FROM COGS\n",
    "    UNION ALL\n",
    "    SELECT amount, month, management_accounts, city, codename FROM Backoffice\n",
    "    )\n",
    "\n",
    "    ,Past AS (\n",
    "    SELECT * \n",
    "    FROM X \n",
    "    WHERE month >= trunc(current_date, 'month') - INTERVAL '24 MONTH' AND month <= trunc(current_date, 'month') + INTERVAL '12 MONTH'\n",
    "    ORDER BY month DESC, management_accounts DESC\n",
    "    )\n",
    "\n",
    "    ,Fcst_fc_utilities AS (\n",
    "        SELECT SUM(amount)*-1 amount, management_accounts, month, city, codename FROM silver.finance.cogs_forecast_utilities_fc as f WHERE true GROUP BY management_accounts, month, city, codename\n",
    "    )\n",
    "\n",
    "    ,Fcst_insuarnce AS (\n",
    "    SELECT amount::DECIMAL * 0.0045 AS amount, month, codename, 'COGS - Rent (€) - Insurance' management_accounts, city FROM Past WHERE management_accounts = 'COGS - Rent (€)'\n",
    "    )\n",
    "\n",
    "    ,Series AS (\n",
    "        SELECT\n",
    "            distinct management_accounts, city, codename,\n",
    "            explode(\n",
    "                sequence(\n",
    "                    trunc(current_date, 'month') - INTERVAL '24 MONTH',\n",
    "                    trunc(current_date, 'month') + INTERVAL '12 MONTH',\n",
    "                    INTERVAL 1 MONTH\n",
    "                )\n",
    "            ) month\n",
    "        \n",
    "        FROM Past\n",
    "    )\n",
    "\n",
    "    SELECT \n",
    "        s.management_accounts, s.month, s.city, s.codename,\n",
    "        COALESCE(SUM(p.amount), SUM(fu.amount), SUM(fi.amount), NULL) amount\n",
    "\n",
    "    FROM Series s \n",
    "        LEFT JOIN Past p ON s.management_accounts = p.management_accounts AND s.month = p.month AND s.city = p.city AND s.codename = p.codename\n",
    "        LEFT JOIN Fcst_fc_utilities fu ON s.management_accounts = fu.management_accounts AND s.month = fu.month AND s.city = fu.city AND s.codename = fu.codename\n",
    "        LEFT JOIN Fcst_insuarnce fi ON s.management_accounts = fi.management_accounts AND s.month = fi.month AND s.city = fi.city AND s.codename = fi.codename\n",
    "\n",
    "    GROUP BY s.management_accounts, s.month, s.codename, s.city\n",
    "    ORDER BY s.month, s.management_accounts ASC\n",
    "\"\"\"\n",
    "\n",
    "spark.sql(cogs_per_month_and_city_per_codename).write.mode(\"overwrite\").saveAsTable(\"silver.finance.cogs_per_month_and_city_per_codename\")\n"
   ]
  },
  {
   "cell_type": "markdown",
   "metadata": {
    "application/vnd.databricks.v1+cell": {
     "cellMetadata": {
      "byteLimit": 2048000,
      "rowLimit": 10000
     },
     "inputWidgets": {},
     "nuid": "4d117728-1ee3-4509-a834-25e133af2f10",
     "showTitle": false,
     "tableResultSettingsMap": {},
     "title": ""
    }
   },
   "source": [
    "### 3.2.2. Deltas 7 Days Ago\n",
    "###### (COGS Forecast Table)"
   ]
  },
  {
   "cell_type": "code",
   "execution_count": 0,
   "metadata": {
    "application/vnd.databricks.v1+cell": {
     "cellMetadata": {
      "byteLimit": 2048000,
      "rowLimit": 10000
     },
     "inputWidgets": {},
     "nuid": "eae6b691-12a4-4bf0-aca5-a1693c472ebf",
     "showTitle": false,
     "tableResultSettingsMap": {},
     "title": ""
    }
   },
   "outputs": [],
   "source": [
    "cogs_per_month_and_city_per_codename_7_days_deltas = \"\"\"\n",
    "WITH COGS AS (\n",
    "        SELECT sum(amount)*-1 amount, to_date(month, 'd/M/yyyy') month, `Management Accounts` AS management_accounts, city, Apartment2 codename \n",
    "        FROM silver.finance.gm_by_apt_oct_24 \n",
    "        WHERE `Line Type` = 'COGS' GROUP BY to_date(month, 'd/M/yyyy'), `Management Accounts`, city, Apartment2\n",
    "    )\n",
    "\n",
    "    ,Additional_costs_2 AS (\n",
    "        SELECT\n",
    "            ams_contract_terms.apartment_id, city, JSON_TUPLE(RENT_INFO, 'additional_costs_amount') AS additional_costs_amount\n",
    "        \n",
    "        FROM silver.backoffice.ams_contract_terms TIMESTAMP AS OF CAST(CURRENT_DATE() - INTERVAL 7 DAYS AS TIMESTAMP) ams_contract_terms\n",
    "            LEFT JOIN silver.Backoffice.apartments TIMESTAMP AS OF CAST(CURRENT_DATE() - INTERVAL 7 DAYS AS TIMESTAMP) apartments ON apartments.id = ams_contract_terms.apartment_id\n",
    "    )\n",
    "\n",
    "    ,Backoffice_3 AS (\n",
    "        SELECT \n",
    "        SUM(landlord_daily_rent)::decimal as amount, \n",
    "        trunc(day, 'month') as month, 'COGS - Rent (€)' AS management_accounts, city, \n",
    "        landlord.apartment_id, landlord.end_of_grace_period\n",
    "        FROM silver.revenue.landlord TIMESTAMP AS OF CAST(CURRENT_DATE() - INTERVAL 7 DAYS AS TIMESTAMP) landlord \n",
    "        LEFT JOIN silver.Backoffice.apartments TIMESTAMP AS OF CAST(CURRENT_DATE() - INTERVAL 7 DAYS AS TIMESTAMP) apartments ON apartments.id = landlord.apartment_id\n",
    "        WHERE trunc(day, 'month') >= trunc(current_date, 'month') - INTERVAL '1 MONTH'\n",
    "        GROUP BY trunc(day, 'month'), city, landlord.apartment_id, landlord.end_of_grace_period\n",
    "    )\n",
    "\n",
    "    ,Backoffice_2 AS (\n",
    "        SELECT \n",
    "            Backoffice_3.apartment_id, Backoffice_3.city, Backoffice_3.amount, Backoffice_3.month, Backoffice_3.management_accounts,\n",
    "            CASE \n",
    "                WHEN Backoffice_3.month = trunc(end_of_grace_period, 'month') \n",
    "                    THEN (COALESCE(CAST(additional_costs_amount AS DECIMAL),0) / EXTRACT(DAY FROM trunc(month, 'month') + INTERVAL 1 MONTH - INTERVAL 1 DAY)) * (EXTRACT(DAY FROM trunc(month, 'month') + INTERVAL 1 MONTH - INTERVAL 1 DAY) - EXTRACT(DAY FROM end_of_grace_period))\n",
    "                WHEN Backoffice_3.amount = 0 THEN 0\n",
    "                ELSE COALESCE(CAST(additional_costs_amount AS DECIMAL),0)\n",
    "            END AS additional_costs_amount\n",
    "\n",
    "        FROM Backoffice_3\n",
    "            JOIN Additional_costs_2 ON Backoffice_3.apartment_id = Additional_costs_2.apartment_id\n",
    "    )\n",
    "\n",
    "    ,Backoffice AS (\n",
    "        SELECT \n",
    "        (SUM(Backoffice_2.amount) + SUM(Backoffice_2.additional_costs_amount)) amount, \n",
    "        Backoffice_2.management_accounts, Backoffice_2.city, Backoffice_2.month, apartments.codename \n",
    "        FROM Backoffice_2 \n",
    "        LEFT JOIN silver.backoffice.apartments TIMESTAMP AS OF CAST(CURRENT_DATE() - INTERVAL 7 DAYS AS TIMESTAMP) apartments ON Backoffice_2.apartment_id = apartments.id\n",
    "        GROUP BY Backoffice_2.management_accounts, Backoffice_2.city, Backoffice_2.month, codename\n",
    "        ORDER BY Backoffice_2.month DESC, Backoffice_2.city ASC\n",
    "    )\n",
    "\n",
    "    ,X AS (\n",
    "    SELECT amount, month, management_accounts, city, codename FROM COGS\n",
    "    UNION ALL\n",
    "    SELECT amount, month, management_accounts, city, codename FROM Backoffice\n",
    "    )\n",
    "\n",
    "    ,Past AS (\n",
    "    SELECT * \n",
    "    FROM X \n",
    "    WHERE month >= trunc(current_date, 'month') - INTERVAL '24 MONTH' AND month <= trunc(current_date, 'month') + INTERVAL '12 MONTH'\n",
    "    ORDER BY month DESC, management_accounts DESC\n",
    "    )\n",
    "\n",
    "    ,Fcst_fc_utilities AS (\n",
    "        SELECT SUM(amount)*-1 amount, management_accounts, month, city, codename FROM silver.finance.cogs_forecast_utilities_fc_7_days_deltas as f WHERE true GROUP BY management_accounts, month, city, codename\n",
    "    )\n",
    "\n",
    "    ,Fcst_insuarnce AS (\n",
    "    SELECT amount::DECIMAL * 0.0045 AS amount, month, codename, 'COGS - Rent (€) - Insurance' management_accounts, city FROM Past WHERE management_accounts = 'COGS - Rent (€)'\n",
    "    )\n",
    "\n",
    "    ,Series AS (\n",
    "        SELECT\n",
    "            distinct management_accounts, city, codename,\n",
    "            explode(\n",
    "                sequence(\n",
    "                    trunc(current_date, 'month') - INTERVAL '24 MONTH',\n",
    "                    trunc(current_date, 'month') + INTERVAL '12 MONTH',\n",
    "                    INTERVAL 1 MONTH\n",
    "                )\n",
    "            ) month\n",
    "        \n",
    "        FROM Past\n",
    "    )\n",
    "\n",
    "    SELECT\n",
    "        s.management_accounts, s.month, s.city, s.codename,\n",
    "        COALESCE(SUM(p.amount), SUM(fu.amount), SUM(fi.amount), NULL) amount\n",
    "\n",
    "    FROM Series s \n",
    "        LEFT JOIN Past p ON s.management_accounts = p.management_accounts AND s.month = p.month AND s.city = p.city AND s.codename = p.codename\n",
    "        LEFT JOIN Fcst_fc_utilities fu ON s.management_accounts = fu.management_accounts AND s.month = fu.month AND s.city = fu.city AND s.codename = fu.codename\n",
    "        LEFT JOIN Fcst_insuarnce fi ON s.management_accounts = fi.management_accounts AND s.month = fi.month AND s.city = fi.city AND s.codename = fi.codename\n",
    "\n",
    "    GROUP BY s.management_accounts, s.month, s.codename, s.city\n",
    "    ORDER BY s.month, s.management_accounts ASC\n",
    "\"\"\"\n",
    "\n",
    "spark.sql(cogs_per_month_and_city_per_codename_7_days_deltas).write.mode(\"overwrite\").saveAsTable(\"silver.finance.cogs_per_month_and_city_per_codename_7_days_deltas\")\n"
   ]
  },
  {
   "cell_type": "markdown",
   "metadata": {
    "application/vnd.databricks.v1+cell": {
     "cellMetadata": {
      "byteLimit": 2048000,
      "rowLimit": 10000
     },
     "inputWidgets": {},
     "nuid": "455ede87-4cc4-41b4-a9ed-629aa68f1e3d",
     "showTitle": false,
     "tableResultSettingsMap": {},
     "title": ""
    }
   },
   "source": [
    "### 3.2.3. Deltas Since Begining of Month\n",
    "###### (COGS Forecast Table)"
   ]
  },
  {
   "cell_type": "code",
   "execution_count": 0,
   "metadata": {
    "application/vnd.databricks.v1+cell": {
     "cellMetadata": {
      "byteLimit": 2048000,
      "rowLimit": 10000
     },
     "inputWidgets": {},
     "nuid": "b56f9956-7532-47bf-8592-025e2146d9d1",
     "showTitle": false,
     "tableResultSettingsMap": {},
     "title": ""
    }
   },
   "outputs": [],
   "source": [
    "cogs_per_month_and_city_per_codename_begining_month_deltas = \"\"\"\n",
    "WITH COGS AS (\n",
    "        SELECT sum(amount)*-1 amount, to_date(month, 'd/M/yyyy') month, `Management Accounts` AS management_accounts, city, Apartment2 codename \n",
    "        FROM silver.finance.gm_by_apt_oct_24 \n",
    "        WHERE `Line Type` = 'COGS' GROUP BY to_date(month, 'd/M/yyyy'), `Management Accounts`, city, Apartment2\n",
    "    )\n",
    "\n",
    "    ,Additional_costs_2 AS (\n",
    "        SELECT\n",
    "            ams_contract_terms.apartment_id, city, JSON_TUPLE(RENT_INFO, 'additional_costs_amount') AS additional_costs_amount\n",
    "        \n",
    "        FROM silver.backoffice.ams_contract_terms TIMESTAMP AS OF CAST(trunc(CURRENT_DATE(),'month') AS TIMESTAMP) ams_contract_terms\n",
    "            LEFT JOIN silver.Backoffice.apartments TIMESTAMP AS OF CAST(trunc(CURRENT_DATE(),'month') AS TIMESTAMP) apartments ON apartments.id = ams_contract_terms.apartment_id\n",
    "    )\n",
    "\n",
    "    ,Backoffice_3 AS (\n",
    "        SELECT \n",
    "        SUM(landlord_daily_rent)::decimal as amount, \n",
    "        trunc(day, 'month') as month, 'COGS - Rent (€)' AS management_accounts, city, \n",
    "        landlord.apartment_id, landlord.end_of_grace_period\n",
    "        FROM silver.revenue.landlord TIMESTAMP AS OF CAST(trunc(CURRENT_DATE(),'month') AS TIMESTAMP) landlord \n",
    "        LEFT JOIN silver.Backoffice.apartments TIMESTAMP AS OF CAST(trunc(CURRENT_DATE(),'month') AS TIMESTAMP) apartments ON apartments.id = landlord.apartment_id\n",
    "        WHERE trunc(day, 'month') >= trunc(current_date, 'month') - INTERVAL '1 MONTH'\n",
    "        GROUP BY trunc(day, 'month'), city, landlord.apartment_id, landlord.end_of_grace_period\n",
    "    )\n",
    "\n",
    "    ,Backoffice_2 AS (\n",
    "        SELECT \n",
    "            Backoffice_3.apartment_id, Backoffice_3.city, Backoffice_3.amount, Backoffice_3.month, Backoffice_3.management_accounts,\n",
    "            CASE \n",
    "                WHEN Backoffice_3.month = trunc(end_of_grace_period, 'month') \n",
    "                    THEN (COALESCE(CAST(additional_costs_amount AS DECIMAL),0) / EXTRACT(DAY FROM trunc(month, 'month') + INTERVAL 1 MONTH - INTERVAL 1 DAY)) * (EXTRACT(DAY FROM trunc(month, 'month') + INTERVAL 1 MONTH - INTERVAL 1 DAY) - EXTRACT(DAY FROM end_of_grace_period))\n",
    "                WHEN Backoffice_3.amount = 0 THEN 0\n",
    "                ELSE COALESCE(CAST(additional_costs_amount AS DECIMAL),0)\n",
    "            END AS additional_costs_amount\n",
    "\n",
    "        FROM Backoffice_3\n",
    "            JOIN Additional_costs_2 ON Backoffice_3.apartment_id = Additional_costs_2.apartment_id\n",
    "    )\n",
    "\n",
    "    ,Backoffice AS (\n",
    "        SELECT \n",
    "        (SUM(Backoffice_2.amount) + SUM(Backoffice_2.additional_costs_amount)) amount, \n",
    "        Backoffice_2.management_accounts, Backoffice_2.city, Backoffice_2.month, apartments.codename \n",
    "        FROM Backoffice_2 \n",
    "        LEFT JOIN silver.backoffice.apartments TIMESTAMP AS OF CAST(trunc(CURRENT_DATE(),'month') AS TIMESTAMP) apartments ON Backoffice_2.apartment_id = apartments.id\n",
    "        GROUP BY Backoffice_2.management_accounts, Backoffice_2.city, Backoffice_2.month, codename\n",
    "        ORDER BY Backoffice_2.month DESC, Backoffice_2.city ASC\n",
    "    )\n",
    "\n",
    "    ,X AS (\n",
    "    SELECT amount, month, management_accounts, city, codename FROM COGS\n",
    "    UNION ALL\n",
    "    SELECT amount, month, management_accounts, city, codename FROM Backoffice\n",
    "    )\n",
    "\n",
    "    ,Past AS (\n",
    "    SELECT * \n",
    "    FROM X \n",
    "    WHERE month >= trunc(current_date, 'month') - INTERVAL '24 MONTH' AND month <= trunc(current_date, 'month') + INTERVAL '12 MONTH'\n",
    "    ORDER BY month DESC, management_accounts DESC\n",
    "    )\n",
    "\n",
    "    ,Fcst_fc_utilities AS (\n",
    "        SELECT SUM(amount)*-1 amount, management_accounts, month, city, codename FROM silver.finance.cogs_forecast_utilities_begining_month_deltas as f WHERE true GROUP BY management_accounts, month, city, codename\n",
    "    )\n",
    "\n",
    "    ,Fcst_insuarnce AS (\n",
    "    SELECT amount::DECIMAL * 0.0045 AS amount, month, codename, 'COGS - Rent (€) - Insurance' management_accounts, city FROM Past WHERE management_accounts = 'COGS - Rent (€)'\n",
    "    )\n",
    "\n",
    "    ,Series AS (\n",
    "        SELECT\n",
    "            distinct management_accounts, city, codename,\n",
    "            explode(\n",
    "                sequence(\n",
    "                    trunc(current_date, 'month') - INTERVAL '24 MONTH',\n",
    "                    trunc(current_date, 'month') + INTERVAL '12 MONTH',\n",
    "                    INTERVAL 1 MONTH\n",
    "                )\n",
    "            ) month\n",
    "        \n",
    "        FROM Past\n",
    "    )\n",
    "\n",
    "    SELECT \n",
    "        s.management_accounts, s.month, s.city, s.codename,\n",
    "        COALESCE(SUM(p.amount), SUM(fu.amount), SUM(fi.amount), NULL) amount\n",
    "\n",
    "    FROM Series s \n",
    "        LEFT JOIN Past p ON s.management_accounts = p.management_accounts AND s.month = p.month AND s.city = p.city AND s.codename = p.codename\n",
    "        LEFT JOIN Fcst_fc_utilities fu ON s.management_accounts = fu.management_accounts AND s.month = fu.month AND s.city = fu.city AND s.codename = fu.codename\n",
    "        LEFT JOIN Fcst_insuarnce fi ON s.management_accounts = fi.management_accounts AND s.month = fi.month AND s.city = fi.city AND s.codename = fi.codename\n",
    "\n",
    "    GROUP BY s.management_accounts, s.month, s.codename, s.city\n",
    "    ORDER BY s.month, s.management_accounts ASC\n",
    "\"\"\"\n",
    "\n",
    "spark.sql(cogs_per_month_and_city_per_codename_begining_month_deltas).write.mode(\"overwrite\").saveAsTable(\"silver.finance.cogs_per_month_and_city_per_codename_begining_month_deltas\")\n"
   ]
  },
  {
   "cell_type": "markdown",
   "metadata": {
    "application/vnd.databricks.v1+cell": {
     "cellMetadata": {
      "byteLimit": 2048000,
      "rowLimit": 10000
     },
     "inputWidgets": {},
     "nuid": "5bc7da89-2b7f-4d42-b612-4b8213518ec4",
     "showTitle": false,
     "tableResultSettingsMap": {},
     "title": ""
    }
   },
   "source": [
    "#"
   ]
  },
  {
   "cell_type": "markdown",
   "metadata": {
    "application/vnd.databricks.v1+cell": {
     "cellMetadata": {
      "byteLimit": 2048000,
      "rowLimit": 10000
     },
     "inputWidgets": {},
     "nuid": "ce785650-d5d0-411c-a1af-e90bdf99e312",
     "showTitle": false,
     "tableResultSettingsMap": {},
     "title": ""
    }
   },
   "source": [
    "# 4. Budget"
   ]
  },
  {
   "cell_type": "code",
   "execution_count": 0,
   "metadata": {
    "application/vnd.databricks.v1+cell": {
     "cellMetadata": {
      "byteLimit": 2048000,
      "rowLimit": 10000
     },
     "collapsed": true,
     "inputWidgets": {},
     "nuid": "87ea8fed-0537-4778-8e75-6cb1de3c4d21",
     "showTitle": false,
     "tableResultSettingsMap": {},
     "title": ""
    }
   },
   "outputs": [],
   "source": [
    "## USE THE FOLLOWING SPREADSHEET TO UPDATE ACORDING TO WORKING FILE\n",
    "\n",
    "best_case_budget_pl_volume = \"\"\"\n",
    "SELECT account, city, db_month month, volume value FROM silver.finance.raw_working_file_volume_updates\n",
    "\"\"\"\n",
    "\n",
    "a = spark.sql(best_case_budget_pl_volume)\n",
    "\n",
    "a.count()\n",
    "\n",
    "a.repartition(1).write.mode(\"overwrite\").saveAsTable(\"silver.finance.best_case_budget_pl_volume\")\n"
   ]
  }
 ],
 "metadata": {
  "application/vnd.databricks.v1+notebook": {
   "computePreferences": null,
   "dashboards": [],
   "environmentMetadata": {
    "base_environment": "",
    "environment_version": "2"
   },
   "language": "python",
   "notebookMetadata": {
    "pythonIndentUnit": 4
   },
   "notebookName": "Finance KPIs'",
   "widgets": {}
  },
  "language_info": {
   "name": "python"
  }
 },
 "nbformat": 4,
 "nbformat_minor": 0
}