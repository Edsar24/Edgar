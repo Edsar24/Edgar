{
 "cells": [
  {
   "cell_type": "markdown",
   "metadata": {
    "application/vnd.databricks.v1+cell": {
     "cellMetadata": {
      "byteLimit": 2048000,
      "rowLimit": 10000
     },
     "inputWidgets": {},
     "nuid": "4a2707e3-7161-4c25-804c-0e55ba53fae7",
     "showTitle": false,
     "tableResultSettingsMap": {},
     "title": ""
    }
   },
   "source": [
    "# 1. Idealista Data Cleaning"
   ]
  },
  {
   "cell_type": "code",
   "execution_count": 0,
   "metadata": {
    "application/vnd.databricks.v1+cell": {
     "cellMetadata": {
      "byteLimit": 2048000,
      "rowLimit": 10000
     },
     "inputWidgets": {},
     "nuid": "a6095dc6-a703-42f7-9265-98c240e1e650",
     "showTitle": false,
     "tableResultSettingsMap": {},
     "title": ""
    }
   },
   "outputs": [],
   "source": [
    "Idealista_MILAN = spark.table(\"silver.edgar_sarto_revenue.idealista_milan_joined\")\n",
    "Idealista_MILAN_1 = spark.table(\"silver.edgar_sarto_revenue.idealista_milan_joined_1\")\n",
    "Idealista_MILAN_2 = spark.table(\"silver.edgar_sarto_revenue.idealista_milan_joined_2\")\n",
    "\n",
    "IRM = Idealista_MILAN.toPandas()\n",
    "IRM_1 = Idealista_MILAN_1.toPandas()\n",
    "IRM_2 = Idealista_MILAN_2.toPandas()\n"
   ]
  },
  {
   "cell_type": "code",
   "execution_count": 0,
   "metadata": {
    "application/vnd.databricks.v1+cell": {
     "cellMetadata": {
      "byteLimit": 2048000,
      "rowLimit": 10000
     },
     "inputWidgets": {},
     "nuid": "079c8253-1283-4694-9c06-c43c97e22c97",
     "showTitle": false,
     "tableResultSettingsMap": {},
     "title": ""
    }
   },
   "outputs": [],
   "source": [
    "import pandas as pd\n",
    "\n",
    "IRM['City'] = 'Milan'\n",
    "IRM_1['City'] = 'Milan'\n",
    "IRM_2['City'] = 'Milan'\n",
    "\n",
    "IR = pd.concat([IRM, IRM_1, IRM_2], ignore_index=True)\n",
    "\n"
   ]
  },
  {
   "cell_type": "code",
   "execution_count": 0,
   "metadata": {
    "application/vnd.databricks.v1+cell": {
     "cellMetadata": {
      "byteLimit": 2048000,
      "rowLimit": 10000
     },
     "inputWidgets": {},
     "nuid": "254a2fed-9c23-42a3-8b92-bc09e8cf209f",
     "showTitle": false,
     "tableResultSettingsMap": {},
     "title": ""
    }
   },
   "outputs": [
    {
     "output_type": "execute_result",
     "data": {
      "text/html": [
       "<div>\n",
       "<style scoped>\n",
       "    .dataframe tbody tr th:only-of-type {\n",
       "        vertical-align: middle;\n",
       "    }\n",
       "\n",
       "    .dataframe tbody tr th {\n",
       "        vertical-align: top;\n",
       "    }\n",
       "\n",
       "    .dataframe thead th {\n",
       "        text-align: right;\n",
       "    }\n",
       "</style>\n",
       "<table border=\"1\" class=\"dataframe\">\n",
       "  <thead>\n",
       "    <tr style=\"text-align: right;\">\n",
       "      <th></th>\n",
       "      <th>Text</th>\n",
       "      <th>Text1</th>\n",
       "      <th>Text10</th>\n",
       "      <th>Text11</th>\n",
       "      <th>Text12</th>\n",
       "      <th>Text13</th>\n",
       "      <th>Text14</th>\n",
       "      <th>Text15</th>\n",
       "      <th>Text16</th>\n",
       "      <th>Text17</th>\n",
       "      <th>Text18</th>\n",
       "      <th>Text19</th>\n",
       "      <th>Text2</th>\n",
       "      <th>Text20</th>\n",
       "      <th>Text21</th>\n",
       "      <th>Text22</th>\n",
       "      <th>Text23</th>\n",
       "      <th>Text24</th>\n",
       "      <th>Text25</th>\n",
       "      <th>Text26</th>\n",
       "      <th>Text27</th>\n",
       "      <th>Text28</th>\n",
       "      <th>Text3</th>\n",
       "      <th>Text4</th>\n",
       "      <th>Text5</th>\n",
       "      <th>Text6</th>\n",
       "      <th>Text7</th>\n",
       "      <th>Text8</th>\n",
       "      <th>Text9</th>\n",
       "      <th>City</th>\n",
       "    </tr>\n",
       "  </thead>\n",
       "  <tbody>\n",
       "    <tr>\n",
       "      <th>0</th>\n",
       "      <td>\\nThe Best Rent - Appartamenti in Affitto Brev...</td>\n",
       "      <td>\\n205\\n</td>\n",
       "      <td>Con ascensore</td>\n",
       "      <td>3º piano</td>\n",
       "      <td></td>\n",
       "      <td>Classe energetica (D.L. 192 del 2005):  (222,4...</td>\n",
       "      <td>Riscaldamento centralizzato: Gas</td>\n",
       "      <td>Ammobiliato e con cucina attrezzata</td>\n",
       "      <td>Costruito nel 1950</td>\n",
       "      <td>Orientamento sud</td>\n",
       "      <td>Buono stato</td>\n",
       "      <td>1 bagno</td>\n",
       "      <td>\\nMilano\\n</td>\n",
       "      <td>2 locali</td>\n",
       "      <td>70 m² commerciali</td>\n",
       "      <td>\\nAria condizionata\\n</td>\n",
       "      <td></td>\n",
       "      <td></td>\n",
       "      <td>\\n70 m2\\n</td>\n",
       "      <td>2.100</td>\n",
       "      <td>\\n2 locali\\n</td>\n",
       "      <td>\\n3º piano con ascensore\\n</td>\n",
       "      <td>\\nZona Garibaldi - Porta Venezia\\n</td>\n",
       "      <td>\\nQuartiere Centrale\\n</td>\n",
       "      <td>\\nVia Copernico, 49\\n</td>\n",
       "      <td>30,00 €/m²</td>\n",
       "      <td>2.100 €/mese</td>\n",
       "      <td></td>\n",
       "      <td>\\nCauzione di 1 mese\\n</td>\n",
       "      <td>Milan</td>\n",
       "    </tr>\n",
       "  </tbody>\n",
       "</table>\n",
       "</div>"
      ],
      "text/plain": [
       "                                                Text  ...   City\n",
       "0  \\nThe Best Rent - Appartamenti in Affitto Brev...  ...  Milan\n",
       "\n",
       "[1 rows x 30 columns]"
      ]
     },
     "execution_count": 5,
     "metadata": {},
     "output_type": "execute_result"
    }
   ],
   "source": [
    "IR.head(1)"
   ]
  },
  {
   "cell_type": "code",
   "execution_count": 0,
   "metadata": {
    "application/vnd.databricks.v1+cell": {
     "cellMetadata": {
      "byteLimit": 2048000,
      "rowLimit": 10000
     },
     "inputWidgets": {},
     "nuid": "4e1bddf4-d9cd-48da-b02e-995607de9bad",
     "showTitle": false,
     "tableResultSettingsMap": {},
     "title": ""
    }
   },
   "outputs": [],
   "source": [
    "IR = IR.iloc[:, [0, 1, 12, 22, 23, 24, 25, 26, 27, 28, 2, 3, 4, 5, 6, 7, 8, 9, 10, 11, 13, 14, 15, 16, 17, 18, 19, 20, 21, 29]]"
   ]
  },
  {
   "cell_type": "code",
   "execution_count": 0,
   "metadata": {
    "application/vnd.databricks.v1+cell": {
     "cellMetadata": {
      "byteLimit": 2048000,
      "rowLimit": 10000
     },
     "inputWidgets": {},
     "nuid": "d2b9aa01-7c99-49e3-9764-5c6fd4c04416",
     "showTitle": false,
     "tableResultSettingsMap": {},
     "title": ""
    }
   },
   "outputs": [
    {
     "output_type": "execute_result",
     "data": {
      "text/html": [
       "<div>\n",
       "<style scoped>\n",
       "    .dataframe tbody tr th:only-of-type {\n",
       "        vertical-align: middle;\n",
       "    }\n",
       "\n",
       "    .dataframe tbody tr th {\n",
       "        vertical-align: top;\n",
       "    }\n",
       "\n",
       "    .dataframe thead th {\n",
       "        text-align: right;\n",
       "    }\n",
       "</style>\n",
       "<table border=\"1\" class=\"dataframe\">\n",
       "  <thead>\n",
       "    <tr style=\"text-align: right;\">\n",
       "      <th></th>\n",
       "      <th>Text</th>\n",
       "      <th>Text1</th>\n",
       "      <th>Text2</th>\n",
       "      <th>Text3</th>\n",
       "      <th>Text4</th>\n",
       "      <th>Text5</th>\n",
       "      <th>Text6</th>\n",
       "      <th>Text7</th>\n",
       "      <th>Text8</th>\n",
       "      <th>Text9</th>\n",
       "      <th>Text10</th>\n",
       "      <th>Text11</th>\n",
       "      <th>Text12</th>\n",
       "      <th>Text13</th>\n",
       "      <th>Text14</th>\n",
       "      <th>Text15</th>\n",
       "      <th>Text16</th>\n",
       "      <th>Text17</th>\n",
       "      <th>Text18</th>\n",
       "      <th>Text19</th>\n",
       "      <th>Text20</th>\n",
       "      <th>Text21</th>\n",
       "      <th>Text22</th>\n",
       "      <th>Text23</th>\n",
       "      <th>Text24</th>\n",
       "      <th>Text25</th>\n",
       "      <th>Text26</th>\n",
       "      <th>Text27</th>\n",
       "      <th>Text28</th>\n",
       "      <th>City</th>\n",
       "    </tr>\n",
       "  </thead>\n",
       "  <tbody>\n",
       "    <tr>\n",
       "      <th>0</th>\n",
       "      <td>\\nThe Best Rent - Appartamenti in Affitto Brev...</td>\n",
       "      <td>\\n205\\n</td>\n",
       "      <td>\\nMilano\\n</td>\n",
       "      <td>\\nZona Garibaldi - Porta Venezia\\n</td>\n",
       "      <td>\\nQuartiere Centrale\\n</td>\n",
       "      <td>\\nVia Copernico, 49\\n</td>\n",
       "      <td>30,00 €/m²</td>\n",
       "      <td>2.100 €/mese</td>\n",
       "      <td></td>\n",
       "      <td>\\nCauzione di 1 mese\\n</td>\n",
       "      <td>Con ascensore</td>\n",
       "      <td>3º piano</td>\n",
       "      <td></td>\n",
       "      <td>Classe energetica (D.L. 192 del 2005):  (222,4...</td>\n",
       "      <td>Riscaldamento centralizzato: Gas</td>\n",
       "      <td>Ammobiliato e con cucina attrezzata</td>\n",
       "      <td>Costruito nel 1950</td>\n",
       "      <td>Orientamento sud</td>\n",
       "      <td>Buono stato</td>\n",
       "      <td>1 bagno</td>\n",
       "      <td>2 locali</td>\n",
       "      <td>70 m² commerciali</td>\n",
       "      <td>\\nAria condizionata\\n</td>\n",
       "      <td></td>\n",
       "      <td></td>\n",
       "      <td>\\n70 m2\\n</td>\n",
       "      <td>2.100</td>\n",
       "      <td>\\n2 locali\\n</td>\n",
       "      <td>\\n3º piano con ascensore\\n</td>\n",
       "      <td>Milan</td>\n",
       "    </tr>\n",
       "  </tbody>\n",
       "</table>\n",
       "</div>"
      ],
      "text/plain": [
       "                                                Text  ...   City\n",
       "0  \\nThe Best Rent - Appartamenti in Affitto Brev...  ...  Milan\n",
       "\n",
       "[1 rows x 30 columns]"
      ]
     },
     "execution_count": 7,
     "metadata": {},
     "output_type": "execute_result"
    }
   ],
   "source": [
    "IR.head(1)"
   ]
  },
  {
   "cell_type": "code",
   "execution_count": 0,
   "metadata": {
    "application/vnd.databricks.v1+cell": {
     "cellMetadata": {
      "byteLimit": 2048000,
      "rowLimit": 10000
     },
     "inputWidgets": {},
     "nuid": "f5b5e04f-9ca8-4b9f-9f1f-bd91be181a67",
     "showTitle": false,
     "tableResultSettingsMap": {},
     "title": ""
    }
   },
   "outputs": [],
   "source": [
    "## DROP ROWS WITHOUT A PRICE\n",
    "IR = IR.dropna(subset=['Text6'])"
   ]
  },
  {
   "cell_type": "code",
   "execution_count": 0,
   "metadata": {
    "application/vnd.databricks.v1+cell": {
     "cellMetadata": {
      "byteLimit": 2048000,
      "rowLimit": 10000
     },
     "inputWidgets": {},
     "nuid": "a255cfa4-474b-4d37-90d7-a1f6fdb678bb",
     "showTitle": false,
     "tableResultSettingsMap": {},
     "title": ""
    }
   },
   "outputs": [
    {
     "output_type": "execute_result",
     "data": {
      "text/plain": [
       "SPACEST.COM BY ROOMLESS                          482\n",
       "SANTAMARTA IMMOBILI                               48\n",
       "UNIPLACES CUSTOMER SERVICE                        48\n",
       "ICON PROPERTIES                                   45\n",
       "NOVECENTOCASE                                     39\n",
       "                                                ... \n",
       "AFFILIATO TECNOCASA: A3G SAS                       1\n",
       "AFFILIATO TECNOCASA: IMMOBILIARE MI.CA S.A.S.      1\n",
       "FRANCIMMOBILIARE SAS DI ANNECCHINI & C.            1\n",
       "TEMPOCASA MILANO - CERTOSA .                       1\n",
       "VENDOCASA MILANO TIBALDI                           1\n",
       "Name: Agency, Length: 940, dtype: int64"
      ]
     },
     "execution_count": 9,
     "metadata": {},
     "output_type": "execute_result"
    }
   ],
   "source": [
    "## CONVERT ALL STRINGS TEXT 1 TO UPPER AND CHANG THE COLUMN NAME TO AGENCY\n",
    "\n",
    "IR['Text'] = IR['Text'].str.upper()\n",
    "IR.rename(columns={'Text': 'Agency'}, inplace=True)\n",
    "IR['Agency'].replace('\\n', '', regex=True, inplace=True)\n",
    "IR['Agency'].value_counts()"
   ]
  },
  {
   "cell_type": "markdown",
   "metadata": {
    "application/vnd.databricks.v1+cell": {
     "cellMetadata": {
      "byteLimit": 2048000,
      "rowLimit": 10000
     },
     "inputWidgets": {},
     "nuid": "de349e09-ff4a-44e3-a5f8-3d77cfcf69ba",
     "showTitle": false,
     "tableResultSettingsMap": {},
     "title": ""
    }
   },
   "source": [
    "## 1.1. City / Zone / Neighborhood / Street"
   ]
  },
  {
   "cell_type": "code",
   "execution_count": 0,
   "metadata": {
    "application/vnd.databricks.v1+cell": {
     "cellMetadata": {
      "byteLimit": 2048000,
      "rowLimit": 10000
     },
     "inputWidgets": {},
     "nuid": "a21aa16b-1db7-495d-925c-5a5307e8d868",
     "showTitle": false,
     "tableResultSettingsMap": {},
     "title": ""
    }
   },
   "outputs": [
    {
     "output_type": "execute_result",
     "data": {
      "text/plain": [
       "MILAN    3438\n",
       "Name: City, dtype: int64"
      ]
     },
     "execution_count": 10,
     "metadata": {},
     "output_type": "execute_result"
    }
   ],
   "source": [
    "## CLEAN CITY COLUMN\n",
    "\n",
    "#IR['Text2.1'] = IR['Text2']\n",
    "#\n",
    "#def shift_values(row):\n",
    "#    if row['Text2'] is None:\n",
    "#        row['Text2'] = 'Roma'\n",
    "#    elif 'Zona' in row['Text2']:\n",
    "#        row['Text2'] = None\n",
    "#    elif 'Roma' not in row['Text2']:\n",
    "#        row['Text2'] = 'Roma'\n",
    "#    elif 'Roma, Roma' in row['Text2']:\n",
    "#        row['Text2'] = 'Roma'\n",
    "#    return row\n",
    "#\n",
    "#IR = IR.apply(shift_values, axis=1)\n",
    "#\n",
    "#IR.rename(columns={'Text2': 'City', 'Text2.1': 'Text2'}, inplace=True)\n",
    "\n",
    "IR['City'] = IR['City'].str.upper()\n",
    "\n",
    "IR['City'].value_counts()"
   ]
  },
  {
   "cell_type": "code",
   "execution_count": 0,
   "metadata": {
    "application/vnd.databricks.v1+cell": {
     "cellMetadata": {
      "byteLimit": 2048000,
      "rowLimit": 10000
     },
     "inputWidgets": {},
     "nuid": "57b25f5c-5349-482d-a81b-811968c6238e",
     "showTitle": false,
     "tableResultSettingsMap": {},
     "title": ""
    }
   },
   "outputs": [
    {
     "output_type": "execute_result",
     "data": {
      "text/plain": [
       "0       \\nZona Garibaldi - Porta Venezia\\n\n",
       "1       \\nZona Garibaldi - Porta Venezia\\n\n",
       "2       \\nZona Garibaldi - Porta Venezia\\n\n",
       "3               \\nZona Navigli - Bocconi\\n\n",
       "4                  \\nZona Porta Vittoria\\n\n",
       "                       ...                \n",
       "3433            \\nZona Navigli - Bocconi\\n\n",
       "3434               \\nZona Porta Vittoria\\n\n",
       "3435               \\nZona Porta Vittoria\\n\n",
       "3436            \\nZona Navigli - Bocconi\\n\n",
       "3437            \\nZona Navigli - Bocconi\\n\n",
       "Name: Text3, Length: 3438, dtype: object"
      ]
     },
     "execution_count": 11,
     "metadata": {},
     "output_type": "execute_result"
    }
   ],
   "source": [
    "IR['Text3']"
   ]
  },
  {
   "cell_type": "code",
   "execution_count": 0,
   "metadata": {
    "application/vnd.databricks.v1+cell": {
     "cellMetadata": {
      "byteLimit": 2048000,
      "rowLimit": 10000
     },
     "inputWidgets": {},
     "nuid": "4a107b2f-f0d2-4509-9ec4-45250eaf5ea8",
     "showTitle": false,
     "tableResultSettingsMap": {},
     "title": ""
    }
   },
   "outputs": [
    {
     "output_type": "execute_result",
     "data": {
      "text/plain": [
       "ZONA FIERA - DE ANGELI               894\n",
       "ZONA GARIBALDI - PORTA VENEZIA       828\n",
       "ZONA NAVIGLI - BOCCONI               677\n",
       "ZONA PORTA VITTORIA                  459\n",
       "ZONA CENTRO STORICO                  358\n",
       "ZONA COMASINA - BICOCCA               31\n",
       "ZONA GRECO - TURRO                    25\n",
       "ZONA LORENTEGGIO - BANDE NERE         25\n",
       "ZONA ABBIATEGRASSO - CHIESA ROSSA     14\n",
       "ZONA CITTÀ STUDI - LAMBRATE           13\n",
       "ZONA SAN SIRO - TRENNO                10\n",
       "ZONA CERTOSA                           4\n",
       "ZONA VIGENTINO - RIPAMONTI             2\n",
       "ZONA FAMAGOSTA - NAVIGLIO GRANDE       1\n",
       "Name: District, dtype: int64"
      ]
     },
     "execution_count": 12,
     "metadata": {},
     "output_type": "execute_result"
    }
   ],
   "source": [
    "## CLEAN ZONE COLUMN\n",
    "\n",
    "IR['Text3.1'] = IR['Text3']\n",
    "\n",
    "def shift_values(row):\n",
    "    if pd.notna(row['Text3']) and 'Roma' in row['Text3']:\n",
    "        row['Text3'] = None\n",
    "    elif pd.notna(row['Text2']) and 'Zona' in row['Text2']:\n",
    "        row['Text2'], row['Text3'] = None, row['Text2']\n",
    "    elif pd.notna(row['Text3']) and 'Zona' not in row['Text3']:\n",
    "        row['Text3'] = None\n",
    "    return row\n",
    "\n",
    "IR = IR.apply(shift_values, axis=1)\n",
    "\n",
    "IR.rename(columns={'Text3': 'District', 'Text3.1': 'Text3'}, inplace=True)\n",
    "\n",
    "IR.drop(columns=['Text2'], inplace=True)\n",
    "\n",
    "IR['District'] = IR['District'].str.upper()\n",
    "\n",
    "IR['District'].replace('\\n', '', regex=True, inplace=True)\n",
    "\n",
    "IR['District'].value_counts()"
   ]
  },
  {
   "cell_type": "code",
   "execution_count": 0,
   "metadata": {
    "application/vnd.databricks.v1+cell": {
     "cellMetadata": {
      "byteLimit": 2048000,
      "rowLimit": 10000
     },
     "inputWidgets": {},
     "nuid": "241c3618-b2e9-45a5-95d9-dac057228275",
     "showTitle": false,
     "tableResultSettingsMap": {},
     "title": ""
    }
   },
   "outputs": [
    {
     "output_type": "execute_result",
     "data": {
      "text/plain": [
       "QUARTIERE CINQUE GIORNATE - CADORE                     225\n",
       "QUARTIERE SAN VITTORE - WASHINGTON                     191\n",
       "QUARTIERE SEMPIONE                                     165\n",
       "QUARTIERE ISOLA                                        162\n",
       "QUARTIERE NAVIGLI - PORTA GENOVA                       162\n",
       "QUARTIERE ARIOSTO - MAGENTA                            143\n",
       "QUARTIERE CARROBBIO - CINQUE VIE                       143\n",
       "QUARTIERE SOLARI - SAVONA                              136\n",
       "QUARTIERE GOTTARDO                                     128\n",
       "QUARTIERE FIERA                                        125\n",
       "QUARTIERE PORTA ROMANA                                 122\n",
       "QUARTIERE CENTRALE                                     111\n",
       "QUARTIERE INDIPENDENZA - REGINA GIOVANNA               109\n",
       "QUARTIERE CORSO GENOVA                                 109\n",
       "QUARTIERE TRIBUNALE - GUASTALLA                        106\n",
       "QUARTIERE CENISIO - SARPI                               92\n",
       "QUARTIERE PORTELLO - TRE TORRI                          88\n",
       "QUARTIERE MERCALLI - QUADRONNO                          84\n",
       "QUARTIERE PORTA VENEZIA - REPUBBLICA                    78\n",
       "QUARTIERE GOVONE                                        76\n",
       "QUARTIERE BUENOS AIRES                                  72\n",
       "QUARTIERE MOSCOVA                                       72\n",
       "QUARTIERE PALESTRO - MONFORTE                           66\n",
       "QUARTIERE MISSORI - AUGUSTO                             65\n",
       "QUARTIERE DUOMO - SAN BABILA                            63\n",
       "QUARTIERE GARIBALDI - CORSO COMO                        60\n",
       "QUARTIERE BOCCONI                                       58\n",
       "QUARTIERE MORGAGNI - BACONE                             54\n",
       "QUARTIERE PORTA NUOVA - TURATI                          44\n",
       "QUARTIERE BRERA - MONTENAPOLEONE                        41\n",
       "QUARTIERE DERGANO                                       23\n",
       "QUARTIERE QUADRILATERO DELLA MODA                       17\n",
       "QUARTIERE PORTA VITTORIA - CALVAIRATE                   17\n",
       "QUARTIERE MAGGIOLINA - VILLAGGIO DEI GIORNALISTI        17\n",
       "QUARTIERE ROMAGNA                                       16\n",
       "QUARTIERE CITY LIFE                                     14\n",
       "QUARTIERE TIBALDI - PEZZOTTI                            14\n",
       "QUARTIERE LORENTEGGIO - GIAMBELLINO                     11\n",
       "QUARTIERE BANDE NERE - GAMBARA                          10\n",
       "QUARTIERE MORGANTINI - SEGESTA                           9\n",
       "QUARTIERE CADORNA - CASTELLO                             9\n",
       "QUARTIERE NOLO - BRIANZA - PASTEUR                       7\n",
       "QUARTIERE BOVISA                                         7\n",
       "QUARTIERE LODI - BRENTA                                  6\n",
       "QUARTIERE SODERINI                                       4\n",
       "QUARTIERE ACCURSIO                                       2\n",
       "QUARTIERE PREALPI - TESTORI                              2\n",
       "QUARTIERE VIGENTINO                                      1\n",
       "QUARTIERE FONDAZIONE PRADA - SCALO ROMANA                1\n",
       "QUARTIERE ZONA SANT'AMBROGIO - UNIVERSITÀ CATTOLICA      1\n",
       "QUARTIERE GRECO                                          1\n",
       "QUARTIERE ISTRIA                                         1\n",
       "QUARTIERE SAN SIRO                                       1\n",
       "QUARTIERE NAVIGLIO GRANDE - SAN CRISTOFORO               1\n",
       "Name: Neighborhood, dtype: int64"
      ]
     },
     "execution_count": 13,
     "metadata": {},
     "output_type": "execute_result"
    }
   ],
   "source": [
    "## CLEAN NEIGHBORHOOD COLUMN\n",
    "\n",
    "IR['Text4.1'] = IR['Text4']\n",
    "\n",
    "def shift_values(row):\n",
    "    if pd.notna(row['Text4']) and 'Zona' in row['Text4']:\n",
    "        row['Text4'] = None\n",
    "    elif pd.notna(row['Text3']) and 'Quartiere' in row['Text3']:\n",
    "        row['Text3'], row['Text4'] = None, row['Text3']\n",
    "    elif pd.notna(row['Text4']) and 'Quartiere' not in row['Text4']:\n",
    "        row['Text4'] = None\n",
    "    return row\n",
    "\n",
    "IR = IR.apply(shift_values, axis=1)\n",
    "\n",
    "IR.rename(columns={'Text4': 'Neighborhood', 'Text4.1': 'Text4'}, inplace=True)\n",
    "\n",
    "IR.drop(columns=['Text3'], inplace=True)\n",
    "\n",
    "IR['Neighborhood'] = IR['Neighborhood'].str.upper()\n",
    "\n",
    "IR['Neighborhood'].replace('\\n', '', regex=True, inplace=True)\n",
    "\n",
    "IR['Neighborhood'].value_counts()"
   ]
  },
  {
   "cell_type": "code",
   "execution_count": 0,
   "metadata": {
    "application/vnd.databricks.v1+cell": {
     "cellMetadata": {
      "byteLimit": 2048000,
      "rowLimit": 10000
     },
     "inputWidgets": {},
     "nuid": "d5f4c321-feb7-4b2f-8c82-6fc04f4599bf",
     "showTitle": false,
     "tableResultSettingsMap": {},
     "title": ""
    }
   },
   "outputs": [],
   "source": [
    "IR.rename(columns={'Text5': 'Street'}, inplace=True)\n",
    "IR['Street'] = IR['Street'].str.upper()"
   ]
  },
  {
   "cell_type": "markdown",
   "metadata": {
    "application/vnd.databricks.v1+cell": {
     "cellMetadata": {
      "byteLimit": 2048000,
      "rowLimit": 10000
     },
     "inputWidgets": {},
     "nuid": "1eaf6ad1-0185-4ae0-a738-ab2720f9b277",
     "showTitle": false,
     "tableResultSettingsMap": {},
     "title": ""
    }
   },
   "source": [
    "## 1.2. Prices"
   ]
  },
  {
   "cell_type": "code",
   "execution_count": 0,
   "metadata": {
    "application/vnd.databricks.v1+cell": {
     "cellMetadata": {
      "byteLimit": 2048000,
      "rowLimit": 10000
     },
     "inputWidgets": {},
     "nuid": "f9f67dc4-7ff6-43ec-a4b6-66eb48f2970e",
     "showTitle": false,
     "tableResultSettingsMap": {},
     "title": ""
    }
   },
   "outputs": [],
   "source": [
    "## € / SQM2\n",
    "\n",
    "def shift_values(row):\n",
    "    if row['Text6'] is not None and 'piano con ascensore' in row['Text6']:\n",
    "        row['Text6'], row['Text28'] = None, row['Text6']\n",
    "    return row\n",
    "\n",
    "IR = IR.apply(shift_values, axis=1)\n",
    "\n",
    "IR.rename(columns={'Text6': '€_Sqm'}, inplace=True)\n",
    "\n",
    "euro_sm2 = {' €/m²':'' ,' �/m_': '', ',':'.'}\n",
    "\n",
    "IR['€_Sqm'].replace(euro_sm2, regex=True, inplace=True)\n",
    "\n",
    "IR['€_Sqm'].replace('', float('nan'), inplace=True)\n",
    "\n",
    "IR['€_Sqm'] = IR['€_Sqm'].astype(float)\n"
   ]
  },
  {
   "cell_type": "code",
   "execution_count": 0,
   "metadata": {
    "application/vnd.databricks.v1+cell": {
     "cellMetadata": {
      "byteLimit": 2048000,
      "rowLimit": 10000
     },
     "inputWidgets": {},
     "nuid": "38f3ac23-6e43-4d66-85f0-1c9e5f6740b6",
     "showTitle": false,
     "tableResultSettingsMap": {},
     "title": ""
    }
   },
   "outputs": [],
   "source": [
    "## MONTHLY PRICE\n",
    "\n",
    "price = {' €/mes': '', ' €/mese': '', 'e': ''}\n",
    "\n",
    "IR.rename(columns={'Text7': 'Monthly_Price'}, inplace=True)\n",
    "\n",
    "IR['Monthly_Price'].replace(price, regex=True, inplace=True)\n",
    "\n",
    "IR['Monthly_Price'].replace('', float('nan'), inplace=True)\n",
    "\n",
    "IR['Monthly_Price'] = IR['Monthly_Price'].astype(float)\n",
    "\n",
    "def multiply_if_less_than_100(x):\n",
    "    return x * 1000 if x < 100 else x\n",
    "\n",
    "IR['Monthly_Price'] = IR['Monthly_Price'].apply(multiply_if_less_than_100)"
   ]
  },
  {
   "cell_type": "code",
   "execution_count": 0,
   "metadata": {
    "application/vnd.databricks.v1+cell": {
     "cellMetadata": {
      "byteLimit": 2048000,
      "rowLimit": 10000
     },
     "inputWidgets": {},
     "nuid": "1c2ae21b-62e1-4d25-8031-3f75dbba6773",
     "showTitle": false,
     "tableResultSettingsMap": {},
     "title": ""
    }
   },
   "outputs": [
    {
     "output_type": "execute_result",
     "data": {
      "text/html": [
       "<div>\n",
       "<style scoped>\n",
       "    .dataframe tbody tr th:only-of-type {\n",
       "        vertical-align: middle;\n",
       "    }\n",
       "\n",
       "    .dataframe tbody tr th {\n",
       "        vertical-align: top;\n",
       "    }\n",
       "\n",
       "    .dataframe thead th {\n",
       "        text-align: right;\n",
       "    }\n",
       "</style>\n",
       "<table border=\"1\" class=\"dataframe\">\n",
       "  <thead>\n",
       "    <tr style=\"text-align: right;\">\n",
       "      <th></th>\n",
       "      <th>Agency</th>\n",
       "      <th>Text1</th>\n",
       "      <th>District</th>\n",
       "      <th>Neighborhood</th>\n",
       "      <th>Street</th>\n",
       "      <th>€_Sqm</th>\n",
       "      <th>Monthly_Price</th>\n",
       "      <th>Text8</th>\n",
       "      <th>Text9</th>\n",
       "      <th>Text10</th>\n",
       "      <th>Text11</th>\n",
       "      <th>Text12</th>\n",
       "      <th>Text13</th>\n",
       "      <th>Text14</th>\n",
       "      <th>Text15</th>\n",
       "      <th>Text16</th>\n",
       "      <th>Text17</th>\n",
       "      <th>Text18</th>\n",
       "      <th>Text19</th>\n",
       "      <th>Text20</th>\n",
       "      <th>Text21</th>\n",
       "      <th>Text22</th>\n",
       "      <th>Text23</th>\n",
       "      <th>Text24</th>\n",
       "      <th>Text25</th>\n",
       "      <th>Text26</th>\n",
       "      <th>Text27</th>\n",
       "      <th>Text28</th>\n",
       "      <th>City</th>\n",
       "      <th>Text4</th>\n",
       "    </tr>\n",
       "  </thead>\n",
       "  <tbody>\n",
       "    <tr>\n",
       "      <th>0</th>\n",
       "      <td>THE BEST RENT - APPARTAMENTI IN AFFITTO BREVE ...</td>\n",
       "      <td>\\n205\\n</td>\n",
       "      <td>ZONA GARIBALDI - PORTA VENEZIA</td>\n",
       "      <td>QUARTIERE CENTRALE</td>\n",
       "      <td>\\nVIA COPERNICO, 49\\n</td>\n",
       "      <td>30.00</td>\n",
       "      <td>2100.0</td>\n",
       "      <td></td>\n",
       "      <td>\\nCauzione di 1 mese\\n</td>\n",
       "      <td>Con ascensore</td>\n",
       "      <td>3º piano</td>\n",
       "      <td></td>\n",
       "      <td>Classe energetica (D.L. 192 del 2005):  (222,4...</td>\n",
       "      <td>Riscaldamento centralizzato: Gas</td>\n",
       "      <td>Ammobiliato e con cucina attrezzata</td>\n",
       "      <td>Costruito nel 1950</td>\n",
       "      <td>Orientamento sud</td>\n",
       "      <td>Buono stato</td>\n",
       "      <td>1 bagno</td>\n",
       "      <td>2 locali</td>\n",
       "      <td>70 m² commerciali</td>\n",
       "      <td>\\nAria condizionata\\n</td>\n",
       "      <td></td>\n",
       "      <td></td>\n",
       "      <td>\\n70 m2\\n</td>\n",
       "      <td>2.100</td>\n",
       "      <td>\\n2 locali\\n</td>\n",
       "      <td>\\n3º piano con ascensore\\n</td>\n",
       "      <td>MILAN</td>\n",
       "      <td>\\nQuartiere Centrale\\n</td>\n",
       "    </tr>\n",
       "    <tr>\n",
       "      <th>1</th>\n",
       "      <td>QUIMMO PRESTIGE AGENCY</td>\n",
       "      <td>\\n01-Fara135_2\\n</td>\n",
       "      <td>ZONA GARIBALDI - PORTA VENEZIA</td>\n",
       "      <td>QUARTIERE CENTRALE</td>\n",
       "      <td>\\nVIA GUSTAVO FARA, 13\\n</td>\n",
       "      <td>25.93</td>\n",
       "      <td>3500.0</td>\n",
       "      <td></td>\n",
       "      <td>\\n358 €/mese di spese condominiali\\n</td>\n",
       "      <td>Con ascensore</td>\n",
       "      <td>3º piano</td>\n",
       "      <td>Riscaldamento autonomo</td>\n",
       "      <td>Cucina arredata e casa non arredata</td>\n",
       "      <td>Costruito nel 1970</td>\n",
       "      <td>Cantina</td>\n",
       "      <td>Buono stato</td>\n",
       "      <td>Garage incluso nel prezzo</td>\n",
       "      <td>Terrazzo</td>\n",
       "      <td>2 bagni</td>\n",
       "      <td>3 locali</td>\n",
       "      <td>135 m² commerciali</td>\n",
       "      <td></td>\n",
       "      <td></td>\n",
       "      <td>Occasione</td>\n",
       "      <td>\\n135 m2\\n</td>\n",
       "      <td>3.500</td>\n",
       "      <td>\\n3 locali\\n</td>\n",
       "      <td>\\n3º piano con ascensore\\n</td>\n",
       "      <td>MILAN</td>\n",
       "      <td>\\nQuartiere Centrale\\n</td>\n",
       "    </tr>\n",
       "    <tr>\n",
       "      <th>2</th>\n",
       "      <td>THE BEST RENT - APPARTAMENTI IN AFFITTO BREVE ...</td>\n",
       "      <td>\\n163\\n</td>\n",
       "      <td>ZONA GARIBALDI - PORTA VENEZIA</td>\n",
       "      <td>QUARTIERE PORTA VENEZIA - REPUBBLICA</td>\n",
       "      <td>\\nVIA LAZZARO PALAZZI, 4\\n</td>\n",
       "      <td>50.00</td>\n",
       "      <td>2500.0</td>\n",
       "      <td></td>\n",
       "      <td>\\nCauzione di 1 mese\\n</td>\n",
       "      <td>Con ascensore</td>\n",
       "      <td>2º piano</td>\n",
       "      <td></td>\n",
       "      <td></td>\n",
       "      <td></td>\n",
       "      <td>Classe energetica (D.L. 192 del 2005):  (IPE n...</td>\n",
       "      <td>Ammobiliato e con cucina attrezzata</td>\n",
       "      <td>Armadi a muro</td>\n",
       "      <td>Buono stato</td>\n",
       "      <td>1 bagno</td>\n",
       "      <td>2 locali</td>\n",
       "      <td>50 m² commerciali</td>\n",
       "      <td>\\nAria condizionata\\n</td>\n",
       "      <td></td>\n",
       "      <td></td>\n",
       "      <td>\\n50 m2\\n</td>\n",
       "      <td>2.500</td>\n",
       "      <td>\\n2 locali\\n</td>\n",
       "      <td>\\n2º piano con ascensore\\n</td>\n",
       "      <td>MILAN</td>\n",
       "      <td>\\nQuartiere Porta Venezia - Repubblica\\n</td>\n",
       "    </tr>\n",
       "    <tr>\n",
       "      <th>3</th>\n",
       "      <td>MILANO HOUSES</td>\n",
       "      <td>\\nSOLARI 34\\n</td>\n",
       "      <td>ZONA NAVIGLI - BOCCONI</td>\n",
       "      <td>QUARTIERE SOLARI - SAVONA</td>\n",
       "      <td>\\nVIA ANDREA SOLARI\\n</td>\n",
       "      <td>20.58</td>\n",
       "      <td>1070.0</td>\n",
       "      <td>\\nCauzione di 2 mesi\\n</td>\n",
       "      <td>\\n180 €/mese di spese condominiali\\n</td>\n",
       "      <td>Con ascensore</td>\n",
       "      <td>4º piano</td>\n",
       "      <td></td>\n",
       "      <td>Classe energetica (Legge 90 del 2013, legislaz...</td>\n",
       "      <td>Riscaldamento autonomo: Gas naturale</td>\n",
       "      <td>Ammobiliato e con cucina attrezzata</td>\n",
       "      <td>Costruito nel 1950</td>\n",
       "      <td>Orientamento sud, est</td>\n",
       "      <td>Buono stato</td>\n",
       "      <td>1 bagno</td>\n",
       "      <td>2 locali</td>\n",
       "      <td>52 m² commerciali</td>\n",
       "      <td></td>\n",
       "      <td>In Zona Solari -Tortona a pochi passi dalla MM...</td>\n",
       "      <td>Affitto stagionale</td>\n",
       "      <td>\\n52 m2\\n</td>\n",
       "      <td>1.070</td>\n",
       "      <td>\\n2 locali\\n</td>\n",
       "      <td>\\n4º piano con ascensore\\n</td>\n",
       "      <td>MILAN</td>\n",
       "      <td>\\nQuartiere Solari - Savona\\n</td>\n",
       "    </tr>\n",
       "    <tr>\n",
       "      <th>4</th>\n",
       "      <td>GIORGIO VIGANÒ SRL</td>\n",
       "      <td>\\ngvr1680 Fontana\\n</td>\n",
       "      <td>ZONA PORTA VITTORIA</td>\n",
       "      <td>QUARTIERE TRIBUNALE - GUASTALLA</td>\n",
       "      <td>\\nVIA FONTANA S.N.C\\n</td>\n",
       "      <td>17.90</td>\n",
       "      <td>2417.0</td>\n",
       "      <td></td>\n",
       "      <td>\\n375 €/mese di spese condominiali\\n</td>\n",
       "      <td>Con ascensore</td>\n",
       "      <td>3º piano</td>\n",
       "      <td></td>\n",
       "      <td></td>\n",
       "      <td>Classe energetica (Legge 90 del 2013, legislaz...</td>\n",
       "      <td>Riscaldamento centralizzato</td>\n",
       "      <td>Cucina non arredata e casa non arredata</td>\n",
       "      <td>Cantina</td>\n",
       "      <td>Buono stato</td>\n",
       "      <td>2 bagni</td>\n",
       "      <td>3 locali</td>\n",
       "      <td>135 m² commerciali</td>\n",
       "      <td>\\nAria condizionata\\n</td>\n",
       "      <td></td>\n",
       "      <td></td>\n",
       "      <td>\\n135 m2\\n</td>\n",
       "      <td>2.417</td>\n",
       "      <td>\\n3 locali\\n</td>\n",
       "      <td>\\n3º piano con ascensore\\n</td>\n",
       "      <td>MILAN</td>\n",
       "      <td>\\nQuartiere Tribunale - Guastalla\\n</td>\n",
       "    </tr>\n",
       "    <tr>\n",
       "      <th>...</th>\n",
       "      <td>...</td>\n",
       "      <td>...</td>\n",
       "      <td>...</td>\n",
       "      <td>...</td>\n",
       "      <td>...</td>\n",
       "      <td>...</td>\n",
       "      <td>...</td>\n",
       "      <td>...</td>\n",
       "      <td>...</td>\n",
       "      <td>...</td>\n",
       "      <td>...</td>\n",
       "      <td>...</td>\n",
       "      <td>...</td>\n",
       "      <td>...</td>\n",
       "      <td>...</td>\n",
       "      <td>...</td>\n",
       "      <td>...</td>\n",
       "      <td>...</td>\n",
       "      <td>...</td>\n",
       "      <td>...</td>\n",
       "      <td>...</td>\n",
       "      <td>...</td>\n",
       "      <td>...</td>\n",
       "      <td>...</td>\n",
       "      <td>...</td>\n",
       "      <td>...</td>\n",
       "      <td>...</td>\n",
       "      <td>...</td>\n",
       "      <td>...</td>\n",
       "      <td>...</td>\n",
       "    </tr>\n",
       "    <tr>\n",
       "      <th>3433</th>\n",
       "      <td>TECNOSVILUPPO TIBALDI S.A.S. DI CRISTIAN FRAGA...</td>\n",
       "      <td>\\n31724997\\n</td>\n",
       "      <td>ZONA NAVIGLI - BOCCONI</td>\n",
       "      <td>QUARTIERE GOTTARDO</td>\n",
       "      <td>\\nVIA ANTONIO TANTARDINI, 22\\n</td>\n",
       "      <td>13.27</td>\n",
       "      <td>1300.0</td>\n",
       "      <td></td>\n",
       "      <td>\\n200 €/mese di spese condominiali\\n</td>\n",
       "      <td>Senza ascensore</td>\n",
       "      <td>Seminterrato</td>\n",
       "      <td></td>\n",
       "      <td></td>\n",
       "      <td></td>\n",
       "      <td>Classe energetica: Non indicato</td>\n",
       "      <td>Riscaldamento centralizzato: Gas</td>\n",
       "      <td>Costruito nel 1930</td>\n",
       "      <td>Buono stato</td>\n",
       "      <td>1 bagno</td>\n",
       "      <td>2 locali</td>\n",
       "      <td>98 m² commerciali</td>\n",
       "      <td>\\nAria condizionata\\n</td>\n",
       "      <td></td>\n",
       "      <td></td>\n",
       "      <td>\\n98 m2\\n</td>\n",
       "      <td>1.300</td>\n",
       "      <td>\\n2 locali\\n</td>\n",
       "      <td>\\nSeminterrato senza ascensore\\n</td>\n",
       "      <td>MILAN</td>\n",
       "      <td>\\nQuartiere Gottardo\\n</td>\n",
       "    </tr>\n",
       "    <tr>\n",
       "      <th>3434</th>\n",
       "      <td>AGENZIA TROVA LA TUA CASA</td>\n",
       "      <td>\\nMF10 R 07\\n</td>\n",
       "      <td>ZONA PORTA VITTORIA</td>\n",
       "      <td>QUARTIERE CINQUE GIORNATE - CADORE</td>\n",
       "      <td>\\nVIA ANDREA MAFFEI, 10\\n</td>\n",
       "      <td>20.00</td>\n",
       "      <td>1100.0</td>\n",
       "      <td>\\nCauzione di 3 mesi\\n</td>\n",
       "      <td>\\n200 €/mese di spese condominiali\\n</td>\n",
       "      <td>Con ascensore</td>\n",
       "      <td>1º piano</td>\n",
       "      <td></td>\n",
       "      <td>Classe energetica (D.L. 192 del 2005):  (IPE n...</td>\n",
       "      <td>Riscaldamento centralizzato: Gas</td>\n",
       "      <td>Ammobiliato e con cucina attrezzata</td>\n",
       "      <td>Costruito nel 1960</td>\n",
       "      <td>Buono stato</td>\n",
       "      <td>Garage e posto auto per 270 €/mese in più</td>\n",
       "      <td>1 bagno</td>\n",
       "      <td>1 locale</td>\n",
       "      <td>55 m² commerciali</td>\n",
       "      <td>\\nAree verdi\\n</td>\n",
       "      <td></td>\n",
       "      <td></td>\n",
       "      <td>\\n55 m2\\n</td>\n",
       "      <td>1.100</td>\n",
       "      <td>\\n1 locale\\n</td>\n",
       "      <td>\\n1º piano con ascensore\\n</td>\n",
       "      <td>MILAN</td>\n",
       "      <td>\\nQuartiere Cinque Giornate - Cadore\\n</td>\n",
       "    </tr>\n",
       "    <tr>\n",
       "      <th>3435</th>\n",
       "      <td>AGENZIA TROVA LA TUA CASA</td>\n",
       "      <td>\\n30828343\\n</td>\n",
       "      <td>ZONA PORTA VITTORIA</td>\n",
       "      <td>QUARTIERE CINQUE GIORNATE - CADORE</td>\n",
       "      <td>\\nVIA ANDREA MAFFEI S.N.C\\n</td>\n",
       "      <td>22.41</td>\n",
       "      <td>2600.0</td>\n",
       "      <td>\\nCauzione di 3 mesi\\n</td>\n",
       "      <td>\\n400 €/mese di spese condominiali\\n</td>\n",
       "      <td>Con ascensore</td>\n",
       "      <td>2º piano</td>\n",
       "      <td>Classe energetica (D.L. 192 del 2005):  (IPE n...</td>\n",
       "      <td>Riscaldamento centralizzato: Gas</td>\n",
       "      <td>Ammobiliato e con cucina attrezzata</td>\n",
       "      <td>Costruito nel 1970</td>\n",
       "      <td>Buono stato</td>\n",
       "      <td>Posto auto incluso nel prezzo</td>\n",
       "      <td>Balcone</td>\n",
       "      <td>2 bagni</td>\n",
       "      <td>4 locali</td>\n",
       "      <td>116 m² commerciali</td>\n",
       "      <td>\\nAria condizionata\\n</td>\n",
       "      <td>R06- Via Maffei MM Porta Romana proponiamo in ...</td>\n",
       "      <td></td>\n",
       "      <td>\\n116 m2\\n</td>\n",
       "      <td>2.600</td>\n",
       "      <td>\\n4 locali\\n</td>\n",
       "      <td>\\n2º piano con ascensore\\n</td>\n",
       "      <td>MILAN</td>\n",
       "      <td>\\nQuartiere Cinque Giornate - Cadore\\n</td>\n",
       "    </tr>\n",
       "    <tr>\n",
       "      <th>3436</th>\n",
       "      <td>MASTERHOME SRL</td>\n",
       "      <td>\\nVia Montecatini 5\\n</td>\n",
       "      <td>ZONA NAVIGLI - BOCCONI</td>\n",
       "      <td>QUARTIERE SOLARI - SAVONA</td>\n",
       "      <td>\\nVIA MONTECATINI, 5\\n</td>\n",
       "      <td>25.93</td>\n",
       "      <td>1400.0</td>\n",
       "      <td>\\nCauzione di 1 mese\\n</td>\n",
       "      <td>\\n200 €/mese di spese condominiali\\n</td>\n",
       "      <td>Con ascensore</td>\n",
       "      <td>4º piano</td>\n",
       "      <td>Riscaldamento autonomo</td>\n",
       "      <td>Ammobiliato e con cucina attrezzata</td>\n",
       "      <td>Costruito nel 2021</td>\n",
       "      <td>Orientamento est</td>\n",
       "      <td>Buono stato</td>\n",
       "      <td>Garage incluso nel prezzo</td>\n",
       "      <td>Terrazzo</td>\n",
       "      <td>1 bagno</td>\n",
       "      <td>2 locali</td>\n",
       "      <td>54 m² commerciali</td>\n",
       "      <td></td>\n",
       "      <td></td>\n",
       "      <td></td>\n",
       "      <td>\\n54 m2\\n</td>\n",
       "      <td>1.400</td>\n",
       "      <td>\\n2 locali\\n</td>\n",
       "      <td>\\n4º piano con ascensore\\n</td>\n",
       "      <td>MILAN</td>\n",
       "      <td>\\nQuartiere Solari - Savona\\n</td>\n",
       "    </tr>\n",
       "    <tr>\n",
       "      <th>3437</th>\n",
       "      <td>VENDOCASA MILANO TIBALDI</td>\n",
       "      <td>\\n32021077\\n</td>\n",
       "      <td>ZONA NAVIGLI - BOCCONI</td>\n",
       "      <td>QUARTIERE NAVIGLI - PORTA GENOVA</td>\n",
       "      <td>\\nALZAIA NAVIGLIO PAVESE, 6\\n</td>\n",
       "      <td>18.97</td>\n",
       "      <td>1100.0</td>\n",
       "      <td></td>\n",
       "      <td>\\n100 €/mese di spese condominiali\\n</td>\n",
       "      <td>Con ascensore</td>\n",
       "      <td>1º piano</td>\n",
       "      <td></td>\n",
       "      <td>Classe energetica (D.L. 192 del 2005):  (175 k...</td>\n",
       "      <td>Riscaldamento centralizzato</td>\n",
       "      <td>Ammobiliato e con cucina attrezzata</td>\n",
       "      <td>Costruito nel 1930</td>\n",
       "      <td>Armadi a muro</td>\n",
       "      <td>Buono stato</td>\n",
       "      <td>1 bagno</td>\n",
       "      <td>2 locali</td>\n",
       "      <td>58 m² commerciali, 55 m² calpestabili</td>\n",
       "      <td>\\nAria condizionata\\n</td>\n",
       "      <td></td>\n",
       "      <td></td>\n",
       "      <td>\\n58 m2\\n</td>\n",
       "      <td>1.100</td>\n",
       "      <td>\\n2 locali\\n</td>\n",
       "      <td>\\n1º piano con ascensore\\n</td>\n",
       "      <td>MILAN</td>\n",
       "      <td>\\nQuartiere Navigli - Porta Genova\\n</td>\n",
       "    </tr>\n",
       "  </tbody>\n",
       "</table>\n",
       "<p>3438 rows × 30 columns</p>\n",
       "</div>"
      ],
      "text/plain": [
       "                                                 Agency  ...                                     Text4\n",
       "0     THE BEST RENT - APPARTAMENTI IN AFFITTO BREVE ...  ...                    \\nQuartiere Centrale\\n\n",
       "1                                QUIMMO PRESTIGE AGENCY  ...                    \\nQuartiere Centrale\\n\n",
       "2     THE BEST RENT - APPARTAMENTI IN AFFITTO BREVE ...  ...  \\nQuartiere Porta Venezia - Repubblica\\n\n",
       "3                                         MILANO HOUSES  ...             \\nQuartiere Solari - Savona\\n\n",
       "4                                    GIORGIO VIGANÒ SRL  ...       \\nQuartiere Tribunale - Guastalla\\n\n",
       "...                                                 ...  ...                                       ...\n",
       "3433  TECNOSVILUPPO TIBALDI S.A.S. DI CRISTIAN FRAGA...  ...                    \\nQuartiere Gottardo\\n\n",
       "3434                          AGENZIA TROVA LA TUA CASA  ...    \\nQuartiere Cinque Giornate - Cadore\\n\n",
       "3435                          AGENZIA TROVA LA TUA CASA  ...    \\nQuartiere Cinque Giornate - Cadore\\n\n",
       "3436                                     MASTERHOME SRL  ...             \\nQuartiere Solari - Savona\\n\n",
       "3437                           VENDOCASA MILANO TIBALDI  ...      \\nQuartiere Navigli - Porta Genova\\n\n",
       "\n",
       "[3438 rows x 30 columns]"
      ]
     },
     "execution_count": 17,
     "metadata": {},
     "output_type": "execute_result"
    }
   ],
   "source": [
    "IR"
   ]
  },
  {
   "cell_type": "code",
   "execution_count": 0,
   "metadata": {
    "application/vnd.databricks.v1+cell": {
     "cellMetadata": {
      "byteLimit": 2048000,
      "rowLimit": 10000
     },
     "inputWidgets": {},
     "nuid": "c439da14-8548-4cad-9d41-97a5586c34d7",
     "showTitle": false,
     "tableResultSettingsMap": {},
     "title": ""
    }
   },
   "outputs": [],
   "source": [
    "## ADDITIONAL COSTS\n",
    "\n",
    "def shift_values(row):\n",
    "    if row['Text9'] is not None and 'Cauzione' in row['Text9']:\n",
    "        row['Text8'], row['Text9'] = row['Text9'], None\n",
    "    return row\n",
    "\n",
    "IR = IR.apply(shift_values, axis=1)\n",
    "\n",
    "IR.rename(columns={'Text9': 'Additional_Costs', 'Text8': 'Security_Deposit'}, inplace=True)\n",
    "\n",
    "additional_costs = {' €/mese di spese condominiali': ''}\n",
    "\n",
    "IR['Additional_Costs'].replace(additional_costs, regex=True, inplace=True)\n",
    "\n",
    "IR['Additional_Costs'].replace('', float('nan'), inplace=True)\n",
    "\n",
    "IR['Additional_Costs'] = IR['Additional_Costs'].astype(float)\n"
   ]
  },
  {
   "cell_type": "code",
   "execution_count": 0,
   "metadata": {
    "application/vnd.databricks.v1+cell": {
     "cellMetadata": {
      "byteLimit": 2048000,
      "rowLimit": 10000
     },
     "inputWidgets": {},
     "nuid": "9c79d8e8-a49a-4a09-94a1-d20e6c51e370",
     "showTitle": false,
     "tableResultSettingsMap": {},
     "title": ""
    }
   },
   "outputs": [],
   "source": [
    "## SECURITY DEPOSIT PRICE\n",
    "\n",
    "sec_dep = {'Cauzione di ': '', ' mesi':'', ' mese':'', ' o più':'', '\\n':''}\n",
    "\n",
    "IR['Security_Deposit'].replace(sec_dep, regex=True, inplace=True)\n",
    "\n",
    "IR['Security_Deposit'] = IR['Security_Deposit'].replace('', float('nan'), inplace=True)\n",
    "\n",
    "IR['Security_Deposit'] = IR['Monthly_Price'] * IR['Security_Deposit']\n"
   ]
  },
  {
   "cell_type": "markdown",
   "metadata": {
    "application/vnd.databricks.v1+cell": {
     "cellMetadata": {
      "byteLimit": 2048000,
      "rowLimit": 10000
     },
     "inputWidgets": {},
     "nuid": "3bf712ad-78be-4708-be60-e602887d8507",
     "showTitle": false,
     "tableResultSettingsMap": {},
     "title": ""
    }
   },
   "source": [
    "## 1.3. Bedrooms / Bathrooms / Size / Floor / Elevator"
   ]
  },
  {
   "cell_type": "code",
   "execution_count": 0,
   "metadata": {
    "application/vnd.databricks.v1+cell": {
     "cellMetadata": {
      "byteLimit": 2048000,
      "rowLimit": 10000
     },
     "inputWidgets": {},
     "nuid": "f3dfc854-160d-45a6-b1c6-297dfc08018d",
     "showTitle": false,
     "tableResultSettingsMap": {},
     "title": ""
    }
   },
   "outputs": [
    {
     "output_type": "execute_result",
     "data": {
      "text/plain": [
       "2     1851\n",
       "3      822\n",
       "1      393\n",
       "4      205\n",
       "5      107\n",
       "6       32\n",
       "7        9\n",
       "0        8\n",
       "8        5\n",
       "10       3\n",
       "26       1\n",
       "9        1\n",
       "Name: Bedrooms, dtype: int64"
      ]
     },
     "execution_count": 20,
     "metadata": {},
     "output_type": "execute_result"
    }
   ],
   "source": [
    "## BEDROOMS\n",
    "\n",
    "IR['Text20.1'] = IR['Text20']\n",
    "\n",
    "def shift_values(row):\n",
    "    if pd.notna(row['Text20']) and ('locali' not in row['Text20'] and 'locale' not in row['Text20']):\n",
    "        row['Text20'] = None\n",
    "    if pd.notna(row['Text19']) and ('locali' in row['Text19'] or 'locale' in row['Text19']):\n",
    "        row['Text19'], row['Text20'] = None, row['Text19']\n",
    "    if pd.notna(row['Text18']) and ('locali' in row['Text18'] or 'locale' in row['Text18']):\n",
    "        row['Text18'], row['Text20'] = None, row['Text18']\n",
    "    return row\n",
    "\n",
    "IR = IR.apply(shift_values, axis=1)\n",
    "\n",
    "IR.rename(columns={'Text20': 'Bedrooms', 'Text20.1': 'Text20'}, inplace=True)\n",
    "\n",
    "Bedrooms_clean = {' locale': '', ' locali': '', 'Senza':'0'}\n",
    "\n",
    "IR['Bedrooms'].replace(Bedrooms_clean, regex=True, inplace=True)\n",
    "\n",
    "IR['Bedrooms'].value_counts()"
   ]
  },
  {
   "cell_type": "code",
   "execution_count": 0,
   "metadata": {
    "application/vnd.databricks.v1+cell": {
     "cellMetadata": {
      "byteLimit": 2048000,
      "rowLimit": 10000
     },
     "inputWidgets": {},
     "nuid": "38d02a91-81aa-4d1e-a155-b69388f12815",
     "showTitle": false,
     "tableResultSettingsMap": {},
     "title": ""
    }
   },
   "outputs": [
    {
     "output_type": "execute_result",
     "data": {
      "text/plain": [
       "1     2586\n",
       "2      681\n",
       "3      142\n",
       "4       18\n",
       "5        5\n",
       "7        2\n",
       "19       1\n",
       "Name: Bathrooms, dtype: int64"
      ]
     },
     "execution_count": 21,
     "metadata": {},
     "output_type": "execute_result"
    }
   ],
   "source": [
    "## BATHROOMS\n",
    "\n",
    "IR['Text19.1'] = IR['Text19']\n",
    "\n",
    "def shift_values(row):\n",
    "    if pd.notna(row['Text19']) and ('bagno' not in row['Text19'] and 'bagni' not in row['Text19']):\n",
    "        row['Text19'] = None\n",
    "    if pd.notna(row['Text18']) and ('locali' in row['Text18'] or 'locale' in row['Text18']):\n",
    "        row['Text18'], row['Text19'] = None, row['Text18']\n",
    "    if pd.notna(row['Text17']) and ('locali' in row['Text17'] or 'locale' in row['Text17']):\n",
    "        row['Text17'], row['Text19'] = None, row['Text17']\n",
    "    return row\n",
    "\n",
    "IR = IR.apply(shift_values, axis=1)\n",
    "\n",
    "IR.rename(columns={'Text19': 'Bathrooms', 'Text19.1': 'Text19'}, inplace=True)\n",
    "\n",
    "Bathrooms_clean = {' bagno': '', ' bagni': '', 'Senza':'0'}\n",
    "\n",
    "IR['Bathrooms'].replace(Bathrooms_clean, regex=True, inplace=True)\n",
    "\n",
    "IR['Bathrooms'].value_counts()"
   ]
  },
  {
   "cell_type": "code",
   "execution_count": 0,
   "metadata": {
    "application/vnd.databricks.v1+cell": {
     "cellMetadata": {
      "byteLimit": 2048000,
      "rowLimit": 10000
     },
     "inputWidgets": {},
     "nuid": "ab54e7a5-b69f-4b3f-a585-0d552081f9db",
     "showTitle": false,
     "tableResultSettingsMap": {},
     "title": ""
    }
   },
   "outputs": [],
   "source": [
    "## SIZE\n",
    "\n",
    "IR.rename(columns={'Text25': 'Constructed_Area'}, inplace=True)\n",
    "\n",
    "Size_clean = {' m2': '', '\\n':''}\n",
    "\n",
    "IR['Constructed_Area'].replace(Size_clean, regex=True, inplace=True)\n",
    "\n",
    "IR['Constructed_Area'].replace('', float('nan'), inplace=True)"
   ]
  },
  {
   "cell_type": "code",
   "execution_count": 0,
   "metadata": {
    "application/vnd.databricks.v1+cell": {
     "cellMetadata": {
      "byteLimit": 2048000,
      "rowLimit": 10000
     },
     "inputWidgets": {},
     "nuid": "f4e30b19-6082-4405-98fe-27dc489913c4",
     "showTitle": false,
     "tableResultSettingsMap": {},
     "title": ""
    }
   },
   "outputs": [
    {
     "output_type": "execute_result",
     "data": {
      "text/plain": [
       "0        70.0\n",
       "1       135.0\n",
       "2        50.0\n",
       "3        52.0\n",
       "4       135.0\n",
       "        ...  \n",
       "3433     98.0\n",
       "3434     55.0\n",
       "3435    116.0\n",
       "3436     54.0\n",
       "3437     58.0\n",
       "Name: Constructed_Area, Length: 3438, dtype: float64"
      ]
     },
     "execution_count": 23,
     "metadata": {},
     "output_type": "execute_result"
    }
   ],
   "source": [
    "IR['Constructed_Area'].astype(float)"
   ]
  },
  {
   "cell_type": "code",
   "execution_count": 0,
   "metadata": {
    "application/vnd.databricks.v1+cell": {
     "cellMetadata": {
      "byteLimit": 2048000,
      "rowLimit": 10000
     },
     "inputWidgets": {},
     "nuid": "39a4a395-caa3-4ff6-9307-a0a5feb70437",
     "showTitle": false,
     "tableResultSettingsMap": {},
     "title": ""
    }
   },
   "outputs": [
    {
     "output_type": "execute_result",
     "data": {
      "text/plain": [
       "1    2694\n",
       "0     696\n",
       "       48\n",
       "Name: Elevator, dtype: int64"
      ]
     },
     "execution_count": 24,
     "metadata": {},
     "output_type": "execute_result"
    }
   ],
   "source": [
    "## ELEVATOR\n",
    "\n",
    "def shift_values(row):\n",
    "    if row['Text11'] is not None and ('ascensore' in row['Text11']):\n",
    "        row['Text10'], row['Text11'] = row['Text11'], None\n",
    "    return row\n",
    "\n",
    "IR = IR.apply(shift_values, axis=1)\n",
    "\n",
    "dummy_elevator = {'Con ascensore': '1', 'Senza ascensore': '0'}\n",
    "\n",
    "IR['Text10'].replace(dummy_elevator, regex=True, inplace=True)\n",
    "\n",
    "IR.rename(columns={'Text10': 'Elevator'}, inplace=True)\n",
    "\n",
    "IR['Elevator'].value_counts()"
   ]
  },
  {
   "cell_type": "code",
   "execution_count": 0,
   "metadata": {
    "application/vnd.databricks.v1+cell": {
     "cellMetadata": {
      "byteLimit": 2048000,
      "rowLimit": 10000
     },
     "inputWidgets": {},
     "nuid": "bbce2412-38f3-478b-aac3-148ed9510071",
     "showTitle": false,
     "tableResultSettingsMap": {},
     "title": ""
    }
   },
   "outputs": [
    {
     "output_type": "execute_result",
     "data": {
      "text/plain": [
       "1     660\n",
       "2     555\n",
       "3     529\n",
       "4     460\n",
       "0     375\n",
       "5     331\n",
       "6     138\n",
       "7      65\n",
       "8      43\n",
       "-1     15\n",
       "       12\n",
       "9       7\n",
       "10      4\n",
       "13      2\n",
       "15      2\n",
       "11      2\n",
       "12      1\n",
       "16      1\n",
       "18      1\n",
       "Name: Floor, dtype: int64"
      ]
     },
     "execution_count": 25,
     "metadata": {},
     "output_type": "execute_result"
    }
   ],
   "source": [
    "## FLOOR\n",
    "\n",
    "def shift_values(row):\n",
    "    if row['Text11'] is not None and ('ascensore' in row['Text11']):\n",
    "        row['Text11'] = None\n",
    "    return row\n",
    "\n",
    "IR = IR.apply(shift_values, axis=1)\n",
    "\n",
    "floor_clean = {'º piano': '', 'Piano terra': '0', 'Piano rialzato': '0', 'Seminterrato': '-1', 'Piano interrato': '-1', 'Piano ':''}\n",
    "\n",
    "IR['Text11'].replace(floor_clean, regex=True, inplace=True)\n",
    "\n",
    "IR.rename(columns={'Text11': 'Floor'}, inplace=True)\n",
    "\n",
    "IR['Floor'].value_counts()"
   ]
  },
  {
   "cell_type": "markdown",
   "metadata": {
    "application/vnd.databricks.v1+cell": {
     "cellMetadata": {
      "byteLimit": 2048000,
      "rowLimit": 10000
     },
     "inputWidgets": {},
     "nuid": "c89da5d4-5b46-4f46-9a09-4dd7281a7d02",
     "showTitle": false,
     "tableResultSettingsMap": {},
     "title": ""
    }
   },
   "source": [
    "## 1.4. Extras\n",
    "###### (Heating / Year Built / Orientation / AC / Terrace / Balcony / Parking / Temporary Stays / Furnished / Energy Certificate / State / Description / Idealista REF)"
   ]
  },
  {
   "cell_type": "code",
   "execution_count": 0,
   "metadata": {
    "application/vnd.databricks.v1+cell": {
     "cellMetadata": {
      "byteLimit": 2048000,
      "rowLimit": 10000
     },
     "inputWidgets": {},
     "nuid": "d929c44c-8a40-4c6c-b0a1-22c48208b159",
     "showTitle": false,
     "tableResultSettingsMap": {},
     "title": ""
    }
   },
   "outputs": [
    {
     "output_type": "execute_result",
     "data": {
      "text/plain": [
       "1    2986\n",
       "0     452\n",
       "Name: Heating, dtype: int64"
      ]
     },
     "execution_count": 26,
     "metadata": {},
     "output_type": "execute_result"
    }
   ],
   "source": [
    "# HEATING\n",
    "\n",
    "IR['Heating'] = IR['Text12']\n",
    "\n",
    "def shift_values(row):\n",
    "    if pd.notna(row['Heating']) and 'Riscal' not in row['Heating']:\n",
    "        row['Heating'] = None \n",
    "    if pd.notna(row['Text13']) and 'Riscal' in row['Text13']:\n",
    "        row['Heating'] = row['Text13']\n",
    "    if pd.notna(row['Text14']) and 'Riscal' in row['Text14']:\n",
    "        row['Heating'] = row['Text14']\n",
    "    if pd.notna(row['Text15']) and 'Riscal' in row['Text15']:\n",
    "        row['Heating'] = row['Text15']\n",
    "    if pd.notna(row['Text16']) and 'Riscal' in row['Text16']:\n",
    "        row['Heating'] = row['Text16']\n",
    "    if pd.notna(row['Text17']) and 'Riscal' in row['Text17']:\n",
    "        row['Heating'] = row['Text17']\n",
    "    return row\n",
    "\n",
    "IR = IR.apply(shift_values, axis=1)\n",
    "\n",
    "def dummy(row):\n",
    "    if row['Heating'] is not None and 'Riscaldamen' in row['Heating']:\n",
    "        row['Heating'] = 1\n",
    "    else:\n",
    "        row['Heating'] = 0\n",
    "    return row\n",
    "\n",
    "IR = IR.apply(dummy, axis=1)\n",
    "\n",
    "IR['Heating'].value_counts()"
   ]
  },
  {
   "cell_type": "code",
   "execution_count": 0,
   "metadata": {
    "application/vnd.databricks.v1+cell": {
     "cellMetadata": {
      "byteLimit": 2048000,
      "rowLimit": 10000
     },
     "inputWidgets": {},
     "nuid": "56d9a596-6cf2-409b-9397-0757164cf28a",
     "showTitle": false,
     "tableResultSettingsMap": {},
     "title": ""
    }
   },
   "outputs": [
    {
     "output_type": "execute_result",
     "data": {
      "text/plain": [
       "1900    478\n",
       "1990    414\n",
       "1930    301\n",
       "1960    262\n",
       "1970    181\n",
       "       ... \n",
       "1928      1\n",
       "1995      1\n",
       "1957      1\n",
       "1902      1\n",
       "1929      1\n",
       "Name: Year_Built, Length: 94, dtype: int64"
      ]
     },
     "execution_count": 27,
     "metadata": {},
     "output_type": "execute_result"
    }
   ],
   "source": [
    "# YEAR BUILT\n",
    "\n",
    "IR['Year_Built'] = IR['Text12']\n",
    "\n",
    "def shift_values(row):\n",
    "    if pd.notna(row['Year_Built']) and 'Costruito nel ' not in row['Year_Built']:\n",
    "        row['Year_Built'] = None \n",
    "    if pd.notna(row['Text13']) and 'Costruito nel ' in row['Text13']:\n",
    "        row['Year_Built'] = row['Text13']\n",
    "    if pd.notna(row['Text14']) and 'Costruito nel ' in row['Text14']:\n",
    "        row['Year_Built'] = row['Text14']\n",
    "    if pd.notna(row['Text15']) and 'Costruito nel ' in row['Text15']:\n",
    "        row['Year_Built'] = row['Text15']\n",
    "    if pd.notna(row['Text16']) and 'Costruito nel ' in row['Text16']:\n",
    "        row['Year_Built'] = row['Text16']\n",
    "    if pd.notna(row['Text17']) and 'Costruito nel ' in row['Text17']:\n",
    "        row['Year_Built'] = row['Text17']\n",
    "    return row\n",
    "\n",
    "IR = IR.apply(shift_values, axis=1)\n",
    "\n",
    "Year = {'Costruito nel ':''}\n",
    "\n",
    "IR['Year_Built'].replace(Year, regex=True, inplace=True)\n",
    "\n",
    "IR['Year_Built'].value_counts()"
   ]
  },
  {
   "cell_type": "code",
   "execution_count": 0,
   "metadata": {
    "application/vnd.databricks.v1+cell": {
     "cellMetadata": {
      "byteLimit": 2048000,
      "rowLimit": 10000
     },
     "inputWidgets": {},
     "nuid": "3c74b746-b6f5-4057-a7f3-a3e71e2099b1",
     "showTitle": false,
     "tableResultSettingsMap": {},
     "title": ""
    }
   },
   "outputs": [
    {
     "output_type": "execute_result",
     "data": {
      "text/plain": [
       "sud                      539\n",
       "est, ovest               224\n",
       "sud, est                 167\n",
       "est                      136\n",
       "ovest                    111\n",
       "nord, sud                109\n",
       "sud, ovest                84\n",
       "nord, sud, est, ovest     71\n",
       "nord, est                 63\n",
       "nord, ovest               54\n",
       "sud, est, ovest           47\n",
       "nord                      40\n",
       "nord, est, ovest          19\n",
       "nord, sud, est            18\n",
       "nord, sud, ovest          15\n",
       "Name: Orientation, dtype: int64"
      ]
     },
     "execution_count": 28,
     "metadata": {},
     "output_type": "execute_result"
    }
   ],
   "source": [
    "# ORIENTATION\n",
    "\n",
    "IR['Orientation'] = IR['Text12']\n",
    "\n",
    "def shift_values(row):\n",
    "    if pd.notna(row['Orientation']) and 'Orientamento' not in row['Orientation']:\n",
    "        row['Orientation'] = None \n",
    "    if pd.notna(row['Text13']) and 'Orientamento' in row['Text13']:\n",
    "        row['Orientation'] = row['Text13']\n",
    "    if pd.notna(row['Text14']) and 'Orientamento' in row['Text14']:\n",
    "        row['Orientation'] = row['Text14']\n",
    "    if pd.notna(row['Text15']) and 'Orientamento' in row['Text15']:\n",
    "        row['Orientation'] = row['Text15']\n",
    "    if pd.notna(row['Text16']) and 'Orientamento' in row['Text16']:\n",
    "        row['Orientation'] = row['Text16']\n",
    "    if pd.notna(row['Text17']) and 'Orientamento' in row['Text17']:\n",
    "        row['Orientation'] = row['Text17']\n",
    "    return row\n",
    "\n",
    "IR = IR.apply(shift_values, axis=1)\n",
    "\n",
    "Orientamento = {'Orientamento ':''}\n",
    "\n",
    "IR['Orientation'].replace(Orientamento, regex=True, inplace=True)\n",
    "\n",
    "IR['Orientation'].value_counts()"
   ]
  },
  {
   "cell_type": "code",
   "execution_count": 0,
   "metadata": {
    "application/vnd.databricks.v1+cell": {
     "cellMetadata": {
      "byteLimit": 2048000,
      "rowLimit": 10000
     },
     "inputWidgets": {},
     "nuid": "345a3913-f685-443e-a0e2-301d35f27063",
     "showTitle": false,
     "tableResultSettingsMap": {},
     "title": ""
    }
   },
   "outputs": [
    {
     "output_type": "execute_result",
     "data": {
      "text/plain": [
       "0    3438\n",
       "Name: Terrace, dtype: int64"
      ]
     },
     "execution_count": 29,
     "metadata": {},
     "output_type": "execute_result"
    }
   ],
   "source": [
    "# TERRACE\n",
    "\n",
    "IR['Terrace'] = IR['Text12']\n",
    "\n",
    "def shift_values(row):\n",
    "    if pd.notna(row['Terrace']) and ('Terrazzo' not in row['Terrace'] or 'Terrazza' not in row['Terrace']):\n",
    "        row['Terrace'] = None \n",
    "    if pd.notna(row['Text13']) and ('Terrazzo' in row['Text13'] or 'Terrazza' in row['Text13']):\n",
    "        row['Terrace'] = row['Text13']\n",
    "    if pd.notna(row['Text14']) and ('Terrazzo' in row['Text14'] or 'Terrazza' in row['Text14']):\n",
    "        row['Terrace'] = row['Text14']\n",
    "    if pd.notna(row['Text15']) and ('Terrazzo' in row['Text15'] or 'Terrazza' in row['Text15']):\n",
    "        row['Terrace'] = row['Text15']\n",
    "    if pd.notna(row['Text16']) and ('Terrazzo' in row['Text16'] or 'Terrazza' in row['Text16']):\n",
    "        row['Terrace'] = row['Text16']\n",
    "    if pd.notna(row['Text17']) and ('Terrazzo' in row['Text17'] or 'Terrazza' in row['Text17']):\n",
    "        row['Terrace'] = row['Text17']\n",
    "    return row\n",
    "\n",
    "IR = IR.apply(shift_values, axis=1)\n",
    "\n",
    "def dummy(row):\n",
    "    if pd.notna(row['Terrace']) and ('Terrazzo' in row['Terrace'] or 'Terrazza' in row['Terrace']):\n",
    "        row['Terrace'] = 1\n",
    "    else:\n",
    "        row['Terrace'] = 0\n",
    "    return row\n",
    "\n",
    "IR = IR.apply(dummy, axis=1)\n",
    "\n",
    "IR['Terrace'].value_counts()"
   ]
  },
  {
   "cell_type": "code",
   "execution_count": 0,
   "metadata": {
    "application/vnd.databricks.v1+cell": {
     "cellMetadata": {
      "byteLimit": 2048000,
      "rowLimit": 10000
     },
     "inputWidgets": {},
     "nuid": "9f1408c5-4b98-4241-88f4-5718a5ff12bf",
     "showTitle": false,
     "tableResultSettingsMap": {},
     "title": ""
    }
   },
   "outputs": [
    {
     "output_type": "execute_result",
     "data": {
      "text/plain": [
       "0    3437\n",
       "1       1\n",
       "Name: Balcony, dtype: int64"
      ]
     },
     "execution_count": 30,
     "metadata": {},
     "output_type": "execute_result"
    }
   ],
   "source": [
    "#BALCONY\n",
    "\n",
    "IR['Balcony'] = IR['Text12']\n",
    "\n",
    "def shift_values(row):\n",
    "    if pd.notna(row['Balcony']) and 'alcone' not in row['Balcony']:\n",
    "        row['Balcony'] = None \n",
    "    if pd.notna(row['Text13']) and 'alcone' in row['Text13']:\n",
    "        row['Balcony'] = row['Text13']\n",
    "    if pd.notna(row['Text14']) and 'alcone' in row['Text14']:\n",
    "        row['Balcony'] = row['Text14']\n",
    "    if pd.notna(row['Text15']) and 'alcone' in row['Text15']:\n",
    "        row['Balcony'] = row['Text15']\n",
    "    if pd.notna(row['Text16']) and 'alcone' in row['Text16']:\n",
    "        row['Balcony'] = row['Text16']\n",
    "    if pd.notna(row['Text17']) and 'alcone' in row['Text17']:\n",
    "        row['Balcony'] = row['Text17']\n",
    "    return row\n",
    "\n",
    "IR = IR.apply(shift_values, axis=1)\n",
    "\n",
    "def dummy(row):\n",
    "    if pd.notna(row['Balcony']) and 'alcone' in row['Balcony']:\n",
    "        row['Balcony'] = 1\n",
    "    else:\n",
    "        row['Balcony'] = 0\n",
    "    return row\n",
    "\n",
    "IR = IR.apply(dummy, axis=1)\n",
    "\n",
    "IR['Balcony'].value_counts()"
   ]
  },
  {
   "cell_type": "code",
   "execution_count": 0,
   "metadata": {
    "application/vnd.databricks.v1+cell": {
     "cellMetadata": {
      "byteLimit": 2048000,
      "rowLimit": 10000
     },
     "inputWidgets": {},
     "nuid": "ab3e63c9-f5b3-44d3-81fd-183444aa2114",
     "showTitle": false,
     "tableResultSettingsMap": {},
     "title": ""
    }
   },
   "outputs": [
    {
     "output_type": "execute_result",
     "data": {
      "text/plain": [
       "0    3287\n",
       "1     151\n",
       "Name: Parking, dtype: int64"
      ]
     },
     "execution_count": 31,
     "metadata": {},
     "output_type": "execute_result"
    }
   ],
   "source": [
    "#PARKING\n",
    "\n",
    "IR['Parking'] = IR['Text17']\n",
    "\n",
    "def shift_values(row):\n",
    "    if pd.notna(row['Parking']) and 'arage' not in row['Parking']:\n",
    "        row['Parking'] = None \n",
    "    if pd.notna(row['Text23']) and 'arage' in row['Text23']:\n",
    "        row['Parking'] = row['Text23']\n",
    "    return row\n",
    "\n",
    "IR = IR.apply(shift_values, axis=1)\n",
    "\n",
    "def dummy(row):\n",
    "    if pd.notna(row['Parking']) and 'arage' in row['Parking']:\n",
    "        row['Parking'] = 1\n",
    "    else:\n",
    "        row['Parking'] = 0\n",
    "    return row\n",
    "\n",
    "IR = IR.apply(dummy, axis=1)\n",
    "\n",
    "IR['Parking'].value_counts()"
   ]
  },
  {
   "cell_type": "code",
   "execution_count": 0,
   "metadata": {
    "application/vnd.databricks.v1+cell": {
     "cellMetadata": {
      "byteLimit": 2048000,
      "rowLimit": 10000
     },
     "inputWidgets": {},
     "nuid": "05abee4f-3238-419c-80f9-58a7840cb791",
     "showTitle": false,
     "tableResultSettingsMap": {},
     "title": ""
    }
   },
   "outputs": [
    {
     "output_type": "execute_result",
     "data": {
      "text/plain": [
       "0    3278\n",
       "1     160\n",
       "Name: Temporart_Rentals, dtype: int64"
      ]
     },
     "execution_count": 32,
     "metadata": {},
     "output_type": "execute_result"
    }
   ],
   "source": [
    "#TEMPORARY STAYS\n",
    "\n",
    "IR['Temporart_Rentals'] = IR['Text24']\n",
    "\n",
    "def shift_values(row):\n",
    "    if pd.notna(row['Temporart_Rentals']) and 'Affitto stagionale' not in row['Temporart_Rentals']:\n",
    "        row['Temporart_Rentals'] = None \n",
    "    return row\n",
    "\n",
    "IR = IR.apply(shift_values, axis=1)\n",
    "\n",
    "def dummy(row):\n",
    "    if pd.notna(row['Temporart_Rentals']) and 'Affitto stagionale' in row['Temporart_Rentals']:\n",
    "        row['Temporart_Rentals'] = 1\n",
    "    else:\n",
    "        row['Temporart_Rentals'] = 0\n",
    "    return row\n",
    "\n",
    "IR = IR.apply(dummy, axis=1)\n",
    "\n",
    "IR['Temporart_Rentals'].value_counts()"
   ]
  },
  {
   "cell_type": "code",
   "execution_count": 0,
   "metadata": {
    "application/vnd.databricks.v1+cell": {
     "cellMetadata": {
      "byteLimit": 2048000,
      "rowLimit": 10000
     },
     "inputWidgets": {},
     "nuid": "6800847c-faf7-43e7-8071-611ff3fffaa7",
     "showTitle": false,
     "tableResultSettingsMap": {},
     "title": ""
    }
   },
   "outputs": [
    {
     "output_type": "execute_result",
     "data": {
      "text/plain": [
       "1    2454\n",
       "0     984\n",
       "Name: Furnished, dtype: int64"
      ]
     },
     "execution_count": 33,
     "metadata": {},
     "output_type": "execute_result"
    }
   ],
   "source": [
    "#FURNISHED\n",
    "\n",
    "IR['Furnished'] = IR['Text12']\n",
    "\n",
    "def shift_values(row):\n",
    "    if pd.notna(row['Furnished']) and 'mobiliato' not in row['Furnished']:\n",
    "        row['Furnished'] = None \n",
    "    if pd.notna(row['Text13']) and 'mobiliato' in row['Text13']:\n",
    "        row['Furnished'] = row['Text13']\n",
    "    if pd.notna(row['Text14']) and 'mobiliato' in row['Text14']:\n",
    "        row['Furnished'] = row['Text14']\n",
    "    if pd.notna(row['Text15']) and 'mobiliato' in row['Text15']:\n",
    "        row['Furnished'] = row['Text15']\n",
    "    if pd.notna(row['Text16']) and 'mobiliato' in row['Text16']:\n",
    "        row['Furnished'] = row['Text16']\n",
    "    if pd.notna(row['Text17']) and 'mobiliato' in row['Text17']:\n",
    "        row['Furnished'] = row['Text17']\n",
    "    return row\n",
    "\n",
    "IR = IR.apply(shift_values, axis=1)\n",
    "\n",
    "def dummy(row):\n",
    "    if pd.notna(row['Furnished']) and 'mobiliato' in row['Furnished']:\n",
    "        row['Furnished'] = 1\n",
    "    else:\n",
    "        row['Furnished'] = 0\n",
    "    return row\n",
    "\n",
    "IR = IR.apply(dummy, axis=1)\n",
    "\n",
    "IR['Furnished'].value_counts()"
   ]
  },
  {
   "cell_type": "code",
   "execution_count": 0,
   "metadata": {
    "application/vnd.databricks.v1+cell": {
     "cellMetadata": {
      "byteLimit": 2048000,
      "rowLimit": 10000
     },
     "inputWidgets": {},
     "nuid": "1a81dfa1-38ae-485b-9b64-ccc5db6a5163",
     "showTitle": false,
     "tableResultSettingsMap": {},
     "title": ""
    }
   },
   "outputs": [
    {
     "output_type": "execute_result",
     "data": {
      "text/plain": [
       "Buono stato                    1664\n",
       "Da ristrutturare                  5\n",
       "Nuova costruzione terminata       5\n",
       "Nuova costruzione in corso        1\n",
       "Name: State, dtype: int64"
      ]
     },
     "execution_count": 34,
     "metadata": {},
     "output_type": "execute_result"
    }
   ],
   "source": [
    "#STATE\n",
    "\n",
    "IR['State'] = IR['Text13']\n",
    "\n",
    "def shift_values(row):\n",
    "    if pd.notna(row['State']) and not any(x in row['State'] for x in ['Buono stato', 'Nuova costruzione', 'ristrutturare']):\n",
    "        row['State'] = None\n",
    "    if pd.notna(row['Text14']) and any(x in row['Text14'] for x in ['Buono stato', 'Nuova costruzione', 'ristrutturare']):\n",
    "        row['State'] = row['Text14']\n",
    "    if pd.notna(row['Text15']) and any(x in row['Text15'] for x in ['Buono stato', 'Nuova costruzione', 'ristrutturare']):\n",
    "        row['State'] = row['Text15']\n",
    "    if pd.notna(row['Text16']) and any(x in row['Text16'] for x in ['Buono stato', 'Nuova costruzione', 'ristrutturare']):\n",
    "        row['State'] = row['Text16']\n",
    "    if pd.notna(row['Text17']) and any(x in row['Text17'] for x in ['Buono stato', 'Nuova costruzione', 'ristrutturare']):\n",
    "        row['State'] = row['Text17']\n",
    "    return row\n",
    "\n",
    "IR = IR.apply(shift_values, axis=1)\n",
    "\n",
    "IR['State'].value_counts()"
   ]
  },
  {
   "cell_type": "code",
   "execution_count": 0,
   "metadata": {
    "application/vnd.databricks.v1+cell": {
     "cellMetadata": {
      "byteLimit": 2048000,
      "rowLimit": 10000
     },
     "inputWidgets": {},
     "nuid": "e5d63b8b-a8fb-42f1-89ed-8b252553741b",
     "showTitle": false,
     "tableResultSettingsMap": {},
     "title": ""
    }
   },
   "outputs": [],
   "source": [
    "IR['Description'] = IR['Text23']"
   ]
  },
  {
   "cell_type": "markdown",
   "metadata": {
    "application/vnd.databricks.v1+cell": {
     "cellMetadata": {
      "byteLimit": 2048000,
      "rowLimit": 10000
     },
     "inputWidgets": {},
     "nuid": "aa7e743d-cf74-4fda-a3b8-55274e4f0e79",
     "showTitle": false,
     "tableResultSettingsMap": {},
     "title": ""
    }
   },
   "source": [
    "## 1.5. Final Dataset"
   ]
  },
  {
   "cell_type": "code",
   "execution_count": 0,
   "metadata": {
    "application/vnd.databricks.v1+cell": {
     "cellMetadata": {
      "byteLimit": 2048000,
      "rowLimit": 10000
     },
     "inputWidgets": {},
     "nuid": "e263b167-6e49-447d-b72a-b4db36637c64",
     "showTitle": false,
     "tableResultSettingsMap": {},
     "title": ""
    }
   },
   "outputs": [
    {
     "output_type": "stream",
     "name": "stdout",
     "output_type": "stream",
     "text": [
      "<class 'pandas.core.frame.DataFrame'>\nRangeIndex: 3438 entries, 0 to 3437\nData columns (total 42 columns):\n #   Column             Non-Null Count  Dtype  \n---  ------             --------------  -----  \n 0   Agency             3438 non-null   object \n 1   Text1              3438 non-null   object \n 2   District           3341 non-null   object \n 3   Neighborhood       3342 non-null   object \n 4   Street             3438 non-null   object \n 5   €_Sqm              3430 non-null   float64\n 6   Monthly_Price      3431 non-null   float64\n 7   Security_Deposit   0 non-null      float64\n 8   Additional_Costs   2549 non-null   float64\n 9   Elevator           3438 non-null   object \n 10  Floor              3203 non-null   object \n 11  Text12             3438 non-null   object \n 12  Text13             3438 non-null   object \n 13  Text14             3438 non-null   object \n 14  Text15             3438 non-null   object \n 15  Text16             3438 non-null   object \n 16  Text17             3438 non-null   object \n 17  Text18             3436 non-null   object \n 18  Bathrooms          3435 non-null   object \n 19  Bedrooms           3437 non-null   object \n 20  Text21             3438 non-null   object \n 21  Text22             3438 non-null   object \n 22  Text23             3438 non-null   object \n 23  Text24             3438 non-null   object \n 24  Constructed_Area   3437 non-null   object \n 25  Text26             3438 non-null   object \n 26  Text27             3438 non-null   object \n 27  Text28             3438 non-null   object \n 28  City               3438 non-null   object \n 29  Text4              3438 non-null   object \n 30  Text20             3438 non-null   object \n 31  Text19             3438 non-null   object \n 32  Heating            3438 non-null   int64  \n 33  Year_Built         2503 non-null   object \n 34  Orientation        1697 non-null   object \n 35  Terrace            3438 non-null   int64  \n 36  Balcony            3438 non-null   int64  \n 37  Parking            3438 non-null   int64  \n 38  Temporart_Rentals  3438 non-null   int64  \n 39  Furnished          3438 non-null   int64  \n 40  State              1675 non-null   object \n 41  Description        3438 non-null   object \ndtypes: float64(4), int64(6), object(32)\nmemory usage: 1.1+ MB\n"
     ]
    }
   ],
   "source": [
    "IR.info()"
   ]
  },
  {
   "cell_type": "code",
   "execution_count": 0,
   "metadata": {
    "application/vnd.databricks.v1+cell": {
     "cellMetadata": {
      "byteLimit": 2048000,
      "rowLimit": 10000
     },
     "inputWidgets": {},
     "nuid": "28276a03-6516-4032-b49c-4880d3e3e3e0",
     "showTitle": false,
     "tableResultSettingsMap": {},
     "title": ""
    }
   },
   "outputs": [],
   "source": [
    "IR.drop(columns=['Text1', 'Text12', 'Text13', 'Text14', 'Text15', 'Text16', 'Text17', 'Text18', 'Text21', 'Text22', 'Text23', 'Text24', 'Text26', 'Text27', 'Text28', 'Text4', 'Text20', 'Text19'], inplace=True)"
   ]
  },
  {
   "cell_type": "code",
   "execution_count": 0,
   "metadata": {
    "application/vnd.databricks.v1+cell": {
     "cellMetadata": {
      "byteLimit": 2048000,
      "rowLimit": 10000
     },
     "inputWidgets": {},
     "nuid": "ef10b44d-3802-4aaa-b674-fb2a0d79f804",
     "showTitle": false,
     "tableResultSettingsMap": {},
     "title": ""
    }
   },
   "outputs": [
    {
     "output_type": "execute_result",
     "data": {
      "text/html": [
       "<div>\n",
       "<style scoped>\n",
       "    .dataframe tbody tr th:only-of-type {\n",
       "        vertical-align: middle;\n",
       "    }\n",
       "\n",
       "    .dataframe tbody tr th {\n",
       "        vertical-align: top;\n",
       "    }\n",
       "\n",
       "    .dataframe thead th {\n",
       "        text-align: right;\n",
       "    }\n",
       "</style>\n",
       "<table border=\"1\" class=\"dataframe\">\n",
       "  <thead>\n",
       "    <tr style=\"text-align: right;\">\n",
       "      <th></th>\n",
       "      <th>Agency</th>\n",
       "      <th>District</th>\n",
       "      <th>Neighborhood</th>\n",
       "      <th>Street</th>\n",
       "      <th>€_Sqm</th>\n",
       "      <th>Monthly_Price</th>\n",
       "      <th>Security_Deposit</th>\n",
       "      <th>Additional_Costs</th>\n",
       "      <th>Elevator</th>\n",
       "      <th>Floor</th>\n",
       "      <th>Bathrooms</th>\n",
       "      <th>Bedrooms</th>\n",
       "      <th>Constructed_Area</th>\n",
       "      <th>City</th>\n",
       "      <th>Heating</th>\n",
       "      <th>Year_Built</th>\n",
       "      <th>Orientation</th>\n",
       "      <th>Terrace</th>\n",
       "      <th>Balcony</th>\n",
       "      <th>Parking</th>\n",
       "      <th>Temporart_Rentals</th>\n",
       "      <th>Furnished</th>\n",
       "      <th>State</th>\n",
       "      <th>Description</th>\n",
       "    </tr>\n",
       "  </thead>\n",
       "  <tbody>\n",
       "    <tr>\n",
       "      <th>3435</th>\n",
       "      <td>AGENZIA TROVA LA TUA CASA</td>\n",
       "      <td>ZONA PORTA VITTORIA</td>\n",
       "      <td>QUARTIERE CINQUE GIORNATE - CADORE</td>\n",
       "      <td>\\nVIA ANDREA MAFFEI S.N.C\\n</td>\n",
       "      <td>22.41</td>\n",
       "      <td>2600.0</td>\n",
       "      <td>NaN</td>\n",
       "      <td>400.0</td>\n",
       "      <td>1</td>\n",
       "      <td>2</td>\n",
       "      <td>2</td>\n",
       "      <td>4</td>\n",
       "      <td>116</td>\n",
       "      <td>MILAN</td>\n",
       "      <td>1</td>\n",
       "      <td>1970</td>\n",
       "      <td>None</td>\n",
       "      <td>0</td>\n",
       "      <td>0</td>\n",
       "      <td>0</td>\n",
       "      <td>0</td>\n",
       "      <td>1</td>\n",
       "      <td>Buono stato</td>\n",
       "      <td>R06- Via Maffei MM Porta Romana proponiamo in ...</td>\n",
       "    </tr>\n",
       "    <tr>\n",
       "      <th>3436</th>\n",
       "      <td>MASTERHOME SRL</td>\n",
       "      <td>ZONA NAVIGLI - BOCCONI</td>\n",
       "      <td>QUARTIERE SOLARI - SAVONA</td>\n",
       "      <td>\\nVIA MONTECATINI, 5\\n</td>\n",
       "      <td>25.93</td>\n",
       "      <td>1400.0</td>\n",
       "      <td>NaN</td>\n",
       "      <td>200.0</td>\n",
       "      <td>1</td>\n",
       "      <td>4</td>\n",
       "      <td>1</td>\n",
       "      <td>2</td>\n",
       "      <td>54</td>\n",
       "      <td>MILAN</td>\n",
       "      <td>1</td>\n",
       "      <td>2021</td>\n",
       "      <td>est</td>\n",
       "      <td>0</td>\n",
       "      <td>0</td>\n",
       "      <td>1</td>\n",
       "      <td>0</td>\n",
       "      <td>1</td>\n",
       "      <td>Buono stato</td>\n",
       "      <td></td>\n",
       "    </tr>\n",
       "    <tr>\n",
       "      <th>3437</th>\n",
       "      <td>VENDOCASA MILANO TIBALDI</td>\n",
       "      <td>ZONA NAVIGLI - BOCCONI</td>\n",
       "      <td>QUARTIERE NAVIGLI - PORTA GENOVA</td>\n",
       "      <td>\\nALZAIA NAVIGLIO PAVESE, 6\\n</td>\n",
       "      <td>18.97</td>\n",
       "      <td>1100.0</td>\n",
       "      <td>NaN</td>\n",
       "      <td>100.0</td>\n",
       "      <td>1</td>\n",
       "      <td>1</td>\n",
       "      <td>1</td>\n",
       "      <td>2</td>\n",
       "      <td>58</td>\n",
       "      <td>MILAN</td>\n",
       "      <td>1</td>\n",
       "      <td>1930</td>\n",
       "      <td>None</td>\n",
       "      <td>0</td>\n",
       "      <td>0</td>\n",
       "      <td>0</td>\n",
       "      <td>0</td>\n",
       "      <td>1</td>\n",
       "      <td>None</td>\n",
       "      <td></td>\n",
       "    </tr>\n",
       "  </tbody>\n",
       "</table>\n",
       "</div>"
      ],
      "text/plain": [
       "                         Agency  ...                                        Description\n",
       "3435  AGENZIA TROVA LA TUA CASA  ...  R06- Via Maffei MM Porta Romana proponiamo in ...\n",
       "3436             MASTERHOME SRL  ...                                                   \n",
       "3437   VENDOCASA MILANO TIBALDI  ...                                                   \n",
       "\n",
       "[3 rows x 24 columns]"
      ]
     },
     "execution_count": 38,
     "metadata": {},
     "output_type": "execute_result"
    }
   ],
   "source": [
    "IR.tail(3)"
   ]
  },
  {
   "cell_type": "code",
   "execution_count": 0,
   "metadata": {
    "application/vnd.databricks.v1+cell": {
     "cellMetadata": {
      "byteLimit": 2048000,
      "rowLimit": 10000
     },
     "inputWidgets": {},
     "nuid": "e4fb8a40-c70b-41a3-babe-acbfc49fc3f4",
     "showTitle": false,
     "tableResultSettingsMap": {},
     "title": ""
    }
   },
   "outputs": [],
   "source": [
    "IR_Spark = spark.createDataFrame(IR)"
   ]
  },
  {
   "cell_type": "code",
   "execution_count": 0,
   "metadata": {
    "application/vnd.databricks.v1+cell": {
     "cellMetadata": {
      "byteLimit": 2048000,
      "rowLimit": 10000
     },
     "inputWidgets": {},
     "nuid": "494bf5c2-45d2-4e6f-b880-fe05f385a405",
     "showTitle": false,
     "tableResultSettingsMap": {},
     "title": ""
    }
   },
   "outputs": [],
   "source": [
    "IR_Spark.write.mode(\"overwrite\").saveAsTable(\"silver.edgar_sarto_revenue.Idealista_CLEAN\")"
   ]
  },
  {
   "cell_type": "code",
   "execution_count": 0,
   "metadata": {
    "application/vnd.databricks.v1+cell": {
     "cellMetadata": {},
     "inputWidgets": {},
     "nuid": "ca9f1bbd-059c-4f73-8a6d-0e4cab11123d",
     "showTitle": false,
     "tableResultSettingsMap": {},
     "title": ""
    }
   },
   "outputs": [],
   "source": [
    "categoricas_1 = ['District']\n",
    "\n",
    "categoricas_1 = pd.get_dummies(raw[categoricas_1], drop_first=False).astype(int)\n",
    "\n",
    "categoricas_1"
   ]
  }
 ],
 "metadata": {
  "application/vnd.databricks.v1+notebook": {
   "computePreferences": null,
   "dashboards": [],
   "environmentMetadata": {
    "base_environment": "",
    "environment_version": "2"
   },
   "language": "python",
   "notebookMetadata": {
    "pythonIndentUnit": 4
   },
   "notebookName": "Idealista Data Cleaning",
   "widgets": {}
  },
  "language_info": {
   "name": "python"
  }
 },
 "nbformat": 4,
 "nbformat_minor": 0
}