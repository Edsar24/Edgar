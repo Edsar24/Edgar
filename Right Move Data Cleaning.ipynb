{
 "cells": [
  {
   "cell_type": "markdown",
   "metadata": {
    "application/vnd.databricks.v1+cell": {
     "cellMetadata": {
      "byteLimit": 2048000,
      "rowLimit": 10000
     },
     "inputWidgets": {},
     "nuid": "4a2707e3-7161-4c25-804c-0e55ba53fae7",
     "showTitle": false,
     "tableResultSettingsMap": {},
     "title": ""
    }
   },
   "source": [
    "# 1. Right Move Data Cleaning"
   ]
  },
  {
   "cell_type": "code",
   "execution_count": 0,
   "metadata": {
    "application/vnd.databricks.v1+cell": {
     "cellMetadata": {
      "byteLimit": 2048000,
      "rowLimit": 10000
     },
     "inputWidgets": {},
     "nuid": "3b09e85e-0507-43cc-91d2-3c9cd096053a",
     "showTitle": false,
     "tableResultSettingsMap": {},
     "title": ""
    }
   },
   "outputs": [],
   "source": [
    "import pandas as pd\n",
    "import numpy as np"
   ]
  },
  {
   "cell_type": "code",
   "execution_count": 0,
   "metadata": {
    "application/vnd.databricks.v1+cell": {
     "cellMetadata": {
      "byteLimit": 2048000,
      "rowLimit": 10000
     },
     "inputWidgets": {},
     "nuid": "a6095dc6-a703-42f7-9265-98c240e1e650",
     "showTitle": false,
     "tableResultSettingsMap": {},
     "title": ""
    }
   },
   "outputs": [],
   "source": [
    "right_move_brent = spark.table(\"silver.edgar_sarto_revenue.right_move_brent\")\n",
    "right_move_camden = spark.table(\"silver.edgar_sarto_revenue.right_move_camden\")\n",
    "right_move_city_of_london = spark.table(\"silver.edgar_sarto_revenue.right_move_city_of_london\")\n",
    "right_move_city_of_westminster = spark.table(\"silver.edgar_sarto_revenue.right_move_city_of_westminster\")\n",
    "right_move_ealing = spark.table(\"silver.edgar_sarto_revenue.right_move_ealing\")\n",
    "right_move_hammersmith_fulham = spark.table(\"silver.edgar_sarto_revenue.right_move_hammersmith_fulham\")\n",
    "right_move_hownslow = spark.table(\"silver.edgar_sarto_revenue.right_move_hownslow\")\n",
    "right_move_islington = spark.table(\"silver.edgar_sarto_revenue.right_move_islington\")\n",
    "right_move_lambeth = spark.table(\"silver.edgar_sarto_revenue.right_move_lambeth\")\n",
    "right_move_lewisham = spark.table(\"silver.edgar_sarto_revenue.right_move_lewisham\")\n",
    "right_move_richmond_upon_thames = spark.table(\"silver.edgar_sarto_revenue.right_move_richmond_upon_thames\")\n",
    "right_move_southwark = spark.table(\"silver.edgar_sarto_revenue.right_move_southwark\")\n",
    "right_move_tower_hamlets = spark.table(\"silver.edgar_sarto_revenue.right_move_tower_hamlets\")\n",
    "right_move_wandsworth = spark.table(\"silver.edgar_sarto_revenue.right_move_wandsworth\")\n",
    "\n",
    "RMBR = right_move_brent.toPandas()\n",
    "RMCA = right_move_camden.toPandas()\n",
    "RMCI = right_move_city_of_london.toPandas()\n",
    "RMWE = right_move_city_of_westminster.toPandas()\n",
    "RMEA = right_move_ealing.toPandas()\n",
    "RMHA = right_move_hammersmith_fulham.toPandas()\n",
    "RMHO = right_move_hownslow.toPandas()\n",
    "RMIL = right_move_islington.toPandas()\n",
    "RMLA = right_move_lambeth.toPandas()\n",
    "RMLE = right_move_lewisham.toPandas()\n",
    "RMRO = right_move_richmond_upon_thames.toPandas()\n",
    "RMSO = right_move_southwark.toPandas()\n",
    "RMTH = right_move_tower_hamlets.toPandas()\n",
    "RMWA = right_move_wandsworth.toPandas()"
   ]
  },
  {
   "cell_type": "markdown",
   "metadata": {
    "application/vnd.databricks.v1+cell": {
     "cellMetadata": {
      "byteLimit": 2048000,
      "rowLimit": 10000
     },
     "inputWidgets": {},
     "nuid": "de349e09-ff4a-44e3-a5f8-3d77cfcf69ba",
     "showTitle": false,
     "tableResultSettingsMap": {},
     "title": ""
    }
   },
   "source": [
    "## 1.1. City / Brough / Zone (Postal Code) / Agency"
   ]
  },
  {
   "cell_type": "code",
   "execution_count": 0,
   "metadata": {
    "application/vnd.databricks.v1+cell": {
     "cellMetadata": {
      "byteLimit": 2048000,
      "rowLimit": 10000
     },
     "inputWidgets": {},
     "nuid": "a21aa16b-1db7-495d-925c-5a5307e8d868",
     "showTitle": false,
     "tableResultSettingsMap": {},
     "title": ""
    }
   },
   "outputs": [
    {
     "output_type": "execute_result",
     "data": {
      "text/plain": [
       "LONDON    18252\n",
       "Name: City, dtype: int64"
      ]
     },
     "execution_count": 95,
     "metadata": {},
     "output_type": "execute_result"
    }
   ],
   "source": [
    "##Before unifying everything for each dataset based on its Boroughs\n",
    "\n",
    "RMBR['Borough'] = 'BRENT'\n",
    "RMCA['Borough'] = 'CAMDEN'\n",
    "RMCI['Borough'] = 'CITY OF LONDON'\n",
    "RMWE['Borough'] = 'CITY OF WESTMINSTER'\n",
    "RMEA['Borough'] = 'EALING'\n",
    "RMHA['Borough'] = 'HAMMERSMITH FULLHAM'\n",
    "RMHO['Borough'] = 'HOWNSLOW'\n",
    "RMIL['Borough'] = 'ISLINGTON'\n",
    "RMLA['Borough'] = 'LAMBETH'\n",
    "RMLE['Borough'] = 'LEWISHAM'\n",
    "RMRO['Borough'] = 'RICHMOND UPON THAMES'\n",
    "RMSO['Borough'] = 'SOUTHWARK'\n",
    "RMTH['Borough'] = 'TOWER HAMLETS'\n",
    "RMWA['Borough'] = 'WANDSWORTH'\n",
    "\n",
    "\n",
    "dataframes = [RMBR, RMCA, RMCI, RMWE, RMEA, RMHA, RMHO, RMIL, RMLA, RMLE, RMRO, RMSO, RMTH, RMWA]\n",
    "\n",
    "RMT = pd.concat(dataframes, ignore_index=True)\n",
    "\n",
    "RMT['City'] = 'LONDON'\n",
    "\n",
    "RMT['City'].value_counts()\n"
   ]
  },
  {
   "cell_type": "code",
   "execution_count": 0,
   "metadata": {
    "application/vnd.databricks.v1+cell": {
     "cellMetadata": {
      "byteLimit": 2048000,
      "rowLimit": 10000
     },
     "inputWidgets": {},
     "nuid": "f5b5e04f-9ca8-4b9f-9f1f-bd91be181a67",
     "showTitle": false,
     "tableResultSettingsMap": {},
     "title": ""
    }
   },
   "outputs": [],
   "source": [
    "## DROP ROWS WITHOUT A PRICE\n",
    "RMT = RMT.dropna(subset=['Text'])"
   ]
  },
  {
   "cell_type": "code",
   "execution_count": 0,
   "metadata": {
    "application/vnd.databricks.v1+cell": {
     "cellMetadata": {
      "byteLimit": 2048000,
      "rowLimit": 10000
     },
     "inputWidgets": {},
     "nuid": "5e6080c1-73fb-448c-a1b6-b4d0be02de1f",
     "showTitle": false,
     "tableResultSettingsMap": {},
     "title": ""
    }
   },
   "outputs": [],
   "source": [
    "RMT = RMT.rename(columns={'Text10':'Street'})"
   ]
  },
  {
   "cell_type": "code",
   "execution_count": 0,
   "metadata": {
    "application/vnd.databricks.v1+cell": {
     "cellMetadata": {
      "byteLimit": 2048000,
      "rowLimit": 10000
     },
     "inputWidgets": {},
     "nuid": "974d489f-13c1-465a-98ec-80d12ed0214d",
     "showTitle": false,
     "tableResultSettingsMap": {},
     "title": ""
    }
   },
   "outputs": [
    {
     "output_type": "execute_result",
     "data": {
      "text/plain": [
       "E14      57\n",
       "SW11     24\n",
       "SW17     24\n",
       "NW10     23\n",
       "E1       22\n",
       "         ..\n",
       "NW8       1\n",
       "TW12      1\n",
       "SE26      1\n",
       "SE14      1\n",
       "B14       1\n",
       "Name: Postal_Code, Length: 68, dtype: int64"
      ]
     },
     "execution_count": 98,
     "metadata": {},
     "output_type": "execute_result"
    }
   ],
   "source": [
    "# ZONE (Postal Code)\n",
    "\n",
    "RMT['Postal_Code'] = RMT['Street'].str.extract(r'(\\b[A-Z]{1,2}\\d{1,2}\\s)')\n",
    "\n",
    "RMT['Postal_Code'].value_counts()"
   ]
  },
  {
   "cell_type": "code",
   "execution_count": 0,
   "metadata": {
    "application/vnd.databricks.v1+cell": {
     "cellMetadata": {
      "byteLimit": 2048000,
      "rowLimit": 10000
     },
     "inputWidgets": {},
     "nuid": "a255cfa4-474b-4d37-90d7-a1f6fdb678bb",
     "showTitle": false,
     "tableResultSettingsMap": {},
     "title": ""
    }
   },
   "outputs": [
    {
     "output_type": "execute_result",
     "data": {
      "text/plain": [
       "OPENRENT, LONDON                           1172\n",
       "FOXTONS, FULHAM BROADWAY                    182\n",
       "FOXTONS, LONDON BRIDGE                      155\n",
       "FOXTONS, ELEPHANT & CASTLE                  132\n",
       "INTERLET SALES AND LETTINGS, KENSINGTON     121\n",
       "                                           ... \n",
       "PURPLEBRICKS, COVERING NORTH LONDON           1\n",
       "ARLINGTON ESTATES, LONDON                     1\n",
       "VAROSI LETTINGS & ESTATES, LONDON             1\n",
       "NEILSON & BAUER LTD, ISLINGTON                1\n",
       "MBL ESTATES LTD, WIMBLEDON                    1\n",
       "Name: Agency, Length: 1774, dtype: int64"
      ]
     },
     "execution_count": 99,
     "metadata": {},
     "output_type": "execute_result"
    }
   ],
   "source": [
    "## AGENCY\n",
    "\n",
    "RMT['Text12'] = RMT['Text12'].str.upper()\n",
    "RMT.rename(columns={'Text12': 'Agency'}, inplace=True)\n",
    "RMT['Agency'].value_counts()"
   ]
  },
  {
   "cell_type": "markdown",
   "metadata": {
    "application/vnd.databricks.v1+cell": {
     "cellMetadata": {
      "byteLimit": 2048000,
      "rowLimit": 10000
     },
     "inputWidgets": {},
     "nuid": "1eaf6ad1-0185-4ae0-a738-ab2720f9b277",
     "showTitle": false,
     "tableResultSettingsMap": {},
     "title": ""
    }
   },
   "source": [
    "## 1.2. Prices"
   ]
  },
  {
   "cell_type": "code",
   "execution_count": 0,
   "metadata": {
    "application/vnd.databricks.v1+cell": {
     "cellMetadata": {
      "byteLimit": 2048000,
      "rowLimit": 10000
     },
     "inputWidgets": {},
     "nuid": "38f3ac23-6e43-4d66-85f0-1c9e5f6740b6",
     "showTitle": false,
     "tableResultSettingsMap": {},
     "title": ""
    }
   },
   "outputs": [],
   "source": [
    "# MONTHLY PRICE\n",
    "\n",
    "price = {'£': '', ' pcm': '', ',': ''}\n",
    "\n",
    "RMT.rename(columns={'Text': 'Monthly_Price'}, inplace=True)\n",
    "\n",
    "RMT['Monthly_Price'].replace(price, regex=True, inplace=True)\n",
    "\n",
    "RMT['Monthly_Price'].replace('', np.nan, inplace=True)\n",
    "\n",
    "RMT.dropna(subset=['Monthly_Price'], inplace=True)\n",
    "\n",
    "RMT['Monthly_Price'] = RMT['Monthly_Price'].astype(float)"
   ]
  },
  {
   "cell_type": "code",
   "execution_count": 0,
   "metadata": {
    "application/vnd.databricks.v1+cell": {
     "cellMetadata": {
      "byteLimit": 2048000,
      "rowLimit": 10000
     },
     "inputWidgets": {},
     "nuid": "9c79d8e8-a49a-4a09-94a1-d20e6c51e370",
     "showTitle": false,
     "tableResultSettingsMap": {},
     "title": ""
    }
   },
   "outputs": [],
   "source": [
    "## SECURITY DEPOSIT PRICE\n",
    "\n",
    "RMT['Security_Deposit'] = RMT['Text2'].str.extract(r'£([\\d,]+)')\n",
    "\n",
    "sec_dep = {',': ''}\n",
    "\n",
    "RMT['Security_Deposit'].replace(sec_dep, regex=True, inplace=True)\n",
    "\n",
    "RMT['Security_Deposit'].replace('', np.nan, inplace=True)\n",
    "\n",
    "RMT.dropna(subset=['Security_Deposit'], inplace=True)\n",
    "\n",
    "RMT['Security_Deposit'] = RMT['Security_Deposit'].astype(float)"
   ]
  },
  {
   "cell_type": "markdown",
   "metadata": {
    "application/vnd.databricks.v1+cell": {
     "cellMetadata": {
      "byteLimit": 2048000,
      "rowLimit": 10000
     },
     "inputWidgets": {},
     "nuid": "3bf712ad-78be-4708-be60-e602887d8507",
     "showTitle": false,
     "tableResultSettingsMap": {},
     "title": ""
    }
   },
   "source": [
    "## 1.3. Bedrooms / Bathrooms / Size / Floor / Elevator"
   ]
  },
  {
   "cell_type": "code",
   "execution_count": 0,
   "metadata": {
    "application/vnd.databricks.v1+cell": {
     "cellMetadata": {
      "byteLimit": 2048000,
      "rowLimit": 10000
     },
     "inputWidgets": {},
     "nuid": "f3dfc854-160d-45a6-b1c6-297dfc08018d",
     "showTitle": false,
     "tableResultSettingsMap": {},
     "title": ""
    }
   },
   "outputs": [],
   "source": [
    "## BEDROOMS\n",
    "\n",
    "def shift_values(row):\n",
    "    if pd.notna(row['Text8']) and ('agent' in row['Text8']):\n",
    "        row['Text8'] = None\n",
    "    if pd.notna(row['Text8']) and ('ft' in row['Text8']):\n",
    "        row['Text8'] = None\n",
    "    if row['Text8'] is None:\n",
    "        row['Text8'] = '0'\n",
    "    return row\n",
    "\n",
    "RMT = RMT.apply(shift_values, axis=1)\n",
    "\n",
    "RMT.rename(columns={'Text8': 'Bedrooms'}, inplace=True)"
   ]
  },
  {
   "cell_type": "code",
   "execution_count": 0,
   "metadata": {
    "application/vnd.databricks.v1+cell": {
     "cellMetadata": {
      "byteLimit": 2048000,
      "rowLimit": 10000
     },
     "inputWidgets": {},
     "nuid": "138d5b04-fd3c-4fcf-b831-dffeb0fddf36",
     "showTitle": false,
     "tableResultSettingsMap": {},
     "title": ""
    }
   },
   "outputs": [],
   "source": [
    "## BATHROOMS\n",
    "\n",
    "RMT['Text91'] = RMT['Text9']\n",
    "\n",
    "def shift_values(row):\n",
    "    if pd.notna(row['Text9']) and ('agent' in row['Text9']):\n",
    "        row['Text9'] = None\n",
    "    if pd.notna(row['Text9']) and ('ft' in row['Text9']):\n",
    "        row['Text9'] = None\n",
    "    if row['Text9'] is None:\n",
    "        row['Text9'] = '0'\n",
    "    return row\n",
    "\n",
    "RMT = RMT.apply(shift_values, axis=1)\n",
    "\n",
    "RMT.rename(columns={'Text9': 'Bathrooms'}, inplace=True)"
   ]
  },
  {
   "cell_type": "code",
   "execution_count": 0,
   "metadata": {
    "application/vnd.databricks.v1+cell": {
     "cellMetadata": {
      "byteLimit": 2048000,
      "rowLimit": 10000
     },
     "inputWidgets": {},
     "nuid": "ab54e7a5-b69f-4b3f-a585-0d552081f9db",
     "showTitle": false,
     "tableResultSettingsMap": {},
     "title": ""
    }
   },
   "outputs": [],
   "source": [
    "## SIZE\n",
    "\n",
    "def shift_values(row):\n",
    "    if pd.notna(row['Text91']) and ('ft' not in row['Text91']):\n",
    "        row['Text91'] = None\n",
    "    return row\n",
    "\n",
    "RMT = RMT.apply(shift_values, axis=1)\n",
    "\n",
    "RMT.rename(columns={'Text91': 'Size'}, inplace=True)\n",
    "\n",
    "ft = {' sq ft': ''}\n",
    "\n",
    "RMT['Size'].replace(ft, regex=True, inplace=True)"
   ]
  },
  {
   "cell_type": "markdown",
   "metadata": {
    "application/vnd.databricks.v1+cell": {
     "cellMetadata": {
      "byteLimit": 2048000,
      "rowLimit": 10000
     },
     "inputWidgets": {},
     "nuid": "c89da5d4-5b46-4f46-9a09-4dd7281a7d02",
     "showTitle": false,
     "tableResultSettingsMap": {},
     "title": ""
    }
   },
   "source": [
    "## 1.4. Extras\n",
    "###### (Av. Date / Lend Type / Parking / Min Tenacy / Furnished / Type)"
   ]
  },
  {
   "cell_type": "code",
   "execution_count": 0,
   "metadata": {
    "application/vnd.databricks.v1+cell": {
     "cellMetadata": {
      "byteLimit": 2048000,
      "rowLimit": 10000
     },
     "inputWidgets": {},
     "nuid": "d929c44c-8a40-4c6c-b0a1-22c48208b159",
     "showTitle": false,
     "tableResultSettingsMap": {},
     "title": ""
    }
   },
   "outputs": [
    {
     "output_type": "stream",
     "name": "stderr",
     "output_type": "stream",
     "text": [
      "/home/spark-268db971-6bd7-4c7c-97bb-a8/.ipykernel/25649/command-2391042842528651-4154435310:12: FutureWarning: Inferring datetime64[ns] from data containing strings is deprecated and will be removed in a future version. To retain the old behavior explicitly pass Series(data, dtype=datetime64[ns])\n  RMT['Text1'] = RMT.apply(process_dates, axis=1)\n"
     ]
    },
    {
     "output_type": "execute_result",
     "data": {
      "text/html": [
       "<div>\n",
       "<style scoped>\n",
       "    .dataframe tbody tr th:only-of-type {\n",
       "        vertical-align: middle;\n",
       "    }\n",
       "\n",
       "    .dataframe tbody tr th {\n",
       "        vertical-align: top;\n",
       "    }\n",
       "\n",
       "    .dataframe thead th {\n",
       "        text-align: right;\n",
       "    }\n",
       "</style>\n",
       "<table border=\"1\" class=\"dataframe\">\n",
       "  <thead>\n",
       "    <tr style=\"text-align: right;\">\n",
       "      <th></th>\n",
       "      <th>Field</th>\n",
       "      <th>Monthly_Price</th>\n",
       "      <th>Av_Date</th>\n",
       "      <th>Street</th>\n",
       "      <th>Text11</th>\n",
       "      <th>Agency</th>\n",
       "      <th>Text13</th>\n",
       "      <th>Text14</th>\n",
       "      <th>Text15</th>\n",
       "      <th>Text16</th>\n",
       "      <th>Text17</th>\n",
       "      <th>Text18</th>\n",
       "      <th>Text19</th>\n",
       "      <th>Text2</th>\n",
       "      <th>Text20</th>\n",
       "      <th>Text21</th>\n",
       "      <th>Text22</th>\n",
       "      <th>Text3</th>\n",
       "      <th>Text4</th>\n",
       "      <th>Text5</th>\n",
       "      <th>Text6</th>\n",
       "      <th>Text7</th>\n",
       "      <th>Bedrooms</th>\n",
       "      <th>Bathrooms</th>\n",
       "      <th>_Link</th>\n",
       "      <th>_Text</th>\n",
       "      <th>Borough</th>\n",
       "      <th>City</th>\n",
       "      <th>Postal_Code</th>\n",
       "      <th>Security_Deposit</th>\n",
       "      <th>Size</th>\n",
       "    </tr>\n",
       "  </thead>\n",
       "  <tbody>\n",
       "    <tr>\n",
       "      <th>1</th>\n",
       "      <td></td>\n",
       "      <td>7950.0</td>\n",
       "      <td>2025-03-04</td>\n",
       "      <td>Dobree Avenue, London, NW10</td>\n",
       "      <td>MARKETED BY</td>\n",
       "      <td>CAMERONS STIFF &amp; CO, WILLESDEN GREEN, LONDON, ...</td>\n",
       "      <td>4 double bedrooms</td>\n",
       "      <td>Off street parking for several cars</td>\n",
       "      <td>AVAILABLE NOW is this double-fronted 1930s-bui...</td>\n",
       "      <td>Band: G</td>\n",
       "      <td>PARKINGDetails of how and where vehicles can b...</td>\n",
       "      <td>Yes</td>\n",
       "      <td>GARDENA property has access to an outdoor spac...</td>\n",
       "      <td>Deposit: £11,007A deposit provides security fo...</td>\n",
       "      <td>Ask agent</td>\n",
       "      <td>ACCESSIBILITYHow a property has been adapted t...</td>\n",
       "      <td>Ask agent</td>\n",
       "      <td>Min. Tenancy: Ask agentHow long the landlord o...</td>\n",
       "      <td>Let type: Long term</td>\n",
       "      <td>Furnish type: Unfurnished</td>\n",
       "      <td>Council Tax: Ask agent</td>\n",
       "      <td>Detached</td>\n",
       "      <td>4</td>\n",
       "      <td>3</td>\n",
       "      <td>https://www.rightmove.co.uk/properties/1317574...</td>\n",
       "      <td></td>\n",
       "      <td>BRENT</td>\n",
       "      <td>LONDON</td>\n",
       "      <td>NaN</td>\n",
       "      <td>11007.0</td>\n",
       "      <td>None</td>\n",
       "    </tr>\n",
       "    <tr>\n",
       "      <th>3</th>\n",
       "      <td></td>\n",
       "      <td>1815.0</td>\n",
       "      <td>2025-03-04</td>\n",
       "      <td>Viscount House, Regency Heights, NW10</td>\n",
       "      <td>MARKETED BY</td>\n",
       "      <td>UNA LIVING, MANCHESTER</td>\n",
       "      <td>1 DOUBLE BEDROOMS</td>\n",
       "      <td>FREE ACCESS TO BODY CORP WELLNESS &amp; FITTNESS</td>\n",
       "      <td>This modern BTR apartment block is managed ful...</td>\n",
       "      <td>Ask agent</td>\n",
       "      <td>PARKINGDetails of how and where vehicles can b...</td>\n",
       "      <td>Ask agent</td>\n",
       "      <td>GARDENA property has access to an outdoor spac...</td>\n",
       "      <td>Deposit: £2,095A deposit provides security for...</td>\n",
       "      <td>Ask agent</td>\n",
       "      <td>ACCESSIBILITYHow a property has been adapted t...</td>\n",
       "      <td>Ask agent</td>\n",
       "      <td>Min. Tenancy: Ask agentHow long the landlord o...</td>\n",
       "      <td>Let type: Long term</td>\n",
       "      <td>Furnish type: Part furnished</td>\n",
       "      <td>Council Tax: Ask agent</td>\n",
       "      <td>Flat</td>\n",
       "      <td>1</td>\n",
       "      <td>1</td>\n",
       "      <td>https://www.rightmove.co.uk/properties/1349664...</td>\n",
       "      <td></td>\n",
       "      <td>BRENT</td>\n",
       "      <td>LONDON</td>\n",
       "      <td>NaN</td>\n",
       "      <td>2095.0</td>\n",
       "      <td>None</td>\n",
       "    </tr>\n",
       "    <tr>\n",
       "      <th>5</th>\n",
       "      <td></td>\n",
       "      <td>5200.0</td>\n",
       "      <td>NaT</td>\n",
       "      <td>Ridley Road, Kensal Green, London, NW10</td>\n",
       "      <td>MARKETED BY</td>\n",
       "      <td>FOXTONS, WILLESDEN GREEN</td>\n",
       "      <td>Beautiful 3 bedroom duplex flat</td>\n",
       "      <td>Bay fronted reception room with study area</td>\n",
       "      <td>SHORT LET. Situated on a quiet street in Kensa...</td>\n",
       "      <td>Ask agent</td>\n",
       "      <td>PARKINGDetails of how and where vehicles can b...</td>\n",
       "      <td>Ask agent</td>\n",
       "      <td>GARDENA property has access to an outdoor spac...</td>\n",
       "      <td>Deposit: £1,200A deposit provides security for...</td>\n",
       "      <td>Rear garden,</td>\n",
       "      <td>ACCESSIBILITYHow a property has been adapted t...</td>\n",
       "      <td>Ask agent</td>\n",
       "      <td>Min. Tenancy: Ask agentHow long the landlord o...</td>\n",
       "      <td>Let type: Short term</td>\n",
       "      <td>Furnish type: Ask agent</td>\n",
       "      <td>Council Tax: Ask agent</td>\n",
       "      <td>Flat</td>\n",
       "      <td>3</td>\n",
       "      <td>2</td>\n",
       "      <td>https://www.rightmove.co.uk/properties/1529208...</td>\n",
       "      <td></td>\n",
       "      <td>BRENT</td>\n",
       "      <td>LONDON</td>\n",
       "      <td>NaN</td>\n",
       "      <td>1200.0</td>\n",
       "      <td>None</td>\n",
       "    </tr>\n",
       "    <tr>\n",
       "      <th>6</th>\n",
       "      <td></td>\n",
       "      <td>12502.0</td>\n",
       "      <td>NaT</td>\n",
       "      <td>Sherrick Green Road, Gladstone Park, London, NW10</td>\n",
       "      <td>MARKETED BY</td>\n",
       "      <td>FOXTONS, WILLESDEN GREEN</td>\n",
       "      <td>5 bedroom house</td>\n",
       "      <td>Open plan reception room</td>\n",
       "      <td>SHORT LET. Situated on a quiet residential roa...</td>\n",
       "      <td>Ask agent</td>\n",
       "      <td>PARKINGDetails of how and where vehicles can b...</td>\n",
       "      <td>Yes</td>\n",
       "      <td>GARDENA property has access to an outdoor spac...</td>\n",
       "      <td>Deposit: £2,885A deposit provides security for...</td>\n",
       "      <td>Rear garden,</td>\n",
       "      <td>ACCESSIBILITYHow a property has been adapted t...</td>\n",
       "      <td>Ask agent</td>\n",
       "      <td>Min. Tenancy: Ask agentHow long the landlord o...</td>\n",
       "      <td>Let type: Short term</td>\n",
       "      <td>Furnish type: Ask agent</td>\n",
       "      <td>Council Tax: Ask agent</td>\n",
       "      <td>Semi-Detached</td>\n",
       "      <td>5</td>\n",
       "      <td>6</td>\n",
       "      <td>https://www.rightmove.co.uk/properties/1529212...</td>\n",
       "      <td></td>\n",
       "      <td>BRENT</td>\n",
       "      <td>LONDON</td>\n",
       "      <td>NaN</td>\n",
       "      <td>2885.0</td>\n",
       "      <td>None</td>\n",
       "    </tr>\n",
       "    <tr>\n",
       "      <th>7</th>\n",
       "      <td></td>\n",
       "      <td>7003.0</td>\n",
       "      <td>NaT</td>\n",
       "      <td>Sherrick Green Road, Gladstone Park, London, NW10</td>\n",
       "      <td>MARKETED BY</td>\n",
       "      <td>FOXTONS, WILLESDEN GREEN</td>\n",
       "      <td>5 bedroom house</td>\n",
       "      <td>Open plan reception room</td>\n",
       "      <td>LONG LET. Situated on a quiet residential road...</td>\n",
       "      <td>Ask agent</td>\n",
       "      <td>PARKINGDetails of how and where vehicles can b...</td>\n",
       "      <td>Yes</td>\n",
       "      <td>GARDENA property has access to an outdoor spac...</td>\n",
       "      <td>Deposit: £8,077A deposit provides security for...</td>\n",
       "      <td>Rear garden,</td>\n",
       "      <td>ACCESSIBILITYHow a property has been adapted t...</td>\n",
       "      <td>Ask agent</td>\n",
       "      <td>Min. Tenancy: Ask agentHow long the landlord o...</td>\n",
       "      <td>Let type: Long term</td>\n",
       "      <td>Furnish type: Unfurnished</td>\n",
       "      <td>Council Tax: Ask agent</td>\n",
       "      <td>Semi-Detached</td>\n",
       "      <td>5</td>\n",
       "      <td>6</td>\n",
       "      <td>https://www.rightmove.co.uk/properties/1529209...</td>\n",
       "      <td></td>\n",
       "      <td>BRENT</td>\n",
       "      <td>LONDON</td>\n",
       "      <td>NaN</td>\n",
       "      <td>8077.0</td>\n",
       "      <td>None</td>\n",
       "    </tr>\n",
       "    <tr>\n",
       "      <th>...</th>\n",
       "      <td>...</td>\n",
       "      <td>...</td>\n",
       "      <td>...</td>\n",
       "      <td>...</td>\n",
       "      <td>...</td>\n",
       "      <td>...</td>\n",
       "      <td>...</td>\n",
       "      <td>...</td>\n",
       "      <td>...</td>\n",
       "      <td>...</td>\n",
       "      <td>...</td>\n",
       "      <td>...</td>\n",
       "      <td>...</td>\n",
       "      <td>...</td>\n",
       "      <td>...</td>\n",
       "      <td>...</td>\n",
       "      <td>...</td>\n",
       "      <td>...</td>\n",
       "      <td>...</td>\n",
       "      <td>...</td>\n",
       "      <td>...</td>\n",
       "      <td>...</td>\n",
       "      <td>...</td>\n",
       "      <td>...</td>\n",
       "      <td>...</td>\n",
       "      <td>...</td>\n",
       "      <td>...</td>\n",
       "      <td>...</td>\n",
       "      <td>...</td>\n",
       "      <td>...</td>\n",
       "      <td>...</td>\n",
       "    </tr>\n",
       "    <tr>\n",
       "      <th>18247</th>\n",
       "      <td></td>\n",
       "      <td>3497.0</td>\n",
       "      <td>2025-03-04</td>\n",
       "      <td>York Road, Battersea, London, SW11</td>\n",
       "      <td>MARKETED BY</td>\n",
       "      <td>KNIGHT FRANK - LETTINGS, BATTERSEA</td>\n",
       "      <td>2 bedrooms</td>\n",
       "      <td>1 reception room</td>\n",
       "      <td>This stylish and contemporary two-bedroom apar...</td>\n",
       "      <td>Ask agent</td>\n",
       "      <td>PARKINGDetails of how and where vehicles can b...</td>\n",
       "      <td>Ask agent</td>\n",
       "      <td>GARDENA property has access to an outdoor spac...</td>\n",
       "      <td>Deposit: £4,038A deposit provides security for...</td>\n",
       "      <td>Ask agent</td>\n",
       "      <td>ACCESSIBILITYHow a property has been adapted t...</td>\n",
       "      <td>Ask agent</td>\n",
       "      <td>Min. Tenancy: Ask agentHow long the landlord o...</td>\n",
       "      <td>Let type: Long term</td>\n",
       "      <td>Furnish type: Furnished</td>\n",
       "      <td>Council Tax: Ask agent</td>\n",
       "      <td>Flat</td>\n",
       "      <td>2</td>\n",
       "      <td>2</td>\n",
       "      <td>https://www.rightmove.co.uk/properties/1560697...</td>\n",
       "      <td></td>\n",
       "      <td>WANDSWORTH</td>\n",
       "      <td>LONDON</td>\n",
       "      <td>NaN</td>\n",
       "      <td>4038.0</td>\n",
       "      <td>None</td>\n",
       "    </tr>\n",
       "    <tr>\n",
       "      <th>18248</th>\n",
       "      <td></td>\n",
       "      <td>3748.0</td>\n",
       "      <td>2025-03-04</td>\n",
       "      <td>6 York Road, Battersea, London, SW11</td>\n",
       "      <td>MARKETED BY</td>\n",
       "      <td>KNIGHT FRANK - LETTINGS, BATTERSEA</td>\n",
       "      <td>2 bedrooms</td>\n",
       "      <td>1 reception room</td>\n",
       "      <td>This stylish and contemporary two-bedroom apar...</td>\n",
       "      <td>Band: F</td>\n",
       "      <td>PARKINGDetails of how and where vehicles can b...</td>\n",
       "      <td>Ask agent</td>\n",
       "      <td>GARDENA property has access to an outdoor spac...</td>\n",
       "      <td>Deposit: £4,326A deposit provides security for...</td>\n",
       "      <td>Ask agent</td>\n",
       "      <td>ACCESSIBILITYHow a property has been adapted t...</td>\n",
       "      <td>Ask agent</td>\n",
       "      <td>Min. Tenancy: Ask agentHow long the landlord o...</td>\n",
       "      <td>Let type: Long term</td>\n",
       "      <td>Furnish type: Furnished</td>\n",
       "      <td>Council Tax: Ask agent</td>\n",
       "      <td>Flat</td>\n",
       "      <td>2</td>\n",
       "      <td>2</td>\n",
       "      <td>https://www.rightmove.co.uk/properties/8707769...</td>\n",
       "      <td></td>\n",
       "      <td>WANDSWORTH</td>\n",
       "      <td>LONDON</td>\n",
       "      <td>NaN</td>\n",
       "      <td>4326.0</td>\n",
       "      <td>None</td>\n",
       "    </tr>\n",
       "    <tr>\n",
       "      <th>18249</th>\n",
       "      <td></td>\n",
       "      <td>1800.0</td>\n",
       "      <td>2025-03-04</td>\n",
       "      <td>St. John's Hill, London, SW11</td>\n",
       "      <td>MARKETED BY</td>\n",
       "      <td>STIRLING ACKROYD LETTINGS, NINE ELMS AND WESTM...</td>\n",
       "      <td>One bedroom</td>\n",
       "      <td>Open-plan living room</td>\n",
       "      <td>No Deposit Option Available For Tenants.\\n\\nLo...</td>\n",
       "      <td>Band: C</td>\n",
       "      <td>PARKINGDetails of how and where vehicles can b...</td>\n",
       "      <td>Ask agent</td>\n",
       "      <td>GARDENA property has access to an outdoor spac...</td>\n",
       "      <td>Deposit: £2,076A deposit provides security for...</td>\n",
       "      <td>Ask agent</td>\n",
       "      <td>ACCESSIBILITYHow a property has been adapted t...</td>\n",
       "      <td>Ask agent</td>\n",
       "      <td>Min. Tenancy: 12 monthsHow long the landlord o...</td>\n",
       "      <td>Let type: Long term</td>\n",
       "      <td>Furnish type: Furnished</td>\n",
       "      <td>Council Tax: Ask agent</td>\n",
       "      <td>Apartment</td>\n",
       "      <td>1</td>\n",
       "      <td>1</td>\n",
       "      <td>https://www.rightmove.co.uk/properties/1580560...</td>\n",
       "      <td></td>\n",
       "      <td>WANDSWORTH</td>\n",
       "      <td>LONDON</td>\n",
       "      <td>NaN</td>\n",
       "      <td>2076.0</td>\n",
       "      <td>None</td>\n",
       "    </tr>\n",
       "    <tr>\n",
       "      <th>18250</th>\n",
       "      <td></td>\n",
       "      <td>2500.0</td>\n",
       "      <td>2025-04-01</td>\n",
       "      <td>Francis House, \\n25 Eltringham Street, SW18</td>\n",
       "      <td>MARKETED BY</td>\n",
       "      <td>CHESTERTONS, WANDSWORTH LETTINGS</td>\n",
       "      <td>A beautifully presented two double bedroom apa...</td>\n",
       "      <td>Former show flat</td>\n",
       "      <td>James Pendleton has the pleasure of introducin...</td>\n",
       "      <td>Band: E</td>\n",
       "      <td>PARKINGDetails of how and where vehicles can b...</td>\n",
       "      <td>Yes</td>\n",
       "      <td>GARDENA property has access to an outdoor spac...</td>\n",
       "      <td>Deposit: £2,885A deposit provides security for...</td>\n",
       "      <td>Ask agent</td>\n",
       "      <td>ACCESSIBILITYHow a property has been adapted t...</td>\n",
       "      <td>Ask agent</td>\n",
       "      <td>Min. Tenancy: 12 monthsHow long the landlord o...</td>\n",
       "      <td>Let type: Long term</td>\n",
       "      <td>Furnish type: Unfurnished</td>\n",
       "      <td>Council Tax: Ask agent</td>\n",
       "      <td>Flat</td>\n",
       "      <td>2</td>\n",
       "      <td>2</td>\n",
       "      <td>https://www.rightmove.co.uk/properties/1580587...</td>\n",
       "      <td></td>\n",
       "      <td>WANDSWORTH</td>\n",
       "      <td>LONDON</td>\n",
       "      <td>NaN</td>\n",
       "      <td>2885.0</td>\n",
       "      <td>None</td>\n",
       "    </tr>\n",
       "    <tr>\n",
       "      <th>18251</th>\n",
       "      <td></td>\n",
       "      <td>3750.0</td>\n",
       "      <td>2025-03-03</td>\n",
       "      <td>Coda Residences, \\n6 York Place, SW11</td>\n",
       "      <td>MARKETED BY</td>\n",
       "      <td>CHESTERTONS, BATTERSEA PARK LETTINGS</td>\n",
       "      <td>13th Floor</td>\n",
       "      <td>Furnished</td>\n",
       "      <td>A stunning 2 bedroom, 2 bathroom apartment wit...</td>\n",
       "      <td>Band: F</td>\n",
       "      <td>PARKINGDetails of how and where vehicles can b...</td>\n",
       "      <td>Ask agent</td>\n",
       "      <td>GARDENA property has access to an outdoor spac...</td>\n",
       "      <td>Deposit: £4,327A deposit provides security for...</td>\n",
       "      <td>Private garden</td>\n",
       "      <td>ACCESSIBILITYHow a property has been adapted t...</td>\n",
       "      <td>Ask agent</td>\n",
       "      <td>Min. Tenancy: 12 monthsHow long the landlord o...</td>\n",
       "      <td>Let type: Long term</td>\n",
       "      <td>Furnish type: Furnished</td>\n",
       "      <td>Council Tax: Ask agent</td>\n",
       "      <td>Flat</td>\n",
       "      <td>2</td>\n",
       "      <td>2</td>\n",
       "      <td>https://www.rightmove.co.uk/properties/1573970...</td>\n",
       "      <td></td>\n",
       "      <td>WANDSWORTH</td>\n",
       "      <td>LONDON</td>\n",
       "      <td>NaN</td>\n",
       "      <td>4327.0</td>\n",
       "      <td>None</td>\n",
       "    </tr>\n",
       "  </tbody>\n",
       "</table>\n",
       "<p>14189 rows × 31 columns</p>\n",
       "</div>"
      ],
      "text/plain": [
       "      Field  Monthly_Price    Av_Date  ... Postal_Code Security_Deposit  Size\n",
       "1                   7950.0 2025-03-04  ...         NaN          11007.0  None\n",
       "3                   1815.0 2025-03-04  ...         NaN           2095.0  None\n",
       "5                   5200.0        NaT  ...         NaN           1200.0  None\n",
       "6                  12502.0        NaT  ...         NaN           2885.0  None\n",
       "7                   7003.0        NaT  ...         NaN           8077.0  None\n",
       "...     ...            ...        ...  ...         ...              ...   ...\n",
       "18247               3497.0 2025-03-04  ...         NaN           4038.0  None\n",
       "18248               3748.0 2025-03-04  ...         NaN           4326.0  None\n",
       "18249               1800.0 2025-03-04  ...         NaN           2076.0  None\n",
       "18250               2500.0 2025-04-01  ...         NaN           2885.0  None\n",
       "18251               3750.0 2025-03-03  ...         NaN           4327.0  None\n",
       "\n",
       "[14189 rows x 31 columns]"
      ]
     },
     "execution_count": 105,
     "metadata": {},
     "output_type": "execute_result"
    }
   ],
   "source": [
    "# AV. DATE\n",
    "\n",
    "def process_dates(row):\n",
    "    if pd.notna(row['Text1']):\n",
    "        if 'Now' in row['Text1']:\n",
    "            return pd.Timestamp.now().strftime('%Y-%m-%d')\n",
    "        else:\n",
    "            date_str = row['Text1'].split(': ')[-1] \n",
    "            return pd.to_datetime(date_str, format='%d/%m/%Y', errors='coerce') \n",
    "    return None \n",
    "\n",
    "RMT['Text1'] = RMT.apply(process_dates, axis=1)\n",
    "\n",
    "RMT.rename(columns={'Text1': 'Av_Date'})"
   ]
  },
  {
   "cell_type": "code",
   "execution_count": 0,
   "metadata": {
    "application/vnd.databricks.v1+cell": {
     "cellMetadata": {
      "byteLimit": 2048000,
      "rowLimit": 10000
     },
     "inputWidgets": {},
     "nuid": "1483dc93-6d4d-4a17-a91d-bbab44d0304f",
     "showTitle": false,
     "tableResultSettingsMap": {},
     "title": ""
    }
   },
   "outputs": [
    {
     "output_type": "execute_result",
     "data": {
      "text/plain": [
       "0    12138\n",
       "1     1517\n",
       "Name: Let_Type, dtype: int64"
      ]
     },
     "execution_count": 106,
     "metadata": {},
     "output_type": "execute_result"
    }
   ],
   "source": [
    "# LET TYPE\n",
    "\n",
    "RMT['Let_Type'] = RMT['Text4']\n",
    "\n",
    "def shift_values(row):\n",
    "    if pd.notna(row['Let_Type']) and 'Let type' not in row['Let_Type']:\n",
    "        row['Let_Type'] = None \n",
    "    return row\n",
    "\n",
    "RMT = RMT.apply(shift_values, axis=1)\n",
    "\n",
    "n = {'\\n': ' '}\n",
    "\n",
    "RMT['Let_Type'].replace(n, regex=True, inplace=True)\n",
    "\n",
    "n1 = {'Let type: Long term': '0', 'Let type: Short term': '1'}\n",
    "\n",
    "RMT['Let_Type'].replace(n1, regex=True, inplace=True)\n",
    "\n",
    "RMT['Let_Type'].value_counts()"
   ]
  },
  {
   "cell_type": "code",
   "execution_count": 0,
   "metadata": {
    "application/vnd.databricks.v1+cell": {
     "cellMetadata": {
      "byteLimit": 2048000,
      "rowLimit": 10000
     },
     "inputWidgets": {},
     "nuid": "ed27da5b-3f82-4bd7-85a2-f5b7574c258c",
     "showTitle": false,
     "tableResultSettingsMap": {},
     "title": ""
    }
   },
   "outputs": [
    {
     "output_type": "execute_result",
     "data": {
      "text/plain": [
       "1    9289\n",
       "0    4900\n",
       "Name: Furnished, dtype: int64"
      ]
     },
     "execution_count": 107,
     "metadata": {},
     "output_type": "execute_result"
    }
   ],
   "source": [
    "# FURNISHED\n",
    "\n",
    "RMT['Furnished'] = RMT['Text5']\n",
    "\n",
    "def shift_values(row):\n",
    "    if pd.notna(row['Furnished']) and 'Unfurnished' in row['Furnished']:\n",
    "        row['Furnished'] = '0' \n",
    "    if pd.notna(row['Furnished']) and 'Ask agent' in row['Furnished']:\n",
    "        row['Furnished'] = '0'\n",
    "    if pd.notna(row['Furnished']) and 'Council' in row['Furnished']:\n",
    "        row['Furnished'] = '0'\n",
    "    if pd.notna(row['Furnished']) and 'type: Furnished' in row['Furnished']:\n",
    "        row['Furnished'] = '1'\n",
    "    if pd.notna(row['Furnished']) and 'type:\\nFurnished' in row['Furnished']:\n",
    "        row['Furnished'] = '1'\n",
    "    if pd.notna(row['Furnished']) and 'Part furnished' in row['Furnished']:\n",
    "        row['Furnished'] = '1'\n",
    "    return row\n",
    "\n",
    "RMT = RMT.apply(shift_values, axis=1)\n",
    "\n",
    "RMT['Furnished'].value_counts()"
   ]
  },
  {
   "cell_type": "code",
   "execution_count": 0,
   "metadata": {
    "application/vnd.databricks.v1+cell": {
     "cellMetadata": {
      "byteLimit": 2048000,
      "rowLimit": 10000
     },
     "inputWidgets": {},
     "nuid": "db5c605b-4ea8-4626-9995-a296952046a4",
     "showTitle": false,
     "tableResultSettingsMap": {},
     "title": ""
    }
   },
   "outputs": [],
   "source": [
    "# PARKING\n",
    "\n",
    "RMT['Parking'] = None\n",
    "\n",
    "def shift_values(row):\n",
    "    if pd.notna(row['Text17']) and 'PARKING' in row['Text17']:\n",
    "        row['Parking'] = row['Text18']\n",
    "    if pd.notna(row['Text19']) and 'PARKING' in row['Text19']:\n",
    "        row['Parking'] = row['Text20']\n",
    "    return row\n",
    "\n",
    "RMT = RMT.apply(shift_values, axis=1)\n",
    "\n",
    "\n",
    "def shift_values(row):\n",
    "    if pd.notna(row['Parking']):\n",
    "        if 'Ask agent' in row['Parking']:\n",
    "            row['Parking'] = '0'\n",
    "        elif 'Off street' in row['Parking']:\n",
    "            row['Parking'] = '0'\n",
    "        elif 'On street' in row['Parking']:\n",
    "            row['Parking'] = '0'\n",
    "        elif 'No parking' in row['Parking']:\n",
    "            row['Parking'] = '0'\n",
    "        else:\n",
    "            row['Parking'] = '1'\n",
    "    else:\n",
    "        row['Parking'] = '0'\n",
    "    return row\n",
    "\n",
    "RMT = RMT.apply(shift_values, axis=1)"
   ]
  },
  {
   "cell_type": "code",
   "execution_count": 0,
   "metadata": {
    "application/vnd.databricks.v1+cell": {
     "cellMetadata": {
      "byteLimit": 2048000,
      "rowLimit": 10000
     },
     "inputWidgets": {},
     "nuid": "a43e63f5-b9c6-40c1-a29a-e452fcf26f80",
     "showTitle": false,
     "tableResultSettingsMap": {},
     "title": ""
    }
   },
   "outputs": [],
   "source": [
    "# TYPE\n",
    "\n",
    "RMT['Apt_Type'] = RMT['Text7']\n",
    "\n",
    "def shift_values(row):\n",
    "    if pd.notna(row['Apt_Type']) and 'sq ft' in row['Apt_Type']:\n",
    "        row['Apt_Type'] = None\n",
    "    if pd.notna(row['Apt_Type']) and 'Ask agent' in row['Apt_Type']:\n",
    "        row['Apt_Type'] = None\n",
    "    if pd.notna(row['Text19']) and len(row['Text7']) < 3:\n",
    "        row['Apt_Type'] = None\n",
    "    return row\n",
    "\n",
    "RMT = RMT.apply(shift_values, axis=1)"
   ]
  },
  {
   "cell_type": "code",
   "execution_count": 0,
   "metadata": {
    "application/vnd.databricks.v1+cell": {
     "cellMetadata": {
      "byteLimit": 2048000,
      "rowLimit": 10000
     },
     "inputWidgets": {},
     "nuid": "345a3913-f685-443e-a0e2-301d35f27063",
     "showTitle": false,
     "tableResultSettingsMap": {},
     "title": ""
    }
   },
   "outputs": [
    {
     "output_type": "execute_result",
     "data": {
      "text/plain": [
       "12     2371\n",
       "6       416\n",
       "1       158\n",
       "3        85\n",
       "2        48\n",
       "18       23\n",
       "24       22\n",
       "5         8\n",
       "11        6\n",
       "30        6\n",
       "9         5\n",
       "4         4\n",
       "8         3\n",
       "983       1\n",
       "10        1\n",
       "36        1\n",
       "14        1\n",
       "Name: Min_Tenacy, dtype: int64"
      ]
     },
     "execution_count": 110,
     "metadata": {},
     "output_type": "execute_result"
    }
   ],
   "source": [
    "# MINIMUM TENACY\n",
    "\n",
    "RMT['Min_Tenacy'] = RMT['Text3'].str.extract(r'(\\d+\\s+month)')\n",
    "\n",
    "month = {' month':''}\n",
    "\n",
    "RMT['Min_Tenacy'].replace(month, regex=True, inplace=True)\n",
    "\n",
    "RMT['Min_Tenacy'].value_counts()"
   ]
  },
  {
   "cell_type": "code",
   "execution_count": 0,
   "metadata": {
    "application/vnd.databricks.v1+cell": {
     "cellMetadata": {
      "byteLimit": 2048000,
      "rowLimit": 10000
     },
     "inputWidgets": {},
     "nuid": "e5d63b8b-a8fb-42f1-89ed-8b252553741b",
     "showTitle": false,
     "tableResultSettingsMap": {},
     "title": ""
    }
   },
   "outputs": [],
   "source": [
    "RMT['Description'] = RMT['Text15']"
   ]
  },
  {
   "cell_type": "markdown",
   "metadata": {
    "application/vnd.databricks.v1+cell": {
     "cellMetadata": {
      "byteLimit": 2048000,
      "rowLimit": 10000
     },
     "inputWidgets": {},
     "nuid": "aa7e743d-cf74-4fda-a3b8-55274e4f0e79",
     "showTitle": false,
     "tableResultSettingsMap": {},
     "title": ""
    }
   },
   "source": [
    "## 1.5. Final Dataset"
   ]
  },
  {
   "cell_type": "code",
   "execution_count": 0,
   "metadata": {
    "application/vnd.databricks.v1+cell": {
     "cellMetadata": {
      "byteLimit": 2048000,
      "rowLimit": 10000
     },
     "inputWidgets": {},
     "nuid": "e263b167-6e49-447d-b72a-b4db36637c64",
     "showTitle": false,
     "tableResultSettingsMap": {},
     "title": ""
    }
   },
   "outputs": [
    {
     "output_type": "stream",
     "name": "stdout",
     "output_type": "stream",
     "text": [
      "<class 'pandas.core.frame.DataFrame'>\nInt64Index: 14189 entries, 1 to 18251\nData columns (total 37 columns):\n #   Column            Non-Null Count  Dtype         \n---  ------            --------------  -----         \n 0   Field             14189 non-null  object        \n 1   Monthly_Price     14189 non-null  float64       \n 2   Text1             10352 non-null  datetime64[ns]\n 3   Street            14189 non-null  object        \n 4   Text11            14189 non-null  object        \n 5   Agency            14189 non-null  object        \n 6   Text13            14189 non-null  object        \n 7   Text14            14189 non-null  object        \n 8   Text15            14189 non-null  object        \n 9   Text16            14189 non-null  object        \n 10  Text17            14189 non-null  object        \n 11  Text18            14189 non-null  object        \n 12  Text19            14189 non-null  object        \n 13  Text2             14189 non-null  object        \n 14  Text20            14189 non-null  object        \n 15  Text21            14189 non-null  object        \n 16  Text22            14189 non-null  object        \n 17  Text3             14189 non-null  object        \n 18  Text4             14189 non-null  object        \n 19  Text5             14189 non-null  object        \n 20  Text6             14189 non-null  object        \n 21  Text7             14189 non-null  object        \n 22  Bedrooms          14189 non-null  object        \n 23  Bathrooms         14189 non-null  object        \n 24  _Link             14189 non-null  object        \n 25  _Text             14189 non-null  object        \n 26  Borough           14189 non-null  object        \n 27  City              14189 non-null  object        \n 28  Postal_Code       294 non-null    object        \n 29  Security_Deposit  14189 non-null  float64       \n 30  Size              456 non-null    object        \n 31  Let_Type          13655 non-null  object        \n 32  Furnished         14189 non-null  object        \n 33  Parking           14189 non-null  object        \n 34  Apt_Type          14102 non-null  object        \n 35  Min_Tenacy        3159 non-null   object        \n 36  Description       14189 non-null  object        \ndtypes: datetime64[ns](1), float64(2), object(34)\nmemory usage: 4.1+ MB\n"
     ]
    }
   ],
   "source": [
    "RMT.info()"
   ]
  },
  {
   "cell_type": "code",
   "execution_count": 0,
   "metadata": {
    "application/vnd.databricks.v1+cell": {
     "cellMetadata": {
      "byteLimit": 2048000,
      "rowLimit": 10000
     },
     "inputWidgets": {},
     "nuid": "28276a03-6516-4032-b49c-4880d3e3e3e0",
     "showTitle": false,
     "tableResultSettingsMap": {},
     "title": ""
    }
   },
   "outputs": [],
   "source": [
    "RMT.drop(columns=['Text1','Text11','Text13','Text14','Text15','Text16','Text17',\n",
    "                 'Text18','Text19','Text2','Text20','Text21','Text22','Text3','Text4','Text5','Text6','Text7','_Link','_Text'],inplace=True)"
   ]
  },
  {
   "cell_type": "code",
   "execution_count": 0,
   "metadata": {
    "application/vnd.databricks.v1+cell": {
     "cellMetadata": {
      "byteLimit": 2048000,
      "rowLimit": 10000
     },
     "inputWidgets": {},
     "nuid": "ef10b44d-3802-4aaa-b674-fb2a0d79f804",
     "showTitle": false,
     "tableResultSettingsMap": {},
     "title": ""
    }
   },
   "outputs": [
    {
     "output_type": "execute_result",
     "data": {
      "text/plain": [
       "<bound method NDFrame.tail of       Field  ...                                        Description\n",
       "1            ...  AVAILABLE NOW is this double-fronted 1930s-bui...\n",
       "3            ...  This modern BTR apartment block is managed ful...\n",
       "5            ...  SHORT LET. Situated on a quiet street in Kensa...\n",
       "6            ...  SHORT LET. Situated on a quiet residential roa...\n",
       "7            ...  LONG LET. Situated on a quiet residential road...\n",
       "...     ...  ...                                                ...\n",
       "18247        ...  This stylish and contemporary two-bedroom apar...\n",
       "18248        ...  This stylish and contemporary two-bedroom apar...\n",
       "18249        ...  No Deposit Option Available For Tenants.\\n\\nLo...\n",
       "18250        ...  James Pendleton has the pleasure of introducin...\n",
       "18251        ...  A stunning 2 bedroom, 2 bathroom apartment wit...\n",
       "\n",
       "[14189 rows x 17 columns]>"
      ]
     },
     "execution_count": 359,
     "metadata": {},
     "output_type": "execute_result"
    }
   ],
   "source": [
    "RMT.tail"
   ]
  },
  {
   "cell_type": "markdown",
   "metadata": {
    "application/vnd.databricks.v1+cell": {
     "cellMetadata": {},
     "inputWidgets": {},
     "nuid": "773d2aae-72c4-46c0-98f5-2b2a7f53ad9b",
     "showTitle": false,
     "tableResultSettingsMap": {},
     "title": ""
    }
   },
   "source": [
    "#"
   ]
  },
  {
   "cell_type": "markdown",
   "metadata": {
    "application/vnd.databricks.v1+cell": {
     "cellMetadata": {},
     "inputWidgets": {},
     "nuid": "d013644a-c35a-46cc-af72-6650d9e05d83",
     "showTitle": false,
     "tableResultSettingsMap": {},
     "title": ""
    }
   },
   "source": [
    "### Try to get the postal code"
   ]
  },
  {
   "cell_type": "code",
   "execution_count": 0,
   "metadata": {
    "application/vnd.databricks.v1+cell": {
     "cellMetadata": {},
     "inputWidgets": {},
     "nuid": "1cc76d53-2540-4f47-9dda-13c1d875025b",
     "showTitle": false,
     "tableResultSettingsMap": {},
     "title": ""
    }
   },
   "outputs": [],
   "source": [
    "!pip install geopy"
   ]
  },
  {
   "cell_type": "code",
   "execution_count": 0,
   "metadata": {
    "application/vnd.databricks.v1+cell": {
     "cellMetadata": {
      "byteLimit": 2048000,
      "rowLimit": 10000
     },
     "inputWidgets": {},
     "nuid": "073ebcf4-97ed-4199-902b-fa2d2ce0551f",
     "showTitle": false,
     "tableResultSettingsMap": {},
     "title": ""
    }
   },
   "outputs": [],
   "source": [
    "from geopy.geocoders import Nominatim\n",
    "import time\n",
    "geolocator = Nominatim(user_agent=\"my_custom_application\", timeout=30000)"
   ]
  },
  {
   "cell_type": "code",
   "execution_count": 0,
   "metadata": {
    "application/vnd.databricks.v1+cell": {
     "cellMetadata": {
      "byteLimit": 2048000,
      "rowLimit": 10000
     },
     "inputWidgets": {},
     "nuid": "8a9011c5-d1a5-4d2a-a66d-bcd476cca50c",
     "showTitle": false,
     "tableResultSettingsMap": {},
     "title": ""
    }
   },
   "outputs": [
    {
     "output_type": "execute_result",
     "data": {
      "text/plain": [
       "5663     Stunning 3 Bed with Amazing City Views\n",
       "602                       Lambert Walk, Wembley\n",
       "5488                             Lancaster Gate\n",
       "10605                        Moray Road, N4 3LG\n",
       "6082                      Green Street, Mayfair\n",
       "4979                                York Street\n",
       "3808           Moore House, Grosvenor Waterside\n",
       "2771                                Antrim Road\n",
       "16628                             Carnation Way\n",
       "17520                     York Place, Battersea\n",
       "Name: Street, dtype: object"
      ]
     },
     "execution_count": 208,
     "metadata": {},
     "output_type": "execute_result"
    }
   ],
   "source": [
    "def limpiar_direccion(direccion):\n",
    "    partes = [p.strip() for p in direccion.split(\",\")]\n",
    "    if len(partes) == 3:\n",
    "        return partes[0]\n",
    "    elif len(partes) >= 4:\n",
    "        return \", \".join(partes[:2])\n",
    "    else:\n",
    "        return direccion.strip()\n",
    "\n",
    "RMT['Street'] = RMT['Street'].apply(limpiar_direccion)\n",
    "\n",
    "RMT['Street'].sample(10)"
   ]
  },
  {
   "cell_type": "code",
   "execution_count": 0,
   "metadata": {
    "application/vnd.databricks.v1+cell": {
     "cellMetadata": {
      "byteLimit": 2048000,
      "rowLimit": 10000
     },
     "inputWidgets": {},
     "nuid": "70a970d2-f478-4701-8949-fd52ba669c4a",
     "showTitle": false,
     "tableResultSettingsMap": {},
     "title": ""
    }
   },
   "outputs": [],
   "source": [
    "data = [] \n",
    "\n",
    "Test_Geo = pd.DataFrame(data)\n",
    "\n",
    "Test_Geo['Street'] = RMT['Street'].iloc[0:19000]\n",
    "\n",
    "place = [Test_Geo['Street']]"
   ]
  },
  {
   "cell_type": "code",
   "execution_count": 0,
   "metadata": {
    "application/vnd.databricks.v1+cell": {
     "cellMetadata": {
      "byteLimit": 2048000,
      "rowLimit": 10000
     },
     "inputWidgets": {},
     "nuid": "73191847-7be6-43ab-99ea-1ddee36b7eed",
     "showTitle": false,
     "tableResultSettingsMap": {},
     "title": ""
    }
   },
   "outputs": [],
   "source": [
    "from functools import lru_cache\n",
    "import concurrent.futures\n",
    "\n",
    "@lru_cache(maxsize=1000)\n",
    "def geocode_address(address):\n",
    "    try:\n",
    "        location = geolocator.geocode(address, timeout=10)\n",
    "        if location:\n",
    "            return location.address\n",
    "        else:\n",
    "            return None\n",
    "    except Exception as e:\n",
    "        return None\n",
    "\n",
    "def geocode_with_delay(address):\n",
    "    result = geocode_address(address)\n",
    "    time.sleep(1)\n",
    "    return result\n",
    "\n",
    "addresses = Test_Geo['Street'].tolist()\n",
    "\n",
    "with concurrent.futures.ThreadPoolExecutor(max_workers=5) as executor:\n",
    "    results = list(executor.map(geocode_with_delay, addresses))\n",
    "\n",
    "Test_Geo['GeoAddress'] = results\n"
   ]
  },
  {
   "cell_type": "code",
   "execution_count": 0,
   "metadata": {
    "application/vnd.databricks.v1+cell": {
     "cellMetadata": {
      "byteLimit": 2048000,
      "rowLimit": 10000
     },
     "inputWidgets": {},
     "nuid": "7370a16c-e66f-43b8-bb46-c5dcb8d6ac55",
     "showTitle": false,
     "tableResultSettingsMap": {},
     "title": ""
    }
   },
   "outputs": [],
   "source": [
    "Test_Geo_12 = Test_Geo"
   ]
  },
  {
   "cell_type": "code",
   "execution_count": 0,
   "metadata": {
    "application/vnd.databricks.v1+cell": {
     "cellMetadata": {
      "byteLimit": 2048000,
      "rowLimit": 10000
     },
     "inputWidgets": {},
     "nuid": "77f8b7b0-f75a-4a40-b7cc-9c7b8fd8da8c",
     "showTitle": false,
     "tableResultSettingsMap": {},
     "title": ""
    }
   },
   "outputs": [],
   "source": [
    "Test_Geo = [Test_Geo_1, Test_Geo_2, Test_Geo_3, Test_Geo_4, \n",
    "              Test_Geo_5, Test_Geo_6, Test_Geo_7, Test_Geo_8, \n",
    "              Test_Geo_9, Test_Geo_10, Test_Geo_11, Test_Geo_12]\n",
    "\n",
    "Test_Geo = pd.concat(Test_Geo, ignore_index=True)"
   ]
  },
  {
   "cell_type": "code",
   "execution_count": 0,
   "metadata": {
    "application/vnd.databricks.v1+cell": {
     "cellMetadata": {
      "byteLimit": 2048000,
      "rowLimit": 10000
     },
     "inputWidgets": {},
     "nuid": "afabca22-0cf9-4394-93dc-88d65b6ad08f",
     "showTitle": false,
     "tableResultSettingsMap": {},
     "title": ""
    }
   },
   "outputs": [],
   "source": [
    "RMT_Geo = pd.merge(RMT, Test_Geo, left_index=True, right_index=True)"
   ]
  },
  {
   "cell_type": "code",
   "execution_count": 0,
   "metadata": {
    "application/vnd.databricks.v1+cell": {
     "cellMetadata": {
      "byteLimit": 2048000,
      "rowLimit": 10000
     },
     "inputWidgets": {},
     "nuid": "37a73bd2-3028-4c23-9885-f8ab57bbf704",
     "showTitle": false,
     "tableResultSettingsMap": {},
     "title": ""
    }
   },
   "outputs": [],
   "source": [
    "RMT_Geo['Postal_Code_2'] = RMT_Geo['GeoAddress'].str.extract(r'England,\\s*([^,]+)')[0]"
   ]
  },
  {
   "cell_type": "code",
   "execution_count": 0,
   "metadata": {
    "application/vnd.databricks.v1+cell": {
     "cellMetadata": {
      "byteLimit": 2048000,
      "rowLimit": 10000
     },
     "inputWidgets": {},
     "nuid": "fc674399-3140-43ad-87c3-0ef3e92718be",
     "showTitle": false,
     "tableResultSettingsMap": {},
     "title": ""
    }
   },
   "outputs": [],
   "source": [
    "RMT_Geo_Spark = spark.createDataFrame(RMT_Geo)\n",
    "\n",
    "RMT_Geo_Spark.write.mode(\"overwrite\").saveAsTable(\"silver.edgar_sarto_revenue.Right_Move_LONDON_CLEAN\")"
   ]
  }
 ],
 "metadata": {
  "application/vnd.databricks.v1+notebook": {
   "computePreferences": null,
   "dashboards": [],
   "environmentMetadata": {
    "base_environment": "",
    "environment_version": "2"
   },
   "language": "python",
   "notebookMetadata": {
    "pythonIndentUnit": 4
   },
   "notebookName": "Right Move Data Cleaning",
   "widgets": {}
  },
  "language_info": {
   "name": "python"
  }
 },
 "nbformat": 4,
 "nbformat_minor": 0
}