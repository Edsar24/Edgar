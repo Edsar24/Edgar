{
 "cells": [
  {
   "cell_type": "markdown",
   "metadata": {
    "application/vnd.databricks.v1+cell": {
     "cellMetadata": {
      "byteLimit": 2048000,
      "rowLimit": 10000
     },
     "inputWidgets": {},
     "nuid": "4a2707e3-7161-4c25-804c-0e55ba53fae7",
     "showTitle": false,
     "tableResultSettingsMap": {},
     "title": ""
    }
   },
   "source": [
    "# Listings Data Cleaning"
   ]
  },
  {
   "cell_type": "code",
   "execution_count": 0,
   "metadata": {
    "application/vnd.databricks.v1+cell": {
     "cellMetadata": {
      "byteLimit": 2048000,
      "rowLimit": 10000
     },
     "inputWidgets": {},
     "nuid": "65472028-6bad-40be-9610-06db8dca8ede",
     "showTitle": false,
     "tableResultSettingsMap": {},
     "title": ""
    }
   },
   "outputs": [],
   "source": [
    "from pyspark.sql.functions import col\n",
    "import pandas as pd"
   ]
  },
  {
   "cell_type": "code",
   "execution_count": 0,
   "metadata": {
    "application/vnd.databricks.v1+cell": {
     "cellMetadata": {
      "byteLimit": 2048000,
      "rowLimit": 10000
     },
     "inputWidgets": {},
     "nuid": "14e7a74d-133a-4380-ac35-93b3f2f88b3c",
     "showTitle": false,
     "tableResultSettingsMap": {},
     "title": ""
    }
   },
   "outputs": [],
   "source": [
    "Dublin = spark.table(\"silver.edgar_sarto_revenue.dublin_inside_airbnb_listings\")\n",
    "Milan = spark.table(\"silver.edgar_sarto_revenue.milan_inside_airbnb_listings\")\n",
    "London = spark.table(\"silver.edgar_sarto_revenue.london_inside_airbnb_listings\")\n",
    "\n",
    "Dublin = Dublin.filter((col(\"minimum_nights\") >= 30) & (col(\"minimum_nights\") <= 91))\n",
    "Milan = Milan.filter((col(\"minimum_nights\") >= 30) & (col(\"minimum_nights\") <= 91))\n",
    "London = London.filter((col(\"minimum_nights\") >= 30) & (col(\"minimum_nights\") <= 91))\n",
    "\n",
    "Dublin = Dublin.toPandas()\n",
    "Milan = Milan.toPandas()\n",
    "London = London.toPandas()"
   ]
  },
  {
   "cell_type": "code",
   "execution_count": 0,
   "metadata": {
    "application/vnd.databricks.v1+cell": {
     "cellMetadata": {
      "byteLimit": 2048000,
      "rowLimit": 10000
     },
     "inputWidgets": {},
     "nuid": "5b653161-147c-47fd-b297-233de983759d",
     "showTitle": false,
     "tableResultSettingsMap": {},
     "title": ""
    }
   },
   "outputs": [
    {
     "output_type": "execute_result",
     "data": {
      "text/html": [
       "<div>\n",
       "<style scoped>\n",
       "    .dataframe tbody tr th:only-of-type {\n",
       "        vertical-align: middle;\n",
       "    }\n",
       "\n",
       "    .dataframe tbody tr th {\n",
       "        vertical-align: top;\n",
       "    }\n",
       "\n",
       "    .dataframe thead th {\n",
       "        text-align: right;\n",
       "    }\n",
       "</style>\n",
       "<table border=\"1\" class=\"dataframe\">\n",
       "  <thead>\n",
       "    <tr style=\"text-align: right;\">\n",
       "      <th></th>\n",
       "      <th>id</th>\n",
       "      <th>name</th>\n",
       "      <th>host_id</th>\n",
       "      <th>host_name</th>\n",
       "      <th>neighbourhood_group</th>\n",
       "      <th>neighbourhood</th>\n",
       "      <th>latitude</th>\n",
       "      <th>longitude</th>\n",
       "      <th>room_type</th>\n",
       "      <th>price</th>\n",
       "      <th>minimum_nights</th>\n",
       "      <th>number_of_reviews</th>\n",
       "      <th>last_review</th>\n",
       "      <th>reviews_per_month</th>\n",
       "      <th>calculated_host_listings_count</th>\n",
       "      <th>availability_365</th>\n",
       "      <th>number_of_reviews_ltm</th>\n",
       "      <th>license</th>\n",
       "      <th>City</th>\n",
       "    </tr>\n",
       "  </thead>\n",
       "  <tbody>\n",
       "    <tr>\n",
       "      <th>0</th>\n",
       "      <td>245903.0</td>\n",
       "      <td>Single cosy bedroom in Lucan.</td>\n",
       "      <td>1289720.0</td>\n",
       "      <td>Sheila</td>\n",
       "      <td>None</td>\n",
       "      <td>South Dublin</td>\n",
       "      <td>53.34596</td>\n",
       "      <td>-6.41719</td>\n",
       "      <td>Private room</td>\n",
       "      <td>30.0</td>\n",
       "      <td>30</td>\n",
       "      <td>48.0</td>\n",
       "      <td>2024-11-30</td>\n",
       "      <td>0.32</td>\n",
       "      <td>1.0</td>\n",
       "      <td>13</td>\n",
       "      <td>4.0</td>\n",
       "      <td>None</td>\n",
       "      <td>Dublin</td>\n",
       "    </tr>\n",
       "  </tbody>\n",
       "</table>\n",
       "</div>"
      ],
      "text/plain": [
       "         id                           name  ...  license    City\n",
       "0  245903.0  Single cosy bedroom in Lucan.  ...     None  Dublin\n",
       "\n",
       "[1 rows x 19 columns]"
      ]
     },
     "execution_count": 125,
     "metadata": {},
     "output_type": "execute_result"
    }
   ],
   "source": [
    "import pandas as pd\n",
    "\n",
    "Dublin['City'] = 'Dublin'\n",
    "Milan['City'] = 'Milan'\n",
    "London['City'] = 'London'\n",
    "\n",
    "IR = pd.concat([Dublin, Milan, London], ignore_index=True)\n",
    "\n",
    "IR.head(1)"
   ]
  },
  {
   "cell_type": "code",
   "execution_count": 0,
   "metadata": {
    "application/vnd.databricks.v1+cell": {
     "cellMetadata": {
      "byteLimit": 2048000,
      "rowLimit": 10000
     },
     "inputWidgets": {},
     "nuid": "91387078-29b3-48da-baae-ae136bcdd806",
     "showTitle": false,
     "tableResultSettingsMap": {},
     "title": ""
    }
   },
   "outputs": [
    {
     "output_type": "stream",
     "name": "stdout",
     "output_type": "stream",
     "text": [
      "<class 'pandas.core.frame.DataFrame'>\nRangeIndex: 3263 entries, 0 to 3262\nData columns (total 19 columns):\n #   Column                          Non-Null Count  Dtype  \n---  ------                          --------------  -----  \n 0   id                              3186 non-null   float64\n 1   name                            3263 non-null   object \n 2   host_id                         3186 non-null   float64\n 3   host_name                       3187 non-null   object \n 4   neighbourhood_group             77 non-null     object \n 5   neighbourhood                   3262 non-null   object \n 6   latitude                        3262 non-null   float64\n 7   longitude                       3187 non-null   float64\n 8   room_type                       3254 non-null   object \n 9   price                           2516 non-null   float64\n 10  minimum_nights                  3263 non-null   int64  \n 11  number_of_reviews               3187 non-null   float64\n 12  last_review                     1847 non-null   object \n 13  reviews_per_month               1923 non-null   float64\n 14  calculated_host_listings_count  3262 non-null   float64\n 15  availability_365                3263 non-null   int64  \n 16  number_of_reviews_ltm           3187 non-null   float64\n 17  license                         123 non-null    object \n 18  City                            3263 non-null   object \ndtypes: float64(9), int64(2), object(8)\nmemory usage: 484.5+ KB\n"
     ]
    }
   ],
   "source": [
    "IR.info()"
   ]
  },
  {
   "cell_type": "code",
   "execution_count": 0,
   "metadata": {
    "application/vnd.databricks.v1+cell": {
     "cellMetadata": {
      "byteLimit": 2048000,
      "rowLimit": 10000
     },
     "inputWidgets": {},
     "nuid": "b6b0569d-1da6-4cda-9f3a-b691cf039de0",
     "showTitle": false,
     "tableResultSettingsMap": {},
     "title": ""
    }
   },
   "outputs": [
    {
     "output_type": "stream",
     "name": "stdout",
     "output_type": "stream",
     "text": [
      "<class 'pandas.core.frame.DataFrame'>\nRangeIndex: 3263 entries, 0 to 3262\nData columns (total 19 columns):\n #   Column                          Non-Null Count  Dtype  \n---  ------                          --------------  -----  \n 0   id                              3186 non-null   float64\n 1   name                            3263 non-null   object \n 2   host_id                         3186 non-null   float64\n 3   host_name                       3187 non-null   object \n 4   neighbourhood_group             77 non-null     object \n 5   neighbourhood                   3262 non-null   object \n 6   latitude                        3262 non-null   float64\n 7   longitude                       3187 non-null   float64\n 8   room_type                       3254 non-null   object \n 9   price                           2516 non-null   float64\n 10  minimum_nights                  3263 non-null   int64  \n 11  number_of_reviews               3187 non-null   float64\n 12  last_review                     1847 non-null   object \n 13  reviews_per_month               1923 non-null   float64\n 14  calculated_host_listings_count  3262 non-null   float64\n 15  availability_365                3263 non-null   int64  \n 16  number_of_reviews_ltm           3187 non-null   float64\n 17  license                         123 non-null    object \n 18  City                            3263 non-null   object \ndtypes: float64(9), int64(2), object(8)\nmemory usage: 484.5+ KB\n"
     ]
    }
   ],
   "source": [
    "IR.info()"
   ]
  },
  {
   "cell_type": "code",
   "execution_count": 0,
   "metadata": {
    "application/vnd.databricks.v1+cell": {
     "cellMetadata": {
      "byteLimit": 2048000,
      "rowLimit": 10000
     },
     "inputWidgets": {},
     "nuid": "abeb39e7-8dd3-42d7-bab1-dc699edcaf2b",
     "showTitle": false,
     "tableResultSettingsMap": {},
     "title": ""
    }
   },
   "outputs": [],
   "source": [
    "IR = IR.drop(columns={'name', 'neighbourhood_group', 'license'}, inplace=False)\n",
    "\n",
    "IR['id'] = IR['id'].astype(float)\n",
    "IR['latitude'] = IR['latitude'].astype(float)\n",
    "IR['longitude'] = IR['longitude'].astype(float)"
   ]
  },
  {
   "cell_type": "code",
   "execution_count": 0,
   "metadata": {
    "application/vnd.databricks.v1+cell": {
     "cellMetadata": {
      "byteLimit": 2048000,
      "rowLimit": 10000
     },
     "inputWidgets": {},
     "nuid": "1c008b82-2efd-4847-bd08-a832eefeb74e",
     "showTitle": false,
     "tableResultSettingsMap": {},
     "title": ""
    }
   },
   "outputs": [],
   "source": [
    "columnas = ['latitude','longitude']\n",
    "\n",
    "IR[columnas] = IR[columnas].astype(str)\n",
    "\n",
    "for columna in columnas:\n",
    "    IR[columna] = IR[columna].str.replace(r\"\\.\", \",\", regex=True)"
   ]
  },
  {
   "cell_type": "code",
   "execution_count": 0,
   "metadata": {
    "application/vnd.databricks.v1+cell": {
     "cellMetadata": {
      "byteLimit": 2048000,
      "rowLimit": 10000
     },
     "inputWidgets": {},
     "nuid": "c14cc86d-8a19-4f10-82d7-f1e2ed209536",
     "showTitle": false,
     "tableResultSettingsMap": {},
     "title": ""
    }
   },
   "outputs": [],
   "source": [
    "IR['room_type'] = IR['room_type'] == 'Entire home/apt'"
   ]
  },
  {
   "cell_type": "code",
   "execution_count": 0,
   "metadata": {
    "application/vnd.databricks.v1+cell": {
     "cellMetadata": {
      "byteLimit": 2048000,
      "rowLimit": 10000
     },
     "inputWidgets": {},
     "nuid": "02453009-17a0-4197-84ad-74bacf90e817",
     "showTitle": false,
     "tableResultSettingsMap": {},
     "title": ""
    }
   },
   "outputs": [],
   "source": [
    "IR_Spark = spark.createDataFrame(IR)\n",
    "\n",
    "IR_Spark.write.mode(\"overwrite\").saveAsTable(\"silver.edgar_sarto_revenue.Inside_airbnb_listings_clean\")"
   ]
  },
  {
   "cell_type": "markdown",
   "metadata": {
    "application/vnd.databricks.v1+cell": {
     "cellMetadata": {},
     "inputWidgets": {},
     "nuid": "e982377c-2dd8-4116-8649-6b0774c2454b",
     "showTitle": false,
     "tableResultSettingsMap": {},
     "title": ""
    }
   },
   "source": [
    "# Calendar Data Cleaning"
   ]
  },
  {
   "cell_type": "code",
   "execution_count": 0,
   "metadata": {
    "application/vnd.databricks.v1+cell": {
     "cellMetadata": {
      "byteLimit": 2048000,
      "rowLimit": 10000
     },
     "inputWidgets": {},
     "nuid": "035e4fd4-a8a1-4059-bd46-27d2ed3c8b93",
     "showTitle": false,
     "tableResultSettingsMap": {},
     "title": ""
    }
   },
   "outputs": [],
   "source": [
    "Dublin = spark.table(\"silver.edgar_sarto_revenue.dublin_inside_airbnb_calendar\")\n",
    "Milan = spark.table(\"silver.edgar_sarto_revenue.milan_inside_airbnb_calendar\")\n",
    "London = spark.table(\"silver.edgar_sarto_revenue.london_inside_airbnb_calendar\")\n",
    "\n",
    "Dublin = Dublin.filter((col(\"minimum_nights\") >= 30) & (col(\"minimum_nights\") <= 91))\n",
    "Milan = Milan.filter((col(\"minimum_nights\") >= 30) & (col(\"minimum_nights\") <= 91))\n",
    "London = London.filter((col(\"minimum_nights\") >= 30) & (col(\"minimum_nights\") <= 91))"
   ]
  },
  {
   "cell_type": "code",
   "execution_count": 0,
   "metadata": {
    "application/vnd.databricks.v1+cell": {
     "cellMetadata": {
      "byteLimit": 2048000,
      "rowLimit": 10000
     },
     "inputWidgets": {},
     "nuid": "983d3d9d-e12c-4145-ba68-555a93229e68",
     "showTitle": false,
     "tableResultSettingsMap": {},
     "title": ""
    }
   },
   "outputs": [],
   "source": [
    "Dublin = Dublin.toPandas()\n",
    "Milan = Milan.toPandas()\n",
    "London = London.toPandas()"
   ]
  },
  {
   "cell_type": "code",
   "execution_count": 0,
   "metadata": {
    "application/vnd.databricks.v1+cell": {
     "cellMetadata": {
      "byteLimit": 2048000,
      "rowLimit": 10000
     },
     "inputWidgets": {},
     "nuid": "fef265b1-2edf-4357-a894-63d8b794a824",
     "showTitle": false,
     "tableResultSettingsMap": {},
     "title": ""
    }
   },
   "outputs": [],
   "source": [
    "Dublin['City'] = 'Dublin'\n",
    "Milan['City'] = 'Milan'\n",
    "London['City'] = 'London'\n",
    "\n",
    "IRC = pd.concat([Dublin, Milan, London], ignore_index=True)\n",
    "\n",
    "IRC = IRC.drop(columns={'adjusted_price'}, inplace=False)"
   ]
  },
  {
   "cell_type": "code",
   "execution_count": 0,
   "metadata": {
    "application/vnd.databricks.v1+cell": {
     "cellMetadata": {
      "byteLimit": 2048000,
      "rowLimit": 10000
     },
     "inputWidgets": {},
     "nuid": "2cb778c1-9d48-4bfd-8b7d-706f82b6b88e",
     "showTitle": false,
     "tableResultSettingsMap": {},
     "title": ""
    }
   },
   "outputs": [
    {
     "output_type": "stream",
     "name": "stdout",
     "output_type": "stream",
     "text": [
      "<class 'pandas.core.frame.DataFrame'>\nRangeIndex: 1310581 entries, 0 to 1310580\nData columns (total 7 columns):\n #   Column          Non-Null Count    Dtype \n---  ------          --------------    ----- \n 0   listing_id      1310581 non-null  int64 \n 1   date            1310581 non-null  object\n 2   available       1310581 non-null  object\n 3   price           1310581 non-null  object\n 4   minimum_nights  1310581 non-null  int64 \n 5   maximum_nights  1310581 non-null  int64 \n 6   City            1310581 non-null  object\ndtypes: int64(3), object(4)\nmemory usage: 70.0+ MB\n"
     ]
    }
   ],
   "source": [
    "IRC.info()"
   ]
  },
  {
   "cell_type": "code",
   "execution_count": 0,
   "metadata": {
    "application/vnd.databricks.v1+cell": {
     "cellMetadata": {
      "byteLimit": 2048000,
      "rowLimit": 10000
     },
     "inputWidgets": {},
     "nuid": "1aa71177-3e12-4cc3-ab7c-82b3a782c6f6",
     "showTitle": false,
     "tableResultSettingsMap": {},
     "title": ""
    }
   },
   "outputs": [
    {
     "output_type": "execute_result",
     "data": {
      "text/html": [
       "<div>\n",
       "<style scoped>\n",
       "    .dataframe tbody tr th:only-of-type {\n",
       "        vertical-align: middle;\n",
       "    }\n",
       "\n",
       "    .dataframe tbody tr th {\n",
       "        vertical-align: top;\n",
       "    }\n",
       "\n",
       "    .dataframe thead th {\n",
       "        text-align: right;\n",
       "    }\n",
       "</style>\n",
       "<table border=\"1\" class=\"dataframe\">\n",
       "  <thead>\n",
       "    <tr style=\"text-align: right;\">\n",
       "      <th></th>\n",
       "      <th>listing_id</th>\n",
       "      <th>date</th>\n",
       "      <th>available</th>\n",
       "      <th>price</th>\n",
       "      <th>minimum_nights</th>\n",
       "      <th>maximum_nights</th>\n",
       "      <th>City</th>\n",
       "    </tr>\n",
       "  </thead>\n",
       "  <tbody>\n",
       "    <tr>\n",
       "      <th>0</th>\n",
       "      <td>245903</td>\n",
       "      <td>2024-12-12</td>\n",
       "      <td>f</td>\n",
       "      <td>30.00</td>\n",
       "      <td>30</td>\n",
       "      <td>180</td>\n",
       "      <td>Dublin</td>\n",
       "    </tr>\n",
       "  </tbody>\n",
       "</table>\n",
       "</div>"
      ],
      "text/plain": [
       "   listing_id        date available  ... minimum_nights  maximum_nights    City\n",
       "0      245903  2024-12-12         f  ...             30             180  Dublin\n",
       "\n",
       "[1 rows x 7 columns]"
      ]
     },
     "execution_count": 136,
     "metadata": {},
     "output_type": "execute_result"
    }
   ],
   "source": [
    "IRC['price'] = IRC['price'].str.replace('$', '', regex=False)\n",
    "IRC.head(1)"
   ]
  },
  {
   "cell_type": "code",
   "execution_count": 0,
   "metadata": {
    "application/vnd.databricks.v1+cell": {
     "cellMetadata": {
      "byteLimit": 2048000,
      "rowLimit": 10000
     },
     "inputWidgets": {},
     "nuid": "6ad2f748-daff-472a-859f-d9196d8c4da2",
     "showTitle": false,
     "tableResultSettingsMap": {},
     "title": ""
    }
   },
   "outputs": [],
   "source": [
    "IRC['listing_id'] = IRC['listing_id'].astype(int)\n"
   ]
  },
  {
   "cell_type": "code",
   "execution_count": 0,
   "metadata": {
    "application/vnd.databricks.v1+cell": {
     "cellMetadata": {
      "byteLimit": 2048000,
      "rowLimit": 10000
     },
     "inputWidgets": {},
     "nuid": "3d493690-3336-45b9-8a06-12010648e1eb",
     "showTitle": false,
     "tableResultSettingsMap": {},
     "title": ""
    }
   },
   "outputs": [
    {
     "output_type": "execute_result",
     "data": {
      "text/html": [
       "<div>\n",
       "<style scoped>\n",
       "    .dataframe tbody tr th:only-of-type {\n",
       "        vertical-align: middle;\n",
       "    }\n",
       "\n",
       "    .dataframe tbody tr th {\n",
       "        vertical-align: top;\n",
       "    }\n",
       "\n",
       "    .dataframe thead th {\n",
       "        text-align: right;\n",
       "    }\n",
       "</style>\n",
       "<table border=\"1\" class=\"dataframe\">\n",
       "  <thead>\n",
       "    <tr style=\"text-align: right;\">\n",
       "      <th></th>\n",
       "      <th>listing_id</th>\n",
       "      <th>date</th>\n",
       "      <th>available</th>\n",
       "      <th>price</th>\n",
       "      <th>minimum_nights</th>\n",
       "      <th>maximum_nights</th>\n",
       "      <th>City</th>\n",
       "      <th>id</th>\n",
       "      <th>host_name</th>\n",
       "      <th>neighbourhood</th>\n",
       "    </tr>\n",
       "  </thead>\n",
       "  <tbody>\n",
       "    <tr>\n",
       "      <th>0</th>\n",
       "      <td>245903</td>\n",
       "      <td>2024-12-12</td>\n",
       "      <td>f</td>\n",
       "      <td>30.00</td>\n",
       "      <td>30</td>\n",
       "      <td>180</td>\n",
       "      <td>Dublin</td>\n",
       "      <td>245903.0</td>\n",
       "      <td>Sheila</td>\n",
       "      <td>South Dublin</td>\n",
       "    </tr>\n",
       "  </tbody>\n",
       "</table>\n",
       "</div>"
      ],
      "text/plain": [
       "   listing_id        date available  ...        id  host_name  neighbourhood\n",
       "0      245903  2024-12-12         f  ...  245903.0     Sheila   South Dublin\n",
       "\n",
       "[1 rows x 10 columns]"
      ]
     },
     "execution_count": 138,
     "metadata": {},
     "output_type": "execute_result"
    }
   ],
   "source": [
    "IRC = IRC.merge(IR[['id', 'host_name', 'neighbourhood']], left_on='listing_id',right_on='id', how='left')\n",
    "\n",
    "IRC.head(1)"
   ]
  },
  {
   "cell_type": "code",
   "execution_count": 0,
   "metadata": {
    "application/vnd.databricks.v1+cell": {
     "cellMetadata": {
      "byteLimit": 2048000,
      "rowLimit": 10000
     },
     "inputWidgets": {},
     "nuid": "f9f43d21-099a-4453-8617-5a471e83fd31",
     "showTitle": false,
     "tableResultSettingsMap": {},
     "title": ""
    }
   },
   "outputs": [],
   "source": [
    "IRC_Spark = spark.createDataFrame(IRC)\n",
    "\n",
    "IRC_Spark.write.mode(\"overwrite\").saveAsTable(\"silver.edgar_sarto_revenue.Inside_airbnb_calendar_clean\")"
   ]
  }
 ],
 "metadata": {
  "application/vnd.databricks.v1+notebook": {
   "computePreferences": null,
   "dashboards": [],
   "environmentMetadata": {
    "base_environment": "",
    "environment_version": "2"
   },
   "language": "python",
   "notebookMetadata": {
    "pythonIndentUnit": 4
   },
   "notebookName": "Inside AirBNB Data Cleaning",
   "widgets": {}
  },
  "language_info": {
   "name": "python"
  }
 },
 "nbformat": 4,
 "nbformat_minor": 0
}