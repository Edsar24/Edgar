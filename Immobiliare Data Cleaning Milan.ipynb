{
 "cells": [
  {
   "cell_type": "markdown",
   "metadata": {
    "application/vnd.databricks.v1+cell": {
     "cellMetadata": {
      "byteLimit": 2048000,
      "rowLimit": 10000
     },
     "inputWidgets": {},
     "nuid": "4a2707e3-7161-4c25-804c-0e55ba53fae7",
     "showTitle": false,
     "tableResultSettingsMap": {},
     "title": ""
    }
   },
   "source": [
    "# 1. Immobiliare Data Cleaning"
   ]
  },
  {
   "cell_type": "code",
   "execution_count": 0,
   "metadata": {
    "application/vnd.databricks.v1+cell": {
     "cellMetadata": {
      "byteLimit": 2048000,
      "rowLimit": 10000
     },
     "inputWidgets": {},
     "nuid": "3b09e85e-0507-43cc-91d2-3c9cd096053a",
     "showTitle": false,
     "tableResultSettingsMap": {},
     "title": ""
    }
   },
   "outputs": [],
   "source": [
    "import pandas as pd\n",
    "import numpy as np\n",
    "import dateparser"
   ]
  },
  {
   "cell_type": "code",
   "execution_count": 0,
   "metadata": {
    "application/vnd.databricks.v1+cell": {
     "cellMetadata": {
      "byteLimit": 2048000,
      "rowLimit": 10000
     },
     "inputWidgets": {},
     "nuid": "90675ff9-9ee7-4942-ac95-7af2c8c6c31a",
     "showTitle": false,
     "tableResultSettingsMap": {},
     "title": ""
    }
   },
   "outputs": [],
   "source": [
    "#Milan = spark.table(\"silver.edgar_sarto_revenue.immobiliare_v_3\")\n",
    "Milan = spark.table(\"silver.edgar_sarto_revenue.immobiliare_v_4\")\n",
    "\n",
    "Milan = Milan.toPandas()\n",
    "\n",
    "Milan['City'] = 'MILAN'"
   ]
  },
  {
   "cell_type": "markdown",
   "metadata": {
    "application/vnd.databricks.v1+cell": {
     "cellMetadata": {
      "byteLimit": 2048000,
      "rowLimit": 10000
     },
     "inputWidgets": {},
     "nuid": "de349e09-ff4a-44e3-a5f8-3d77cfcf69ba",
     "showTitle": false,
     "tableResultSettingsMap": {},
     "title": ""
    }
   },
   "source": [
    "## 1.1. City / Brough / Zone (Postal Code) / Agency"
   ]
  },
  {
   "cell_type": "code",
   "execution_count": 0,
   "metadata": {
    "application/vnd.databricks.v1+cell": {
     "cellMetadata": {
      "byteLimit": 2048000,
      "rowLimit": 10000
     },
     "inputWidgets": {},
     "nuid": "a21aa16b-1db7-495d-925c-5a5307e8d868",
     "showTitle": false,
     "tableResultSettingsMap": {},
     "title": ""
    }
   },
   "outputs": [],
   "source": [
    "IMM = Milan.copy()"
   ]
  },
  {
   "cell_type": "code",
   "execution_count": 0,
   "metadata": {
    "application/vnd.databricks.v1+cell": {
     "cellMetadata": {
      "byteLimit": 2048000,
      "rowLimit": 10000
     },
     "inputWidgets": {},
     "nuid": "66e54a3e-2c51-406a-867f-23eb6a4a7c42",
     "showTitle": false,
     "tableResultSettingsMap": {},
     "title": ""
    }
   },
   "outputs": [
    {
     "output_type": "stream",
     "name": "stdout",
     "output_type": "stream",
     "text": [
      "<class 'pandas.core.frame.DataFrame'>\nRangeIndex: 2590 entries, 0 to 2589\nData columns (total 37 columns):\n #   Column        Non-Null Count  Dtype         \n---  ------        --------------  -----         \n 0   Current_time  2590 non-null   datetime64[ns]\n 1   Page_URL      2590 non-null   object        \n 2   Text          2590 non-null   object        \n 3   Text1         2590 non-null   object        \n 4   Text10        2590 non-null   object        \n 5   Text11        2590 non-null   object        \n 6   Text12        2590 non-null   object        \n 7   Text13        2590 non-null   object        \n 8   Text14        2590 non-null   object        \n 9   Text15        2590 non-null   object        \n 10  Text16        2590 non-null   object        \n 11  Text17        2590 non-null   object        \n 12  Text18        2590 non-null   object        \n 13  Text19        2590 non-null   object        \n 14  Text2         2590 non-null   object        \n 15  Text20        2590 non-null   object        \n 16  Text21        2590 non-null   object        \n 17  Text22        2590 non-null   object        \n 18  Text23        2590 non-null   object        \n 19  Text24        2590 non-null   object        \n 20  Text25        2590 non-null   object        \n 21  Text26        2590 non-null   object        \n 22  Text27        2590 non-null   object        \n 23  Text28        2590 non-null   object        \n 24  Text29        2590 non-null   object        \n 25  Text3         2590 non-null   object        \n 26  Text30        2590 non-null   object        \n 27  Text31        2590 non-null   object        \n 28  Text32        2590 non-null   object        \n 29  Text33        2590 non-null   object        \n 30  Text4         2590 non-null   object        \n 31  Text5         2590 non-null   object        \n 32  Text6         2590 non-null   object        \n 33  Text7         2590 non-null   object        \n 34  Text8         2590 non-null   object        \n 35  Text9         2590 non-null   object        \n 36  City          2590 non-null   object        \ndtypes: datetime64[ns](1), object(36)\nmemory usage: 748.8+ KB\n"
     ]
    }
   ],
   "source": [
    "IMM.info()"
   ]
  },
  {
   "cell_type": "code",
   "execution_count": 0,
   "metadata": {
    "application/vnd.databricks.v1+cell": {
     "cellMetadata": {
      "byteLimit": 2048000,
      "rowLimit": 10000
     },
     "inputWidgets": {},
     "nuid": "53248c1e-6d53-4ab9-aaf9-2f6c3b639109",
     "showTitle": false,
     "tableResultSettingsMap": {},
     "title": ""
    }
   },
   "outputs": [
    {
     "output_type": "stream",
     "name": "stdout",
     "output_type": "stream",
     "text": [
      "<class 'pandas.core.frame.DataFrame'>\nRangeIndex: 2590 entries, 0 to 2589\nData columns (total 37 columns):\n #   Column        Non-Null Count  Dtype         \n---  ------        --------------  -----         \n 0   Current_time  2590 non-null   datetime64[ns]\n 1   Page_URL      2590 non-null   object        \n 2   Text          2590 non-null   object        \n 3   Text1         2590 non-null   object        \n 4   Text10        2590 non-null   object        \n 5   Text11        2590 non-null   object        \n 6   Text12        2590 non-null   object        \n 7   Text13        2590 non-null   object        \n 8   Text14        2590 non-null   object        \n 9   Text15        2590 non-null   object        \n 10  Text16        2590 non-null   object        \n 11  Text17        2590 non-null   object        \n 12  Text18        2590 non-null   object        \n 13  Text19        2590 non-null   object        \n 14  Text2         2590 non-null   object        \n 15  Text20        2590 non-null   object        \n 16  Text21        2590 non-null   object        \n 17  Text22        2590 non-null   object        \n 18  Text23        2590 non-null   object        \n 19  Text24        2590 non-null   object        \n 20  Text25        2590 non-null   object        \n 21  Text26        2590 non-null   object        \n 22  Text27        2590 non-null   object        \n 23  Text28        2590 non-null   object        \n 24  Text29        2590 non-null   object        \n 25  Text3         2590 non-null   object        \n 26  Text30        2590 non-null   object        \n 27  Text31        2590 non-null   object        \n 28  Text32        2590 non-null   object        \n 29  Text33        2590 non-null   object        \n 30  Text4         2590 non-null   object        \n 31  Text5         2590 non-null   object        \n 32  Text6         2590 non-null   object        \n 33  Text7         2590 non-null   object        \n 34  Text8         2590 non-null   object        \n 35  Text9         2590 non-null   object        \n 36  City          2590 non-null   object        \ndtypes: datetime64[ns](1), object(36)\nmemory usage: 748.8+ KB\n"
     ]
    }
   ],
   "source": [
    "IMM.info()"
   ]
  },
  {
   "cell_type": "code",
   "execution_count": 0,
   "metadata": {
    "application/vnd.databricks.v1+cell": {
     "cellMetadata": {
      "byteLimit": 2048000,
      "rowLimit": 10000
     },
     "inputWidgets": {},
     "nuid": "268eca24-e5b8-4cb3-bc01-c480bc6d639c",
     "showTitle": false,
     "tableResultSettingsMap": {},
     "title": ""
    }
   },
   "outputs": [],
   "source": [
    "IMM = IMM.rename(columns={'Text1': 'Agency'})\n",
    "\n",
    "IMM['Agency'] = IMM['Agency'].str.upper()"
   ]
  },
  {
   "cell_type": "code",
   "execution_count": 0,
   "metadata": {
    "application/vnd.databricks.v1+cell": {
     "cellMetadata": {
      "byteLimit": 2048000,
      "rowLimit": 10000
     },
     "inputWidgets": {},
     "nuid": "bdfe94fa-1add-43f5-ad1b-11b7f97e35d1",
     "showTitle": false,
     "tableResultSettingsMap": {},
     "title": ""
    }
   },
   "outputs": [],
   "source": [
    "keywords = [\n",
    "    'via', 'piazza', 'Via', 'Piazza', 'Magolfa , 21'\n",
    "    ]\n",
    "\n",
    "def delete_values(row):\n",
    "    if pd.notna(row['Text7']) and any(keyword in row['Text7'] for keyword in keywords):\n",
    "        row['Text7'], row['Text8'] = None, row['Text7']\n",
    "    return row\n",
    "\n",
    "IMM = IMM.apply(delete_values, axis=1)\n",
    "\n",
    "IMM['District'] = IMM['Text7'].copy()\n",
    "\n",
    "IMM.rename(columns={'Text7': 'Neighborhood', 'Text8': 'Street'}, inplace=True)"
   ]
  },
  {
   "cell_type": "code",
   "execution_count": 0,
   "metadata": {
    "application/vnd.databricks.v1+cell": {
     "cellMetadata": {
      "byteLimit": 2048000,
      "rowLimit": 10000
     },
     "inputWidgets": {},
     "nuid": "09f8b6e0-97da-416d-84b0-a7ef4d3c6839",
     "showTitle": false,
     "tableResultSettingsMap": {},
     "title": ""
    }
   },
   "outputs": [
    {
     "output_type": "execute_result",
     "data": {
      "text/plain": [
       "array(['Paolo Sarpi', 'Solari', 'Centrale', 'Porta Venezia',\n",
       "       'Vercelli - Wagner', 'Repubblica', 'Morgagni', 'Sempione',\n",
       "       'Cenisio', 'Frua', 'Porta Nuova', 'Zara', 'Dezza', 'Isola',\n",
       "       'Maggiolina', 'Farini', 'Buenos Aires', 'Washington',\n",
       "       'Melchiorre Gioia', '', 'Navigli - Darsena', 'Dergano', 'Pasteur',\n",
       "       None, 'Indipendenza', 'De Angeli', 'Arena',\n",
       "       'Amendola - Buonarroti', 'Tripoli - Soderini', 'Palestro',\n",
       "       'Quadronno - Crocetta', 'Moscova', 'Lanza', 'Corso Genova',\n",
       "       'San Vittore', 'Ticinese', 'Turati', 'Guastalla',\n",
       "       'Garibaldi - Corso Como', \"Porta Romana - Medaglie d'Oro\",\n",
       "       'Quadrilatero della Moda', 'Brera', \"Sant'Ambrogio\", 'Bocconi',\n",
       "       'Carrobbio', 'Corso San Gottardo', 'San Babila', 'Vincenzo Monti',\n",
       "       'Montenero', 'Piave - Tricolore', 'Ascanio Sforza', 'Missori',\n",
       "       'Cadorna - Castello', 'Borgogna - Largo Augusto'], dtype=object)"
      ]
     },
     "execution_count": 286,
     "metadata": {},
     "output_type": "execute_result"
    }
   ],
   "source": [
    "IMM['District'].unique()"
   ]
  },
  {
   "cell_type": "code",
   "execution_count": 0,
   "metadata": {
    "application/vnd.databricks.v1+cell": {
     "cellMetadata": {
      "byteLimit": 2048000,
      "rowLimit": 10000
     },
     "inputWidgets": {},
     "nuid": "e303ddd4-4cdf-4ef7-9466-f6f604dcf51d",
     "showTitle": false,
     "tableResultSettingsMap": {},
     "title": ""
    }
   },
   "outputs": [
    {
     "output_type": "execute_result",
     "data": {
      "text/plain": [
       "Garibaldi-Moscova-Porta Nuova        385\n",
       "Quadronno-Palestro-Guastalla         378\n",
       "Genova-Ticinese                      353\n",
       "Cenisio-Sarpi-Isola                  346\n",
       "Solari-Washington                    314\n",
       "Centrale-Repubblica                  267\n",
       "Centro                               172\n",
       "Porta Venezia-Indipendenza           140\n",
       "Fiera-Sempione-City Life-Portello     90\n",
       "Navigli                               44\n",
       "Porta Romana-Cadore-Montenero         40\n",
       "Name: District, dtype: int64"
      ]
     },
     "execution_count": 287,
     "metadata": {},
     "output_type": "execute_result"
    }
   ],
   "source": [
    "replace = {'Duomo': 'Centro','Brera': 'Centro','Scala - Manzoni': 'Centro','Missori': 'Centro',\n",
    "           'San Babila':'Centro','Carrobbio': 'Centro','Lanza': 'Centro',\"Sant'Ambrogio\": 'Centro','Quadrilatero della Moda': 'Centro','Ticinese': 'Genova-Ticinese','Corso Genova': 'Genova-Ticinese','Navigli - Darsena': 'Genova-Ticinese','Corso San Gottardo': 'Genova-Ticinese','Quadronno - Crocetta': 'Quadronno-Palestro-Guastalla','Guastalla': 'Quadronno-Palestro-Guastalla','Palestro': 'Quadronno-Palestro-Guastalla','Borgogna - Largo Augusto': 'Quadronno-Palestro-Guastalla','Garibaldi - Corso Como': 'Garibaldi-Moscova-Porta Nuova','Moscova': 'Garibaldi-Moscova-Porta Nuova','Porta Nuova': 'Garibaldi-Moscova-Porta Nuova','Isola': 'Garibaldi-Moscova-Porta Nuova','Melchiorre Gioia': 'Garibaldi-Moscova-Porta Nuova','City Life': 'Fiera-Sempione-City Life-Portello','Pagano': 'Fiera-Sempione-City Life-Portello','Amendola - Buonarroti': 'Fiera-Sempione-City Life-Portello','Washington': 'Fiera-Sempione-City Life-Portello','Portello - Parco Vittoria': 'Fiera-Sempione-City Life-Portello','De Angeli': 'Fiera-Sempione-City Life-Portello','Monte Rosa - Lotto': 'Fiera-Sempione-City Life-Portello','Sempione': 'Fiera-Sempione-City Life-Portello','Arena': 'Fiera-Sempione-City Life-Portello','Farini': 'Fiera-Sempione-City Life-Portello','Navigli - Darsena': 'Navigli','Ripa di Porta Ticinese': 'Navigli','Corso San Gottardo': 'Navigli',\"Porta Romana - Medaglie d'Oro\": 'Porta Romana-Cadore-Montenero','Montenero': 'Porta Romana-Cadore-Montenero','Cadore': 'Porta Romana-Cadore-Montenero','Ripamonti': 'Porta Romana-Cadore-Montenero','Martini - Insubria': 'Porta Romana-Cadore-Montenero','Porta Vittoria': 'Porta Vittoria-Lodi','Lodi - Brenta': 'Porta Vittoria-Lodi','Famagosta': 'Famagosta-Barona','Solari': 'Solari-Washington','Washington': 'Solari-Washington','Dezza': 'Solari-Washington','Cenisio': 'Cenisio-Sarpi-Isola','Paolo Sarpi': 'Cenisio-Sarpi-Isola','Isola': 'Cenisio-Sarpi-Isola','Centrale': 'Centrale-Repubblica','Repubblica': 'Centrale-Repubblica','Turati': 'Centrale-Repubblica','Morgagni': 'Centrale-Repubblica','Porta Venezia': 'Porta Venezia-Indipendenza','Indipendenza': 'Porta Venezia-Indipendenza','Piave - Tricolore': 'Porta Venezia-Indipendenza','Città Studi': 'Porta Venezia-Indipendenza','Buenos Aires': 'Porta Venezia-Indipendenza','Vercelli - Wagner': 'Solari-Washington','Zara': 'Cenisio-Sarpi-Isola','Dergano': 'Cenisio-Sarpi-Isola','Frua': 'Solari-Washington','Pasteur': 'Porta Venezia-Indipendenza','Maggiolina': 'Cenisio-Sarpi-Isola','Bocconi': 'Navigli','Ascanio Sforza': 'Genova-Ticinese','Pezzotti - Meda': 'Porta Vittoria-Lodi','San Vittore': 'Centro','Plebisciti - Susa': 'Porta Venezia-Indipendenza','Vincenzo Monti': 'Fiera-Sempione-City Life-Portello','Cadorna - Castello': 'Centro','Arco della Pace': 'Fiera-Sempione-City Life-Portello'}\n",
    "           \n",
    "\n",
    "IMM['District'].replace(replace, regex=True, inplace=True)\n",
    "\n",
    "keywords = [\n",
    "    'Centro','Genova-Ticinese','Quadronno-Palestro-Guastalla','Garibaldi-Moscova-Porta Nuova','Fiera-Sempione-City Life-Portello','Navigli','Porta Romana-Cadore-Montenero','Porta Vittoria-Lodi','Famagosta-Barona','Solari-Washington','Cenisio-Sarpi-Isola','Centrale-Repubblica','Porta Venezia-Indipendenza']\n",
    "\n",
    "def delete_values(row):\n",
    "    if pd.notna(row['District']) and not any(keyword in row['District'] for keyword in keywords):\n",
    "        row['District'] = None\n",
    "    return row\n",
    "\n",
    "IMM = IMM.apply(delete_values, axis=1)\n",
    "\n",
    "IMM = IMM.drop(columns={'Text6', 'Text9'})\n",
    "\n",
    "IMM['District'].value_counts()"
   ]
  },
  {
   "cell_type": "markdown",
   "metadata": {
    "application/vnd.databricks.v1+cell": {
     "cellMetadata": {},
     "inputWidgets": {},
     "nuid": "ce81d230-acea-4e8a-8637-1e34f5de1dc5",
     "showTitle": false,
     "tableResultSettingsMap": {},
     "title": ""
    }
   },
   "source": [
    "## 1.2. Prices"
   ]
  },
  {
   "cell_type": "code",
   "execution_count": 0,
   "metadata": {
    "application/vnd.databricks.v1+cell": {
     "cellMetadata": {
      "byteLimit": 2048000,
      "rowLimit": 10000
     },
     "inputWidgets": {},
     "nuid": "32514542-15b4-413a-a3e7-26432e74fc7a",
     "showTitle": false,
     "tableResultSettingsMap": {},
     "title": ""
    }
   },
   "outputs": [
    {
     "output_type": "stream",
     "name": "stderr",
     "output_type": "stream",
     "text": [
      "/home/spark-7dee7374-1841-4590-8adf-b3/.ipykernel/140187/command-5329508213600453-2188779280:25: FutureWarning: The default value of regex will change from True to False in a future version. In addition, single character regular expressions will *not* be treated as literal strings when regex=True.\n  IMM['Text31'] = IMM['Text31'].str.replace('.', 'K')\n/home/spark-7dee7374-1841-4590-8adf-b3/.ipykernel/140187/command-5329508213600453-2188779280:26: FutureWarning: The default value of regex will change from True to False in a future version. In addition, single character regular expressions will *not* be treated as literal strings when regex=True.\n  IMM['Text41'] = IMM['Text41'].str.replace('.', 'K')\n"
     ]
    }
   ],
   "source": [
    "IMM['Text21'] = IMM['Text2'].copy()\n",
    "IMM['Text31'] = IMM['Text3'].copy()\n",
    "IMM['Text41'] = IMM['Text4'].copy()\n",
    "IMM['Text51'] = IMM['Text5'].copy() \n",
    "\n",
    "def shift (row):\n",
    "    if row['Text21'] is not None and ' €/m²' not in row['Text21']:\n",
    "        row['Text21'],row['Text31'],row['Text41'],row['Text51'] = None, row['Text21'],row['Text31'],row['Text41']\n",
    "    if row['Text31'] is not None and '/mese' not in row['Text31']:\n",
    "        row['Text31'],row['Text41'],row['Text51'] = None, row['Text31'],row['Text41']\n",
    "    if row['Text41'] is not None and '/mese' not in row['Text41']:\n",
    "        row['Text41'],row['Text51'] = None, row['Text41']\n",
    "    if row['Text41'] is not None and 'Non indicata' in row['Text41']:\n",
    "        row['Text41'] = None\n",
    "    return row\n",
    "\n",
    "IMM = IMM.apply(shift, axis=1)\n",
    "\n",
    "replace = {'€/m²':'', '€ ':'', '/mese':''}\n",
    "\n",
    "IMM['Text21'].replace(replace, regex=True, inplace=True)\n",
    "IMM['Text31'].replace(replace, regex=True, inplace=True)\n",
    "IMM['Text41'].replace(replace, regex=True, inplace=True)\n",
    "\n",
    "IMM['Text31'] = IMM['Text31'].str.replace('.', 'K')\n",
    "IMM['Text41'] = IMM['Text41'].str.replace('.', 'K')\n",
    "\n",
    "IMM['Text31'] = IMM['Text31'].str.replace('K', '')\n",
    "IMM['Text41'] = IMM['Text41'].str.replace('K', '')\n",
    "\n",
    "IMM = IMM.rename(columns={'Text21': '€_Sqm', 'Text31': 'Monthly_Price', 'Text41': 'Additional_Costs'})\n",
    "\n",
    "IMM = IMM.drop(columns={'Text2', 'Text3', 'Text4', 'Text5'})\n"
   ]
  },
  {
   "cell_type": "code",
   "execution_count": 0,
   "metadata": {
    "application/vnd.databricks.v1+cell": {
     "cellMetadata": {
      "byteLimit": 2048000,
      "rowLimit": 10000
     },
     "inputWidgets": {},
     "nuid": "6f6aaa70-4862-4d82-8f52-e32269aa4345",
     "showTitle": false,
     "tableResultSettingsMap": {},
     "title": ""
    }
   },
   "outputs": [
    {
     "output_type": "execute_result",
     "data": {
      "text/html": [
       "<div>\n",
       "<style scoped>\n",
       "    .dataframe tbody tr th:only-of-type {\n",
       "        vertical-align: middle;\n",
       "    }\n",
       "\n",
       "    .dataframe tbody tr th {\n",
       "        vertical-align: top;\n",
       "    }\n",
       "\n",
       "    .dataframe thead th {\n",
       "        text-align: right;\n",
       "    }\n",
       "</style>\n",
       "<table border=\"1\" class=\"dataframe\">\n",
       "  <thead>\n",
       "    <tr style=\"text-align: right;\">\n",
       "      <th></th>\n",
       "      <th>Current_time</th>\n",
       "      <th>Page_URL</th>\n",
       "      <th>Text</th>\n",
       "      <th>Agency</th>\n",
       "      <th>Text10</th>\n",
       "      <th>Text11</th>\n",
       "      <th>Text12</th>\n",
       "      <th>Text13</th>\n",
       "      <th>Text14</th>\n",
       "      <th>Text15</th>\n",
       "      <th>Text16</th>\n",
       "      <th>Text17</th>\n",
       "      <th>Text18</th>\n",
       "      <th>Text19</th>\n",
       "      <th>Text20</th>\n",
       "      <th>€_Sqm</th>\n",
       "      <th>Text22</th>\n",
       "      <th>Text23</th>\n",
       "      <th>Text24</th>\n",
       "      <th>Text25</th>\n",
       "      <th>Text26</th>\n",
       "      <th>Text27</th>\n",
       "      <th>Text28</th>\n",
       "      <th>Text29</th>\n",
       "      <th>Text30</th>\n",
       "      <th>Monthly_Price</th>\n",
       "      <th>Text32</th>\n",
       "      <th>Text33</th>\n",
       "      <th>Neighborhood</th>\n",
       "      <th>Street</th>\n",
       "      <th>City</th>\n",
       "      <th>District</th>\n",
       "      <th>Additional_Costs</th>\n",
       "      <th>Text51</th>\n",
       "    </tr>\n",
       "  </thead>\n",
       "  <tbody>\n",
       "    <tr>\n",
       "      <th>0</th>\n",
       "      <td>2025-03-05 22:19:19.492</td>\n",
       "      <td>https://www.immobiliare.it/annunci/118747149/</td>\n",
       "      <td>Milano\\nPaolo Sarpi\\nVia Francesco Londonio, 22</td>\n",
       "      <td>MILANO RESTYLE IMMOBILIARE DI MICHELE CECCHINI</td>\n",
       "      <td>1 locale</td>\n",
       "      <td>40 m²</td>\n",
       "      <td>1 bagno</td>\n",
       "      <td>Piano 3</td>\n",
       "      <td>Tipologia\\nAttico | Intera proprietà | Classe ...</td>\n",
       "      <td>Piano\\n3</td>\n",
       "      <td>Ascensore\\nSì</td>\n",
       "      <td>Locali\\n1</td>\n",
       "      <td>Cucina\\nCucina a vista</td>\n",
       "      <td>Arredato\\nSì</td>\n",
       "      <td>Terrazzo\\nNo</td>\n",
       "      <td>25</td>\n",
       "      <td>Contratto\\nAffitto, 4+4</td>\n",
       "      <td>Piani edificio\\n3</td>\n",
       "      <td>Superficie\\n40 m²</td>\n",
       "      <td>Camere da letto\\n1</td>\n",
       "      <td>Bagni\\n1</td>\n",
       "      <td>Balcone\\nNo</td>\n",
       "      <td>Riscaldamento\\nAutonomo, a radiatori, alimenta...</td>\n",
       "      <td>€ 990/mese</td>\n",
       "      <td>Prezzo\\n€ 990/mese</td>\n",
       "      <td>990</td>\n",
       "      <td>Spese condominio\\n€ 100/mese</td>\n",
       "      <td>Cauzione\\n€ 2.970</td>\n",
       "      <td>Paolo Sarpi</td>\n",
       "      <td>Via Francesco Londonio</td>\n",
       "      <td>MILAN</td>\n",
       "      <td>Cenisio-Sarpi-Isola</td>\n",
       "      <td>100</td>\n",
       "      <td>€ 2.970</td>\n",
       "    </tr>\n",
       "  </tbody>\n",
       "</table>\n",
       "</div>"
      ],
      "text/plain": [
       "             Current_time  ...   Text51\n",
       "0 2025-03-05 22:19:19.492  ...  € 2.970\n",
       "\n",
       "[1 rows x 34 columns]"
      ]
     },
     "execution_count": 289,
     "metadata": {},
     "output_type": "execute_result"
    }
   ],
   "source": [
    "IMM.head(1)"
   ]
  },
  {
   "cell_type": "code",
   "execution_count": 0,
   "metadata": {
    "application/vnd.databricks.v1+cell": {
     "cellMetadata": {
      "byteLimit": 2048000,
      "rowLimit": 10000
     },
     "inputWidgets": {},
     "nuid": "53b6386c-eb09-40d8-b8e3-56ae23b4e3bf",
     "showTitle": false,
     "tableResultSettingsMap": {},
     "title": ""
    }
   },
   "outputs": [],
   "source": [
    "num_rows = len(IMM)\n",
    "\n",
    "IMM['Balcony'] = [None] * num_rows\n",
    "IMM['Terrace'] = [None] * num_rows\n",
    "IMM['Heating_AC'] = [None] * num_rows\n",
    "IMM['Parking'] = [None] * num_rows\n",
    "IMM['Furnished'] = [None] * num_rows\n",
    "IMM['Bedrooms'] = [None] * num_rows\n",
    "IMM['Bathrooms'] = [None] * num_rows\n",
    "IMM['Sqm2'] = [None] * num_rows\n",
    "IMM['Elevator'] = [None] * num_rows\n",
    "IMM['Floor'] = [None] * num_rows\n",
    "IMM['Monthly_2'] = [None] * num_rows\n",
    "IMM['€_Sqm_2'] = [None] * num_rows\n",
    "IMM['Typology'] = [None] * num_rows"
   ]
  },
  {
   "cell_type": "code",
   "execution_count": 0,
   "metadata": {
    "application/vnd.databricks.v1+cell": {
     "cellMetadata": {
      "byteLimit": 2048000,
      "rowLimit": 10000
     },
     "inputWidgets": {},
     "nuid": "4d842189-5790-4246-ae4d-7ed42030accf",
     "showTitle": false,
     "tableResultSettingsMap": {},
     "title": ""
    }
   },
   "outputs": [
    {
     "output_type": "execute_result",
     "data": {
      "text/plain": [
       "array(['Superficie\\n40 m²', 'Superficie\\n75 m²', '', 'Superficie\\n60 m²',\n",
       "       'Superficie\\n50 m²', 'Superficie\\n55 m²', 'Superficie\\n65 m²',\n",
       "       'Superficie\\n210 m²', 'Superficie\\n150 m²', 'Superficie\\n200 m²',\n",
       "       'Superficie\\n135 m²', 'Superficie\\n63 m²', 'Superficie\\n158 m²',\n",
       "       'Superficie\\n95 m²', 'Superficie\\n72 m²', 'Superficie\\n90 m²',\n",
       "       'Superficie\\n70 m²', 'Superficie\\n45 m²', 'Superficie\\n115 m²',\n",
       "       'Superficie\\n85 m²', 'Superficie\\n68 m²', 'Superficie\\n76 m²',\n",
       "       'Superficie\\n110 m²', 'Superficie\\n83 m²', 'Superficie\\n105 m²',\n",
       "       'Superficie\\n150 m² | commerciale 156 m²', 'Superficie\\n102 m²',\n",
       "       'Superficie\\n78 m²', 'Superficie\\n54 m² | commerciale 66 m²',\n",
       "       'Superficie\\n136 m²', 'Superficie\\n215 m²', 'Superficie\\n53 m²',\n",
       "       'Superficie\\n52 m²', 'Superficie\\n59 m²', 'Superficie\\n100 m²',\n",
       "       'Locali\\n2', 'Superficie\\n134 m² | commerciale 136 m²',\n",
       "       'Superficie\\n80 m²', 'Superficie\\n56 m²', 'Superficie\\n48 m²',\n",
       "       'Superficie\\n165 m²', 'Superficie\\n59 m² | commerciale 63 m²',\n",
       "       'Superficie\\n51 m²', 'Superficie\\n81 m²', 'Superficie\\n134 m²',\n",
       "       'Superficie\\n67 m²', 'Superficie\\n79 m²', 'Superficie\\n108 m²',\n",
       "       'Superficie\\n170 m²', 'Superficie\\n58 m²', 'Superficie\\n42 m²',\n",
       "       'Superficie\\n62 m²', 'Superficie\\n206 m²', 'Superficie\\n125 m²',\n",
       "       'Superficie\\n25 m²', 'Superficie\\n114 m²', 'Superficie\\n61 m²',\n",
       "       'Superficie\\n160 m² | commerciale 165 m²', 'Superficie\\n109 m²',\n",
       "       'Superficie\\n107 m² | commerciale 107 m²', 'Superficie\\n86 m²',\n",
       "       'Superficie\\n250 m²', 'Superficie\\n120 m²', 'Superficie\\n82 m²',\n",
       "       'Superficie\\n106 m²', 'Superficie\\n73 m²', 'Superficie\\n41 m²',\n",
       "       'Superficie\\n66 m²', 'Superficie\\n35 m²', 'Superficie\\n30 m²',\n",
       "       'Superficie\\n98 m²', 'Superficie\\n70 m² | commerciale 70 m²',\n",
       "       'Superficie\\n191 m²', 'Superficie\\n128 m²', 'Superficie\\n69 m²',\n",
       "       'Superficie\\n47 m²', 'Superficie\\n140 m²', 'Superficie\\n127 m²',\n",
       "       'Superficie\\n20 m²', 'Locali\\n3', 'Superficie\\n71 m²',\n",
       "       'Superficie\\n46 m²', 'Totale piani edificio\\n3 piani',\n",
       "       'Superficie\\n49 m²', 'Superficie\\n49 m² | commerciale 49 m²',\n",
       "       'Superficie\\n100 m² | commerciale 109 m²', 'Superficie\\n203 m²',\n",
       "       'Superficie\\n97 m²', 'Superficie\\n91 m²',\n",
       "       'Superficie\\n60 m² | commerciale 62 m²', 'Superficie\\n93 m²',\n",
       "       'Superficie\\n43 m²', 'Superficie\\n38 m²', 'Superficie\\n124 m²',\n",
       "       'Superficie\\n77 m²', 'Superficie\\n130 m²', 'Superficie\\n54 m²',\n",
       "       'Superficie\\n28 m²', 'Superficie\\n145 m²', 'Superficie\\n122 m²',\n",
       "       'Superficie\\n101 m²', 'Superficie\\n119 m²', 'Superficie\\n27 m²',\n",
       "       'Superficie\\n88 m²', 'Superficie\\n74 m²',\n",
       "       'Totale piani edificio\\n1 piano', 'Superficie\\n129 m²',\n",
       "       'Superficie\\n300 m²', 'Superficie\\n148 m²', 'Superficie\\n147 m²',\n",
       "       'Superficie\\n44 m²', 'Superficie\\n167 m²', 'Superficie\\n220 m²',\n",
       "       'Superficie\\n32 m²', 'Superficie\\n87 m²',\n",
       "       'Superficie\\n42 m² | commerciale 49 m²',\n",
       "       'Superficie\\n65 m² | commerciale 66 m²', 'Superficie\\n138 m²',\n",
       "       'Superficie\\n118 m²', 'Superficie\\n104 m²', 'Locali\\n1',\n",
       "       'Superficie\\n175 m²', 'Locali\\n4', 'Superficie\\n143 m²',\n",
       "       'Superficie\\n57 m²', 'Superficie\\n275 m²', 'Superficie\\n37 m²',\n",
       "       'Superficie\\n92 m²', 'Superficie\\n103 m²',\n",
       "       'Superficie\\n69 m² | commerciale 68 m²', 'Superficie\\n15 m²',\n",
       "       'Superficie\\n39 m²', 'Superficie\\n121 m²', 'Superficie\\n107 m²',\n",
       "       'Superficie\\n270 m²', 'Superficie\\n221 m²', 'Superficie\\n190 m²',\n",
       "       'Superficie\\n160 m²', 'Superficie\\n130 m² | commerciale 130 m²',\n",
       "       'Superficie\\n144 m²', 'Superficie\\n132 m²', 'Superficie\\n180 m²',\n",
       "       'Superficie\\n155 m²', 'Superficie\\n174 m²', 'Superficie\\n236 m²',\n",
       "       'Superficie\\n130 m² | commerciale 135 m²', 'Superficie\\n171 m²',\n",
       "       'Superficie\\n195 m²', 'Superficie\\n260 m²',\n",
       "       'Superficie\\n165 m² | commerciale 168 m²', 'Superficie\\n240 m²',\n",
       "       'Superficie\\n90 m² | commerciale 94 m²', 'Superficie\\n123 m²',\n",
       "       'Superficie\\n64 m²', 'Superficie\\n154 m²', 'Superficie\\n36 m²',\n",
       "       'Superficie\\n330 m²', 'Superficie\\n335 m²', 'Superficie\\n84 m²',\n",
       "       'Superficie\\n116 m²', 'Superficie\\n117 m²', 'Superficie\\n137 m²',\n",
       "       'Superficie\\n178 m²', 'Superficie\\n31 m²', 'Superficie\\n29 m²',\n",
       "       'Superficie\\n94 m²', 'Superficie\\n113 m²', 'Superficie\\n23 m²',\n",
       "       'Totale piani edificio\\n4 piani', 'Superficie\\n152 m²',\n",
       "       'Superficie\\n17 m²', 'Superficie\\n161 m²',\n",
       "       'Superficie\\n83 m² | commerciale 94 m²',\n",
       "       'Superficie\\n100 m² | commerciale 107 m²', 'Superficie\\n96 m²',\n",
       "       'Superficie\\n105 m² | commerciale 107 m²', 'Superficie\\n162 m²',\n",
       "       'Superficie\\n170 m² | commerciale 210 m²',\n",
       "       'Superficie\\n65 m² | commerciale 67 m²', 'Superficie\\n112 m²',\n",
       "       'Superficie\\n304 m²', 'Superficie\\n230 m²', 'Superficie\\n149 m²',\n",
       "       'Superficie\\n265 m²', 'Superficie\\n139 m²', 'Camere da letto\\n3',\n",
       "       'Superficie\\n386 m²', 'Camere da letto\\n2', 'Camere da letto\\n4'],\n",
       "      dtype=object)"
      ]
     },
     "execution_count": 291,
     "metadata": {},
     "output_type": "execute_result"
    }
   ],
   "source": [
    "IMM['Text24'].unique()"
   ]
  },
  {
   "cell_type": "code",
   "execution_count": 0,
   "metadata": {
    "application/vnd.databricks.v1+cell": {
     "cellMetadata": {
      "byteLimit": 2048000,
      "rowLimit": 10000
     },
     "inputWidgets": {},
     "nuid": "7df3c120-e9cd-4972-b8e8-6ddf857c84fe",
     "showTitle": false,
     "tableResultSettingsMap": {},
     "title": ""
    }
   },
   "outputs": [],
   "source": [
    "import pandas as pd\n",
    "\n",
    "columns = ['Text10', 'Text11', 'Text12', 'Text13', 'Text14', 'Text15', \n",
    "           'Text16', 'Text17', 'Text18', 'Text19', 'Text20', 'Text22', \n",
    "           'Text23', 'Text24', 'Text25', 'Text26', 'Text27', 'Text28']\n",
    "\n",
    "def extract_features(row):\n",
    "    features = {\n",
    "        'Balcony': ['balcone', 'Balcone', 'balconi', 'Balconi'],\n",
    "        'Terrace': ['terrazza', 'Terrazza', 'terrazzo', 'Terrazzo'],\n",
    "        'Heating_AC': ['riscaldamento', 'Riscaldamento', 'Climatizzazione', 'climatizzazione'],\n",
    "        'Parking': ['parcheggio', 'posti', 'box', 'garge', 'parking'],\n",
    "        'Furnished': ['arredato', 'Arredato'],\n",
    "        'Bedrooms': ['Locali', 'locali', 'Locale', 'locale'],\n",
    "        'Bathrooms': ['Bagno', 'Bagni', 'bagno', 'bagni'],\n",
    "        'Sqm2': [' m²', 'Superficie'],\n",
    "        'Elevator': ['ascensore', 'Ascensore'],\n",
    "        'Floor': ['piano', 'Piano'],\n",
    "        'Monthly_2': ['/mese'],\n",
    "        '€_Sqm_2': ['€/m²'],\n",
    "        'Typology': ['tipologia', 'Tipologia']\n",
    "    }\n",
    "    \n",
    "    for feature, keywords in features.items():\n",
    "        match = next((row[column] for column in columns if pd.notna(row[column]) and any(keyword in row[column] for keyword in keywords)), None)\n",
    "        if match:\n",
    "            row[feature] = match\n",
    "    return row\n",
    "\n",
    "IMM = IMM.apply(extract_features, axis=1)"
   ]
  },
  {
   "cell_type": "code",
   "execution_count": 0,
   "metadata": {
    "application/vnd.databricks.v1+cell": {
     "cellMetadata": {
      "byteLimit": 2048000,
      "rowLimit": 10000
     },
     "inputWidgets": {},
     "nuid": "e910bc02-004a-4f4d-bf7e-04740b3513cd",
     "showTitle": false,
     "tableResultSettingsMap": {},
     "title": ""
    }
   },
   "outputs": [
    {
     "output_type": "execute_result",
     "data": {
      "text/plain": [
       "1    657\n",
       "0    515\n",
       "Name: Balcony, dtype: int64"
      ]
     },
     "execution_count": 293,
     "metadata": {},
     "output_type": "execute_result"
    }
   ],
   "source": [
    "def balcony (row):\n",
    "    if row['Balcony'] is not None and 'Sì' in row['Balcony']:\n",
    "        row['Balcony'] = '1'\n",
    "    if row['Balcony'] is not None and 'No' in row['Balcony']:\n",
    "        row['Balcony'] = '0'\n",
    "    if row['Balcony'] is not None and 'Balcone' in row['Balcony']:\n",
    "        row['Balcony'] = '1'\n",
    "    return row\n",
    "\n",
    "IMM = IMM.apply(balcony, axis=1)\n",
    "\n",
    "IMM['Balcony'].value_counts()"
   ]
  },
  {
   "cell_type": "code",
   "execution_count": 0,
   "metadata": {
    "application/vnd.databricks.v1+cell": {
     "cellMetadata": {
      "byteLimit": 2048000,
      "rowLimit": 10000
     },
     "inputWidgets": {},
     "nuid": "4b257699-352b-40a6-bfca-e645b601abbf",
     "showTitle": false,
     "tableResultSettingsMap": {},
     "title": ""
    }
   },
   "outputs": [],
   "source": [
    "def balcony (row):\n",
    "    if row['Terrace'] is not None and 'Sì' in row['Terrace']:\n",
    "        row['Terrace'] = '1'\n",
    "    if row['Terrace'] is not None and 'No' in row['Terrace']:\n",
    "        row['Terrace'] = '0'\n",
    "    return row\n",
    "\n",
    "IMM = IMM.apply(balcony, axis=1)"
   ]
  },
  {
   "cell_type": "code",
   "execution_count": 0,
   "metadata": {
    "application/vnd.databricks.v1+cell": {
     "cellMetadata": {
      "byteLimit": 2048000,
      "rowLimit": 10000
     },
     "inputWidgets": {},
     "nuid": "888bce29-cf5a-4c7e-8386-a0c998428eed",
     "showTitle": false,
     "tableResultSettingsMap": {},
     "title": ""
    }
   },
   "outputs": [
    {
     "output_type": "execute_result",
     "data": {
      "text/plain": [
       "0    1502\n",
       "1    1088\n",
       "Name: Heating_AC, dtype: int64"
      ]
     },
     "execution_count": 295,
     "metadata": {},
     "output_type": "execute_result"
    }
   ],
   "source": [
    "def balcony (row):\n",
    "    if row['Heating_AC'] is not None:\n",
    "        row['Heating_AC'] = '1'\n",
    "    if row['Heating_AC'] is None:\n",
    "        row['Heating_AC'] = '0'\n",
    "    return row\n",
    "\n",
    "IMM = IMM.apply(balcony, axis=1)\n",
    "\n",
    "IMM['Heating_AC'].value_counts()"
   ]
  },
  {
   "cell_type": "code",
   "execution_count": 0,
   "metadata": {
    "application/vnd.databricks.v1+cell": {
     "cellMetadata": {
      "byteLimit": 2048000,
      "rowLimit": 10000
     },
     "inputWidgets": {},
     "nuid": "a9a2483e-bc41-448e-a73a-b9ed6648b065",
     "showTitle": false,
     "tableResultSettingsMap": {},
     "title": ""
    }
   },
   "outputs": [
    {
     "output_type": "execute_result",
     "data": {
      "text/plain": [
       "0    2443\n",
       "1     147\n",
       "Name: Parking, dtype: int64"
      ]
     },
     "execution_count": 296,
     "metadata": {},
     "output_type": "execute_result"
    }
   ],
   "source": [
    "def balcony (row):\n",
    "    if row['Parking'] is not None:\n",
    "        row['Parking'] = '1'\n",
    "    if row['Parking'] is None:\n",
    "        row['Parking'] = '0'\n",
    "    return row\n",
    "\n",
    "IMM = IMM.apply(balcony, axis=1)\n",
    "\n",
    "IMM['Parking'].value_counts()"
   ]
  },
  {
   "cell_type": "code",
   "execution_count": 0,
   "metadata": {
    "application/vnd.databricks.v1+cell": {
     "cellMetadata": {
      "byteLimit": 2048000,
      "rowLimit": 10000
     },
     "inputWidgets": {},
     "nuid": "a1920c12-3dc5-43ab-bd97-08d3e2165a68",
     "showTitle": false,
     "tableResultSettingsMap": {},
     "title": ""
    }
   },
   "outputs": [
    {
     "output_type": "execute_result",
     "data": {
      "text/plain": [
       "0    2389\n",
       "1     201\n",
       "Name: Furnished, dtype: int64"
      ]
     },
     "execution_count": 297,
     "metadata": {},
     "output_type": "execute_result"
    }
   ],
   "source": [
    "def balcony (row):\n",
    "    if row['Furnished'] is not None and 'Sì' in row['Furnished']:\n",
    "        row['Furnished'] = '1'\n",
    "    if row['Furnished'] is not None and 'Parzialmente Arredato' in row['Furnished']:\n",
    "        row['Furnished'] = '1'\n",
    "    else:\n",
    "        row['Furnished'] = '0'\n",
    "    return row\n",
    "\n",
    "IMM = IMM.apply(balcony, axis=1)\n",
    "\n",
    "IMM['Furnished'].value_counts()"
   ]
  },
  {
   "cell_type": "code",
   "execution_count": 0,
   "metadata": {
    "application/vnd.databricks.v1+cell": {
     "cellMetadata": {
      "byteLimit": 2048000,
      "rowLimit": 10000
     },
     "inputWidgets": {},
     "nuid": "f92e2135-d2ad-4c1b-91d4-cdb3b58ea9a9",
     "showTitle": false,
     "tableResultSettingsMap": {},
     "title": ""
    }
   },
   "outputs": [],
   "source": [
    "replace = {' locali':'', ' locale':'', \"\\+ locali\":'', \" locali\\n\":'', \n",
    "           \"3\\+ bagni - uno o più adatto a persone disabili\":''}\n",
    "\n",
    "IMM['Bedrooms'].replace(replace, regex=True, inplace=True)\n",
    "\n",
    "replace = {' bagno':'', ' bagni':'', \"\\+ bagni\":''}\n",
    "\n",
    "IMM['Bathrooms'].replace(replace, regex=True, inplace=True)\n"
   ]
  },
  {
   "cell_type": "code",
   "execution_count": 0,
   "metadata": {
    "application/vnd.databricks.v1+cell": {
     "cellMetadata": {
      "byteLimit": 2048000,
      "rowLimit": 10000
     },
     "inputWidgets": {},
     "nuid": "185b7265-f450-49b0-9449-32ff67407380",
     "showTitle": false,
     "tableResultSettingsMap": {},
     "title": ""
    }
   },
   "outputs": [
    {
     "output_type": "execute_result",
     "data": {
      "text/plain": [
       "1    1326\n",
       "0    1264\n",
       "Name: Elevator, dtype: int64"
      ]
     },
     "execution_count": 299,
     "metadata": {},
     "output_type": "execute_result"
    }
   ],
   "source": [
    "keywords = [\n",
    "    'Ascensore', \n",
    "    'Ascensore\\nSì',\n",
    "    'Piano\\nPiano terra, con ascensore, con accesso disabili',\n",
    "    'Piano\\n4°, con ascensore',\n",
    "    'Piano\\n6 piani: Interrato (-1), Piano terra, Piano rialzato, da 1° a 3°, con ascensore, con accesso disabili'\n",
    "]\n",
    "\n",
    "def elevator(row):\n",
    "    if pd.notna(row['Elevator']) and any(keyword in row['Elevator'] for keyword in keywords):\n",
    "        row['Elevator'] = '0'\n",
    "    else:\n",
    "        row['Elevator'] = '1'\n",
    "    return row\n",
    "\n",
    "IMM = IMM.apply(elevator, axis=1)\n",
    "\n",
    "IMM['Elevator'].value_counts()"
   ]
  },
  {
   "cell_type": "code",
   "execution_count": 0,
   "metadata": {
    "application/vnd.databricks.v1+cell": {
     "cellMetadata": {
      "byteLimit": 2048000,
      "rowLimit": 10000
     },
     "inputWidgets": {},
     "nuid": "0fcc59fa-5d64-40b4-b647-6a0346c7099d",
     "showTitle": false,
     "tableResultSettingsMap": {},
     "title": ""
    }
   },
   "outputs": [],
   "source": [
    "import re\n",
    "\n",
    "def extract_floor(floor_string):\n",
    "    if pd.isna(floor_string):\n",
    "        return None\n",
    "    numbers = re.findall(r'\\b\\d+\\b', floor_string)\n",
    "    if numbers:\n",
    "        return numbers[0]\n",
    "    return None\n",
    "\n",
    "IMM['Floor'] = [extract_floor(floor) for floor in IMM['Floor']]"
   ]
  },
  {
   "cell_type": "code",
   "execution_count": 0,
   "metadata": {
    "application/vnd.databricks.v1+cell": {
     "cellMetadata": {
      "byteLimit": 2048000,
      "rowLimit": 10000
     },
     "inputWidgets": {},
     "nuid": "02d66816-590e-482f-beaa-03fae0f5a696",
     "showTitle": false,
     "tableResultSettingsMap": {},
     "title": ""
    }
   },
   "outputs": [
    {
     "output_type": "execute_result",
     "data": {
      "text/plain": [
       "array(['Attico', 'Appartamento', None, 'Loft', 'Mansarda', 'Open space',\n",
       "       'Palazzo - Edificio', 'Villa unifamiliare',\n",
       "       'Appartamento in villa'], dtype=object)"
      ]
     },
     "execution_count": 301,
     "metadata": {},
     "output_type": "execute_result"
    }
   ],
   "source": [
    "def extract_typology(typology_string):\n",
    "    if pd.isna(typology_string):\n",
    "        return None\n",
    "    parts = typology_string.split('\\n', 1)\n",
    "    return parts[1] if len(parts) > 1 else typology_string\n",
    "\n",
    "IMM['Typology'] = [extract_typology(typology) for typology in IMM['Typology']]\n",
    "\n",
    "IMM[['Typology_1', 'Typology_2', 'Typology_3']] = IMM['Typology'].str.split(' \\| ', n=2, expand=True)\n",
    "\n",
    "IMM['Typology_1'].unique()"
   ]
  },
  {
   "cell_type": "code",
   "execution_count": 0,
   "metadata": {
    "application/vnd.databricks.v1+cell": {
     "cellMetadata": {
      "byteLimit": 2048000,
      "rowLimit": 10000
     },
     "inputWidgets": {},
     "nuid": "4c5c506e-0d52-462c-8c63-787ea1c5443b",
     "showTitle": false,
     "tableResultSettingsMap": {},
     "title": ""
    }
   },
   "outputs": [],
   "source": [
    "IMM['Sqm2'].replace(' m²', '', regex=True, inplace=True)"
   ]
  },
  {
   "cell_type": "code",
   "execution_count": 0,
   "metadata": {
    "application/vnd.databricks.v1+cell": {
     "cellMetadata": {
      "byteLimit": 2048000,
      "rowLimit": 10000
     },
     "inputWidgets": {},
     "nuid": "98a45f61-b70e-474d-884e-df3e6f7cf4dd",
     "showTitle": false,
     "tableResultSettingsMap": {},
     "title": ""
    }
   },
   "outputs": [],
   "source": [
    "replace = {'Prezzo\\n€ ': '', '/mese': ''}\n",
    "\n",
    "IMM['Monthly_2'].replace(replace, regex=True, inplace=True)"
   ]
  },
  {
   "cell_type": "code",
   "execution_count": 0,
   "metadata": {
    "application/vnd.databricks.v1+cell": {
     "cellMetadata": {
      "byteLimit": 2048000,
      "rowLimit": 10000
     },
     "inputWidgets": {},
     "nuid": "9c2e5596-3ef4-461a-ad7d-6a517641f093",
     "showTitle": false,
     "tableResultSettingsMap": {},
     "title": ""
    }
   },
   "outputs": [
    {
     "output_type": "stream",
     "name": "stderr",
     "output_type": "stream",
     "text": [
      "/home/spark-7dee7374-1841-4590-8adf-b3/.ipykernel/140187/command-6684908947796194-441638092:1: FutureWarning: The default value of regex will change from True to False in a future version. In addition, single character regular expressions will *not* be treated as literal strings when regex=True.\n  IMM['Monthly_2'] = IMM['Monthly_2'].str.replace('.', 'K')\n"
     ]
    }
   ],
   "source": [
    "IMM['Monthly_2'] = IMM['Monthly_2'].str.replace('.', 'K')\n",
    "IMM['Monthly_2'] = IMM['Monthly_2'].str.replace('K', '')"
   ]
  },
  {
   "cell_type": "code",
   "execution_count": 0,
   "metadata": {
    "application/vnd.databricks.v1+cell": {
     "cellMetadata": {
      "byteLimit": 2048000,
      "rowLimit": 10000
     },
     "inputWidgets": {},
     "nuid": "77102a37-c02f-4137-9ec5-ef7cf28fcf54",
     "showTitle": false,
     "tableResultSettingsMap": {},
     "title": ""
    }
   },
   "outputs": [],
   "source": [
    "replace = {'Prezzo al m²\\n': '', ' €/m²': ''}\n",
    "\n",
    "IMM['€_Sqm_2'].replace(replace, regex=True, inplace=True)"
   ]
  },
  {
   "cell_type": "code",
   "execution_count": 0,
   "metadata": {
    "application/vnd.databricks.v1+cell": {
     "cellMetadata": {
      "byteLimit": 2048000,
      "rowLimit": 10000
     },
     "inputWidgets": {},
     "nuid": "2952704c-633d-4e6b-a204-0e53a5a20c5b",
     "showTitle": false,
     "tableResultSettingsMap": {},
     "title": ""
    }
   },
   "outputs": [],
   "source": [
    "IMM['€_Sqm_3'] = IMM['€_Sqm'].fillna(IMM['€_Sqm_2'])\n",
    "\n",
    "IMM['Monthly_Price_3'] = IMM['Monthly_Price'].fillna(IMM['Monthly_2'])"
   ]
  },
  {
   "cell_type": "code",
   "execution_count": 0,
   "metadata": {
    "application/vnd.databricks.v1+cell": {
     "cellMetadata": {
      "byteLimit": 2048000,
      "rowLimit": 10000
     },
     "inputWidgets": {},
     "nuid": "8e7de436-6705-4930-87a9-b2d68530b71e",
     "showTitle": false,
     "tableResultSettingsMap": {},
     "title": ""
    }
   },
   "outputs": [
    {
     "output_type": "execute_result",
     "data": {
      "text/plain": [
       "1500    109\n",
       "2000     76\n",
       "1300     54\n",
       "2500     46\n",
       "1600     45\n",
       "       ... \n",
       "4190      1\n",
       "5390      1\n",
       "625       1\n",
       "2215      1\n",
       "1         1\n",
       "Name: Monthly_Price_3, Length: 246, dtype: int64"
      ]
     },
     "execution_count": 307,
     "metadata": {},
     "output_type": "execute_result"
    }
   ],
   "source": [
    "IMM['Monthly_Price_3'].value_counts()"
   ]
  },
  {
   "cell_type": "code",
   "execution_count": 0,
   "metadata": {
    "application/vnd.databricks.v1+cell": {
     "cellMetadata": {
      "byteLimit": 2048000,
      "rowLimit": 10000
     },
     "inputWidgets": {},
     "nuid": "d2eba3f9-5ace-430e-a58c-5c1f2bf30f45",
     "showTitle": false,
     "tableResultSettingsMap": {},
     "title": ""
    }
   },
   "outputs": [
    {
     "output_type": "stream",
     "name": "stdout",
     "output_type": "stream",
     "text": [
      "<class 'pandas.core.frame.DataFrame'>\nRangeIndex: 2590 entries, 0 to 2589\nData columns (total 52 columns):\n #   Column            Non-Null Count  Dtype         \n---  ------            --------------  -----         \n 0   Current_time      2590 non-null   datetime64[ns]\n 1   Page_URL          2590 non-null   object        \n 2   Text              2590 non-null   object        \n 3   Agency            2590 non-null   object        \n 4   Text10            2590 non-null   object        \n 5   Text11            2590 non-null   object        \n 6   Text12            2590 non-null   object        \n 7   Text13            2590 non-null   object        \n 8   Text14            2590 non-null   object        \n 9   Text15            2590 non-null   object        \n 10  Text16            2590 non-null   object        \n 11  Text17            2590 non-null   object        \n 12  Text18            2590 non-null   object        \n 13  Text19            2590 non-null   object        \n 14  Text20            2590 non-null   object        \n 15  €_Sqm             1213 non-null   object        \n 16  Text22            2590 non-null   object        \n 17  Text23            2590 non-null   object        \n 18  Text24            2590 non-null   object        \n 19  Text25            2590 non-null   object        \n 20  Text26            2590 non-null   object        \n 21  Text27            2590 non-null   object        \n 22  Text28            2590 non-null   object        \n 23  Text29            2590 non-null   object        \n 24  Text30            2590 non-null   object        \n 25  Monthly_Price     1214 non-null   object        \n 26  Text32            2590 non-null   object        \n 27  Text33            2590 non-null   object        \n 28  Neighborhood      2576 non-null   object        \n 29  Street            2590 non-null   object        \n 30  City              2590 non-null   object        \n 31  District          2529 non-null   object        \n 32  Additional_Costs  1144 non-null   object        \n 33  Text51            2590 non-null   object        \n 34  Balcony           1172 non-null   object        \n 35  Terrace           1145 non-null   object        \n 36  Heating_AC        2590 non-null   object        \n 37  Parking           2590 non-null   object        \n 38  Furnished         2590 non-null   object        \n 39  Bedrooms          2553 non-null   object        \n 40  Bathrooms         2482 non-null   object        \n 41  Sqm2              2589 non-null   object        \n 42  Elevator          2590 non-null   object        \n 43  Floor             2247 non-null   object        \n 44  Monthly_2         200 non-null    object        \n 45  €_Sqm_2           200 non-null    object        \n 46  Typology          1239 non-null   object        \n 47  Typology_1        1239 non-null   object        \n 48  Typology_2        1228 non-null   object        \n 49  Typology_3        1158 non-null   object        \n 50  €_Sqm_3           1413 non-null   object        \n 51  Monthly_Price_3   1414 non-null   object        \ndtypes: datetime64[ns](1), object(51)\nmemory usage: 1.0+ MB\n"
     ]
    }
   ],
   "source": [
    "IMM.info()"
   ]
  },
  {
   "cell_type": "code",
   "execution_count": 0,
   "metadata": {
    "application/vnd.databricks.v1+cell": {
     "cellMetadata": {
      "byteLimit": 2048000,
      "rowLimit": 10000
     },
     "inputWidgets": {},
     "nuid": "3e413d14-5880-4f4e-a7fa-203728ba5aca",
     "showTitle": false,
     "tableResultSettingsMap": {},
     "title": ""
    }
   },
   "outputs": [],
   "source": [
    "IMM = IMM.drop(columns={'Text','Text10','Text11','Text12','Text13','Text14','Text15','Text16',\n",
    "                        'Text17','Text18','Text19','Text20','€_Sqm','Text22','Text23','Text24','Text25','Text26','Text27','Text28','Monthly_Price','Text51','Sqm2','Monthly_2','€_Sqm_2','Typology'})"
   ]
  },
  {
   "cell_type": "code",
   "execution_count": 0,
   "metadata": {
    "application/vnd.databricks.v1+cell": {
     "cellMetadata": {
      "byteLimit": 2048000,
      "rowLimit": 10000
     },
     "inputWidgets": {},
     "nuid": "8d796aa4-e562-41ce-bef0-8836c2557425",
     "showTitle": false,
     "tableResultSettingsMap": {},
     "title": ""
    }
   },
   "outputs": [],
   "source": [
    "from geopy.geocoders import Nominatim\n",
    "import time\n",
    "geolocator = Nominatim(user_agent=\"my_custom_application_imm\", timeout=16000)"
   ]
  },
  {
   "cell_type": "code",
   "execution_count": 0,
   "metadata": {
    "application/vnd.databricks.v1+cell": {
     "cellMetadata": {
      "byteLimit": 2048000,
      "rowLimit": 10000
     },
     "inputWidgets": {},
     "nuid": "7e20d28d-e35e-40c0-91ae-5762ef655f97",
     "showTitle": false,
     "tableResultSettingsMap": {},
     "title": ""
    }
   },
   "outputs": [],
   "source": [
    "data = [] \n",
    "\n",
    "Test_Geo = pd.DataFrame(data)\n",
    "\n",
    "Test_Geo['Street'] = IMM['Street'].iloc[0:10000]\n",
    "\n",
    "place = [Test_Geo['Street']]"
   ]
  },
  {
   "cell_type": "code",
   "execution_count": 0,
   "metadata": {
    "application/vnd.databricks.v1+cell": {
     "cellMetadata": {
      "byteLimit": 2048000,
      "rowLimit": 10000
     },
     "inputWidgets": {},
     "nuid": "8a6918d8-4be6-433a-be08-360386656fbc",
     "showTitle": false,
     "tableResultSettingsMap": {},
     "title": ""
    }
   },
   "outputs": [],
   "source": [
    "from functools import lru_cache\n",
    "import concurrent.futures\n",
    "\n",
    "@lru_cache(maxsize=1000)\n",
    "def geocode_address(address):\n",
    "    try:\n",
    "        location = geolocator.geocode(address, timeout=10)\n",
    "        if location:\n",
    "            return location.address\n",
    "        else:\n",
    "            return None\n",
    "    except Exception as e:\n",
    "        return None\n",
    "\n",
    "def geocode_with_delay(address):\n",
    "    result = geocode_address(address)\n",
    "    time.sleep(1)\n",
    "    return result\n",
    "\n",
    "addresses = Test_Geo['Street'].tolist()\n",
    "\n",
    "with concurrent.futures.ThreadPoolExecutor(max_workers=5) as executor:\n",
    "    results = list(executor.map(geocode_with_delay, addresses))\n",
    "\n",
    "Test_Geo['GeoAddress'] = results\n"
   ]
  },
  {
   "cell_type": "code",
   "execution_count": 0,
   "metadata": {
    "application/vnd.databricks.v1+cell": {
     "cellMetadata": {
      "byteLimit": 2048000,
      "rowLimit": 10000
     },
     "inputWidgets": {},
     "nuid": "11f8d85c-ebfd-418b-88e0-d8bbdf58b244",
     "showTitle": false,
     "tableResultSettingsMap": {},
     "title": ""
    }
   },
   "outputs": [],
   "source": [
    "Test_Geo_5 = Test_Geo"
   ]
  },
  {
   "cell_type": "code",
   "execution_count": 0,
   "metadata": {
    "application/vnd.databricks.v1+cell": {
     "cellMetadata": {
      "byteLimit": 2048000,
      "rowLimit": 10000
     },
     "inputWidgets": {},
     "nuid": "874cdfe3-5642-4a76-969b-0346290a8bc1",
     "showTitle": false,
     "tableResultSettingsMap": {},
     "title": ""
    }
   },
   "outputs": [],
   "source": [
    "Test_Geo_IMM = [Test_Geo_5]\n",
    "\n",
    "#Test_Geo_SPH = [Test_Geo_1, Test_Geo_2, Test_Geo_3, Test_Geo_4]\n",
    "\n",
    "Test_Geo_IMM = pd.concat(Test_Geo_IMM, ignore_index=True)"
   ]
  },
  {
   "cell_type": "code",
   "execution_count": 0,
   "metadata": {
    "application/vnd.databricks.v1+cell": {
     "cellMetadata": {
      "byteLimit": 2048000,
      "rowLimit": 10000
     },
     "inputWidgets": {},
     "nuid": "bce6977f-8d26-4339-b5cf-91e11930cb53",
     "showTitle": false,
     "tableResultSettingsMap": {},
     "title": ""
    }
   },
   "outputs": [],
   "source": [
    "IMM_Geo = pd.merge(IMM, Test_Geo_IMM, left_index=True, right_index=True)"
   ]
  },
  {
   "cell_type": "code",
   "execution_count": 0,
   "metadata": {
    "application/vnd.databricks.v1+cell": {
     "cellMetadata": {
      "byteLimit": 2048000,
      "rowLimit": 10000
     },
     "inputWidgets": {},
     "nuid": "2070f7a3-68d9-41a8-a48d-33918bf2d425",
     "showTitle": false,
     "tableResultSettingsMap": {},
     "title": ""
    }
   },
   "outputs": [],
   "source": [
    "def invertir_orden_columna(df, columna):\n",
    "    df[columna] = df[columna].apply(lambda x: \", \".join(str(x).split(\", \")[::-1]))\n",
    "    return df\n",
    "\n",
    "IMM_Geo = invertir_orden_columna(IMM_Geo, \"GeoAddress\")\n"
   ]
  },
  {
   "cell_type": "code",
   "execution_count": 0,
   "metadata": {
    "application/vnd.databricks.v1+cell": {
     "cellMetadata": {
      "byteLimit": 2048000,
      "rowLimit": 10000
     },
     "inputWidgets": {},
     "nuid": "8c98384f-2a2f-42bc-9d46-ba68458624ac",
     "showTitle": false,
     "tableResultSettingsMap": {},
     "title": ""
    }
   },
   "outputs": [],
   "source": [
    "IMM_Geo[['GeoAddress_1', 'GeoAddress_2', 'GeoAddress_3', 'GeoAddress_4', 'GeoAddress_5', 'GeoAddress_6',\n",
    "         'GeoAddress_7','GeoAddress_8', 'GeoAddress_9', 'GeoAddress_10']] = IMM_Geo['GeoAddress'].str.split(',', n=9, expand=True)"
   ]
  },
  {
   "cell_type": "code",
   "execution_count": 0,
   "metadata": {
    "application/vnd.databricks.v1+cell": {
     "cellMetadata": {
      "byteLimit": 2048000,
      "rowLimit": 10000
     },
     "inputWidgets": {},
     "nuid": "1c9ce437-597e-4c49-ae7c-75ce80c189f7",
     "showTitle": false,
     "tableResultSettingsMap": {},
     "title": ""
    }
   },
   "outputs": [
    {
     "output_type": "execute_result",
     "data": {
      "text/plain": [
       "Italia    5707\n",
       "Name: GeoAddress_1, dtype: int64"
      ]
     },
     "execution_count": 236,
     "metadata": {},
     "output_type": "execute_result"
    }
   ],
   "source": [
    "def delete_unnecesary(row):\n",
    "    if pd.notna(row['GeoAddress_1']) and ('Italia' not in row['GeoAddress_1'] and 'United Kingdom' not in row['GeoAddress_1']):\n",
    "        row['GeoAddress_1'] = None\n",
    "    return row\n",
    "\n",
    "IMM_Geo = IMM_Geo.apply(delete_unnecesary, axis=1)\n",
    "\n",
    "IMM_Geo['GeoAddress_1'].value_counts()"
   ]
  },
  {
   "cell_type": "code",
   "execution_count": 0,
   "metadata": {
    "application/vnd.databricks.v1+cell": {
     "cellMetadata": {
      "byteLimit": 2048000,
      "rowLimit": 10000
     },
     "inputWidgets": {},
     "nuid": "a3a1c2a8-6cd0-476d-8197-cb5860d1d812",
     "showTitle": false,
     "tableResultSettingsMap": {},
     "title": ""
    }
   },
   "outputs": [],
   "source": [
    "def delete_unnecesary(row):\n",
    "    if row['GeoAddress_1'] is None:\n",
    "        row['GeoAddress_2'] = None\n",
    "        row['GeoAddress_3'] = None\n",
    "        row['GeoAddress_4'] = None\n",
    "    return row\n",
    "\n",
    "IMM_Geo = IMM_Geo.apply(delete_unnecesary, axis=1)"
   ]
  },
  {
   "cell_type": "code",
   "execution_count": 0,
   "metadata": {
    "application/vnd.databricks.v1+cell": {
     "cellMetadata": {
      "byteLimit": 2048000,
      "rowLimit": 10000
     },
     "inputWidgets": {},
     "nuid": "da5dbf7b-5b0e-47cb-9a36-773fcccfebaa",
     "showTitle": false,
     "tableResultSettingsMap": {},
     "title": ""
    }
   },
   "outputs": [],
   "source": [
    "def delete_unnecesary(row):\n",
    "    if pd.notna(row['GeoAddress_1']) and ('Italia' not in row['GeoAddress_1'] and 'United Kingdom' not in row['GeoAddress_1']):\n",
    "        row['GeoAddress_1'] = None\n",
    "    return row\n",
    "\n",
    "IMM_Geo = IMM_Geo.apply(delete_unnecesary, axis=1)"
   ]
  },
  {
   "cell_type": "code",
   "execution_count": 0,
   "metadata": {
    "application/vnd.databricks.v1+cell": {
     "cellMetadata": {
      "byteLimit": 2048000,
      "rowLimit": 10000
     },
     "inputWidgets": {},
     "nuid": "134d8d78-d927-41ce-84ba-4aaa0f76036c",
     "showTitle": false,
     "tableResultSettingsMap": {},
     "title": ""
    }
   },
   "outputs": [],
   "source": [
    "def delete_unnecesary(row):\n",
    "    if pd.notna(row['GeoAddress_2']) and any(x in row['GeoAddress_2'] for x in ['Lazio', 'Lombardia', 'England']):\n",
    "        row['GeoAddress_3'], row['GeoAddress_4'], row['GeoAddress_5'] = row['GeoAddress_2'],row['GeoAddress_3'], row['GeoAddress_4']\n",
    "    return row\n",
    "\n",
    "IMM_Geo = IMM_Geo.apply(delete_unnecesary, axis=1)\n",
    "\n",
    "def delete_unnecesary(row):\n",
    "    if pd.notna(row['GeoAddress_3']) and not any(x in row['GeoAddress_3'] for x in ['Lazio', 'Lombardia', 'England']):\n",
    "        row['GeoAddress_3'], row['GeoAddress_4'], row['GeoAddress_5'] = None, row['GeoAddress_3'], row['GeoAddress_4']\n",
    "    return row\n",
    "\n",
    "IMM_Geo = IMM_Geo.apply(delete_unnecesary, axis=1)"
   ]
  },
  {
   "cell_type": "code",
   "execution_count": 0,
   "metadata": {
    "application/vnd.databricks.v1+cell": {
     "cellMetadata": {
      "byteLimit": 2048000,
      "rowLimit": 10000
     },
     "inputWidgets": {},
     "nuid": "cf4eac7d-fd33-49aa-ae15-de8e884545d1",
     "showTitle": false,
     "tableResultSettingsMap": {},
     "title": ""
    }
   },
   "outputs": [],
   "source": [
    "IMM_Geo = IMM_Geo.drop(columns={'GeoAddress_4', 'GeoAddress_5', 'GeoAddress_6', 'GeoAddress_7', 'GeoAddress_8', 'GeoAddress_9', 'GeoAddress_10'})\n",
    "IMM_Geo = IMM_Geo.rename(columns={'GeoAddress_1': 'Country','GeoAddress_2': 'Posal_Code', 'GeoAddress_3': 'Region'})"
   ]
  },
  {
   "cell_type": "code",
   "execution_count": 0,
   "metadata": {
    "application/vnd.databricks.v1+cell": {
     "cellMetadata": {
      "byteLimit": 2048000,
      "rowLimit": 10000
     },
     "inputWidgets": {},
     "nuid": "87208c5c-eb9d-4452-aa05-4b28213c1979",
     "showTitle": false,
     "tableResultSettingsMap": {},
     "title": ""
    }
   },
   "outputs": [],
   "source": [
    "def delete_unnecesary(row):\n",
    "    if pd.notna(row['Posal_Code']) and any(x in row['Posal_Code'] for x in [' Northern Ireland / Tuaisceart Éireann', ' Toscana', ' Lombardia', \n",
    "                                                                            ' England', ' Piemonte']):\n",
    "        row['Posal_Code'] = None\n",
    "    return row\n",
    "\n",
    "IMM_Geo = IMM_Geo.apply(delete_unnecesary, axis=1)"
   ]
  },
  {
   "cell_type": "code",
   "execution_count": 0,
   "metadata": {
    "application/vnd.databricks.v1+cell": {
     "cellMetadata": {
      "byteLimit": 2048000,
      "rowLimit": 10000
     },
     "inputWidgets": {},
     "nuid": "5711f906-fd47-4ca0-bf84-c8f8a00aca2f",
     "showTitle": false,
     "tableResultSettingsMap": {},
     "title": ""
    }
   },
   "outputs": [],
   "source": [
    "IMM_Geo_Spark = spark.createDataFrame(IMM_Geo)"
   ]
  },
  {
   "cell_type": "code",
   "execution_count": 0,
   "metadata": {
    "application/vnd.databricks.v1+cell": {
     "cellMetadata": {
      "byteLimit": 2048000,
      "rowLimit": 10000
     },
     "inputWidgets": {},
     "nuid": "d5e643f0-1f07-4d9a-8f23-59cc0ba1e1fb",
     "showTitle": false,
     "tableResultSettingsMap": {},
     "title": ""
    }
   },
   "outputs": [],
   "source": [
    "IMM_Geo_Spark.write.mode(\"overwrite\").saveAsTable(\"silver.edgar_sarto_revenue.Immobiliarie_MILAN_Clean_2\")"
   ]
  }
 ],
 "metadata": {
  "application/vnd.databricks.v1+notebook": {
   "computePreferences": null,
   "dashboards": [],
   "environmentMetadata": {
    "base_environment": "",
    "environment_version": "2"
   },
   "language": "python",
   "notebookMetadata": {
    "pythonIndentUnit": 4
   },
   "notebookName": "Immobiliare Data Cleaning Milan",
   "widgets": {}
  },
  "language_info": {
   "name": "python"
  }
 },
 "nbformat": 4,
 "nbformat_minor": 0
}